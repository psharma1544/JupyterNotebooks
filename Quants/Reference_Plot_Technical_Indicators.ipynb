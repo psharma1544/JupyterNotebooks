{
 "cells": [
  {
   "cell_type": "markdown",
   "metadata": {},
   "source": [
    "# Long / Short Signals based on Technical Indicators\n",
    "Author: **Peeyush Sharma**; Feedback: **PSharma3@gmail.com**\n",
    "\n",
    "This notebook captures some basic long / short signals based on technical indicators. The core daily market data was retrieved from local catalog and was subsequently used to generate various technical indicators in CSV form for a group of equities. This analysis retrieves that data and generates a list of dates with opportunities for long / short decisions. Decisions are based on relative value of closing price of an equity over any given duration (say 90 days). We start with a  broad selection of dates and gradually add limiting factors to come with optimal days to purchase equities in a bear market scenario. Similar methods can be used for normal and bull market as well with some adjustments.\n",
    "\n",
    "This is still a very high-level decision making. A stock may be on a long bull run and the 90 day averages may still not capture full potential in the long run. That kind of analysis is more detailed and is not captured in this publicly shared notebook. "
   ]
  },
  {
   "cell_type": "code",
   "execution_count": 33,
   "metadata": {
    "ExecuteTime": {
     "end_time": "2025-05-01T14:05:35.968008Z",
     "start_time": "2025-05-01T14:05:35.961842Z"
    }
   },
   "outputs": [],
   "source": [
    "import os\n",
    "import os.path\n",
    "from datetime import datetime, timedelta\n",
    "\n",
    "import pandas as pd\n",
    "\n",
    "pd.options.mode.chained_assignment = None \n",
    "import warnings\n",
    "warnings.simplefilter(action='ignore', category=FutureWarning)"
   ]
  },
  {
   "cell_type": "code",
   "execution_count": 34,
   "metadata": {
    "ExecuteTime": {
     "end_time": "2025-05-01T14:05:36.008117Z",
     "start_time": "2025-05-01T14:05:36.004349Z"
    }
   },
   "outputs": [],
   "source": [
    "BASE_DIR = '../../../../workspace/HelloPython/HistoricalMarketData/TechnicalIndicators'\n",
    "DURATIONS = (14, 30, 90, 200) # Roughly for bi-weekly, monthly, quarterly, and 200 days moving averages and other tech indicators"
   ]
  },
  {
   "cell_type": "code",
   "execution_count": 35,
   "metadata": {
    "ExecuteTime": {
     "end_time": "2025-05-01T14:05:36.018908Z",
     "start_time": "2025-05-01T14:05:36.014861Z"
    }
   },
   "outputs": [],
   "source": [
    "# Retrieve data for Technical Indicators from pre-calculated CSVs\n",
    "def generate_file_path(symbol, date=None):\n",
    "    if date is not None:\n",
    "        str_date = datetime.strftime(date, '%Y%m%d')\n",
    "        file_name = symbol.lower()+'_'+str_date+'.csv'\n",
    "        file_path = os.path.join(BASE_DIR, file_name)\n",
    "    else: \n",
    "        file_name = symbol.lower()+'.csv'\n",
    "        file_path = os.path.join(BASE_DIR, file_name)\n",
    "    if file_path is None:\n",
    "            print('Could not find file for symbol:{}'.format(symbol))\n",
    "    # print(file_path)\n",
    "    return file_path, file_name"
   ]
  },
  {
   "cell_type": "code",
   "execution_count": 36,
   "metadata": {
    "ExecuteTime": {
     "end_time": "2025-05-01T14:05:36.100730Z",
     "start_time": "2025-05-01T14:05:36.037482Z"
    }
   },
   "outputs": [
    {
     "data": {
      "text/html": [
       "<div>\n",
       "<style scoped>\n",
       "    .dataframe tbody tr th:only-of-type {\n",
       "        vertical-align: middle;\n",
       "    }\n",
       "\n",
       "    .dataframe tbody tr th {\n",
       "        vertical-align: top;\n",
       "    }\n",
       "\n",
       "    .dataframe thead th {\n",
       "        text-align: right;\n",
       "    }\n",
       "</style>\n",
       "<table border=\"1\" class=\"dataframe\">\n",
       "  <thead>\n",
       "    <tr style=\"text-align: right;\">\n",
       "      <th></th>\n",
       "      <th>symbol</th>\n",
       "      <th>close</th>\n",
       "      <th>volume</th>\n",
       "      <th>mean_200</th>\n",
       "      <th>stddev_200</th>\n",
       "      <th>pcntleStdDevs_200</th>\n",
       "      <th>pcntleVolume_200</th>\n",
       "      <th>pcntleClosing_200</th>\n",
       "      <th>oscillator_200</th>\n",
       "      <th>accu_dist_200</th>\n",
       "      <th>...</th>\n",
       "      <th>stddev_30</th>\n",
       "      <th>accu_dist_90</th>\n",
       "      <th>bollingerLower_90</th>\n",
       "      <th>bollingerUpper_90</th>\n",
       "      <th>mean_90</th>\n",
       "      <th>oscillator_90</th>\n",
       "      <th>pcntleClosing_90</th>\n",
       "      <th>pcntleStdDevs_90</th>\n",
       "      <th>pcntleVolume_90</th>\n",
       "      <th>stddev_90</th>\n",
       "    </tr>\n",
       "    <tr>\n",
       "      <th>date</th>\n",
       "      <th></th>\n",
       "      <th></th>\n",
       "      <th></th>\n",
       "      <th></th>\n",
       "      <th></th>\n",
       "      <th></th>\n",
       "      <th></th>\n",
       "      <th></th>\n",
       "      <th></th>\n",
       "      <th></th>\n",
       "      <th></th>\n",
       "      <th></th>\n",
       "      <th></th>\n",
       "      <th></th>\n",
       "      <th></th>\n",
       "      <th></th>\n",
       "      <th></th>\n",
       "      <th></th>\n",
       "      <th></th>\n",
       "      <th></th>\n",
       "      <th></th>\n",
       "    </tr>\n",
       "  </thead>\n",
       "  <tbody>\n",
       "    <tr>\n",
       "      <th>2020-04-24</th>\n",
       "      <td>AAPL</td>\n",
       "      <td>282.97</td>\n",
       "      <td>31627183</td>\n",
       "      <td>276.206043</td>\n",
       "      <td>28.425625</td>\n",
       "      <td>42.446043</td>\n",
       "      <td>50.359712</td>\n",
       "      <td>61.870504</td>\n",
       "      <td>56.987261</td>\n",
       "      <td>5.301392e+06</td>\n",
       "      <td>...</td>\n",
       "      <td>15.342032</td>\n",
       "      <td>7.145867e+06</td>\n",
       "      <td>224.419721</td>\n",
       "      <td>342.218374</td>\n",
       "      <td>283.319048</td>\n",
       "      <td>56.987261</td>\n",
       "      <td>50.793651</td>\n",
       "      <td>74.603175</td>\n",
       "      <td>20.634921</td>\n",
       "      <td>29.449663</td>\n",
       "    </tr>\n",
       "    <tr>\n",
       "      <th>2020-04-27</th>\n",
       "      <td>AAPL</td>\n",
       "      <td>283.17</td>\n",
       "      <td>29271893</td>\n",
       "      <td>277.352701</td>\n",
       "      <td>27.634313</td>\n",
       "      <td>39.416058</td>\n",
       "      <td>42.335766</td>\n",
       "      <td>61.313869</td>\n",
       "      <td>57.181756</td>\n",
       "      <td>5.476160e+06</td>\n",
       "      <td>...</td>\n",
       "      <td>15.072771</td>\n",
       "      <td>7.319212e+06</td>\n",
       "      <td>224.377218</td>\n",
       "      <td>341.442464</td>\n",
       "      <td>282.909841</td>\n",
       "      <td>57.181756</td>\n",
       "      <td>52.380952</td>\n",
       "      <td>73.015873</td>\n",
       "      <td>15.873016</td>\n",
       "      <td>29.266311</td>\n",
       "    </tr>\n",
       "    <tr>\n",
       "      <th>2020-04-28</th>\n",
       "      <td>AAPL</td>\n",
       "      <td>278.58</td>\n",
       "      <td>28001187</td>\n",
       "      <td>277.706642</td>\n",
       "      <td>27.333412</td>\n",
       "      <td>37.226277</td>\n",
       "      <td>38.686131</td>\n",
       "      <td>55.474453</td>\n",
       "      <td>52.718078</td>\n",
       "      <td>2.072180e+06</td>\n",
       "      <td>...</td>\n",
       "      <td>14.856335</td>\n",
       "      <td>2.759266e+06</td>\n",
       "      <td>224.430008</td>\n",
       "      <td>340.148088</td>\n",
       "      <td>282.289048</td>\n",
       "      <td>52.718078</td>\n",
       "      <td>49.206349</td>\n",
       "      <td>69.841270</td>\n",
       "      <td>12.698413</td>\n",
       "      <td>28.929520</td>\n",
       "    </tr>\n",
       "    <tr>\n",
       "      <th>2020-04-29</th>\n",
       "      <td>AAPL</td>\n",
       "      <td>287.73</td>\n",
       "      <td>34320204</td>\n",
       "      <td>278.082701</td>\n",
       "      <td>27.111808</td>\n",
       "      <td>35.036496</td>\n",
       "      <td>59.124088</td>\n",
       "      <td>65.693431</td>\n",
       "      <td>61.616260</td>\n",
       "      <td>8.842875e+06</td>\n",
       "      <td>...</td>\n",
       "      <td>15.041739</td>\n",
       "      <td>1.171916e+07</td>\n",
       "      <td>224.838585</td>\n",
       "      <td>338.577288</td>\n",
       "      <td>281.707937</td>\n",
       "      <td>61.616260</td>\n",
       "      <td>61.904762</td>\n",
       "      <td>66.666667</td>\n",
       "      <td>36.507937</td>\n",
       "      <td>28.434676</td>\n",
       "    </tr>\n",
       "    <tr>\n",
       "      <th>2020-04-30</th>\n",
       "      <td>AAPL</td>\n",
       "      <td>293.80</td>\n",
       "      <td>45765968</td>\n",
       "      <td>278.196594</td>\n",
       "      <td>27.045793</td>\n",
       "      <td>34.782609</td>\n",
       "      <td>76.086957</td>\n",
       "      <td>72.463768</td>\n",
       "      <td>67.519206</td>\n",
       "      <td>1.335605e+07</td>\n",
       "      <td>...</td>\n",
       "      <td>15.483024</td>\n",
       "      <td>1.775270e+07</td>\n",
       "      <td>225.302608</td>\n",
       "      <td>337.158662</td>\n",
       "      <td>281.230635</td>\n",
       "      <td>67.519206</td>\n",
       "      <td>71.428571</td>\n",
       "      <td>63.492063</td>\n",
       "      <td>50.793651</td>\n",
       "      <td>27.964013</td>\n",
       "    </tr>\n",
       "  </tbody>\n",
       "</table>\n",
       "<p>5 rows × 39 columns</p>\n",
       "</div>"
      ],
      "text/plain": [
       "           symbol   close    volume    mean_200  stddev_200  \\\n",
       "date                                                          \n",
       "2020-04-24   AAPL  282.97  31627183  276.206043   28.425625   \n",
       "2020-04-27   AAPL  283.17  29271893  277.352701   27.634313   \n",
       "2020-04-28   AAPL  278.58  28001187  277.706642   27.333412   \n",
       "2020-04-29   AAPL  287.73  34320204  278.082701   27.111808   \n",
       "2020-04-30   AAPL  293.80  45765968  278.196594   27.045793   \n",
       "\n",
       "            pcntleStdDevs_200  pcntleVolume_200  pcntleClosing_200  \\\n",
       "date                                                                 \n",
       "2020-04-24          42.446043         50.359712          61.870504   \n",
       "2020-04-27          39.416058         42.335766          61.313869   \n",
       "2020-04-28          37.226277         38.686131          55.474453   \n",
       "2020-04-29          35.036496         59.124088          65.693431   \n",
       "2020-04-30          34.782609         76.086957          72.463768   \n",
       "\n",
       "            oscillator_200  accu_dist_200  ...  stddev_30  accu_dist_90  \\\n",
       "date                                       ...                            \n",
       "2020-04-24       56.987261   5.301392e+06  ...  15.342032  7.145867e+06   \n",
       "2020-04-27       57.181756   5.476160e+06  ...  15.072771  7.319212e+06   \n",
       "2020-04-28       52.718078   2.072180e+06  ...  14.856335  2.759266e+06   \n",
       "2020-04-29       61.616260   8.842875e+06  ...  15.041739  1.171916e+07   \n",
       "2020-04-30       67.519206   1.335605e+07  ...  15.483024  1.775270e+07   \n",
       "\n",
       "            bollingerLower_90  bollingerUpper_90     mean_90  oscillator_90  \\\n",
       "date                                                                          \n",
       "2020-04-24         224.419721         342.218374  283.319048      56.987261   \n",
       "2020-04-27         224.377218         341.442464  282.909841      57.181756   \n",
       "2020-04-28         224.430008         340.148088  282.289048      52.718078   \n",
       "2020-04-29         224.838585         338.577288  281.707937      61.616260   \n",
       "2020-04-30         225.302608         337.158662  281.230635      67.519206   \n",
       "\n",
       "            pcntleClosing_90  pcntleStdDevs_90  pcntleVolume_90  stddev_90  \n",
       "date                                                                        \n",
       "2020-04-24         50.793651         74.603175        20.634921  29.449663  \n",
       "2020-04-27         52.380952         73.015873        15.873016  29.266311  \n",
       "2020-04-28         49.206349         69.841270        12.698413  28.929520  \n",
       "2020-04-29         61.904762         66.666667        36.507937  28.434676  \n",
       "2020-04-30         71.428571         63.492063        50.793651  27.964013  \n",
       "\n",
       "[5 rows x 39 columns]"
      ]
     },
     "execution_count": 36,
     "metadata": {},
     "output_type": "execute_result"
    }
   ],
   "source": [
    "# Retrieve sample data for a stock for predictions. \n",
    "str_date_from = '2012-01-03'\n",
    "str_date_to = '2020-04-30'\n",
    "\n",
    "dt_from = datetime.strptime(str_date_from, '%Y-%m-%d')\n",
    "dt_to = datetime.strptime(str_date_to, '%Y-%m-%d')\n",
    "\n",
    "# symbols = ['FB', 'MSFT', 'GOOGL', 'NFLX', 'AAPL', 'AMZN', 'WFC', 'TSLA', 'BAC', 'C', 'GS', 'JPM', 'MS', 'MRK', 'NKE']\n",
    "symbol = 'AAPL'\n",
    "# for symbol in symbols:\n",
    "file_path, _ = generate_file_path(symbol)\n",
    "if file_path is not None:\n",
    "    try: \n",
    "        dfrm = pd.read_csv(file_path)\n",
    "        dfrm['date'] = pd.to_datetime(dfrm['date'])\n",
    "        dfrm.set_index('date', inplace=True)\n",
    "        dfrm = dfrm.loc[dt_from: dt_to, :]\n",
    "\n",
    "\n",
    "    except FileNotFoundError as e:\n",
    "        print('Exception reading input data for symbol {}.'.format(symbol))\n",
    "        print(e)\n",
    "\n",
    "dfrm.tail(5)"
   ]
  },
  {
   "cell_type": "markdown",
   "metadata": {},
   "source": [
    "A sneak peak at the data and it's statistical distribution"
   ]
  },
  {
   "cell_type": "code",
   "execution_count": 37,
   "metadata": {
    "ExecuteTime": {
     "end_time": "2025-05-01T14:05:36.160092Z",
     "start_time": "2025-05-01T14:05:36.154257Z"
    }
   },
   "outputs": [
    {
     "data": {
      "text/plain": [
       "'\\nPlot daily closing values and couple other technical indicators using plotly.express\\n# Note that this plot may not show up in some platforms\\n'"
      ]
     },
     "execution_count": 37,
     "metadata": {},
     "output_type": "execute_result"
    }
   ],
   "source": [
    "\"\"\"\n",
    "Plot daily closing values and couple other technical indicators using plotly.express\n",
    "# Note that this plot may not show up in some platforms\n",
    "\"\"\"\n",
    "# Plot works, but increases the size of GitHub upload by order of MBs. Commenting out before upload\n",
    "\n",
    "# fig = px.line(dfrm, x=dfrm.index, y=['close', 'oscillator_30',  'mean_30'],  title='Time Series with Range Slider and Selectors')\n",
    "# fig.update_xaxes(\n",
    "#     rangeslider_visible=True,\n",
    "#     rangeselector=dict(\n",
    "#         buttons=list([\n",
    "#             dict(count=1, label=\"1m\", step=\"month\", stepmode=\"backward\"),\n",
    "#             dict(count=6, label=\"6m\", step=\"month\", stepmode=\"backward\"),\n",
    "#             dict(count=1, label=\"YTD\", step=\"year\", stepmode=\"todate\"),\n",
    "#             dict(count=1, label=\"1y\", step=\"year\", stepmode=\"backward\"),\n",
    "#             dict(step=\"all\")\n",
    "#         ])\n",
    "#     )\n",
    "# )\n",
    "\n",
    "# fig.show()"
   ]
  },
  {
   "cell_type": "markdown",
   "metadata": {},
   "source": [
    "## Strategies"
   ]
  },
  {
   "cell_type": "markdown",
   "metadata": {},
   "source": [
    "### Buy Side Decisions based on a Waterfall Approach w/ Technical Indicators. \n",
    "We will start with picking dates where closing prices for AAPL were significantly lower relative to the 90 days range. For that, we identify days when AAPL closing prices was lower than the lower level of the moving 90 days Bollinger band. "
   ]
  },
  {
   "cell_type": "code",
   "execution_count": 38,
   "metadata": {
    "ExecuteTime": {
     "end_time": "2025-05-01T14:05:36.207728Z",
     "start_time": "2025-05-01T14:05:36.204840Z"
    }
   },
   "outputs": [],
   "source": [
    "# Set sample duration for technical indicators\n",
    "duration = 90"
   ]
  },
  {
   "cell_type": "code",
   "execution_count": 40,
   "metadata": {
    "ExecuteTime": {
     "end_time": "2025-05-01T14:06:04.990245Z",
     "start_time": "2025-05-01T14:06:04.938248Z"
    }
   },
   "outputs": [
    {
     "data": {
      "text/plain": [
       "[Timestamp('2018-11-13 00:00:00'),\n",
       " Timestamp('2018-11-14 00:00:00'),\n",
       " Timestamp('2018-11-15 00:00:00'),\n",
       " Timestamp('2018-11-16 00:00:00'),\n",
       " Timestamp('2018-11-19 00:00:00'),\n",
       " Timestamp('2018-11-20 00:00:00'),\n",
       " Timestamp('2018-11-21 00:00:00'),\n",
       " Timestamp('2018-11-23 00:00:00'),\n",
       " Timestamp('2018-11-26 00:00:00'),\n",
       " Timestamp('2018-11-27 00:00:00'),\n",
       " Timestamp('2018-12-07 00:00:00'),\n",
       " Timestamp('2018-12-21 00:00:00'),\n",
       " Timestamp('2018-12-24 00:00:00'),\n",
       " Timestamp('2020-03-12 00:00:00'),\n",
       " Timestamp('2020-03-16 00:00:00'),\n",
       " Timestamp('2020-03-17 00:00:00'),\n",
       " Timestamp('2020-03-18 00:00:00'),\n",
       " Timestamp('2020-03-19 00:00:00'),\n",
       " Timestamp('2020-03-20 00:00:00'),\n",
       " Timestamp('2020-03-23 00:00:00')]"
      ]
     },
     "execution_count": 40,
     "metadata": {},
     "output_type": "execute_result"
    }
   ],
   "source": [
    "# Start simple. Identify days when closing price was lower than the lower band in Bollinger range\n",
    "dates_lows_for_buy_ops_1 = [ date for date in dfrm.index if dfrm.loc[date, 'close'] < dfrm.loc[date, 'bollingerLower_'+str(duration)] ]\n",
    "dates_lows_for_buy_ops_1[-20:]"
   ]
  },
  {
   "cell_type": "markdown",
   "metadata": {},
   "source": [
    "Let us dive deeper into return on a sample day. Pick a sample date from the response above and check whether closing price that day was indeed lower than preceding days. Take example of March 12th, 2020 just as NYSE and broader market were getting close to their lows COVID-19 pandemic. The next table captures daily closing prices of AAPL around 3/12/2020. "
   ]
  },
  {
   "cell_type": "code",
   "execution_count": 41,
   "metadata": {
    "ExecuteTime": {
     "end_time": "2025-05-01T14:06:09.469498Z",
     "start_time": "2025-05-01T14:06:09.453682Z"
    }
   },
   "outputs": [
    {
     "data": {
      "text/html": [
       "<div>\n",
       "<style scoped>\n",
       "    .dataframe tbody tr th:only-of-type {\n",
       "        vertical-align: middle;\n",
       "    }\n",
       "\n",
       "    .dataframe tbody tr th {\n",
       "        vertical-align: top;\n",
       "    }\n",
       "\n",
       "    .dataframe thead th {\n",
       "        text-align: right;\n",
       "    }\n",
       "</style>\n",
       "<table border=\"1\" class=\"dataframe\">\n",
       "  <thead>\n",
       "    <tr style=\"text-align: right;\">\n",
       "      <th></th>\n",
       "      <th>close</th>\n",
       "      <th>volume</th>\n",
       "    </tr>\n",
       "    <tr>\n",
       "      <th>date</th>\n",
       "      <th></th>\n",
       "      <th></th>\n",
       "    </tr>\n",
       "  </thead>\n",
       "  <tbody>\n",
       "    <tr>\n",
       "      <th>2020-02-26</th>\n",
       "      <td>292.65</td>\n",
       "      <td>49678431</td>\n",
       "    </tr>\n",
       "    <tr>\n",
       "      <th>2020-02-27</th>\n",
       "      <td>273.52</td>\n",
       "      <td>80151381</td>\n",
       "    </tr>\n",
       "    <tr>\n",
       "      <th>2020-02-28</th>\n",
       "      <td>273.36</td>\n",
       "      <td>106721230</td>\n",
       "    </tr>\n",
       "    <tr>\n",
       "      <th>2020-03-02</th>\n",
       "      <td>298.81</td>\n",
       "      <td>85349339</td>\n",
       "    </tr>\n",
       "    <tr>\n",
       "      <th>2020-03-03</th>\n",
       "      <td>289.32</td>\n",
       "      <td>79868852</td>\n",
       "    </tr>\n",
       "    <tr>\n",
       "      <th>2020-03-04</th>\n",
       "      <td>302.74</td>\n",
       "      <td>54794568</td>\n",
       "    </tr>\n",
       "    <tr>\n",
       "      <th>2020-03-05</th>\n",
       "      <td>292.92</td>\n",
       "      <td>46893219</td>\n",
       "    </tr>\n",
       "    <tr>\n",
       "      <th>2020-03-06</th>\n",
       "      <td>289.03</td>\n",
       "      <td>56544246</td>\n",
       "    </tr>\n",
       "    <tr>\n",
       "      <th>2020-03-09</th>\n",
       "      <td>266.17</td>\n",
       "      <td>71686208</td>\n",
       "    </tr>\n",
       "    <tr>\n",
       "      <th>2020-03-10</th>\n",
       "      <td>285.34</td>\n",
       "      <td>71322520</td>\n",
       "    </tr>\n",
       "    <tr>\n",
       "      <th>2020-03-11</th>\n",
       "      <td>275.43</td>\n",
       "      <td>64094970</td>\n",
       "    </tr>\n",
       "    <tr>\n",
       "      <th>2020-03-12</th>\n",
       "      <td>248.23</td>\n",
       "      <td>104618517</td>\n",
       "    </tr>\n",
       "    <tr>\n",
       "      <th>2020-03-13</th>\n",
       "      <td>277.97</td>\n",
       "      <td>92683032</td>\n",
       "    </tr>\n",
       "    <tr>\n",
       "      <th>2020-03-16</th>\n",
       "      <td>242.21</td>\n",
       "      <td>80605865</td>\n",
       "    </tr>\n",
       "    <tr>\n",
       "      <th>2020-03-17</th>\n",
       "      <td>252.86</td>\n",
       "      <td>81013965</td>\n",
       "    </tr>\n",
       "    <tr>\n",
       "      <th>2020-03-18</th>\n",
       "      <td>246.67</td>\n",
       "      <td>75058406</td>\n",
       "    </tr>\n",
       "    <tr>\n",
       "      <th>2020-03-19</th>\n",
       "      <td>244.78</td>\n",
       "      <td>67964255</td>\n",
       "    </tr>\n",
       "    <tr>\n",
       "      <th>2020-03-20</th>\n",
       "      <td>229.24</td>\n",
       "      <td>100423346</td>\n",
       "    </tr>\n",
       "    <tr>\n",
       "      <th>2020-03-23</th>\n",
       "      <td>224.37</td>\n",
       "      <td>84188208</td>\n",
       "    </tr>\n",
       "    <tr>\n",
       "      <th>2020-03-24</th>\n",
       "      <td>246.88</td>\n",
       "      <td>71882773</td>\n",
       "    </tr>\n",
       "    <tr>\n",
       "      <th>2020-03-25</th>\n",
       "      <td>245.52</td>\n",
       "      <td>75900510</td>\n",
       "    </tr>\n",
       "    <tr>\n",
       "      <th>2020-03-26</th>\n",
       "      <td>258.44</td>\n",
       "      <td>63140169</td>\n",
       "    </tr>\n",
       "    <tr>\n",
       "      <th>2020-03-27</th>\n",
       "      <td>247.74</td>\n",
       "      <td>51054153</td>\n",
       "    </tr>\n",
       "  </tbody>\n",
       "</table>\n",
       "</div>"
      ],
      "text/plain": [
       "             close     volume\n",
       "date                         \n",
       "2020-02-26  292.65   49678431\n",
       "2020-02-27  273.52   80151381\n",
       "2020-02-28  273.36  106721230\n",
       "2020-03-02  298.81   85349339\n",
       "2020-03-03  289.32   79868852\n",
       "2020-03-04  302.74   54794568\n",
       "2020-03-05  292.92   46893219\n",
       "2020-03-06  289.03   56544246\n",
       "2020-03-09  266.17   71686208\n",
       "2020-03-10  285.34   71322520\n",
       "2020-03-11  275.43   64094970\n",
       "2020-03-12  248.23  104618517\n",
       "2020-03-13  277.97   92683032\n",
       "2020-03-16  242.21   80605865\n",
       "2020-03-17  252.86   81013965\n",
       "2020-03-18  246.67   75058406\n",
       "2020-03-19  244.78   67964255\n",
       "2020-03-20  229.24  100423346\n",
       "2020-03-23  224.37   84188208\n",
       "2020-03-24  246.88   71882773\n",
       "2020-03-25  245.52   75900510\n",
       "2020-03-26  258.44   63140169\n",
       "2020-03-27  247.74   51054153"
      ]
     },
     "execution_count": 41,
     "metadata": {},
     "output_type": "execute_result"
    }
   ],
   "source": [
    "str_date_from = '2020-03-12'\n",
    "# Check the closing values preceding it\n",
    "dt_from = datetime.strptime(str_date_from, '%Y-%m-%d')\n",
    "dfrm.loc[dt_from - timedelta(days=15):dt_from + timedelta(days=15),['close', 'volume']]"
   ]
  },
  {
   "cell_type": "markdown",
   "metadata": {},
   "source": [
    "So 2020-03-12 was indeed a good opportunity to buy AAPL. That said, as it turned out, it was a local minima. The AAPL price continued to go down over next few days after 2020-03-12. The question is can we avoid purchasing in the local minima and instead wait out to get closer to a minima over a broader period. We will try to make the decision more efficient."
   ]
  },
  {
   "cell_type": "markdown",
   "metadata": {},
   "source": [
    "Let us include some other technical indicators beyond Bollinger bands. Let us look for days when percentile closing value is in lowest 10% but sale volume is in highest 90%. Go long on first such day itself. We must note however that this strategy can only be applied for companies with robust cash flows and balance sheet. For companies with volatile earnings and weaker balance sheets, a high interest at very low prices may simply be the start of a long sale cycle. "
   ]
  },
  {
   "cell_type": "code",
   "execution_count": 42,
   "metadata": {
    "ExecuteTime": {
     "end_time": "2025-05-01T14:06:12.732233Z",
     "start_time": "2025-05-01T14:06:12.685882Z"
    }
   },
   "outputs": [
    {
     "data": {
      "text/plain": [
       "[Timestamp('2018-02-07 00:00:00'),\n",
       " Timestamp('2018-02-08 00:00:00'),\n",
       " Timestamp('2018-02-09 00:00:00'),\n",
       " Timestamp('2018-02-12 00:00:00'),\n",
       " Timestamp('2018-11-02 00:00:00'),\n",
       " Timestamp('2018-11-05 00:00:00'),\n",
       " Timestamp('2018-11-12 00:00:00'),\n",
       " Timestamp('2018-11-14 00:00:00'),\n",
       " Timestamp('2018-11-20 00:00:00'),\n",
       " Timestamp('2018-12-10 00:00:00'),\n",
       " Timestamp('2018-12-20 00:00:00'),\n",
       " Timestamp('2018-12-21 00:00:00'),\n",
       " Timestamp('2019-01-03 00:00:00'),\n",
       " Timestamp('2020-03-09 00:00:00'),\n",
       " Timestamp('2020-03-12 00:00:00'),\n",
       " Timestamp('2020-03-13 00:00:00'),\n",
       " Timestamp('2020-03-16 00:00:00'),\n",
       " Timestamp('2020-03-17 00:00:00'),\n",
       " Timestamp('2020-03-20 00:00:00'),\n",
       " Timestamp('2020-03-23 00:00:00')]"
      ]
     },
     "execution_count": 42,
     "metadata": {},
     "output_type": "execute_result"
    }
   ],
   "source": [
    "dates_lows_for_buy_ops_2 = [ date for date in dfrm.index if dfrm.loc[date, 'pcntleClosing_'+str(duration)] < 10 and dfrm.loc[date, 'pcntleVolume_'+str(duration)] > 90]\n",
    "dates_lows_for_buy_ops_2[-20:]"
   ]
  },
  {
   "cell_type": "markdown",
   "metadata": {},
   "source": [
    "We were not able to reduce count with the combination of percentile closing and percentile volume. Let us try with stochastic oscillators."
   ]
  },
  {
   "cell_type": "code",
   "execution_count": 43,
   "metadata": {
    "ExecuteTime": {
     "end_time": "2025-05-01T14:06:18.410039Z",
     "start_time": "2025-05-01T14:06:18.375964Z"
    }
   },
   "outputs": [
    {
     "data": {
      "text/plain": [
       "[Timestamp('2018-02-07 00:00:00'),\n",
       " Timestamp('2018-02-08 00:00:00'),\n",
       " Timestamp('2018-02-09 00:00:00'),\n",
       " Timestamp('2018-11-02 00:00:00'),\n",
       " Timestamp('2018-11-05 00:00:00'),\n",
       " Timestamp('2018-11-12 00:00:00'),\n",
       " Timestamp('2018-11-14 00:00:00'),\n",
       " Timestamp('2018-11-20 00:00:00'),\n",
       " Timestamp('2018-12-10 00:00:00'),\n",
       " Timestamp('2018-12-20 00:00:00'),\n",
       " Timestamp('2018-12-21 00:00:00'),\n",
       " Timestamp('2019-01-03 00:00:00'),\n",
       " Timestamp('2020-02-27 00:00:00'),\n",
       " Timestamp('2020-02-28 00:00:00'),\n",
       " Timestamp('2020-03-09 00:00:00'),\n",
       " Timestamp('2020-03-12 00:00:00'),\n",
       " Timestamp('2020-03-16 00:00:00'),\n",
       " Timestamp('2020-03-17 00:00:00'),\n",
       " Timestamp('2020-03-20 00:00:00'),\n",
       " Timestamp('2020-03-23 00:00:00')]"
      ]
     },
     "execution_count": 43,
     "metadata": {},
     "output_type": "execute_result"
    }
   ],
   "source": [
    "dates_lows_for_buy_ops_3 = [ date for date in dfrm.index if dfrm.loc[date, 'oscillator_'+str(duration)] < 25 and dfrm.loc[date, 'pcntleVolume_'+str(duration)] > 90 ]\n",
    "dates_lows_for_buy_ops_3[-20:]"
   ]
  },
  {
   "cell_type": "markdown",
   "metadata": {},
   "source": [
    "Not significant difference either. March 2020 still shows a lot of days with buy options. Let us introduce average of standard deviation and include that in our filter as well. "
   ]
  },
  {
   "cell_type": "code",
   "execution_count": 44,
   "metadata": {
    "ExecuteTime": {
     "end_time": "2025-05-01T14:06:20.671563Z",
     "start_time": "2025-05-01T14:06:20.622091Z"
    }
   },
   "outputs": [
    {
     "data": {
      "text/plain": [
       "[Timestamp('2015-08-05 00:00:00'),\n",
       " Timestamp('2015-08-11 00:00:00'),\n",
       " Timestamp('2015-08-12 00:00:00'),\n",
       " Timestamp('2015-08-21 00:00:00'),\n",
       " Timestamp('2015-08-24 00:00:00'),\n",
       " Timestamp('2015-08-25 00:00:00'),\n",
       " Timestamp('2016-01-07 00:00:00'),\n",
       " Timestamp('2016-01-08 00:00:00'),\n",
       " Timestamp('2016-01-15 00:00:00'),\n",
       " Timestamp('2016-01-20 00:00:00'),\n",
       " Timestamp('2016-01-26 00:00:00'),\n",
       " Timestamp('2016-01-27 00:00:00'),\n",
       " Timestamp('2016-06-17 00:00:00'),\n",
       " Timestamp('2016-06-24 00:00:00'),\n",
       " Timestamp('2018-12-10 00:00:00'),\n",
       " Timestamp('2018-12-20 00:00:00'),\n",
       " Timestamp('2018-12-21 00:00:00'),\n",
       " Timestamp('2019-01-03 00:00:00'),\n",
       " Timestamp('2020-03-20 00:00:00'),\n",
       " Timestamp('2020-03-23 00:00:00')]"
      ]
     },
     "execution_count": 44,
     "metadata": {},
     "output_type": "execute_result"
    }
   ],
   "source": [
    "dates_lows_for_buy_ops_4 = [ date for date in dfrm.index if dfrm.loc[date, 'oscillator_'+str(duration)] < 25 and dfrm.loc[date, 'pcntleVolume_'+str(duration)] > 90 and dfrm.loc[date, 'pcntleStdDevs_'+str(duration)] > 90]\n",
    "dates_lows_for_buy_ops_4[-20:]"
   ]
  },
  {
   "cell_type": "markdown",
   "metadata": {},
   "source": [
    "Now, we only get March 20th and 23rd as potential buying opportunities for AAPL. So, in all, this was a gradual filtering of optimal purchase days. This example focused at the peak of COVID-19 impact on financial markets. Generally speaking filtering upto the level of 'dates_lows_for_buy_ops_4' will not yield any buying opportunity in normal market conditions. An asset manager needs to start with earlier levels and then apply her assessment of economic conditions to purchase at the optimal time of her choice. "
   ]
  },
  {
   "cell_type": "markdown",
   "metadata": {},
   "source": [
    "### Sale Side Decisions based on a Waterfall Approach w/ Technical Indicators"
   ]
  },
  {
   "cell_type": "code",
   "execution_count": 45,
   "metadata": {
    "ExecuteTime": {
     "end_time": "2025-05-01T14:06:36.971285Z",
     "start_time": "2025-05-01T14:06:36.907700Z"
    }
   },
   "outputs": [
    {
     "data": {
      "text/plain": [
       "[Timestamp('2019-10-28 00:00:00'),\n",
       " Timestamp('2019-10-31 00:00:00'),\n",
       " Timestamp('2019-11-01 00:00:00'),\n",
       " Timestamp('2019-11-04 00:00:00'),\n",
       " Timestamp('2019-11-05 00:00:00'),\n",
       " Timestamp('2019-11-06 00:00:00'),\n",
       " Timestamp('2019-11-07 00:00:00'),\n",
       " Timestamp('2019-11-08 00:00:00'),\n",
       " Timestamp('2019-11-11 00:00:00'),\n",
       " Timestamp('2019-11-12 00:00:00'),\n",
       " Timestamp('2019-11-13 00:00:00'),\n",
       " Timestamp('2020-01-02 00:00:00'),\n",
       " Timestamp('2020-01-06 00:00:00'),\n",
       " Timestamp('2020-01-08 00:00:00'),\n",
       " Timestamp('2020-01-09 00:00:00'),\n",
       " Timestamp('2020-01-10 00:00:00'),\n",
       " Timestamp('2020-01-13 00:00:00'),\n",
       " Timestamp('2020-01-14 00:00:00'),\n",
       " Timestamp('2020-01-16 00:00:00'),\n",
       " Timestamp('2020-01-17 00:00:00')]"
      ]
     },
     "execution_count": 45,
     "metadata": {},
     "output_type": "execute_result"
    }
   ],
   "source": [
    "dates_highs_for_sale_ops_1 = [ date for date in dfrm.index if dfrm.loc[date, 'close'] > dfrm.loc[date, 'bollingerUpper_'+str(duration)] ]\n",
    "dates_highs_for_sale_ops_1[-20:]"
   ]
  },
  {
   "cell_type": "markdown",
   "metadata": {},
   "source": [
    "We right away see that there was no sale opportunity at the peak of COVID-19. The first opportunity after that seems to have come around June 10th. Let us check returns around that date. "
   ]
  },
  {
   "cell_type": "code",
   "execution_count": 46,
   "metadata": {
    "ExecuteTime": {
     "end_time": "2025-05-01T14:06:38.958417Z",
     "start_time": "2025-05-01T14:06:38.943039Z"
    }
   },
   "outputs": [
    {
     "data": {
      "text/html": [
       "<div>\n",
       "<style scoped>\n",
       "    .dataframe tbody tr th:only-of-type {\n",
       "        vertical-align: middle;\n",
       "    }\n",
       "\n",
       "    .dataframe tbody tr th {\n",
       "        vertical-align: top;\n",
       "    }\n",
       "\n",
       "    .dataframe thead th {\n",
       "        text-align: right;\n",
       "    }\n",
       "</style>\n",
       "<table border=\"1\" class=\"dataframe\">\n",
       "  <thead>\n",
       "    <tr style=\"text-align: right;\">\n",
       "      <th></th>\n",
       "      <th>close</th>\n",
       "      <th>volume</th>\n",
       "    </tr>\n",
       "    <tr>\n",
       "      <th>date</th>\n",
       "      <th></th>\n",
       "      <th></th>\n",
       "    </tr>\n",
       "  </thead>\n",
       "  <tbody>\n",
       "  </tbody>\n",
       "</table>\n",
       "</div>"
      ],
      "text/plain": [
       "Empty DataFrame\n",
       "Columns: [close, volume]\n",
       "Index: []"
      ]
     },
     "execution_count": 46,
     "metadata": {},
     "output_type": "execute_result"
    }
   ],
   "source": [
    "str_date_from = '2020-06-10'\n",
    "# Check the closing values around the target date \n",
    "dt_from = datetime.strptime(str_date_from, '%Y-%m-%d')\n",
    "dfrm.loc[dt_from - timedelta(days=15):dt_from + timedelta(days=15),['close', 'volume']]"
   ]
  },
  {
   "cell_type": "markdown",
   "metadata": {},
   "source": [
    "Seems like June 10th was a resonably local high for sale opportunity. We know that afterward in late summer 2020, the large tech sector had a strong showing. That presented with further several sales opportunities for AAPL. Let us further see if we can identify a more narrow sale opportunity in early to mid-August when AAPL hit several peaks. Similar to opportunities on buy side, we will now add percentile closing and volume factors. "
   ]
  },
  {
   "cell_type": "code",
   "execution_count": 47,
   "metadata": {
    "ExecuteTime": {
     "end_time": "2025-05-01T14:06:39.765222Z",
     "start_time": "2025-05-01T14:06:39.723396Z"
    }
   },
   "outputs": [
    {
     "data": {
      "text/plain": [
       "[Timestamp('2018-08-01 00:00:00'),\n",
       " Timestamp('2018-08-02 00:00:00'),\n",
       " Timestamp('2018-08-03 00:00:00'),\n",
       " Timestamp('2018-09-10 00:00:00'),\n",
       " Timestamp('2018-09-11 00:00:00'),\n",
       " Timestamp('2018-09-12 00:00:00'),\n",
       " Timestamp('2018-09-13 00:00:00'),\n",
       " Timestamp('2018-09-17 00:00:00'),\n",
       " Timestamp('2019-07-31 00:00:00'),\n",
       " Timestamp('2019-08-13 00:00:00'),\n",
       " Timestamp('2019-09-11 00:00:00'),\n",
       " Timestamp('2019-12-20 00:00:00'),\n",
       " Timestamp('2019-12-27 00:00:00'),\n",
       " Timestamp('2019-12-30 00:00:00'),\n",
       " Timestamp('2020-01-03 00:00:00'),\n",
       " Timestamp('2020-01-09 00:00:00'),\n",
       " Timestamp('2020-01-14 00:00:00'),\n",
       " Timestamp('2020-01-24 00:00:00'),\n",
       " Timestamp('2020-01-28 00:00:00'),\n",
       " Timestamp('2020-01-29 00:00:00')]"
      ]
     },
     "execution_count": 47,
     "metadata": {},
     "output_type": "execute_result"
    }
   ],
   "source": [
    "dates_highs_for_sale_ops_2 = [ date for date in dfrm.index if dfrm.loc[date, 'pcntleClosing_'+str(duration)] > 90 and dfrm.loc[date, 'pcntleVolume_'+str(duration)] > 90]\n",
    "dates_highs_for_sale_ops_2[-20:]"
   ]
  },
  {
   "cell_type": "markdown",
   "metadata": {},
   "source": [
    "And we did see a somewhat more narrow range indeed for early to mid-August time-frame. Let us narrow it down further. "
   ]
  },
  {
   "cell_type": "code",
   "execution_count": 48,
   "metadata": {
    "ExecuteTime": {
     "end_time": "2025-05-01T14:06:40.819144Z",
     "start_time": "2025-05-01T14:06:40.738888Z"
    }
   },
   "outputs": [
    {
     "data": {
      "text/plain": [
       "[Timestamp('2017-03-17 00:00:00'),\n",
       " Timestamp('2017-03-21 00:00:00'),\n",
       " Timestamp('2017-09-12 00:00:00'),\n",
       " Timestamp('2017-09-13 00:00:00'),\n",
       " Timestamp('2018-05-02 00:00:00'),\n",
       " Timestamp('2018-05-04 00:00:00'),\n",
       " Timestamp('2018-06-15 00:00:00'),\n",
       " Timestamp('2018-09-10 00:00:00'),\n",
       " Timestamp('2018-09-11 00:00:00'),\n",
       " Timestamp('2018-09-12 00:00:00'),\n",
       " Timestamp('2018-09-13 00:00:00'),\n",
       " Timestamp('2018-09-17 00:00:00'),\n",
       " Timestamp('2018-09-21 00:00:00'),\n",
       " Timestamp('2020-01-14 00:00:00'),\n",
       " Timestamp('2020-01-24 00:00:00'),\n",
       " Timestamp('2020-01-27 00:00:00'),\n",
       " Timestamp('2020-01-28 00:00:00'),\n",
       " Timestamp('2020-01-29 00:00:00'),\n",
       " Timestamp('2020-01-31 00:00:00'),\n",
       " Timestamp('2020-02-03 00:00:00')]"
      ]
     },
     "execution_count": 48,
     "metadata": {},
     "output_type": "execute_result"
    }
   ],
   "source": [
    "dates_lows_for_sale_ops_3 = [ date for date in dfrm.index if dfrm.loc[date, 'oscillator_'+str(duration)] > 75 and dfrm.loc[date, 'pcntleVolume_'+str(duration)] > 90 ]\n",
    "dates_lows_for_sale_ops_4 = [ date for date in dfrm.index if dfrm.loc[date, 'oscillator_'+str(duration)] > 75 and dfrm.loc[date, 'pcntleVolume_'+str(duration)] > 90 and dfrm.loc[date, 'pcntleStdDevs_'+str(duration)] > 90]\n",
    "dates_lows_for_sale_ops_3[-20:]\n",
    "dates_lows_for_sale_ops_4[-20:]"
   ]
  },
  {
   "cell_type": "markdown",
   "metadata": {},
   "source": [
    "The mean of standard deviation did not help much for long decisions. This is likely because AAPL had a great run with not as much volatility to increase std deviation significantly. "
   ]
  },
  {
   "cell_type": "markdown",
   "metadata": {},
   "source": [
    "## Limitations and TODO Items: \n",
    "There are several limitations for this kind of analysis. Some of the more noteworthy ones are:\n",
    "- This type of analysis is focusing only on market price during a given time. Market price may not capture the full intrinsic potential of future earnings of a company. This analysis is strictly limited to the range within price movements occurs and needs to be complimented with financial analysis of returns and potential of future earnings for a full picture. \n",
    "- In a low volatility market, the filters used here may either list a lot of days or hardly any to go long / short. The criteria may need to be relaxed or hardened going by prevailing market conditions. \n",
    "- The same technical indicator and analysis may not equally apply across stocks and sectors. \n"
   ]
  },
  {
   "cell_type": "code",
   "execution_count": null,
   "metadata": {
    "ExecuteTime": {
     "end_time": "2025-05-01T14:05:36.880956Z",
     "start_time": "2025-05-01T13:46:59.188834Z"
    }
   },
   "outputs": [],
   "source": []
  }
 ],
 "metadata": {
  "hide_input": false,
  "kernelspec": {
   "display_name": "Python 3 (ipykernel)",
   "language": "python",
   "name": "python3"
  },
  "language_info": {
   "codemirror_mode": {
    "name": "ipython",
    "version": 3
   },
   "file_extension": ".py",
   "mimetype": "text/x-python",
   "name": "python",
   "nbconvert_exporter": "python",
   "pygments_lexer": "ipython3",
   "version": "3.9.21"
  }
 },
 "nbformat": 4,
 "nbformat_minor": 4
}
