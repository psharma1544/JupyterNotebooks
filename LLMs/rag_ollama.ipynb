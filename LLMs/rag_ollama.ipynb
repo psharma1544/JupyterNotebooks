{
 "cells": [
  {
   "metadata": {},
   "cell_type": "markdown",
   "source": [
    "## RAG with LangChain on local ollama LLM deployment\n",
    "Author: **Peeyush Sharma**; Feedback: **PSharma3@gmail.com**\n",
    "\n",
    "This notebooks has a sample workflow of Retrival Augmented Generation (RAG). Components covered in this scaled-down implementation include:\n",
    "- Meta's llama 3.2 as LLM.\n",
    "- Ollama as LLM deployment framework.\n",
    "- Model 'all-MiniLM-L6-v2' for generating embeddings.\n",
    "- The documents ingested are publicly available Loan IQ sample documents. Loan IQ is used in Commercial Syndicated Lending business.\n",
    "- Chroma DB has been used as the Vector DB. The production implementation can use Zilliz, pgVector, MongoDB, Pinecone etcetera based on latency and cost considerations.\n",
    "\n",
    "\n"
   ],
   "id": "81feef5d9085bad8"
  },
  {
   "metadata": {
    "ExecuteTime": {
     "end_time": "2025-06-13T17:29:52.247861Z",
     "start_time": "2025-06-13T17:29:52.237995Z"
    }
   },
   "cell_type": "code",
   "source": [
    "import os\n",
    "from uuid import uuid4\n",
    "\n",
    "import chromadb\n",
    "import torch\n",
    "from langchain.chains import RetrievalQA\n",
    "from langchain.document_loaders import PyPDFLoader\n",
    "from langchain.text_splitter import CharacterTextSplitter\n",
    "from langchain_chroma import Chroma\n",
    "from langchain_community.llms import Ollama\n",
    "from langchain_core.prompts import ChatPromptTemplate\n",
    "from langchain_huggingface import HuggingFaceEmbeddings"
   ],
   "id": "d73f81400992c2b0",
   "outputs": [],
   "execution_count": 14
  },
  {
   "metadata": {
    "ExecuteTime": {
     "end_time": "2025-06-13T17:29:52.608845Z",
     "start_time": "2025-06-13T17:29:52.604686Z"
    }
   },
   "cell_type": "code",
   "source": [
    "DOC_DIR = \"../documents\"\n",
    "DOC_TYPE = \"LoanIQ_Docs\"\n",
    "EMBEDDING_MODEL_NAME = \"all-MiniLM-L6-v2\"\n",
    "LLM_MODEL_NAME = \"llama3.2\"\n",
    "CHUNK_SIZE = 4096\n",
    "CHUNK_OVERLAP = 256"
   ],
   "id": "660ff8ae8e3cbcc",
   "outputs": [],
   "execution_count": 15
  },
  {
   "metadata": {
    "ExecuteTime": {
     "end_time": "2025-06-13T17:30:05.270139Z",
     "start_time": "2025-06-13T17:30:05.251934Z"
    }
   },
   "cell_type": "code",
   "source": [
    "device = torch.device(\"cuda:0\" if torch.cuda.is_available() else \"mps\" if torch.backends.mps.is_available() else \"cpu\")\n",
    "embeddings = HuggingFaceEmbeddings(model_name=EMBEDDING_MODEL_NAME)\n",
    "collection_name = \"rag_collection\"\n",
    "chroma_client = chromadb.PersistentClient()\n",
    "\n",
    "try:\n",
    "    # chroma_client.delete_collection(name=collection_name)\n",
    "    chroma_client.get_or_create_collection(collection_name)\n",
    "except ValueError:\n",
    "    chroma_client.delete_collection(collection_name)\n",
    "\n",
    "collection = chroma_client.get_or_create_collection(collection_name)\n",
    "\n",
    "vector_store = Chroma(\n",
    "    client=chroma_client,\n",
    "    collection_name=collection_name,\n",
    "    embedding_function=embeddings\n",
    ")"
   ],
   "id": "509fd0e6c24a0be2",
   "outputs": [],
   "execution_count": 18
  },
  {
   "metadata": {
    "ExecuteTime": {
     "end_time": "2025-06-13T17:30:05.320047Z",
     "start_time": "2025-06-13T17:30:05.316162Z"
    }
   },
   "cell_type": "code",
   "source": [
    "# Split the document into chunks\n",
    "def insert_document_to_vector_db(doc_path):\n",
    "    loader = PyPDFLoader(doc_path)\n",
    "    documents = loader.load()\n",
    "    text_splitter = CharacterTextSplitter(chunk_size=CHUNK_SIZE, chunk_overlap=CHUNK_OVERLAP, separator=\"\\n\")\n",
    "    docs = text_splitter.split_documents(documents=documents)\n",
    "    uuids = [str(uuid4()) for _ in range(len(docs))]\n",
    "    # print(len(uuids))\n",
    "    ids = vector_store.add_documents(documents=docs, ids=uuids)\n",
    "    return ids"
   ],
   "id": "6cbb33c160888f26",
   "outputs": [],
   "execution_count": 20
  },
  {
   "metadata": {
    "ExecuteTime": {
     "end_time": "2025-06-13T17:30:07.857132Z",
     "start_time": "2025-06-13T17:30:05.332083Z"
    }
   },
   "cell_type": "code",
   "source": [
    "dir_path = os.path.join(DOC_DIR, DOC_TYPE)\n",
    "vector_indices = []\n",
    "if os.path.exists(dir_path) and os.path.isdir(dir_path):\n",
    "    temp_indices = [insert_document_to_vector_db(os.path.join(dir_path, doc)) for doc in os.listdir(dir_path)]\n",
    "    vector_indices.extend(temp_indices)\n",
    "# vector_indices"
   ],
   "id": "ddb2be8ac75a67ff",
   "outputs": [
    {
     "data": {
      "text/plain": [
       "[['82f263e8-5bff-4a7d-8ee7-5678db918302',\n",
       "  'f353bdef-ba29-4e2f-8c00-30308eb3edb3',\n",
       "  'a8e10fb0-0073-4c70-914d-0bc7bb8f8ab4',\n",
       "  '9533d3c9-66a9-4e0a-89c7-7303000c5ae5',\n",
       "  '44a2e15b-73cd-41ea-a726-59a32b6b9e08',\n",
       "  'e3488073-0a0a-43c9-acb7-a85fd81646b2',\n",
       "  'fa0f02ea-3ae0-4012-8c22-ea266be2ff97',\n",
       "  '7376a77f-8e08-46cb-a53d-8aa9221d699a',\n",
       "  '741b87a9-a3f4-48a4-b6f1-b64dc5adbc96',\n",
       "  'c52f4b13-86ab-43c4-b07d-ad3c5ecb1685',\n",
       "  '3202047b-b4b9-42a0-ba73-d8115e47e8e7',\n",
       "  'e57770b7-5d74-416e-a2d8-2cffd68e2140',\n",
       "  '801a2e4a-53fb-434f-a0bb-7e5685c48631',\n",
       "  'b49cf61d-bf1f-4fcc-9ad1-ee70bdef759b',\n",
       "  '02856630-6aec-4d09-8e1b-e78bd38c8955',\n",
       "  'ee0a9b7a-b778-41d9-bcbd-49bc17c2692a',\n",
       "  '810fe828-1f4d-46a4-b35b-0a0e3f10d6ae',\n",
       "  '9db693fa-c32a-4777-93d3-6e0ebac88787',\n",
       "  '0b44de33-1bc5-4c8b-9b67-0ba8d7eeb774',\n",
       "  'd109a9e8-ef4d-464a-acbe-5c0a3cc4ace2',\n",
       "  '499f6023-7662-41e9-8b85-181c8600dd9a',\n",
       "  '506c24a7-7fd7-4d9a-b03c-2b202a7f9584',\n",
       "  'aef6d226-0b27-4899-b677-127e2e024735',\n",
       "  'be6480eb-301f-4f07-ba13-38843a36439c',\n",
       "  '8e4e2afc-32e3-4f34-9375-cbdeed679079',\n",
       "  '15cb22aa-2d83-4c50-8be5-21069648500c',\n",
       "  '82a9da8c-0cd3-45e9-a447-e37c4e62f325',\n",
       "  '6b0d8d2f-a057-4719-b31d-dc20890bfa56',\n",
       "  '3e737d2c-6106-4a94-941a-89bfb0e867ef',\n",
       "  '049bb422-cbdf-4872-8823-7504754d1d82',\n",
       "  '7321a503-f702-401a-a2bf-d962d0d87410',\n",
       "  'a6cda987-f9cd-407a-b1ae-e849a6313bfa',\n",
       "  '17de082f-e88f-4c69-a4d9-86fb1e4da67b',\n",
       "  '90860c61-e003-410d-8c8e-fa71519da84b',\n",
       "  '2c0a44f7-8d28-4d87-aaf2-b34b7e9cd2e7',\n",
       "  '9e6b49ae-499d-4a56-9680-5a968ed842f7',\n",
       "  'a5b83a9d-0df5-41b5-91cb-7ce15d1a4a8a',\n",
       "  '7f58a84b-7bf8-4527-bb24-8b12b3bead73',\n",
       "  '39f64a59-f6ab-476a-b69d-d21cec7ed9d5',\n",
       "  'e713b104-926f-48aa-ac9e-d8394044a9f3',\n",
       "  '36beafd6-1b86-425e-9b74-f3a3b8466375',\n",
       "  '7d7b17cd-89e1-4e2f-9abf-e950fb62a094',\n",
       "  '568e0b60-bca7-4b05-a5ac-d718b74bb948',\n",
       "  'b9ac2d42-8ec6-456b-9a3e-722db1d570a0',\n",
       "  '7ecf3d8c-90ce-4bc3-b9c7-75ebf5e4469b',\n",
       "  '356125f0-0d2e-43f0-8531-f9eb5138cde2',\n",
       "  '08e8c98b-e475-4773-bdc6-e1bec1aaa2a8',\n",
       "  '425e845c-58e8-42e7-8753-233f609ffaa1',\n",
       "  'f1e99eec-2451-4abf-8b49-826977c1048b'],\n",
       " ['c68e03a9-c79b-4f5d-8a2b-e96cb0d69e14',\n",
       "  '8ed60e95-c162-4c16-b138-2306491822ea',\n",
       "  '3b9b9d3c-320a-4c2e-bd98-159397cab8b9',\n",
       "  '267e8ae6-36e6-40ac-8333-b3219d37e5be'],\n",
       " ['5e06c60a-124e-4362-a3cf-718bfd2a1cd0',\n",
       "  '247017ab-218d-43be-a90b-49a19af9a3a3',\n",
       "  '7976a509-c731-47f6-9aa3-b10acff83f3a',\n",
       "  'e6d80c0e-2e43-4373-94ce-0c82560dadb3',\n",
       "  '877ab320-3a6c-43a7-a07a-19c6e4b03d2a',\n",
       "  '6730668f-fa90-40b5-a17b-e55d5b4b826b',\n",
       "  '1ec56600-bb66-4673-83bf-67bf8774e790',\n",
       "  '8152db8e-744a-4f51-96bc-560fdea558f4',\n",
       "  '9478f7ee-ccf5-4ca6-b8ad-879167cdff59',\n",
       "  'fe4b9457-fc0f-477e-b663-80c39d75a3f0',\n",
       "  '1d153c8f-1932-4b49-b85e-0bbe5e759dd5',\n",
       "  '298f5b85-8b92-44f1-bdfe-11f5c9bd764d'],\n",
       " ['00eb4391-0d76-4a42-96e4-01bb63de52ac',\n",
       "  '2e8290f0-c95d-4aea-88e5-74c1ec26f0a6',\n",
       "  'ee067275-f29d-4432-b118-c17a7bd0622c'],\n",
       " ['ba6b3f3e-5e11-488c-9cb4-261f66c252d2',\n",
       "  'dcf40a64-2c40-4ef8-b1dc-c2d64d809a51'],\n",
       " ['b84a6ff5-f1fa-48d0-8aff-2ac3cfb2b525',\n",
       "  '1f85274c-e526-4657-b9ca-e06bf62b5bd6',\n",
       "  '42a294ed-0e36-403d-b27c-d3f47b3d61d7',\n",
       "  '6b26b1dc-ccb8-4159-8229-285bf958696f',\n",
       "  '93c05801-156f-4789-8e09-6138f98d86e9',\n",
       "  '9e28d4c4-df3f-4538-9df7-d9849fac149c']]"
      ]
     },
     "execution_count": 21,
     "metadata": {},
     "output_type": "execute_result"
    }
   ],
   "execution_count": 21
  },
  {
   "metadata": {
    "ExecuteTime": {
     "end_time": "2025-06-13T18:18:13.945203Z",
     "start_time": "2025-06-13T18:17:15.276085Z"
    }
   },
   "cell_type": "code",
   "source": [
    "# Initialize the local model\n",
    "llm = Ollama(model=LLM_MODEL_NAME)\n",
    "\n",
    "# Create RetrievalQA\n",
    "retriever = vector_store.as_retriever(search_type=\"similarity\",\n",
    "                                      search_kwargs={'k': 10})\n",
    "\n",
    "template = \"\"\"\n",
    "You are a Loan IQ consultant answering questions about Loan IQ.\n",
    "Loan IQ is a commercial lending software managing the origination\n",
    "and cash flows of syndicated loans.\n",
    "\n",
    "You are given loan IQ documentation: {documentation}\n",
    "\n",
    "You are to provide answers to user's questions: {question}\n",
    "\"\"\"\n",
    "\n",
    "prompt = ChatPromptTemplate.from_template(template=template)\n",
    "chain = prompt | llm\n",
    "\n",
    "questions = [\n",
    "    \"What is syndicate lending?\",\n",
    "    \"Who is the vendor behind Loan IQ? What business purposes does Loan IQ server\",\n",
    "    \"What are the different interest rate calculation methods that Loan IQ supports?\",\n",
    "]\n",
    "\n",
    "for question in questions:\n",
    "    print(\"\\n\\n----------------------\")\n",
    "    print(\"Question: \" + question)\n",
    "    documents = retriever.invoke(question)\n",
    "    result = chain.invoke({\"documentation\": [documents], \"question\": question})\n",
    "    print(f\"\\nLLM Response: {result}\")\n"
   ],
   "id": "192de4a2caf77653",
   "outputs": [
    {
     "name": "stdout",
     "output_type": "stream",
     "text": [
      "\n",
      "\n",
      "----------------------\n",
      "Question: What is syndicate lending?\n",
      "\n",
      "LLM Response: Based on the provided documents, I can answer that:\n",
      "\n",
      "Syndicated lending refers to a type of loan structure where multiple lenders participate in a single loan transaction. In this structure, one lender acts as the Administrative Agent (also known as the Lead Arranger or Coordinating Bank) and coordinates the participation of other lenders, who are typically referred to as Syndicators.\n",
      "\n",
      "The Administrative Agent is responsible for managing the loan, negotiating with borrowers, and ensuring that all participating lenders receive their share of the loan proceeds. The syndicate structure allows multiple lenders to participate in a single transaction, which can be beneficial for both lenders and borrowers.\n",
      "\n",
      "In the context of the provided documents, the role of Syndicated Lending is mentioned in the job description for a Syndicated Loan Operations role at Truist Bank, where the candidate will be responsible for supporting the syndicate lending process.\n",
      "\n",
      "\n",
      "----------------------\n",
      "Question: Who is the vendor behind Loan IQ? What business purposes does Loan IQ server\n",
      "\n",
      "LLM Response: Based on the provided documents, I can answer the following questions:\n",
      "\n",
      "1. Who is the vendor behind Loan IQ?\n",
      "\n",
      "The vendor behind Loan IQ is Finastra.\n",
      "\n",
      "2. What business purposes does Loan IQ serve?\n",
      "\n",
      "Loan IQ serves various business purposes, including:\n",
      "\n",
      "* Onboarding and servicing of loans\n",
      "* Automation of loan contract execution and information extraction\n",
      "* Reduced operational risk through automated processes\n",
      "* Increased efficiency in loan management\n",
      "* AI-driven automation for loan onboarding, servicing, and management\n",
      "\n",
      "Finastra is a British financial services company that provides software solutions to banks and other financial institutions. Loan IQ is one of their product offerings, designed to help lenders streamline their lending processes and improve operational efficiency.\n",
      "\n",
      "\n",
      "----------------------\n",
      "Question: What are the different interest rate calculation methods that Loan IQ supports?\n",
      "\n",
      "LLM Response: According to the documents provided, Loan IQ supports two main interest rate calculation methods:\n",
      "\n",
      "1. **Simple Interest Rate Calculation**: This method is not explicitly mentioned in the provided documents, but it can be inferred as a default or basic method.\n",
      "2. **Compound Interest Rate Calculation with Compounding Periods**: This method is also known as \"Periodic compounding\" or \"Daily compounding\". \n",
      "   Loan IQ supports the calculation of interest at the end of each compounding period and applies it to the principal amount at the beginning of the next compounding period.\n",
      "\n",
      "It's worth noting that the documents provided do not explicitly mention these terms.\n"
     ]
    }
   ],
   "execution_count": 25
  },
  {
   "metadata": {},
   "cell_type": "code",
   "source": "",
   "id": "c97a93b8a5651fc2",
   "outputs": [],
   "execution_count": null
  },
  {
   "metadata": {},
   "cell_type": "code",
   "source": "",
   "id": "7da1d8bd243bb83",
   "outputs": [],
   "execution_count": null
  }
 ],
 "metadata": {
  "kernelspec": {
   "display_name": "Python 3",
   "language": "python",
   "name": "python3"
  },
  "language_info": {
   "codemirror_mode": {
    "name": "ipython",
    "version": 2
   },
   "file_extension": ".py",
   "mimetype": "text/x-python",
   "name": "python",
   "nbconvert_exporter": "python",
   "pygments_lexer": "ipython2",
   "version": "2.7.6"
  }
 },
 "nbformat": 4,
 "nbformat_minor": 5
}
