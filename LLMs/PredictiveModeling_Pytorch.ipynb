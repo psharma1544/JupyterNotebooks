{
 "cells": [
  {
   "metadata": {},
   "cell_type": "markdown",
   "source": [
    "# Predictive Modeling w/ PyTorch\n",
    "This notebook is a work-in-progress.\n",
    "\n",
    "- Code to predict stock market movements with large scale technical indicator data used in PyTorch layers.\n",
    "- Model choice will likely be LSTM but TBD.\n",
    "- The original data is 'close' pricing and daily 'volume'. These are further extended with many technical indicators.\n",
    "- The technical indicator data is then pulled for stocks that have close correlations in return with a 'given' input ticker.\n",
    "- Data for several of these tickers (and their corrs) is then concatenated to construct training dataset.\n",
    "- In-progress: Further fine-tuning of the initial train/test in PyTorch NN layers\n",
    "\n",
    "REFERENCE:\n",
    "- https://medium.com/swlh/stock-price-prediction-with-pytorch-37f52ae84632"
   ],
   "id": "ae9f3bb52ee7df1f"
  },
  {
   "cell_type": "code",
   "id": "initial_id",
   "metadata": {
    "collapsed": true,
    "ExecuteTime": {
     "end_time": "2025-05-16T19:07:02.543380Z",
     "start_time": "2025-05-16T19:07:01.232880Z"
    }
   },
   "source": [
    "import os\n",
    "import os.path\n",
    "from datetime import datetime\n",
    "from typing import Any\n",
    "import time\n",
    "import numpy as np\n",
    "\n",
    "import pandas as pd\n",
    "from pandas.errors import EmptyDataError\n",
    "from sqlalchemy import create_engine, text\n",
    "from sklearn.preprocessing import MinMaxScaler\n",
    "\n",
    "from functools import reduce\n",
    "import matplotlib.pyplot as plt\n",
    "import torch\n",
    "import torch.nn as nn\n",
    "from torch.utils.data import DataLoader, TensorDataset\n",
    "pd.options.mode.chained_assignment = None"
   ],
   "outputs": [],
   "execution_count": 1
  },
  {
   "metadata": {
    "ExecuteTime": {
     "end_time": "2025-05-16T19:07:02.628198Z",
     "start_time": "2025-05-16T19:07:02.547833Z"
    }
   },
   "cell_type": "code",
   "source": [
    "# Setup\n",
    "BASE_DIR = '../../../../workspace/HelloPython/HistoricalMarketData/TechnicalIndicators'\n",
    "TABLE_EQUITIES_DATA = 'equities_historic_data'\n",
    "DURATIONS = (14, 30, 90, 200)  # Roughly for bi-weekly, monthly, quarterly, and 200 days running averages\n",
    "\n",
    "try:\n",
    "    DB = os.environ[\"DB\"]\n",
    "    DB_USER = os.environ[\"DB_USER\"]\n",
    "    DB_PWD = os.environ[\"DB_PWD\"]\n",
    "except KeyError:\n",
    "    raise Exception(\"Required environment variables DB_USER and DB_PWD not set\")\n",
    "DB_URL = 'mysql+mysqlconnector://' + DB_USER + ':' + DB_PWD + '@localhost/' + DB\n",
    "ENGINE = create_engine(DB_URL)"
   ],
   "id": "5c7d0bc06cd8e093",
   "outputs": [],
   "execution_count": 2
  },
  {
   "metadata": {
    "ExecuteTime": {
     "end_time": "2025-05-16T19:07:02.759890Z",
     "start_time": "2025-05-16T19:07:02.755187Z"
    }
   },
   "cell_type": "code",
   "source": [
    "def generate_file_path(symbol, date=None):\n",
    "    \"\"\"\n",
    "    Generates a file path for a given symbol\n",
    "    to retrieve calculated tech indicator data\n",
    "    from local CSV records\n",
    "    :param symbol: ticker\n",
    "    :param date: date embedded in the file name\n",
    "    :return: file name and path\n",
    "    \"\"\"\n",
    "    if date is not None:\n",
    "        str_date = datetime.strftime(date, '%Y%m%d')\n",
    "        file_name = symbol.lower() + '_' + str_date + '.csv'\n",
    "    else:\n",
    "        file_name = symbol.lower() + '.csv'\n",
    "    file_path = os.path.join(BASE_DIR, file_name)\n",
    "    if file_path is None:\n",
    "        print('Could not find file for symbol:{}'.format(symbol))\n",
    "    # print(file_path)\n",
    "    return file_path, file_name"
   ],
   "id": "3a8381cef052068f",
   "outputs": [],
   "execution_count": 3
  },
  {
   "metadata": {
    "ExecuteTime": {
     "end_time": "2025-05-16T19:07:02.831649Z",
     "start_time": "2025-05-16T19:07:02.769090Z"
    }
   },
   "cell_type": "code",
   "source": [
    "def retrieve_technical_indicator_data_for_symbol(symbol, columns = None, feature=None)\\\n",
    "        -> Any:\n",
    "    \"\"\"\n",
    "    Retrieves Technical Indicator Data for a given symbol\n",
    "    for given columns and labels them as Y (dependent) or\n",
    "    X (input features).\n",
    "    :param symbol: Symbol for which to retrieve Technical Indicator Data\n",
    "    :param columns: Subset of Technical Indicator Data to retrieve\n",
    "    :param feature: Y or X_i label where 'i' is feature number\n",
    "    :return:\n",
    "    \"\"\"\n",
    "    file_path, _ = generate_file_path(symbol)\n",
    "    if file_path is not None:\n",
    "        try:\n",
    "            dfrm = pd.read_csv(file_path)\n",
    "            dfrm['date'] = pd.to_datetime(dfrm['date'])\n",
    "            dfrm.set_index('date', inplace=True)\n",
    "            dfrm.sort_index(ascending=True)\n",
    "            dfrm.index.name = 'date'\n",
    "            if feature is None: #Use either ticker or X_n for column header\n",
    "                feature = symbol.upper()\n",
    "            if columns is not None:\n",
    "                dfrm = dfrm[columns] # Limit data to input columns\n",
    "                dfrm.columns = [ # Label data as in 'SYMBOL_Close' versus just 'Close'\n",
    "                feature.upper()+'_'+column # Or, label as 'X_1_Close' if feature is 'X_1'\n",
    "                for column in dfrm.columns\n",
    "                if column in columns\n",
    "                ]\n",
    "            else:\n",
    "                dfrm.columns = [\n",
    "                feature.upper()+'_'+column\n",
    "                for column in dfrm.columns\n",
    "                ]\n",
    "            return dfrm\n",
    "        except FileNotFoundError as e:\n",
    "            print('Exception reading input data for symbol {}. Generating metadata starting from baseline date.'.format(symbol.upper()))\n",
    "            return None\n",
    "        except EmptyDataError as e:\n",
    "            print(f'No technical indicators found for {symbol.upper()}. Generating metadata starting from baseline date.')\n",
    "            print('Generating all records.')\n",
    "            return None\n",
    "    else:\n",
    "        print(f\"No technical indicators data in DB for '{symbol}'.\")\n",
    "    return None\n",
    "\n",
    "# Test\n",
    "tmp_df = retrieve_technical_indicator_data_for_symbol('AAPL', ['volume', 'close'])\n",
    "tmp_df.tail(10)"
   ],
   "id": "7b7abfb3f9ed274",
   "outputs": [
    {
     "data": {
      "text/plain": [
       "            AAPL_volume  AAPL_close\n",
       "date                               \n",
       "2025-04-30     52286454      212.50\n",
       "2025-05-01     57365675      213.32\n",
       "2025-05-02    101010621      205.35\n",
       "2025-05-05     69018452      198.89\n",
       "2025-05-06     51216482      198.51\n",
       "2025-05-07     68616943      196.25\n",
       "2025-05-08     50478872      197.49\n",
       "2025-05-09     36453923      198.53\n",
       "2025-05-12     63775814      210.79\n",
       "2025-05-13     51909332      212.93"
      ],
      "text/html": [
       "<div>\n",
       "<style scoped>\n",
       "    .dataframe tbody tr th:only-of-type {\n",
       "        vertical-align: middle;\n",
       "    }\n",
       "\n",
       "    .dataframe tbody tr th {\n",
       "        vertical-align: top;\n",
       "    }\n",
       "\n",
       "    .dataframe thead th {\n",
       "        text-align: right;\n",
       "    }\n",
       "</style>\n",
       "<table border=\"1\" class=\"dataframe\">\n",
       "  <thead>\n",
       "    <tr style=\"text-align: right;\">\n",
       "      <th></th>\n",
       "      <th>AAPL_volume</th>\n",
       "      <th>AAPL_close</th>\n",
       "    </tr>\n",
       "    <tr>\n",
       "      <th>date</th>\n",
       "      <th></th>\n",
       "      <th></th>\n",
       "    </tr>\n",
       "  </thead>\n",
       "  <tbody>\n",
       "    <tr>\n",
       "      <th>2025-04-30</th>\n",
       "      <td>52286454</td>\n",
       "      <td>212.50</td>\n",
       "    </tr>\n",
       "    <tr>\n",
       "      <th>2025-05-01</th>\n",
       "      <td>57365675</td>\n",
       "      <td>213.32</td>\n",
       "    </tr>\n",
       "    <tr>\n",
       "      <th>2025-05-02</th>\n",
       "      <td>101010621</td>\n",
       "      <td>205.35</td>\n",
       "    </tr>\n",
       "    <tr>\n",
       "      <th>2025-05-05</th>\n",
       "      <td>69018452</td>\n",
       "      <td>198.89</td>\n",
       "    </tr>\n",
       "    <tr>\n",
       "      <th>2025-05-06</th>\n",
       "      <td>51216482</td>\n",
       "      <td>198.51</td>\n",
       "    </tr>\n",
       "    <tr>\n",
       "      <th>2025-05-07</th>\n",
       "      <td>68616943</td>\n",
       "      <td>196.25</td>\n",
       "    </tr>\n",
       "    <tr>\n",
       "      <th>2025-05-08</th>\n",
       "      <td>50478872</td>\n",
       "      <td>197.49</td>\n",
       "    </tr>\n",
       "    <tr>\n",
       "      <th>2025-05-09</th>\n",
       "      <td>36453923</td>\n",
       "      <td>198.53</td>\n",
       "    </tr>\n",
       "    <tr>\n",
       "      <th>2025-05-12</th>\n",
       "      <td>63775814</td>\n",
       "      <td>210.79</td>\n",
       "    </tr>\n",
       "    <tr>\n",
       "      <th>2025-05-13</th>\n",
       "      <td>51909332</td>\n",
       "      <td>212.93</td>\n",
       "    </tr>\n",
       "  </tbody>\n",
       "</table>\n",
       "</div>"
      ]
     },
     "execution_count": 4,
     "metadata": {},
     "output_type": "execute_result"
    }
   ],
   "execution_count": 4
  },
  {
   "metadata": {
    "ExecuteTime": {
     "end_time": "2025-05-16T19:07:02.876865Z",
     "start_time": "2025-05-16T19:07:02.872449Z"
    }
   },
   "cell_type": "code",
   "source": [
    "def find_symbols_w_highest_correlations(symbol, correlations, count):\n",
    "    \"\"\"\n",
    "    Finds tickers whose return have highest correlation\n",
    "    with the returns of given symbol\n",
    "    :param symbol:\n",
    "    :param correlations:\n",
    "    :param count:\n",
    "    :return:\n",
    "    \"\"\"\n",
    "    if len(correlations[correlations['level_0'] == symbol.upper()+'_close']) <= 0:\n",
    "        print(\"No correlations found for symbol:{}.\".format(symbol.upper()))\n",
    "        print(\"Likely data does not go far enough back.\")\n",
    "        return None\n",
    "    corrs = correlations[correlations['level_0'] == symbol.upper()+'_close']\n",
    "    corrs.sort_values(0, ascending = False, inplace = True)\n",
    "    return_symbols = [symbol.replace('_close', '') for symbol in corrs.loc[:,'level_1'].tolist()]\n",
    "    return return_symbols[:count]"
   ],
   "id": "3cd1509498de9123",
   "outputs": [],
   "execution_count": 5
  },
  {
   "metadata": {
    "ExecuteTime": {
     "end_time": "2025-05-16T19:07:02.921931Z",
     "start_time": "2025-05-16T19:07:02.917471Z"
    }
   },
   "cell_type": "code",
   "source": [
    "def gen_corrs(dfrm):\n",
    "    \"\"\"\n",
    "    Generate correlations numbers for entire\n",
    "    input dataframe consisting of daily close values\n",
    "    :param dfrm:\n",
    "    :return:\n",
    "    \"\"\"\n",
    "    correlations = dfrm[dfrm.columns].corr().abs().unstack().sort_values(kind=\"quicksort\").reset_index()\n",
    "    correlations = correlations[correlations['level_0'] != correlations['level_1']]\n",
    "    #print(correlations)`\n",
    "    return correlations"
   ],
   "id": "acc6538fb527c3a6",
   "outputs": [],
   "execution_count": 6
  },
  {
   "metadata": {},
   "cell_type": "markdown",
   "source": [
    "## Training Dataset\n",
    "Generate training dataset by finding symbols that have the highest correlation (based on daily 'close' values) with the given symbol. Then aggregate their returns over the years. The daily closing price of our target symbol becomes independent variable y and rest of the data including closing values of other symbols and their volumes make up the 'features' or 'X'."
   ],
   "id": "c1d48039c04a18b3"
  },
  {
   "metadata": {
    "ExecuteTime": {
     "end_time": "2025-05-16T19:07:29.763800Z",
     "start_time": "2025-05-16T19:07:02.944794Z"
    }
   },
   "cell_type": "code",
   "source": [
    "MIN_ROW_COUNT = 5000 # Number of days to retrieve training data for\n",
    "COMP_COUNT = 10 # Number of stocks to find high correlations with\n",
    "\n",
    "query = 'SELECT symbol FROM equities_historic_data GROUP BY symbol HAVING COUNT(*) > '+str(MIN_ROW_COUNT)+''\n",
    "with ENGINE.connect() as conn:\n",
    "    res = conn.execute(text(query))\n",
    "dfrm_symbols_list = pd.DataFrame(res.mappings().all())\n",
    "symbols = dfrm_symbols_list['symbol'].tolist() # this is our universe of symbol tickers\n",
    "\n",
    "# First calculate universal correlations among ALL these symbols\n",
    "dfrm_list_daily_closes = list()\n",
    "for symbol in symbols:\n",
    "    dfrm = retrieve_technical_indicator_data_for_symbol(symbol, ['close', 'volume'])\n",
    "    dfrm_list_daily_closes.append(dfrm)\n",
    "merged_dfrm_daily_close_values = reduce(lambda left, right: pd.merge(left, right, on='date'), dfrm_list_daily_closes)\n",
    "correlations = gen_corrs(merged_dfrm_daily_close_values)\n",
    "\n",
    "# Now merge a symbol's returns with returns of symbols\n",
    "# it has the highest correlations with. Then stack (concat)\n",
    "# all these returns across symbols to come up with our\n",
    "# training dataset\n",
    "\n",
    "# Data for a symbol and its corrs matches\n",
    "# Think of this as a single line in a matrix\n",
    "dfrm_list_single_row_data = list()\n",
    "# Data for all symbol and their corrs matches\n",
    "# Think of this as a matrix\n",
    "dfrm_list_full_matrix_data = list() # Data for\n",
    "tgt_symbols_list = ['JPM', 'C', 'MS', 'GS', 'WFC', 'BAC'] # Generate training data for this set only\n",
    "for symbol in tgt_symbols_list:\n",
    "    # Our dependent variable Y - generalize the name so we can stack up many symbols for training dataset\n",
    "    dfrm_symbol = retrieve_technical_indicator_data_for_symbol(symbol, None, 'Y')\n",
    "    dfrm_list_single_row_data.append(dfrm_symbol)\n",
    "    symbols_w_highest_corrs = find_symbols_w_highest_correlations(symbol, correlations, COMP_COUNT)\n",
    "    if symbols_w_highest_corrs is None:\n",
    "        continue # Likely not enough data for a symbol. Continue with rest\n",
    "    print(f'Symbols with highest correlations with {symbol.upper()} are {symbols_w_highest_corrs}')\n",
    "    counter = 1\n",
    "    for comp_symbol in symbols_w_highest_corrs:\n",
    "        feature = 'X_'+str(counter)\n",
    "        dfrm_tmp = retrieve_technical_indicator_data_for_symbol(comp_symbol, None, feature)\n",
    "        dfrm_list_single_row_data.append(dfrm_tmp)\n",
    "        counter += 1\n",
    "    # Now merge the symbol and all its corrs data against the same date\n",
    "    merged_df = reduce(lambda left, right: pd.merge(left, right, on='date'), dfrm_list_single_row_data)\n",
    "    dfrm_list_full_matrix_data.append(merged_df)\n",
    "    dfrm_list_single_row_data.clear()\n",
    "# Now concatenate data. This means dates are repeated\n",
    "dfrm_aggr_training_data = pd.concat(dfrm_list_full_matrix_data)"
   ],
   "id": "c97a6d0e9ccbe76d",
   "outputs": [
    {
     "name": "stdout",
     "output_type": "stream",
     "text": [
      "Symbols with highest correlations with JPM are ['TXN', 'PNC', 'MAR', 'SPGI', 'SCHW', 'SIVB', 'SYK', 'WM', 'RJF', 'SNPS']\n",
      "Symbols with highest correlations with C are ['AIG', 'RF', 'KEY', 'ZION', 'HIG', 'HBAN', 'ARNC', 'FITB', 'KIM', 'XRX']\n",
      "Symbols with highest correlations with MS are ['HIG', 'DRE', 'ZION', 'KEY', 'FITB', 'LNC', 'MGM', 'RF', 'XRX', 'MET']\n",
      "Symbols with highest correlations with GS are ['BK', 'STT', 'PRU', 'NTRS', 'CMA', 'CME', 'LNC', 'CBRE', 'SCHW', 'PFG']\n",
      "Symbols with highest correlations with WFC are ['USB', 'DIS', 'PPG', 'UPS', 'SNA', 'IPG', 'OMC', 'MDLZ', 'AMGN', 'WHR']\n",
      "No correlations found for symbol:BAC.\n",
      "Likely data does not go far enough back.\n"
     ]
    }
   ],
   "execution_count": 7
  },
  {
   "metadata": {
    "ExecuteTime": {
     "end_time": "2025-05-16T19:07:29.795198Z",
     "start_time": "2025-05-16T19:07:29.770857Z"
    }
   },
   "cell_type": "code",
   "source": [
    "dfrm_single_symbol_training_data = dfrm_list_full_matrix_data[0]\n",
    "# Avoid null values\n",
    "dfrm_single_symbol_training_data = dfrm_single_symbol_training_data[~dfrm_single_symbol_training_data.isnull().any(axis=1)]\n",
    "dfrm_single_symbol_training_data.tail(10)"
   ],
   "id": "7021ec213aec1847",
   "outputs": [
    {
     "data": {
      "text/plain": [
       "           Y_symbol  Y_close  Y_volume  Y_mean_200  Y_stddev_200  \\\n",
       "date                                                               \n",
       "2023-08-11      JPM   154.45   5180690  140.468929      8.100901   \n",
       "2023-08-14      JPM   154.77   5044282  140.620145      8.242251   \n",
       "2023-08-15      JPM   150.83  10300303  140.698768      8.287724   \n",
       "2023-08-16      JPM   150.19   6978235  140.770290      8.326927   \n",
       "2023-08-17      JPM   148.63   9953912  140.826835      8.323442   \n",
       "2023-08-18      JPM   148.97   8517460  140.885000      8.321955   \n",
       "2023-08-21      JPM   149.48   8327018  140.976087      8.411650   \n",
       "2023-08-22      JPM   146.38   9681972  141.030000      8.422340   \n",
       "2023-08-23      JPM   147.37   7858021  141.075507      8.439615   \n",
       "2023-08-24      JPM   147.23   6534026  141.119784      8.425169   \n",
       "\n",
       "            Y_pcntleStdDevs_200  Y_pcntleVolume_200  Y_pcntleClosing_200  \\\n",
       "date                                                                       \n",
       "2023-08-11            52.857143            0.714286            90.000000   \n",
       "2023-08-14            55.072464            0.724638            89.855072   \n",
       "2023-08-15            55.797101           55.797101            84.782609   \n",
       "2023-08-16            56.521739           10.144928            84.057971   \n",
       "2023-08-17            56.115108           51.798561            82.014388   \n",
       "2023-08-18            55.714286           28.571429            82.857143   \n",
       "2023-08-21            58.695652           25.362319            82.608696   \n",
       "2023-08-22            59.420290           46.376812            77.536232   \n",
       "2023-08-23            60.869565           20.289855            78.260870   \n",
       "2023-08-24            59.712230            6.474820            77.697842   \n",
       "\n",
       "            Y_oscillator_200  Y_accu_dist_200  ...  X_10_stddev_90  \\\n",
       "date                                           ...                   \n",
       "2023-08-11         89.271683     9.331555e+06  ...       20.624417   \n",
       "2023-08-14         90.238743     9.575378e+06  ...       18.988186   \n",
       "2023-08-15         78.331822     6.753507e+06  ...       17.247753   \n",
       "2023-08-16         76.397703     6.290510e+06  ...       15.430173   \n",
       "2023-08-17         71.683288     5.160958e+06  ...       15.094795   \n",
       "2023-08-18         72.710789     5.394542e+06  ...       14.678037   \n",
       "2023-08-21         74.252040     5.786369e+06  ...       13.870644   \n",
       "2023-08-22         64.883651     3.546520e+06  ...       12.516317   \n",
       "2023-08-23         67.875491     4.249986e+06  ...       11.133535   \n",
       "2023-08-24         67.452403     4.135950e+06  ...       11.118622   \n",
       "\n",
       "            X_10_accu_dist_200  X_10_bollingerLower_200  \\\n",
       "date                                                      \n",
       "2023-08-11       328766.057243               324.413290   \n",
       "2023-08-14       427949.369856               326.380067   \n",
       "2023-08-15       458313.564631               327.058951   \n",
       "2023-08-16       326310.991431               327.788792   \n",
       "2023-08-17       263245.464163               328.112648   \n",
       "2023-08-18       293193.946643               328.429070   \n",
       "2023-08-21       447707.946260               330.107756   \n",
       "2023-08-22       445501.597965               330.596677   \n",
       "2023-08-23       634662.868130               331.159687   \n",
       "2023-08-24       436522.528943               331.443604   \n",
       "\n",
       "            X_10_bollingerUpper_200  X_10_mean_200  X_10_oscillator_200  \\\n",
       "date                                                                      \n",
       "2023-08-11               471.941853     398.177571            68.527172   \n",
       "2023-08-14               472.617469     399.498768            73.919095   \n",
       "2023-08-15               473.099020     400.078986            75.563288   \n",
       "2023-08-16               473.397295     400.593043            68.142671   \n",
       "2023-08-17               473.411669     400.762158            64.567203   \n",
       "2023-08-18               473.456073     400.942571            66.237495   \n",
       "2023-08-21               474.207462     402.157609            74.786629   \n",
       "2023-08-22               474.701149     402.648913            74.715505   \n",
       "2023-08-23               475.396110     403.277899            85.250711   \n",
       "2023-08-24               475.581000     403.512302            74.244310   \n",
       "\n",
       "            X_10_pcntleClosing_200  X_10_pcntleStdDevs_200  \\\n",
       "date                                                         \n",
       "2023-08-11               67.142857               81.428571   \n",
       "2023-08-14               71.739130               78.260870   \n",
       "2023-08-15               74.637681               77.536232   \n",
       "2023-08-16               64.492754               76.811594   \n",
       "2023-08-17               60.431655               75.539568   \n",
       "2023-08-18               60.714286               75.000000   \n",
       "2023-08-21               73.913043               70.289855   \n",
       "2023-08-22               73.188406               70.289855   \n",
       "2023-08-23               85.507246               71.739130   \n",
       "2023-08-24               71.223022               69.784173   \n",
       "\n",
       "            X_10_pcntleVolume_200  X_10_stddev_200  \n",
       "date                                                \n",
       "2023-08-11               5.714286        36.882141  \n",
       "2023-08-14              47.826087        36.559350  \n",
       "2023-08-15              52.173913        36.510017  \n",
       "2023-08-16              66.666667        36.402126  \n",
       "2023-08-17              92.805755        36.324755  \n",
       "2023-08-18              52.142857        36.256751  \n",
       "2023-08-21              26.086957        36.024927  \n",
       "2023-08-22              33.333333        36.026118  \n",
       "2023-08-23              50.724638        36.059106  \n",
       "2023-08-24              72.661871        36.034349  \n",
       "\n",
       "[10 rows x 429 columns]"
      ],
      "text/html": [
       "<div>\n",
       "<style scoped>\n",
       "    .dataframe tbody tr th:only-of-type {\n",
       "        vertical-align: middle;\n",
       "    }\n",
       "\n",
       "    .dataframe tbody tr th {\n",
       "        vertical-align: top;\n",
       "    }\n",
       "\n",
       "    .dataframe thead th {\n",
       "        text-align: right;\n",
       "    }\n",
       "</style>\n",
       "<table border=\"1\" class=\"dataframe\">\n",
       "  <thead>\n",
       "    <tr style=\"text-align: right;\">\n",
       "      <th></th>\n",
       "      <th>Y_symbol</th>\n",
       "      <th>Y_close</th>\n",
       "      <th>Y_volume</th>\n",
       "      <th>Y_mean_200</th>\n",
       "      <th>Y_stddev_200</th>\n",
       "      <th>Y_pcntleStdDevs_200</th>\n",
       "      <th>Y_pcntleVolume_200</th>\n",
       "      <th>Y_pcntleClosing_200</th>\n",
       "      <th>Y_oscillator_200</th>\n",
       "      <th>Y_accu_dist_200</th>\n",
       "      <th>...</th>\n",
       "      <th>X_10_stddev_90</th>\n",
       "      <th>X_10_accu_dist_200</th>\n",
       "      <th>X_10_bollingerLower_200</th>\n",
       "      <th>X_10_bollingerUpper_200</th>\n",
       "      <th>X_10_mean_200</th>\n",
       "      <th>X_10_oscillator_200</th>\n",
       "      <th>X_10_pcntleClosing_200</th>\n",
       "      <th>X_10_pcntleStdDevs_200</th>\n",
       "      <th>X_10_pcntleVolume_200</th>\n",
       "      <th>X_10_stddev_200</th>\n",
       "    </tr>\n",
       "    <tr>\n",
       "      <th>date</th>\n",
       "      <th></th>\n",
       "      <th></th>\n",
       "      <th></th>\n",
       "      <th></th>\n",
       "      <th></th>\n",
       "      <th></th>\n",
       "      <th></th>\n",
       "      <th></th>\n",
       "      <th></th>\n",
       "      <th></th>\n",
       "      <th></th>\n",
       "      <th></th>\n",
       "      <th></th>\n",
       "      <th></th>\n",
       "      <th></th>\n",
       "      <th></th>\n",
       "      <th></th>\n",
       "      <th></th>\n",
       "      <th></th>\n",
       "      <th></th>\n",
       "      <th></th>\n",
       "    </tr>\n",
       "  </thead>\n",
       "  <tbody>\n",
       "    <tr>\n",
       "      <th>2023-08-11</th>\n",
       "      <td>JPM</td>\n",
       "      <td>154.45</td>\n",
       "      <td>5180690</td>\n",
       "      <td>140.468929</td>\n",
       "      <td>8.100901</td>\n",
       "      <td>52.857143</td>\n",
       "      <td>0.714286</td>\n",
       "      <td>90.000000</td>\n",
       "      <td>89.271683</td>\n",
       "      <td>9.331555e+06</td>\n",
       "      <td>...</td>\n",
       "      <td>20.624417</td>\n",
       "      <td>328766.057243</td>\n",
       "      <td>324.413290</td>\n",
       "      <td>471.941853</td>\n",
       "      <td>398.177571</td>\n",
       "      <td>68.527172</td>\n",
       "      <td>67.142857</td>\n",
       "      <td>81.428571</td>\n",
       "      <td>5.714286</td>\n",
       "      <td>36.882141</td>\n",
       "    </tr>\n",
       "    <tr>\n",
       "      <th>2023-08-14</th>\n",
       "      <td>JPM</td>\n",
       "      <td>154.77</td>\n",
       "      <td>5044282</td>\n",
       "      <td>140.620145</td>\n",
       "      <td>8.242251</td>\n",
       "      <td>55.072464</td>\n",
       "      <td>0.724638</td>\n",
       "      <td>89.855072</td>\n",
       "      <td>90.238743</td>\n",
       "      <td>9.575378e+06</td>\n",
       "      <td>...</td>\n",
       "      <td>18.988186</td>\n",
       "      <td>427949.369856</td>\n",
       "      <td>326.380067</td>\n",
       "      <td>472.617469</td>\n",
       "      <td>399.498768</td>\n",
       "      <td>73.919095</td>\n",
       "      <td>71.739130</td>\n",
       "      <td>78.260870</td>\n",
       "      <td>47.826087</td>\n",
       "      <td>36.559350</td>\n",
       "    </tr>\n",
       "    <tr>\n",
       "      <th>2023-08-15</th>\n",
       "      <td>JPM</td>\n",
       "      <td>150.83</td>\n",
       "      <td>10300303</td>\n",
       "      <td>140.698768</td>\n",
       "      <td>8.287724</td>\n",
       "      <td>55.797101</td>\n",
       "      <td>55.797101</td>\n",
       "      <td>84.782609</td>\n",
       "      <td>78.331822</td>\n",
       "      <td>6.753507e+06</td>\n",
       "      <td>...</td>\n",
       "      <td>17.247753</td>\n",
       "      <td>458313.564631</td>\n",
       "      <td>327.058951</td>\n",
       "      <td>473.099020</td>\n",
       "      <td>400.078986</td>\n",
       "      <td>75.563288</td>\n",
       "      <td>74.637681</td>\n",
       "      <td>77.536232</td>\n",
       "      <td>52.173913</td>\n",
       "      <td>36.510017</td>\n",
       "    </tr>\n",
       "    <tr>\n",
       "      <th>2023-08-16</th>\n",
       "      <td>JPM</td>\n",
       "      <td>150.19</td>\n",
       "      <td>6978235</td>\n",
       "      <td>140.770290</td>\n",
       "      <td>8.326927</td>\n",
       "      <td>56.521739</td>\n",
       "      <td>10.144928</td>\n",
       "      <td>84.057971</td>\n",
       "      <td>76.397703</td>\n",
       "      <td>6.290510e+06</td>\n",
       "      <td>...</td>\n",
       "      <td>15.430173</td>\n",
       "      <td>326310.991431</td>\n",
       "      <td>327.788792</td>\n",
       "      <td>473.397295</td>\n",
       "      <td>400.593043</td>\n",
       "      <td>68.142671</td>\n",
       "      <td>64.492754</td>\n",
       "      <td>76.811594</td>\n",
       "      <td>66.666667</td>\n",
       "      <td>36.402126</td>\n",
       "    </tr>\n",
       "    <tr>\n",
       "      <th>2023-08-17</th>\n",
       "      <td>JPM</td>\n",
       "      <td>148.63</td>\n",
       "      <td>9953912</td>\n",
       "      <td>140.826835</td>\n",
       "      <td>8.323442</td>\n",
       "      <td>56.115108</td>\n",
       "      <td>51.798561</td>\n",
       "      <td>82.014388</td>\n",
       "      <td>71.683288</td>\n",
       "      <td>5.160958e+06</td>\n",
       "      <td>...</td>\n",
       "      <td>15.094795</td>\n",
       "      <td>263245.464163</td>\n",
       "      <td>328.112648</td>\n",
       "      <td>473.411669</td>\n",
       "      <td>400.762158</td>\n",
       "      <td>64.567203</td>\n",
       "      <td>60.431655</td>\n",
       "      <td>75.539568</td>\n",
       "      <td>92.805755</td>\n",
       "      <td>36.324755</td>\n",
       "    </tr>\n",
       "    <tr>\n",
       "      <th>2023-08-18</th>\n",
       "      <td>JPM</td>\n",
       "      <td>148.97</td>\n",
       "      <td>8517460</td>\n",
       "      <td>140.885000</td>\n",
       "      <td>8.321955</td>\n",
       "      <td>55.714286</td>\n",
       "      <td>28.571429</td>\n",
       "      <td>82.857143</td>\n",
       "      <td>72.710789</td>\n",
       "      <td>5.394542e+06</td>\n",
       "      <td>...</td>\n",
       "      <td>14.678037</td>\n",
       "      <td>293193.946643</td>\n",
       "      <td>328.429070</td>\n",
       "      <td>473.456073</td>\n",
       "      <td>400.942571</td>\n",
       "      <td>66.237495</td>\n",
       "      <td>60.714286</td>\n",
       "      <td>75.000000</td>\n",
       "      <td>52.142857</td>\n",
       "      <td>36.256751</td>\n",
       "    </tr>\n",
       "    <tr>\n",
       "      <th>2023-08-21</th>\n",
       "      <td>JPM</td>\n",
       "      <td>149.48</td>\n",
       "      <td>8327018</td>\n",
       "      <td>140.976087</td>\n",
       "      <td>8.411650</td>\n",
       "      <td>58.695652</td>\n",
       "      <td>25.362319</td>\n",
       "      <td>82.608696</td>\n",
       "      <td>74.252040</td>\n",
       "      <td>5.786369e+06</td>\n",
       "      <td>...</td>\n",
       "      <td>13.870644</td>\n",
       "      <td>447707.946260</td>\n",
       "      <td>330.107756</td>\n",
       "      <td>474.207462</td>\n",
       "      <td>402.157609</td>\n",
       "      <td>74.786629</td>\n",
       "      <td>73.913043</td>\n",
       "      <td>70.289855</td>\n",
       "      <td>26.086957</td>\n",
       "      <td>36.024927</td>\n",
       "    </tr>\n",
       "    <tr>\n",
       "      <th>2023-08-22</th>\n",
       "      <td>JPM</td>\n",
       "      <td>146.38</td>\n",
       "      <td>9681972</td>\n",
       "      <td>141.030000</td>\n",
       "      <td>8.422340</td>\n",
       "      <td>59.420290</td>\n",
       "      <td>46.376812</td>\n",
       "      <td>77.536232</td>\n",
       "      <td>64.883651</td>\n",
       "      <td>3.546520e+06</td>\n",
       "      <td>...</td>\n",
       "      <td>12.516317</td>\n",
       "      <td>445501.597965</td>\n",
       "      <td>330.596677</td>\n",
       "      <td>474.701149</td>\n",
       "      <td>402.648913</td>\n",
       "      <td>74.715505</td>\n",
       "      <td>73.188406</td>\n",
       "      <td>70.289855</td>\n",
       "      <td>33.333333</td>\n",
       "      <td>36.026118</td>\n",
       "    </tr>\n",
       "    <tr>\n",
       "      <th>2023-08-23</th>\n",
       "      <td>JPM</td>\n",
       "      <td>147.37</td>\n",
       "      <td>7858021</td>\n",
       "      <td>141.075507</td>\n",
       "      <td>8.439615</td>\n",
       "      <td>60.869565</td>\n",
       "      <td>20.289855</td>\n",
       "      <td>78.260870</td>\n",
       "      <td>67.875491</td>\n",
       "      <td>4.249986e+06</td>\n",
       "      <td>...</td>\n",
       "      <td>11.133535</td>\n",
       "      <td>634662.868130</td>\n",
       "      <td>331.159687</td>\n",
       "      <td>475.396110</td>\n",
       "      <td>403.277899</td>\n",
       "      <td>85.250711</td>\n",
       "      <td>85.507246</td>\n",
       "      <td>71.739130</td>\n",
       "      <td>50.724638</td>\n",
       "      <td>36.059106</td>\n",
       "    </tr>\n",
       "    <tr>\n",
       "      <th>2023-08-24</th>\n",
       "      <td>JPM</td>\n",
       "      <td>147.23</td>\n",
       "      <td>6534026</td>\n",
       "      <td>141.119784</td>\n",
       "      <td>8.425169</td>\n",
       "      <td>59.712230</td>\n",
       "      <td>6.474820</td>\n",
       "      <td>77.697842</td>\n",
       "      <td>67.452403</td>\n",
       "      <td>4.135950e+06</td>\n",
       "      <td>...</td>\n",
       "      <td>11.118622</td>\n",
       "      <td>436522.528943</td>\n",
       "      <td>331.443604</td>\n",
       "      <td>475.581000</td>\n",
       "      <td>403.512302</td>\n",
       "      <td>74.244310</td>\n",
       "      <td>71.223022</td>\n",
       "      <td>69.784173</td>\n",
       "      <td>72.661871</td>\n",
       "      <td>36.034349</td>\n",
       "    </tr>\n",
       "  </tbody>\n",
       "</table>\n",
       "<p>10 rows × 429 columns</p>\n",
       "</div>"
      ]
     },
     "execution_count": 8,
     "metadata": {},
     "output_type": "execute_result"
    }
   ],
   "execution_count": 8
  },
  {
   "metadata": {},
   "cell_type": "markdown",
   "source": "## Data Normalization and Train-Test split",
   "id": "eb17ea23b2359d4e"
  },
  {
   "metadata": {
    "ExecuteTime": {
     "end_time": "2025-05-16T19:07:29.917765Z",
     "start_time": "2025-05-16T19:07:29.913346Z"
    }
   },
   "cell_type": "code",
   "source": [
    "# Start with separating features (independent vector matrix X) and dependent vector (y)\n",
    "batch_size = 5\n",
    "len_data = len(dfrm_single_symbol_training_data)\n",
    "tgt_field_column_name = 'Y_close'\n",
    "tgt_symbol_column_name = 'Y_symbol'\n",
    "train_to_total_ratio = 0.8\n",
    "\n",
    "p = int(train_to_total_ratio * dfrm_single_symbol_training_data.shape[0])\n",
    "# The train and test dataset must be perfect multiple of batch size\n",
    "p = p - p % batch_size # Align train set length to batch size\n",
    "q = dfrm_single_symbol_training_data.shape[0] - p\n",
    "q = q - q % batch_size # Align test set length to batch size\n",
    "dfrm_training = dfrm_single_symbol_training_data[:p]\n",
    "dfrm_test = dfrm_single_symbol_training_data[p:p+q] # Last few test samples are skipped\n",
    "print(len(dfrm_training))\n",
    "print(len(dfrm_test))"
   ],
   "id": "56cec26e706ebfc8",
   "outputs": [
    {
     "name": "stdout",
     "output_type": "stream",
     "text": [
      "4065\n",
      "1015\n"
     ]
    }
   ],
   "execution_count": 9
  },
  {
   "metadata": {
    "ExecuteTime": {
     "end_time": "2025-05-16T19:07:29.981712Z",
     "start_time": "2025-05-16T19:07:29.970545Z"
    }
   },
   "cell_type": "code",
   "source": [
    "# x_columns = [column for column in dfrm_training.columns if column not in [tgt_field_column_name] and 'symbol' not in column] # Use all numerical features including technical indicators\n",
    "x_columns = [column for column in dfrm_training.columns if column not in [tgt_field_column_name] and 'close' in column] # Only use daily close values for training\n",
    "Y_train = dfrm_training[tgt_field_column_name]\n",
    "X_train = dfrm_training[x_columns]\n",
    "# Drop null values - didn't see major upside in results. Commented out\n",
    "# null_indices = X_train[X_train.isnull().any(axis=1)].index\n",
    "# X_train = X_train.drop(null_indices)\n",
    "# Y_train = Y_train.drop(null_indices)\n",
    "\n",
    "Y_test = dfrm_test[tgt_field_column_name]\n",
    "X_test = dfrm_test[x_columns]\n",
    "\n",
    "# Scale the target variable\n",
    "scaler_y = MinMaxScaler(feature_range=(-1, 1))\n",
    "transformed_Y_train = scaler_y.fit_transform(Y_train.values.reshape(-1,1))\n",
    "transformed_Y_test = scaler_y.transform(Y_test.values.reshape(-1,1))\n",
    "\n",
    "# Scale the features\n",
    "scaler_x = MinMaxScaler(feature_range=(-1, 1))\n",
    "transformed_X_train = scaler_x.fit_transform(X_train)\n",
    "transformed_X_test = scaler_x.transform(X_test)"
   ],
   "id": "eb9d484f9b0f89a3",
   "outputs": [],
   "execution_count": 10
  },
  {
   "metadata": {
    "ExecuteTime": {
     "end_time": "2025-05-16T19:07:30.186405Z",
     "start_time": "2025-05-16T19:07:30.175843Z"
    }
   },
   "cell_type": "code",
   "source": [
    "x_train = torch.from_numpy(transformed_X_train).to(torch.float32)\n",
    "x_test = torch.from_numpy(transformed_X_test).to(torch.float32)\n",
    "y_train = torch.from_numpy(transformed_Y_train).to(torch.float32)\n",
    "y_test = torch.from_numpy(transformed_Y_test).to(torch.float32)\n",
    "\n",
    "# Create a dataset and data loader for features (X) and label (y)\n",
    "train_dataset = TensorDataset(x_train.unsqueeze(1), y_train)  # Add sequence dimension\n",
    "train_loader = DataLoader(train_dataset, batch_size=batch_size, shuffle=False)\n",
    "\n",
    "test_dataset = TensorDataset(x_test.unsqueeze(1), y_test)  # Add sequence dimension\n",
    "test_loader = DataLoader(test_dataset, batch_size=batch_size, shuffle=False)"
   ],
   "id": "b1951e01a7ee7ef8",
   "outputs": [],
   "execution_count": 11
  },
  {
   "metadata": {
    "ExecuteTime": {
     "end_time": "2025-05-16T19:07:30.293092Z",
     "start_time": "2025-05-16T19:07:30.285060Z"
    }
   },
   "cell_type": "code",
   "source": "x_train.shape",
   "id": "549f5249e90dd2f3",
   "outputs": [
    {
     "data": {
      "text/plain": [
       "torch.Size([4065, 10])"
      ]
     },
     "execution_count": 12,
     "metadata": {},
     "output_type": "execute_result"
    }
   ],
   "execution_count": 12
  },
  {
   "metadata": {
    "ExecuteTime": {
     "end_time": "2025-05-16T19:07:30.305317Z",
     "start_time": "2025-05-16T19:07:30.299895Z"
    }
   },
   "cell_type": "code",
   "source": [
    "# Dimensions for data input\n",
    "input_dim = len(X_train.columns) # Number of features\n",
    "#hidden_dim = int(len(X_train)) # Number of samples or units\n",
    "hidden_dim = 512\n",
    "num_layers = 2\n",
    "output_dim = 1\n",
    "num_epochs = 5 # Intentionally keeping low for initial debugging\n",
    "seq_len = 10"
   ],
   "id": "49caeb4978c6b59a",
   "outputs": [],
   "execution_count": 13
  },
  {
   "metadata": {},
   "cell_type": "markdown",
   "source": "## Model Definition and Predictions",
   "id": "f519e09993e3c4fa"
  },
  {
   "metadata": {
    "ExecuteTime": {
     "end_time": "2025-05-16T19:07:30.390662Z",
     "start_time": "2025-05-16T19:07:30.383221Z"
    }
   },
   "cell_type": "code",
   "source": [
    "class LSTM(nn.Module):\n",
    "    def __init__(self, input_dim, hidden_dim, num_layers, output_dim):\n",
    "        super(LSTM, self).__init__()\n",
    "        self.hidden_dim = hidden_dim\n",
    "        self.num_layers = num_layers\n",
    "        self.bn = torch.nn.BatchNorm1d(output_dim)\n",
    "        self.dropout = nn.Dropout(0.1)\n",
    "\n",
    "        self.lstm = nn.LSTM(input_dim, hidden_dim, num_layers, batch_first=True)\n",
    "        self.fc = nn.Linear(hidden_dim, output_dim)\n",
    "\n",
    "    def forward(self, x):\n",
    "        # Ensure x has batch dimension\n",
    "        #print(\"Input size:\", x.size(0))\n",
    "        # print(f'X:{x}')\n",
    "        x = self.dropout(x)\n",
    "        # x = self.bn(x) # Batch normalization didn't help with results\n",
    "        h0 = torch.zeros(self.num_layers, x.size(0), self.hidden_dim).to(x.device)\n",
    "        c0 = torch.zeros(self.num_layers, x.size(0), self.hidden_dim).to(x.device)\n",
    "\n",
    "        out, _ = self.lstm(x, (h0, c0))\n",
    "        out = self.fc(out[:, -1, :])\n",
    "        return out"
   ],
   "id": "df82a418e1a54b34",
   "outputs": [],
   "execution_count": 14
  },
  {
   "metadata": {
    "ExecuteTime": {
     "end_time": "2025-05-16T19:07:31.360470Z",
     "start_time": "2025-05-16T19:07:30.465793Z"
    }
   },
   "cell_type": "code",
   "source": [
    "\n",
    "model = LSTM(input_dim=input_dim, hidden_dim=hidden_dim, num_layers= num_layers, output_dim=output_dim, )\n",
    "criterion = torch.nn.MSELoss(reduction='sum')\n",
    "optimizer = torch.optim.Adam(model.parameters(), lr=0.0001)\n",
    "model.lstm"
   ],
   "id": "7be06430e33359e3",
   "outputs": [
    {
     "data": {
      "text/plain": [
       "LSTM(10, 512, num_layers=2, batch_first=True)"
      ]
     },
     "execution_count": 15,
     "metadata": {},
     "output_type": "execute_result"
    }
   ],
   "execution_count": 15
  },
  {
   "metadata": {},
   "cell_type": "markdown",
   "source": "## Model Training and Evaluation",
   "id": "d5de7f6f737e9c6d"
  },
  {
   "metadata": {
    "ExecuteTime": {
     "end_time": "2025-05-16T19:08:41.700649Z",
     "start_time": "2025-05-16T19:07:31.423990Z"
    }
   },
   "cell_type": "code",
   "source": [
    "hist = np.zeros(num_epochs)\n",
    "start_time = time.time()\n",
    "\n",
    "for t in range(num_epochs):\n",
    "    counter = 1\n",
    "    for batch in train_loader:\n",
    "        x_batch, y_batch = batch\n",
    "        x_batch = x_batch.reshape(5, -1, input_dim)\n",
    "        y_train_pred = model(x_batch)\n",
    "        loss = criterion(y_train_pred, y_batch)\n",
    "\n",
    "        optimizer.zero_grad()\n",
    "        loss.backward()\n",
    "        optimizer.step()\n",
    "        if counter % 100 == 0:\n",
    "            print(f'Epoch:{t:}, Batch:{counter}, Loss: {loss.item():.4f}')\n",
    "        counter += 1\n",
    "training_time = time.time()-start_time\n",
    "print(\"Training time: {}\".format(training_time))"
   ],
   "id": "81a24212c9180f90",
   "outputs": [
    {
     "name": "stdout",
     "output_type": "stream",
     "text": [
      "Epoch:0, Batch:100, Loss: 0.0358\n",
      "Epoch:0, Batch:200, Loss: 0.0214\n",
      "Epoch:0, Batch:300, Loss: 0.0663\n",
      "Epoch:0, Batch:400, Loss: 0.0082\n",
      "Epoch:0, Batch:500, Loss: 0.0339\n",
      "Epoch:0, Batch:600, Loss: 0.0003\n",
      "Epoch:0, Batch:700, Loss: 0.0034\n",
      "Epoch:0, Batch:800, Loss: 0.2552\n",
      "Epoch:1, Batch:100, Loss: 0.0209\n",
      "Epoch:1, Batch:200, Loss: 0.0371\n",
      "Epoch:1, Batch:300, Loss: 0.3437\n",
      "Epoch:1, Batch:400, Loss: 0.0033\n",
      "Epoch:1, Batch:500, Loss: 0.0250\n",
      "Epoch:1, Batch:600, Loss: 0.0061\n",
      "Epoch:1, Batch:700, Loss: 0.0287\n",
      "Epoch:1, Batch:800, Loss: 0.4264\n",
      "Epoch:2, Batch:100, Loss: 0.0159\n",
      "Epoch:2, Batch:200, Loss: 0.0202\n",
      "Epoch:2, Batch:300, Loss: 0.1168\n",
      "Epoch:2, Batch:400, Loss: 0.0220\n",
      "Epoch:2, Batch:500, Loss: 0.0283\n",
      "Epoch:2, Batch:600, Loss: 0.0088\n",
      "Epoch:2, Batch:700, Loss: 0.0086\n",
      "Epoch:2, Batch:800, Loss: 0.1916\n",
      "Epoch:3, Batch:100, Loss: 0.0090\n",
      "Epoch:3, Batch:200, Loss: 0.0153\n",
      "Epoch:3, Batch:300, Loss: 0.0741\n",
      "Epoch:3, Batch:400, Loss: 0.0061\n",
      "Epoch:3, Batch:500, Loss: 0.0048\n",
      "Epoch:3, Batch:600, Loss: 0.0042\n",
      "Epoch:3, Batch:700, Loss: 0.0097\n",
      "Epoch:3, Batch:800, Loss: 0.3468\n",
      "Epoch:4, Batch:100, Loss: 0.0201\n",
      "Epoch:4, Batch:200, Loss: 0.0276\n",
      "Epoch:4, Batch:300, Loss: 0.0591\n",
      "Epoch:4, Batch:400, Loss: 0.0217\n",
      "Epoch:4, Batch:500, Loss: 0.0112\n",
      "Epoch:4, Batch:600, Loss: 0.0030\n",
      "Epoch:4, Batch:700, Loss: 0.0179\n",
      "Epoch:4, Batch:800, Loss: 0.3419\n",
      "Training time: 70.27289485931396\n"
     ]
    }
   ],
   "execution_count": 16
  },
  {
   "metadata": {},
   "cell_type": "markdown",
   "source": "### LSTM Predictions",
   "id": "1ae0b0a359e092e7"
  },
  {
   "metadata": {
    "ExecuteTime": {
     "end_time": "2025-05-16T19:08:42.924597Z",
     "start_time": "2025-05-16T19:08:41.847453Z"
    }
   },
   "cell_type": "code",
   "source": [
    "# Make predictions on the test dataset\n",
    "model.eval()\n",
    "test_labels = []\n",
    "test_preds = []\n",
    "with torch.no_grad():\n",
    "    for batch in test_loader:\n",
    "        inputs, labels = batch\n",
    "        test_labels.extend(labels.cpu().numpy().flatten()) # Add observed values to list\n",
    "        inputs = inputs.reshape(5, -1, input_dim)\n",
    "        outputs = model(inputs)\n",
    "        test_preds.extend(outputs.cpu().numpy().flatten()) # Add predicted values to list\n",
    "\n",
    "# Plot predictions against actual values\n",
    "plt.plot(test_labels, label='Actual')\n",
    "plt.plot(test_preds, label='Predicted')\n",
    "plt.legend()\n",
    "plt.show()\n"
   ],
   "id": "74c467305e209496",
   "outputs": [
    {
     "data": {
      "text/plain": [
       "<Figure size 640x480 with 1 Axes>"
      ],
      "image/png": "[encoded data removed]"
     },
     "metadata": {},
     "output_type": "display_data"
    }
   ],
   "execution_count": 17
  },
  {
   "metadata": {},
   "cell_type": "markdown",
   "source": "### GRU",
   "id": "3f2e373e90cfe3b0"
  },
  {
   "metadata": {
    "ExecuteTime": {
     "end_time": "2025-05-16T19:08:42.935622Z",
     "start_time": "2025-05-16T19:08:42.929959Z"
    }
   },
   "cell_type": "code",
   "source": [
    "class GRU(nn.Module):\n",
    "    def __init__(self, input_dim, hidden_dim, num_layers, output_dim):\n",
    "        super(GRU, self).__init__()\n",
    "        self.hidden_dim = hidden_dim\n",
    "        self.num_layers = num_layers\n",
    "        self.dropout = nn.Dropout(0.1)\n",
    "\n",
    "        self.gru = nn.GRU(input_dim, hidden_dim, num_layers, batch_first=True)\n",
    "        self.fc = nn.Linear(hidden_dim, output_dim)\n",
    "\n",
    "    def forward(self, x):\n",
    "        x = self.dropout(x)\n",
    "        h0 = torch.zeros(self.num_layers, x.size(0), self.hidden_dim).requires_grad_()\n",
    "        out, (hn) = self.gru(x, (h0.detach()))\n",
    "        out = self.fc(out[:, -1, :])\n",
    "        return out"
   ],
   "id": "e3bd1f7b7bdb1420",
   "outputs": [],
   "execution_count": 18
  },
  {
   "metadata": {
    "ExecuteTime": {
     "end_time": "2025-05-16T19:08:43.081510Z",
     "start_time": "2025-05-16T19:08:43.068016Z"
    }
   },
   "cell_type": "code",
   "source": [
    "model_gru = GRU(input_dim=input_dim, hidden_dim=hidden_dim, output_dim=output_dim, num_layers=num_layers)\n",
    "criterion = torch.nn.MSELoss(reduction='mean')\n",
    "optimizer = torch.optim.Adam(model_gru.parameters(), lr=0.00001)\n",
    "model_gru.gru\n"
   ],
   "id": "7e91b705f0a10489",
   "outputs": [
    {
     "data": {
      "text/plain": [
       "GRU(10, 512, num_layers=2, batch_first=True)"
      ]
     },
     "execution_count": 19,
     "metadata": {},
     "output_type": "execute_result"
    }
   ],
   "execution_count": 19
  },
  {
   "metadata": {
    "ExecuteTime": {
     "end_time": "2025-05-16T19:09:20.056565Z",
     "start_time": "2025-05-16T19:08:43.091290Z"
    }
   },
   "cell_type": "code",
   "source": [
    "hist = np.zeros(num_epochs)\n",
    "start_time = time.time()\n",
    "gru = []\n",
    "\n",
    "for t in range(num_epochs):\n",
    "    counter = 1\n",
    "    for batch in train_loader:\n",
    "        x_batch, y_batch = batch\n",
    "        x_batch = x_batch.reshape(5, -1, input_dim)\n",
    "        y_train_pred = model_gru(x_batch)\n",
    "        loss = criterion(y_train_pred, y_batch)\n",
    "\n",
    "        optimizer.zero_grad()\n",
    "        loss.backward()\n",
    "        optimizer.step()\n",
    "        if counter % 100 == 0:\n",
    "            print(f'Epoch:{t:}, Batch:{counter}, Loss: {loss.item():.4f}')\n",
    "        counter += 1\n",
    "training_time = time.time()-start_time\n",
    "print(\"Training time: {}\".format(training_time))"
   ],
   "id": "1392f5b479410372",
   "outputs": [
    {
     "name": "stdout",
     "output_type": "stream",
     "text": [
      "Epoch:0, Batch:100, Loss: 0.1616\n",
      "Epoch:0, Batch:200, Loss: 0.0418\n",
      "Epoch:0, Batch:300, Loss: 0.0979\n",
      "Epoch:0, Batch:400, Loss: 0.0213\n",
      "Epoch:0, Batch:500, Loss: 0.0103\n",
      "Epoch:0, Batch:600, Loss: 0.0071\n",
      "Epoch:0, Batch:700, Loss: 0.0085\n",
      "Epoch:0, Batch:800, Loss: 0.2744\n",
      "Epoch:1, Batch:100, Loss: 0.0169\n",
      "Epoch:1, Batch:200, Loss: 0.0033\n",
      "Epoch:1, Batch:300, Loss: 0.0170\n",
      "Epoch:1, Batch:400, Loss: 0.0050\n",
      "Epoch:1, Batch:500, Loss: 0.0077\n",
      "Epoch:1, Batch:600, Loss: 0.0009\n",
      "Epoch:1, Batch:700, Loss: 0.0003\n",
      "Epoch:1, Batch:800, Loss: 0.0441\n",
      "Epoch:2, Batch:100, Loss: 0.0190\n",
      "Epoch:2, Batch:200, Loss: 0.0097\n",
      "Epoch:2, Batch:300, Loss: 0.0208\n",
      "Epoch:2, Batch:400, Loss: 0.0058\n",
      "Epoch:2, Batch:500, Loss: 0.0064\n",
      "Epoch:2, Batch:600, Loss: 0.0004\n",
      "Epoch:2, Batch:700, Loss: 0.0070\n",
      "Epoch:2, Batch:800, Loss: 0.0045\n",
      "Epoch:3, Batch:100, Loss: 0.0213\n",
      "Epoch:3, Batch:200, Loss: 0.0092\n",
      "Epoch:3, Batch:300, Loss: 0.0154\n",
      "Epoch:3, Batch:400, Loss: 0.0063\n",
      "Epoch:3, Batch:500, Loss: 0.0073\n",
      "Epoch:3, Batch:600, Loss: 0.0029\n",
      "Epoch:3, Batch:700, Loss: 0.0083\n",
      "Epoch:3, Batch:800, Loss: 0.0138\n",
      "Epoch:4, Batch:100, Loss: 0.0169\n",
      "Epoch:4, Batch:200, Loss: 0.0131\n",
      "Epoch:4, Batch:300, Loss: 0.0171\n",
      "Epoch:4, Batch:400, Loss: 0.0046\n",
      "Epoch:4, Batch:500, Loss: 0.0087\n",
      "Epoch:4, Batch:600, Loss: 0.0006\n",
      "Epoch:4, Batch:700, Loss: 0.0065\n",
      "Epoch:4, Batch:800, Loss: 0.0070\n",
      "Training time: 36.96067810058594\n"
     ]
    }
   ],
   "execution_count": 20
  },
  {
   "metadata": {
    "ExecuteTime": {
     "end_time": "2025-05-16T19:09:20.683372Z",
     "start_time": "2025-05-16T19:09:20.215127Z"
    }
   },
   "cell_type": "code",
   "source": [
    "# Make predictions on the test dataset\n",
    "model_gru.eval()\n",
    "test_labels = []\n",
    "test_preds = []\n",
    "with torch.no_grad():\n",
    "    for batch in test_loader:\n",
    "        inputs, labels = batch\n",
    "        test_labels.extend(labels.cpu().numpy().flatten()) # Add observed values to list\n",
    "        inputs = inputs.reshape(5, -1, input_dim)\n",
    "        outputs = model_gru(inputs)\n",
    "        test_preds.extend(outputs.cpu().numpy().flatten()) # Add predicted values to list\n",
    "\n",
    "# Plot predictions against actual values\n",
    "plt.plot(test_labels, label='Actual')\n",
    "plt.plot(test_preds, label='Predicted')\n",
    "plt.legend()\n",
    "plt.show()\n"
   ],
   "id": "9e629ab68cc2ba69",
   "outputs": [
    {
     "data": {
      "text/plain": [
       "<Figure size 640x480 with 1 Axes>"
      ],
      "image/png": "[encoded data removed]"
     },
     "metadata": {},
     "output_type": "display_data"
    }
   ],
   "execution_count": 21
  },
  {
   "metadata": {
    "ExecuteTime": {
     "end_time": "2025-05-16T19:14:52.068691Z",
     "start_time": "2025-05-16T19:14:52.005894Z"
    }
   },
   "cell_type": "code",
   "source": [
    "# torch.save(model.state_dict(), \"model_lstm.pth\")\n",
    "# print(\"Saved PyTorch LSTM Model State to model_lstm.pth\")\n",
    "#\n",
    "# torch.save(model_gru.state_dict(), \"model_gru.pth\")\n",
    "# print(\"Saved PyTorch GRU Model State to model_gru.pth\")"
   ],
   "id": "c00cac93f6318600",
   "outputs": [
    {
     "name": "stdout",
     "output_type": "stream",
     "text": [
      "Saved PyTorch LSTM Model State to model_lstm.pth\n",
      "Saved PyTorch GRU Model State to model_gru.pth\n"
     ]
    }
   ],
   "execution_count": 22
  },
  {
   "metadata": {},
   "cell_type": "markdown",
   "source": [
    "## Takeaways\n",
    "- The learning rate defined as part of optimizer made the most significant difference in this case. The lr of 0.01 essentially resulted in a flat line. We had better results at 1e10-4 and in that region. Further lowering it worsened the test results.\n",
    "- Training for more epochs is not improving the model in limited tests.\n",
    "- GRU is performing better than LSTM. Both are directionally right but miss the extent of move at crucial junctures which is resulting in parallel lines between osberved and predicted values versus prediction overlaying observed."
   ],
   "id": "7cb6078fd5d8db8f"
  },
  {
   "metadata": {},
   "cell_type": "code",
   "outputs": [],
   "execution_count": null,
   "source": "",
   "id": "19c0937769e7878b"
  }
 ],
 "metadata": {
  "kernelspec": {
   "display_name": "Python 3",
   "language": "python",
   "name": "python3"
  },
  "language_info": {
   "codemirror_mode": {
    "name": "ipython",
    "version": 2
   },
   "file_extension": ".py",
   "mimetype": "text/x-python",
   "name": "python",
   "nbconvert_exporter": "python",
   "pygments_lexer": "ipython2",
   "version": "2.7.6"
  }
 },
 "nbformat": 4,
 "nbformat_minor": 5
}
