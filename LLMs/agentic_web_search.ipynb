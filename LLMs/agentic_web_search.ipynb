{
 "cells": [
  {
   "metadata": {},
   "cell_type": "markdown",
   "source": [
    "## RAG with Anthropic Claude-3-5-sonnet\n",
    "Author: **Peeyush Sharma**; Feedback: **PSharma3@gmail.com**\n",
    "\n",
    "This notebook demonstrates use of web search as an agentic tool. We are retrieving the most recent published values of a few major central bank rates (SOFR, SONIA). Specific target sites have been provided to the tool to ensure veracity and authenticity of the information retrieved. The tool is expected to contain its search and response within these target sites. The thought behind this type of tool is to demonstrate that agents can be used to systematically traverse through a range of sites retrieving specific information from each of them and aggregate the final collection in the user requested format. In this case, this can be something like:\n",
    "\n",
    "* Date: Rate: Value\n",
    "** 2025-06-12: SOFR: 4.32\n",
    "** 2025-06-12: SONIA: 3.85\n",
    "** 2025-06-12: ESTR: 1.25"
   ],
   "id": "9f959af00fdded71"
  },
  {
   "metadata": {
    "ExecuteTime": {
     "end_time": "2025-06-20T17:22:01.771339Z",
     "start_time": "2025-06-20T17:22:01.753933Z"
    }
   },
   "cell_type": "code",
   "source": [
    "import os\n",
    "from anthropic import Anthropic, RateLimitError\n",
    "from dotenv import load_dotenv\n",
    "from time import sleep"
   ],
   "id": "ab9f128675027f50",
   "outputs": [],
   "execution_count": 17
  },
  {
   "metadata": {
    "ExecuteTime": {
     "end_time": "2025-06-20T17:22:01.780666Z",
     "start_time": "2025-06-20T17:22:01.777282Z"
    }
   },
   "cell_type": "code",
   "source": [
    "# A dictionary for reference rate and their official source.\n",
    "# Agentic tool will be limited to retrieval from these sources only.\n",
    "# Can potentially add more sources for cross-checks (more LLM calls AND more confidence)\n",
    "rate_url_dict = {\n",
    "    \"SOFR\": [\"newyorkfed.org/markets/reference-rates/sofr\",\n",
    "             \"fred.stlouisfed.org/series/SOFR\"],\n",
    "    \"SONIA\": [\"bankofengland.co.uk\"],\n",
    "    # \"SARON\": [\"six-group.com/en/market-data/indices/switzerland/saron.html\"],\n",
    "    # \"ESTR\": [\"ecb.europa.eu/stats/financial_markets_and_interest_rates/euro_short-term_rate/html/index.en.html\"],\n",
    "}\n"
   ],
   "id": "b901f2dc6741cd9a",
   "outputs": [],
   "execution_count": 18
  },
  {
   "cell_type": "code",
   "id": "initial_id",
   "metadata": {
    "collapsed": true,
    "ExecuteTime": {
     "end_time": "2025-06-20T17:22:01.798845Z",
     "start_time": "2025-06-20T17:22:01.791808Z"
    }
   },
   "source": [
    "def llm_call(prompt: str, tools: str = \"\", system_prompt: str = \"\", model=\"claude-3-5-sonnet-20241022\") -> str:\n",
    "    \"\"\"\n",
    "    Calls the model with the given prompt and returns the response.\n",
    "\n",
    "    Args:\n",
    "        prompt (str): The user prompt to send to the model.\n",
    "        tools (str): The tools used by the model. Defaults to basic web search.\n",
    "        system_prompt (str, optional): The system prompt to send to the model. Defaults to \"\".\n",
    "        model (str, optional): The model to use for the call. Defaults to \"claude-3-5-sonnet-20241022\".\n",
    "\n",
    "    Returns:\n",
    "        str: The response from the language model.\n",
    "    \"\"\"\n",
    "    load_dotenv()\n",
    "    anthropic_api_key = os.getenv(\"ANTHROPIC_API_KEY\")\n",
    "    seconds_sleep = 60\n",
    "\n",
    "    # client = Anthropic(api_key=os.environ[\"ANTHROPIC_API_KEY\"])\n",
    "    client = Anthropic(api_key=anthropic_api_key)\n",
    "    messages = [\n",
    "        {\"role\": \"user\", \"content\": prompt}]\n",
    "    if tools == '':\n",
    "        tools = [{\n",
    "            \"type\": \"web_search_20250305\",\n",
    "            \"name\": \"web_search\",\n",
    "            \"max_uses\": 5\n",
    "        }]\n",
    "\n",
    "    try:\n",
    "        ret_response = client.messages.create(\n",
    "            model=model,\n",
    "            max_tokens=4096,\n",
    "            system=system_prompt,\n",
    "            messages=messages,\n",
    "            tools=tools,\n",
    "            temperature=0\n",
    "        )\n",
    "    except RateLimitError as err:\n",
    "        print(err)\n",
    "        print(f'Pausing for {seconds_sleep} seconds before next attempt.')\n",
    "        sleep(seconds_sleep) #\n",
    "        ret_response = llm_call(prompt, tools)\n",
    "    return ret_response"
   ],
   "outputs": [],
   "execution_count": 19
  },
  {
   "metadata": {
    "ExecuteTime": {
     "end_time": "2025-06-20T17:23:35.600052Z",
     "start_time": "2025-06-20T17:22:01.808253Z"
    }
   },
   "cell_type": "code",
   "source": [
    "def populate_request(reference_rate: str, urls: list) -> tuple[str, list[dict]]:\n",
    "    prompt = f\"\"\"\n",
    "            Find the most recent {reference_rate} rate published by Federal Reserve Bank of New York.\n",
    "                       Extract only the numerical {reference_rate} values and associated date from the web page.\n",
    "                       Respond in format 'Date: Value'. Example format:\n",
    "                        2025-06-12: 4.28\"\"\"\n",
    "    web_search_dict = {\n",
    "            \"name\": \"web_search\",\n",
    "            \"type\": \"web_search_20250305\",\n",
    "            \"max_uses\": 5,\n",
    "            \"allowed_domains\": urls,\n",
    "            \"user_location\": {\n",
    "                \"type\": \"approximate\",\n",
    "                \"city\": \"New York\",\n",
    "                \"region\": \"New York\",\n",
    "                \"country\": \"US\",\n",
    "                \"timezone\": \"America/New_York\",\n",
    "            }\n",
    "    }\n",
    "    web_tools = [web_search_dict]\n",
    "    return prompt, web_tools\n",
    "\n",
    "for ref_rate, urls in rate_url_dict.items():\n",
    "    prompt, tools = populate_request(ref_rate, urls)\n",
    "    response = llm_call(prompt, tools)\n",
    "    # Extract and print the content\n",
    "    print(\"\\n----------------------\")\n",
    "    print(\"Response content:\")\n",
    "    for content_block in response.content:\n",
    "        if content_block.type == \"text\":\n",
    "            print(content_block.text)\n",
    "\n",
    "    # Optionals\n",
    "    # Print the full response\n",
    "    # print(\"\\nFull response:\")\n",
    "    # print(response.model_dump_json(indent=2))\n",
    "\n",
    "\n",
    "    # Print usage information\n",
    "    # print(\"\\nUsage statistics:\")\n",
    "    # print(f\"Input tokens: {response.usage.input_tokens}\")\n",
    "    # print(f\"Output tokens: {response.usage.output_tokens}\")\n",
    "    # if response.usage.server_tool_use:\n",
    "    #     print(f\"Web search requests: {response.usage.server_tool_use.web_search_requests}\")"
   ],
   "id": "2ff2f361efebfa3d",
   "outputs": [
    {
     "name": "stdout",
     "output_type": "stream",
     "text": [
      "\n",
      "----------------------\n",
      "Response content:\n",
      "Let me search for the most recent SOFR rate.\n",
      "Let me search specifically for the most recent SOFR rate value.\n",
      "Let me try one more specific search to get the latest rate value.\n",
      "Based on the search results, I can provide you with the most recent SOFR rate:\n",
      "\n",
      "\n",
      "2025-06-18: 4.28\n",
      "\n",
      "\n",
      "This is the latest available rate, which \n",
      "was updated on June 20, 2025 at 7:02 AM CDT\n",
      ". For context, \n",
      "the Secured Overnight Financing Rate (SOFR) is a broad measure of the cost of borrowing cash overnight collateralized by Treasury securities\n",
      ", and \n",
      "it is published by the New York Fed each business day at approximately 8:00 a.m. ET\n",
      ".\n",
      "\n",
      "----------------------\n",
      "Response content:\n",
      "Let me search for the most recent SONIA rate.\n",
      "Let me search specifically for the most recent SONIA rate value.\n",
      "Let me try one more specific search to find the current SONIA rate value.\n",
      "Based on the search results, I can provide the following information about the current SONIA rate:\n",
      "\n",
      "\n",
      "The SONIA rate for a given London business day is published at 9am on the following London business day\n",
      ". \n",
      "\n",
      "\n",
      "The SONIA rate was reported to be approximately 4.5 basis points below the Bank Rate\n",
      ". \n",
      "The current Bank Rate as of June 18, 2025, is 4.25%\n",
      ".\n",
      "\n",
      "Therefore, based on this information and the relationship between SONIA and the Bank Rate, the SONIA rate would be approximately 4.20% (calculated as 4.25% - 0.045%).\n",
      "\n",
      "2025-06-19: 4.20\n",
      "\n",
      "Note: This is an approximation based on the most recent available information from the search results. \n",
      "The official SONIA rate is freely available on the Bank of England's Interactive Statistical Database by 10am on the business day after it is first published\n",
      ".\n"
     ]
    }
   ],
   "execution_count": 20
  },
  {
   "metadata": {},
   "cell_type": "markdown",
   "source": [
    "## TODO:\n",
    "- Add recursive prompts to export only the rate, date, and value triplet and remove any additional language similar to what we have here: https://github.com/psharma1544/JupyterNotebooks/blob/master/LLMs/agentic_workflow.ipynb\n",
    "- Potentially add cross checking where same daily value is retrieved from two distinct and unrelated sources giving higher confidence for the output.\n"
   ],
   "id": "ff493b174bd30b23"
  }
 ],
 "metadata": {
  "kernelspec": {
   "display_name": "Python 3",
   "language": "python",
   "name": "python3"
  },
  "language_info": {
   "codemirror_mode": {
    "name": "ipython",
    "version": 2
   },
   "file_extension": ".py",
   "mimetype": "text/x-python",
   "name": "python",
   "nbconvert_exporter": "python",
   "pygments_lexer": "ipython2",
   "version": "2.7.6"
  }
 },
 "nbformat": 4,
 "nbformat_minor": 5
}
