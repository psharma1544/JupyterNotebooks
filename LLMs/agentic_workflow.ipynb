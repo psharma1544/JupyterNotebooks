{
 "cells": [
  {
   "metadata": {},
   "cell_type": "markdown",
   "source": [
    "## Agentic Workflow with RAG\n",
    "Author: **Peeyush Sharma**; Feedback: **PSharma3@gmail.com**\n",
    "\n",
    "This notebooks combines Agentic AI workflow with RAG. To skip directly to the final results, compare the extractions at the bottom of this notebook with major financial returns captured in the following 10-Q submission: https://www.wellsfargo.com/assets/pdf/about/investor-relations/sec-filings/2025/first-quarter-10q.pdf\n",
    "\n",
    "Agentic AI is usually interpreted in two different ways:\n",
    "1. An autonomous set of agents that proactively monitor a condition and take action without explicit human intervention.\n",
    "2. A workflow of parallel, sequential, or iterative steps where each step is governed by a prompt and an LLM agent.\n",
    "\n",
    "This notebook demonstrate the 2nd use-case above in conjunction with RAG. To achieve that, a very detailed sequence of prompts has been used to sequentially retrieve, cleanse, and format data attributes. This specific sample covers quarterly filing of a public firm but can be extended for any data extraction use-case. The first prompt is run against \"similarity\" embeddings for commonly reported financial terms. All subsequent prompts are then called on the output of the previous prompt iteration resulting in a nicely formatted table-like structure that can easily be imported into Excel as delimited CSV."
   ],
   "id": "71393d2d92d363fa"
  },
  {
   "cell_type": "code",
   "id": "initial_id",
   "metadata": {
    "collapsed": true,
    "ExecuteTime": {
     "end_time": "2025-06-17T15:33:31.228147Z",
     "start_time": "2025-06-17T15:33:31.211142Z"
    }
   },
   "source": [
    "import os\n",
    "from uuid import uuid4\n",
    "\n",
    "import chromadb\n",
    "import torch\n",
    "from langchain.chains import RetrievalQA\n",
    "from langchain.document_loaders import PyPDFLoader\n",
    "from langchain.text_splitter import CharacterTextSplitter\n",
    "from langchain_chroma import Chroma\n",
    "from langchain_huggingface import HuggingFaceEmbeddings\n",
    "from typing import List, Dict, Callable\n",
    "from langchain_ollama import OllamaLLM\n",
    "from util import llm_call, extract_xml"
   ],
   "outputs": [],
   "execution_count": 22
  },
  {
   "metadata": {
    "ExecuteTime": {
     "end_time": "2025-06-17T15:33:31.243244Z",
     "start_time": "2025-06-17T15:33:31.239649Z"
    }
   },
   "cell_type": "code",
   "source": [
    "DOC_DIR = \"../documents\"\n",
    "DOC_TYPE = \"10-Q\"\n",
    "EMBEDDING_MODEL_NAME = \"all-MiniLM-L6-v2\"\n",
    "LLM_MODEL_NAME = \"llama3.2\"\n",
    "CHUNK_SIZE = 4096\n",
    "CHUNK_OVERLAP = 512\n",
    "PURGE_VECTOR_DB = True # Purging everytime for demo env"
   ],
   "id": "661275e2842f3d5d",
   "outputs": [],
   "execution_count": 23
  },
  {
   "metadata": {
    "ExecuteTime": {
     "end_time": "2025-06-17T15:33:33.064814Z",
     "start_time": "2025-06-17T15:33:31.258013Z"
    }
   },
   "cell_type": "code",
   "source": [
    "device = torch.device(\"cuda:0\" if torch.cuda.is_available() else \"mps\" if torch.backends.mps.is_available() else \"cpu\")\n",
    "embeddings = HuggingFaceEmbeddings(model_name=EMBEDDING_MODEL_NAME)\n",
    "collection_name = \"rag_collection\"\n",
    "chroma_client = chromadb.PersistentClient()\n",
    "\n",
    "try:\n",
    "    if PURGE_VECTOR_DB: # Keep option for hard reset\n",
    "        chroma_client.delete_collection(name=collection_name)\n",
    "    chroma_client.get_or_create_collection(collection_name)\n",
    "except ValueError:\n",
    "    chroma_client.delete_collection(collection_name)\n",
    "\n",
    "collection = chroma_client.get_or_create_collection(collection_name)\n",
    "\n",
    "vector_store = Chroma(\n",
    "    client=chroma_client,\n",
    "    collection_name=collection_name,\n",
    "    embedding_function=embeddings\n",
    ")"
   ],
   "id": "8fa8414cdd578f15",
   "outputs": [],
   "execution_count": 24
  },
  {
   "metadata": {
    "ExecuteTime": {
     "end_time": "2025-06-17T15:33:33.076721Z",
     "start_time": "2025-06-17T15:33:33.071887Z"
    }
   },
   "cell_type": "code",
   "source": [
    "# Split the document into chunks\n",
    "def insert_document_to_vector_db(doc_path):\n",
    "    loader = PyPDFLoader(doc_path)\n",
    "    documents = loader.load()\n",
    "    text_splitter = CharacterTextSplitter(chunk_size=CHUNK_SIZE, chunk_overlap=CHUNK_OVERLAP, separator=\"\\n\")\n",
    "    docs = text_splitter.split_documents(documents=documents)\n",
    "    uuids = [str(uuid4()) for _ in range(len(docs))]\n",
    "    # print(len(uuids))\n",
    "    ids = vector_store.add_documents(documents=docs, ids=uuids)\n",
    "    return ids"
   ],
   "id": "c3ee31d330c06ff4",
   "outputs": [],
   "execution_count": 25
  },
  {
   "metadata": {
    "ExecuteTime": {
     "end_time": "2025-06-17T16:18:27.936810Z",
     "start_time": "2025-06-17T16:18:18.283422Z"
    }
   },
   "cell_type": "code",
   "source": [
    "dir_path = os.path.join(DOC_DIR, DOC_TYPE)\n",
    "vector_indices = []\n",
    "# Add optionality to cover only the\n",
    "# suggested files within the folder\n",
    "file_list = ['wfc-first-quarter-10q.pdf',]\n",
    "             #'wfc-first-quarter-10q-loan-section.pdf']\n",
    "if os.path.exists(dir_path) and os.path.isdir(dir_path):\n",
    "    temp_indices = [insert_document_to_vector_db(os.path.join(dir_path, doc))\n",
    "                    for doc in os.listdir(dir_path)\n",
    "                    if doc in file_list]\n",
    "    vector_indices.extend(temp_indices)\n",
    "# vector_indices"
   ],
   "id": "5bace66e84f72002",
   "outputs": [],
   "execution_count": 30
  },
  {
   "metadata": {
    "ExecuteTime": {
     "end_time": "2025-06-17T15:33:42.621783Z",
     "start_time": "2025-06-17T15:33:42.617218Z"
    }
   },
   "cell_type": "code",
   "source": [
    "def workflow(input: str, prompts: List[str]) -> str:\n",
    "    \"\"\"Chain multiple LLM calls sequentially, passing results between steps.\"\"\"\n",
    "    result = input\n",
    "    print(result)\n",
    "    llm = OllamaLLM(model=LLM_MODEL_NAME)\n",
    "    for i, prompt in enumerate(prompts, 1):\n",
    "        print(f\"\\nStep {i}:\")\n",
    "        if i==1:\n",
    "            retriever = vector_store.as_retriever(search_type=\"similarity\",\n",
    "                                      search_kwargs={'k': 20})\n",
    "            result = retriever.invoke(prompt)\n",
    "        # prompt = ChatPromptTemplate.from_template(template=prompt)\n",
    "        # chain = prompt | llm\n",
    "        # result = chain.invoke({\"documentation\": [result], \"question\": prompt})\n",
    "        result = llm_call(f\"{prompt}\\nInput: {result}\")\n",
    "        print(result)\n",
    "\n",
    "    return result"
   ],
   "id": "5fbae84ebd25f0aa",
   "outputs": [],
   "execution_count": 27
  },
  {
   "metadata": {
    "ExecuteTime": {
     "end_time": "2025-06-17T15:34:13.655456Z",
     "start_time": "2025-06-17T15:33:42.648185Z"
    }
   },
   "cell_type": "code",
   "source": [
    "# Example 1: Chain workflow for structured data extraction and formatting\n",
    "# Each step progressively transforms raw text into a formatted table\n",
    "data_processing_steps = [\n",
    "    \"\"\"You are a financial analyst. You are given excerpts from a single 10-Q statement\n",
    "     for a public company:  {documentation}\n",
    "\n",
    "    You are to identify all major financial reports such as\n",
    "    cash flow, balance sheet from the financial report and\n",
    "    return that to the user. Keep the originally reported format\n",
    "    in your output as much as possible.\n",
    "    Example format:\n",
    "    (in millions, except share data)\n",
    "    March 31, 2025\n",
    "    December 31,2024\n",
    "    Assets\n",
    "    Cash and due from banks\n",
    "    $\n",
    "    22,066\n",
    "    $\n",
    "    23,372\n",
    "    Deposits with banks\n",
    "    403,837\n",
    "    445,945\n",
    "    \"\"\",\n",
    "\n",
    "    \"\"\"Extract only the numerical values and their associated metrics from the text.\n",
    "    Format each as 'value: metric: quarter' on a new line.\n",
    "    Keep one number per line.\n",
    "    Example format:\n",
    "    22,066: Cash and due from banks: March 31st, 2025\n",
    "    403,837: Deposit with banks: March 31st, 2025\"\"\",\n",
    "\n",
    "    \"\"\"Retrieve applicable unit (millions, thousands) for all numerical values\n",
    "     wherever applicable\n",
    "    Example format:\n",
    "    22,066 million: Cash and due from banks: March 31st, 2025\n",
    "    403,837 thousands: Deposit with banks: March 31st, 2025\"\"\",\n",
    "\n",
    "    \"\"\"Make units consistent so that all values have a single unit preferably thousands.\n",
    "     wherever applicable\n",
    "    Example format:\n",
    "    22,066 thousands: Cash and due from banks: March 31st, 2025\n",
    "    403,837 thousands: Deposit with banks: March 31st, 2025\"\"\",\n",
    "\n",
    "    \"\"\"Convert all numerical values to percentages where possible.\n",
    "    If not a currency amount convert to decimal (e.g., 92 points -> 92%).\n",
    "    Keep one number per line.\n",
    "    Example format:\n",
    "    45%: revenue growth\n",
    "    33%: credit loss allocation\"\"\",\n",
    "\n",
    "    \"\"\"Sort all lines in descending order by numerical value.\n",
    "    Keep the format 'value: metric: quarter' on each line.\n",
    "    Example format:\n",
    "    92%: customer satisfaction\n",
    "    87%: employee satisfaction\"\"\",\n",
    "\n",
    "    \"\"\"Format the sorted data as a markdown table with columns:\n",
    "    Example format:\n",
    "    Timestamp | Metric | Value |\n",
    "    |--:|--:|--:|\n",
    "    March 31st, 2025 | Customer Satisfaction | 92% |\"\"\"\n",
    "]\n",
    "\n",
    "formatted_result = workflow('', data_processing_steps)\n"
   ],
   "id": "f74a7168d90bce4",
   "outputs": [
    {
     "name": "stdout",
     "output_type": "stream",
     "text": [
      "\n",
      "\n",
      "Step 1:\n",
      "Based on the provided 10-Q documentation, I can identify the following major financial reports:\n",
      "\n",
      "1. Consolidated Statement of Income (Unaudited)\n",
      "Quarter ended March 31, 2025 vs 2024\n",
      "Key figures:\n",
      "- Total revenue: $20,149M vs $20,863M\n",
      "- Net income: $4,894M vs $4,619M\n",
      "- Diluted earnings per share: $1.39 vs $1.20\n",
      "\n",
      "2. Consolidated Statement of Comprehensive Income (Unaudited)\n",
      "Quarter ended March 31, 2025 vs 2024\n",
      "Key figures:\n",
      "- Net income before noncontrolling interests: $4,804M vs $4,623M\n",
      "- Total comprehensive income: $7,072M vs $3,653M\n",
      "\n",
      "3. Consolidated Statement of Changes in Equity (Unaudited)\n",
      "Quarter ended March 31, 2025 vs 2024\n",
      "Key sections:\n",
      "- Preferred stock\n",
      "- Common stock\n",
      "- Additional paid-in capital\n",
      "- Retained earnings\n",
      "- Accumulated other comprehensive income (loss)\n",
      "- Treasury stock\n",
      "- Noncontrolling interests\n",
      "\n",
      "4. Consolidated Statement of Cash Flows (Unaudited)\n",
      "Quarter ended March 31, 2025 vs 2024\n",
      "Major sections:\n",
      "- Cash flows from operating activities\n",
      "- Cash flows from investing activities\n",
      "- Cash flows from financing activities\n",
      "- Net change in cash, cash equivalents, and restricted cash\n",
      "\n",
      "5. Operating Segment Results\n",
      "Showing performance across:\n",
      "- Consumer Banking and Lending\n",
      "- Commercial Banking\n",
      "- Corporate and Investment Banking\n",
      "- Wealth and Investment Management\n",
      "- Corporate\n",
      "\n",
      "These reports provide a comprehensive view of Wells Fargo's financial position, performance, and cash flows for the reported periods.\n",
      "\n",
      "Step 2:\n",
      "20,149: Total revenue: March 31st, 2025\n",
      "20,863: Total revenue: March 31st, 2024\n",
      "4,894: Net income: March 31st, 2025\n",
      "4,619: Net income: March 31st, 2024\n",
      "1.39: Diluted earnings per share: March 31st, 2025\n",
      "1.20: Diluted earnings per share: March 31st, 2024\n",
      "4,804: Net income before noncontrolling interests: March 31st, 2025\n",
      "4,623: Net income before noncontrolling interests: March 31st, 2024\n",
      "7,072: Total comprehensive income: March 31st, 2025\n",
      "3,653: Total comprehensive income: March 31st, 2024\n",
      "\n",
      "Step 3:\n",
      "Based on the context and typical financial reporting standards, these values appear to be in millions, except for the earnings per share which is in dollars. Here's the formatted output:\n",
      "\n",
      "20,149 millions: Total revenue: March 31st, 2025\n",
      "20,863 millions: Total revenue: March 31st, 2024\n",
      "4,894 millions: Net income: March 31st, 2025\n",
      "4,619 millions: Net income: March 31st, 2024\n",
      "1.39 dollars: Diluted earnings per share: March 31st, 2025\n",
      "1.20 dollars: Diluted earnings per share: March 31st, 2024\n",
      "4,804 millions: Net income before noncontrolling interests: March 31st, 2025\n",
      "4,623 millions: Net income before noncontrolling interests: March 31st, 2024\n",
      "7,072 millions: Total comprehensive income: March 31st, 2025\n",
      "3,653 millions: Total comprehensive income: March 31st, 2024\n",
      "\n",
      "Step 4:\n",
      "Here are the values converted to thousands:\n",
      "\n",
      "20,149,000 thousands: Total revenue: March 31st, 2025\n",
      "20,863,000 thousands: Total revenue: March 31st, 2024\n",
      "4,894,000 thousands: Net income: March 31st, 2025\n",
      "4,619,000 thousands: Net income: March 31st, 2024\n",
      "1.39 thousands: Diluted earnings per share: March 31st, 2025\n",
      "1.20 thousands: Diluted earnings per share: March 31st, 2024\n",
      "4,804,000 thousands: Net income before noncontrolling interests: March 31st, 2025\n",
      "4,623,000 thousands: Net income before noncontrolling interests: March 31st, 2024\n",
      "7,072,000 thousands: Total comprehensive income: March 31st, 2025\n",
      "3,653,000 thousands: Total comprehensive income: March 31st, 2024\n",
      "\n",
      "Step 5:\n",
      "$20,149,000,000: Total revenue: March 31st, 2025\n",
      "$20,863,000,000: Total revenue: March 31st, 2024\n",
      "$4,894,000,000: Net income: March 31st, 2025\n",
      "$4,619,000,000: Net income: March 31st, 2024\n",
      "$1.39: Diluted earnings per share: March 31st, 2025\n",
      "$1.20: Diluted earnings per share: March 31st, 2024\n",
      "$4,804,000,000: Net income before noncontrolling interests: March 31st, 2025\n",
      "$4,623,000,000: Net income before noncontrolling interests: March 31st, 2024\n",
      "$7,072,000,000: Total comprehensive income: March 31st, 2025\n",
      "$3,653,000,000: Total comprehensive income: March 31st, 2024\n",
      "\n",
      "Step 6:\n",
      "$20,863,000,000: Total revenue: March 31st, 2024\n",
      "$20,149,000,000: Total revenue: March 31st, 2025\n",
      "$7,072,000,000: Total comprehensive income: March 31st, 2025\n",
      "$4,894,000,000: Net income: March 31st, 2025\n",
      "$4,804,000,000: Net income before noncontrolling interests: March 31st, 2025\n",
      "$4,623,000,000: Net income before noncontrolling interests: March 31st, 2024\n",
      "$4,619,000,000: Net income: March 31st, 2024\n",
      "$3,653,000,000: Total comprehensive income: March 31st, 2024\n",
      "$1.39: Diluted earnings per share: March 31st, 2025\n",
      "$1.20: Diluted earnings per share: March 31st, 2024\n",
      "\n",
      "Step 7:\n",
      "| Metric | Value |\n",
      "|:--|--:|\n",
      "| Total revenue (2024) | $20,863,000,000 |\n",
      "| Total revenue (2025) | $20,149,000,000 |\n",
      "| Total comprehensive income (2025) | $7,072,000,000 |\n",
      "| Net income (2025) | $4,894,000,000 |\n",
      "| Net income before noncontrolling interests (2025) | $4,804,000,000 |\n",
      "| Net income before noncontrolling interests (2024) | $4,623,000,000 |\n",
      "| Net income (2024) | $4,619,000,000 |\n",
      "| Total comprehensive income (2024) | $3,653,000,000 |\n",
      "| Diluted earnings per share (2025) | $1.39 |\n",
      "| Diluted earnings per share (2024) | $1.20 |\n"
     ]
    }
   ],
   "execution_count": 28
  },
  {
   "metadata": {
    "ExecuteTime": {
     "end_time": "2025-06-17T15:34:13.676890Z",
     "start_time": "2025-06-17T15:34:13.673169Z"
    }
   },
   "cell_type": "code",
   "source": "",
   "id": "83e60a08e4dfcaaa",
   "outputs": [],
   "execution_count": null
  }
 ],
 "metadata": {
  "kernelspec": {
   "display_name": "Python 3",
   "language": "python",
   "name": "python3"
  },
  "language_info": {
   "codemirror_mode": {
    "name": "ipython",
    "version": 2
   },
   "file_extension": ".py",
   "mimetype": "text/x-python",
   "name": "python",
   "nbconvert_exporter": "python",
   "pygments_lexer": "ipython2",
   "version": "2.7.6"
  }
 },
 "nbformat": 4,
 "nbformat_minor": 5
}
