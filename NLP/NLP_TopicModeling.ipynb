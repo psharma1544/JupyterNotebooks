{
 "cells": [
  {
   "cell_type": "markdown",
   "metadata": {
    "colab_type": "text",
    "id": "50EZZ_FZawvG"
   },
   "source": [
    "# NLP Topic Modeling\n"
   ]
  },
  {
   "cell_type": "markdown",
   "metadata": {
    "colab_type": "text",
    "id": "N85G1Nw0a_To"
   },
   "source": [
    "This notebook focuses on topic modeling in Natural Language Processing. As one can infer from the verbiage, Topic Modeling deals with determining the major themes of a document. Based on the document, it generates a group of words for each topic. The API used here is GenSim and the method is primarily Latent Dirichlet Algorithm. \n",
    "\n",
    "This notebook is divided among several sections. The first half is about data retrieval, cleanup, and organization, and the second half gets into semantics of topic modeling. The majority of code in the second half has been retrieved from the following link that does a great job of explaining core gensim concepts: \n",
    "\n",
    "https://www.machinelearningplus.com/nlp/topic-modeling-gensim-python/\n",
    "\n",
    "The first half is my own code which I often use to demonstrate NLP functionalities. "
   ]
  },
  {
   "cell_type": "code",
   "execution_count": 0,
   "metadata": {
    "colab": {},
    "colab_type": "code",
    "id": "fZFYL8T2iO6Z"
   },
   "outputs": [],
   "source": [
    "import nltk\n",
    "import pickle\n",
    "\n",
    "#!pip install pyLDAvis\n",
    "import pyLDAvis\n",
    "import pyLDAvis.gensim  # don't skip this\n",
    "\n",
    "import gensim\n",
    "from gensim.models.word2vec import Word2Vec\n",
    "from gensim.models.phrases import Phraser, Phrases\n",
    "from gensim import corpora\n",
    "from gensim.utils import simple_preprocess\n",
    "from gensim.models import CoherenceModel\n",
    "from pprint import pprint\n",
    "\n",
    "import pandas as pd\n",
    "import requests\n",
    "import string\n",
    "\n",
    "from nltk.tokenize import sent_tokenize, word_tokenize\n",
    "from nltk.corpus import stopwords\n",
    "from nltk.tag import StanfordNERTagger\n",
    "from nltk import word_tokenize, sent_tokenize\n",
    "from sklearn.manifold import TSNE\n",
    "from bokeh.io import output_notebook, output_file\n",
    "from bokeh.plotting import show, figure\n",
    "from bs4 import BeautifulSoup\n",
    "\n",
    "# spacy for lemmatization\n",
    "import spacy\n",
    "\n",
    "# Plotting tools\n",
    "#import pyLDAvis\n",
    "#import pyLDAvis.gensim  # don't skip this\n",
    "import matplotlib.pyplot as plt\n",
    "%matplotlib inline\n",
    "\n",
    "# Enable logging for gensim - optional\n",
    "import logging\n",
    "logging.basicConfig(format='%(asctime)s : %(levelname)s : %(message)s', level=logging.ERROR)\n",
    "\n",
    "import warnings\n",
    "warnings.filterwarnings(\"ignore\",category=DeprecationWarning)\n",
    "\n",
    "%matplotlib inline"
   ]
  },
  {
   "cell_type": "code",
   "execution_count": 40,
   "metadata": {
    "colab": {
     "base_uri": "https://localhost:8080/",
     "height": 100
    },
    "colab_type": "code",
    "id": "H6tjUKjBBdh4",
    "outputId": "22fb5106-63ed-4e10-8295-a7107dc5daa4"
   },
   "outputs": [
    {
     "name": "stdout",
     "output_type": "stream",
     "text": [
      "[nltk_data] Downloading package stopwords to /root/nltk_data...\n",
      "[nltk_data]   Package stopwords is already up-to-date!\n",
      "[nltk_data] Downloading package punkt to /root/nltk_data...\n",
      "[nltk_data]   Package punkt is already up-to-date!\n"
     ]
    },
    {
     "data": {
      "text/plain": [
       "True"
      ]
     },
     "execution_count": 40,
     "metadata": {
      "tags": []
     },
     "output_type": "execute_result"
    }
   ],
   "source": [
    "nltk.download('stopwords')\n",
    "nltk.download('punkt')"
   ]
  },
  {
   "cell_type": "markdown",
   "metadata": {
    "colab_type": "text",
    "id": "iF-nQxmWDDRG"
   },
   "source": [
    "## Retrieve Dataset"
   ]
  },
  {
   "cell_type": "code",
   "execution_count": 0,
   "metadata": {
    "colab": {},
    "colab_type": "code",
    "id": "qJfjBjATDDRN"
   },
   "outputs": [],
   "source": [
    "# For text dataset, I often use SEC EDGAR filings of US based public companies. For demonstration purpose, I often keep the list limited to around 5 such dodcuments. \n",
    "urls = []\n",
    "urls.append(\"https://www.sec.gov/Archives/edgar/data/886982/000119312518056383/d480167d10k.htm\")\n",
    "\"\"\"\n",
    "urls.append(\"https://www.sec.gov/Archives/edgar/data/78003/000007800318000091/pfe-09302018x10q.htm\") # PFE : 10Q : 3Q2018\n",
    "\n",
    "urls.append(\"https://www.sec.gov/Archives/edgar/data/886982/000119312517056804/d308759d10k.htm\")\n",
    "urls.append(\"https://www.sec.gov/Archives/edgar/data/895421/000119312517059212/d328282d10k.htm\")\n",
    "urls.append(\"https://www.sec.gov/Archives/edgar/data/895421/000119312518060831/d500533d10k.htm\")\n",
    "tgtUrl = 'https://www.sec.gov/Archives/edgar/data/886982/000119312519050198/d669877d10k.htm'\n",
    "\"\"\"\n",
    "# Retrieve the HTML pages for URLs\n",
    "pages = ''\n",
    "for url in urls:\n",
    "  pages += requests.get(url).text"
   ]
  },
  {
   "cell_type": "code",
   "execution_count": 0,
   "metadata": {
    "colab": {},
    "colab_type": "code",
    "id": "_smeF9gDDDRc"
   },
   "outputs": [],
   "source": [
    "# Read the HTML using BeautifulSoup. Fallback 'html.parser' in case lxml has challages\",\n",
    "soup = BeautifulSoup(pages, \"lxml\")  "
   ]
  },
  {
   "cell_type": "code",
   "execution_count": 0,
   "metadata": {
    "colab": {},
    "colab_type": "code",
    "id": "yGhxWjaTDDRk"
   },
   "outputs": [],
   "source": [
    "# Find all 'div' and 'p' tags as these are the ones that contain data in our documents. Maintain the order of text.\n",
    "tagTypes = ['div', 'p']\n",
    "tags = soup.find_all(tagTypes)"
   ]
  },
  {
   "cell_type": "code",
   "execution_count": 0,
   "metadata": {
    "colab": {},
    "colab_type": "code",
    "id": "WZu_dfm1DDRt"
   },
   "outputs": [],
   "source": [
    "# Retrieve the plain-text from HTML tags.\n",
    "origTxt = ''\n",
    "for t in tags:\n",
    "    origTxt += t.text\n"
   ]
  },
  {
   "cell_type": "markdown",
   "metadata": {
    "colab_type": "text",
    "id": "hsW3unCxveyZ"
   },
   "source": [
    "## Data Cleanup"
   ]
  },
  {
   "cell_type": "markdown",
   "metadata": {
    "colab_type": "text",
    "id": "VogEYsHXoTmx"
   },
   "source": [
    "Now we have the raw text data. We need to clean it up to remove stop words, punctuations, and other common trivial patterns. "
   ]
  },
  {
   "cell_type": "markdown",
   "metadata": {
    "colab_type": "text",
    "id": "XUrqb8ZusWKy"
   },
   "source": [
    "This text has several \"\\xa0\" characters which need to be replaced. Start data clean up with these characters. Refer to:\n",
    "\n",
    "https://stackoverflow.com/questions/10993612/python-removing-xa0-from-string"
   ]
  },
  {
   "cell_type": "code",
   "execution_count": 0,
   "metadata": {
    "colab": {},
    "colab_type": "code",
    "id": "aKTunMPplvtU"
   },
   "outputs": [],
   "source": [
    "intermediateTxt = origTxt.replace(u'\\xa0', u' ')"
   ]
  },
  {
   "cell_type": "markdown",
   "metadata": {
    "colab_type": "text",
    "id": "UABwZLF-u029"
   },
   "source": [
    "Now, clean stop words."
   ]
  },
  {
   "cell_type": "code",
   "execution_count": 0,
   "metadata": {
    "colab": {},
    "colab_type": "code",
    "id": "U_8OVlWkwtSV"
   },
   "outputs": [],
   "source": [
    "cleanedTxt = ''\n",
    "stop_words = stopwords.words('english')\n",
    "stop_words.extend(['from', 'subject', 're', 'edu', 'use'])\n",
    "stopWords = set(stopwords.words('english') + list(string.punctuation))\n"
   ]
  },
  {
   "cell_type": "code",
   "execution_count": 95,
   "metadata": {
    "colab": {
     "base_uri": "https://localhost:8080/",
     "height": 33
    },
    "colab_type": "code",
    "id": "-Y-_CL0Fx7zn",
    "outputId": "89beba58-362d-44bc-eceb-1be00081d6bf"
   },
   "outputs": [
    {
     "data": {
      "text/plain": [
       "457682"
      ]
     },
     "execution_count": 95,
     "metadata": {
      "tags": []
     },
     "output_type": "execute_result"
    }
   ],
   "source": [
    "intermediateTokens = nltk.word_tokenize(intermediateTxt)\n",
    "len(intermediateTokens)"
   ]
  },
  {
   "cell_type": "code",
   "execution_count": 96,
   "metadata": {
    "colab": {
     "base_uri": "https://localhost:8080/",
     "height": 33
    },
    "colab_type": "code",
    "id": "4MMYvxCCyIiH",
    "outputId": "531c342d-4a92-4346-d22b-8e7d7aa6ae0a"
   },
   "outputs": [
    {
     "data": {
      "text/plain": [
       "547674"
      ]
     },
     "execution_count": 96,
     "metadata": {
      "tags": []
     },
     "output_type": "execute_result"
    }
   ],
   "source": [
    "# Remove stop words.\n",
    "cleanTokens = []\n",
    "for w in intermediateTokens:\n",
    "    if w not in stopWords:\n",
    "        cleanTokens.append(w.lower())\n",
    "        cleanTokens.append(' ') # Need to append a single space for cases where words are losing space in between\n",
    "\n",
    "len(cleanTokens)"
   ]
  },
  {
   "cell_type": "code",
   "execution_count": 0,
   "metadata": {
    "colab": {},
    "colab_type": "code",
    "id": "S4_mRSGNyZ0E"
   },
   "outputs": [],
   "source": [
    "cleanedTxt = ''\n",
    "cleanedTxtLst = []\n",
    "for token in cleanTokens:\n",
    "  if token != ' ':\n",
    "    cleanedTxtLst.append(token)\n",
    "    cleanedTxt += (token)\n",
    "cleanedTxt = cleanedTxt.replace('  ', ' ')  \n",
    "# cleanedTxtLst now contains individual words or tokens"
   ]
  },
  {
   "cell_type": "markdown",
   "metadata": {
    "colab_type": "text",
    "id": "HeBZCo5GuYHI"
   },
   "source": [
    "It is important to first tokenize and then match individual word against stop words. If we simply search for a stop word in the entire string and remove it, we will lose some important information. Consider example of a word \"I.R.S\". If the logic is to remove stop words and punctuation from entire string in one go, then the dots within this word will get removed. On the other hand, if we tokenize first then the comparison will be with entire \"I.R.S\" word as a token and therefore the dots inside will not get removed. This is one simple example but I have seen better results when stop words removal is done after tokenization. If you need a single string, then simply concatenate all tokens in a list."
   ]
  },
  {
   "cell_type": "code",
   "execution_count": 0,
   "metadata": {
    "colab": {},
    "colab_type": "code",
    "id": "O6gMZFMDyxdH"
   },
   "outputs": [],
   "source": [
    "# Optional: remove numbers and any words containing numbers from our cleaned tokens:\n",
    "# cleanedTxt = re.sub('\\\\w*\\\\d\\\\w*', '', cleanedTxt)"
   ]
  },
  {
   "cell_type": "markdown",
   "metadata": {
    "colab_type": "text",
    "id": "wWOFZDlZnblC"
   },
   "source": [
    "## Clean and Arrange Original Text into a List of Sentences"
   ]
  },
  {
   "cell_type": "markdown",
   "metadata": {
    "colab_type": "text",
    "id": "PlVMwt9mdu92"
   },
   "source": [
    "Thus far, we have tokenized input individual tokens  or words. However, it is also important to tokenize input by sentences. Toeknization by sentence can help highlight phrases, sentiments etc... which can not be generated on invidual words efficiently. "
   ]
  },
  {
   "cell_type": "code",
   "execution_count": 1,
   "metadata": {
    "colab": {
     "base_uri": "https://localhost:8080/",
     "height": 53
    },
    "colab_type": "code",
    "id": "Nz4zw-jgxFvt",
    "outputId": "d26e0c25-f000-41ad-eb34-462e785c968c"
   },
   "outputs": [],
   "source": [
    "# Start with original text scraped from web resources. Check that it wasn't inadvertently modified.\n",
    "# origTxt"
   ]
  },
  {
   "cell_type": "code",
   "execution_count": 0,
   "metadata": {
    "colab": {},
    "colab_type": "code",
    "id": "iSfc1blgxF6e"
   },
   "outputs": [],
   "source": [
    "intermediateTxt = origTxt.replace(u'\\xa0', u' ')"
   ]
  },
  {
   "cell_type": "code",
   "execution_count": 101,
   "metadata": {
    "colab": {
     "base_uri": "https://localhost:8080/",
     "height": 354
    },
    "colab_type": "code",
    "id": "lMwLxndjydRb",
    "outputId": "d3462ac6-2128-4316-e93c-a16b21b5f1d8"
   },
   "outputs": [
    {
     "data": {
      "text/plain": [
       "['Employer\\nIdentification No.)',\n",
       " '200 West Street\\n \\n10282\\n\\n New York, N.Y.\\n(Address of principal executive offices)\\n \\n(Zip Code)\\n (212) 902-1000 \\n(Registrant\\x92s telephone number, including area code) \\nSecurities registered pursuant to Section 12(b) of the Act:   \\n\\n\\n\\n\\n\\n\\nTitle of each class:\\n \\nName of each exchange on which registered:\\n\\n Common stock, par value $.01 per share\\n \\nNew York Stock Exchange\\n\\n Depositary Shares, Each Representing 1/1,000th Interest in a Share of Floating Rate\\nNon-Cumulative Preferred Stock, Series A\\n \\nNew York Stock Exchange\\n\\n Depositary Shares, Each Representing 1/1,000th Interest in a Share of 6.20%\\nNon-Cumulative Preferred Stock, Series B\\n \\nNew York Stock Exchange\\n\\n Depositary Shares, Each Representing 1/1,000th Interest in a Share of Floating Rate\\nNon-Cumulative Preferred Stock, Series C\\n \\nNew York Stock Exchange\\n\\n Depositary Shares, Each Representing 1/1,000th Interest in a Share of Floating Rate\\nNon-Cumulative Preferred Stock, Series D\\n \\nNew York Stock Exchange\\n\\n Depositary Shares, Each Representing 1/1,000th Interest in a Share of 5.50%\\nFixed-to-Floating Rate Non-Cumulative Preferred Stock, Series J\\n \\nNew York Stock Exchange\\n\\n Depositary Shares, Each Representing 1/1,000th Interest in a Share of 6.375%\\nFixed-to-Floating Rate Non-Cumulative Preferred Stock, Series K\\n \\nNew York Stock Exchange\\n\\n Depository Shares, Each Representing 1/1,000th Interest in a Share of 6.30%\\nNon-Cumulative Preferred Stock, Series N\\n \\nNew York Stock Exchange\\n\\n See Exhibit 99.2 for debt and trust securities registered under Section 12(b) of the\\nAct\\n \\n\\n Securities registered pursuant to Section 12(g) of the Act: None \\n   \\nIndicate by check mark if the registrant is a well-known seasoned issuer, as defined in Rule 405 of the Securities Act.',\n",
       " '☒ Yes ☐ No  Indicate by check mark if the\\nregistrant is not required to file reports pursuant to Section 13 or 15(d) of the Act.',\n",
       " '☐ Yes ☒ No \\nIndicate by check mark whether the registrant (1) has filed all reports required to be filed by Section 13 or 15(d) of the Securities Exchange\\nAct of 1934 during the preceding 12 months (or for such shorter period that the registrant was required to file such reports), and (2) has been subject to such filing requirements for the past 90 days.',\n",
       " '☒ Yes ☐ No  Indicate by check mark\\nwhether the registrant has submitted electronically and posted on its corporate Web site, if any, every Interactive Data File required to be submitted and posted pursuant to Rule 405 of Regulation S-T\\nduring the preceding 12 months (or for such shorter period that the registrant was required to submit and post such\\nfiles).',\n",
       " '☒ Yes ☐ No \\nIndicate by check mark if disclosure of delinquent filers pursuant to Item 405 of Regulation S-K is not contained\\nherein, and will not be contained, to the best of registrant\\x92s knowledge, in definitive proxy or information statements incorporated by reference in Part III of the Annual Report on Form 10-K or\\nany amendment to the Annual Report on Form 10-K. ☒ \\nIndicate by check mark whether the registrant is a large accelerated filer, an accelerated filer, a\\nnon-accelerated filer, a smaller reporting company, or an emerging growth company.',\n",
       " 'See the definitions of \\x93large accelerated filer,\\x94 \\x93accelerated filer,\\x94 \\x93smaller reporting\\ncompany,\\x94 and \\x93emerging growth company\\x94 in Rule 12b-2 of the Exchange Act.',\n",
       " 'Large accelerated filer ☒\\n \\nAccelerated filer ☐\\n \\nNon-accelerated filer (Do not check if a smaller reporting company) \\n☐\\n\\n\\n\\n\\n\\n\\n\\n\\n\\n\\nSmaller reporting company ☐\\n \\nEmerging growth company ☐\\n If an emerging growth company, indicate by check mark if the registrant has elected not to use the extended transition\\nperiod for complying with any new or revised financial accounting standards provided pursuant to Section 13(a) of the Exchange Act.',\n",
       " '☐ \\nIndicate by check mark whether the registrant is a shell company (as defined in Rule 12b-2 of the Exchange\\nAct).',\n",
       " '☐ Yes ☒ No  As of\\nJune 30, 2017, the aggregate market value of the common stock of the registrant held by non-affiliates of the registrant was approximately $84.9 billion.',\n",
       " 'As of February 9, 2018, there were 379,887,039 shares of the registrant\\x92s common stock outstanding.',\n",
       " 'Documents incorporated by reference: Portions of The Goldman Sachs Group, Inc.\\x92s Proxy Statement for its 2018 Annual Meeting of Shareholders\\nare incorporated by reference in the Annual Report on Form 10-K in response to Part III, Items 10, 11, 12, 13 and 14.',\n",
       " 'UNITED STATES SECURITIES AND EXCHANGE COMMISSION Washington, D.C. 20549   Form 10-K ANNUAL REPORT PURSUANT TO SECTION 13 OR 15(d) OF THE SECURITIES EXCHANGE ACT OF 1934    For the fiscal year ended December 31, 2017The Goldman Sachs Group, Inc. (Exact name of registrant as specified in its charter)  (State or other jurisdiction ofincorporation or organization)(I.R.S.',\n",
       " 'EmployerIdentification No.',\n",
       " ')New York, N.Y.(Address of principal executive offices)(212) 902-1000 (Registrant\\x92s telephone number, including area code) Securities registered pursuant to Section 12(b) of the Act:  Common stock, par value $.01 per shareDepositary Shares, Each Representing 1/1,000th Interest in a Share of Floating RateNon-Cumulative Preferred Stock, Series ADepositary Shares, Each Representing 1/1,000th Interest in a Share of 6.20%Non-Cumulative Preferred Stock, Series BDepositary Shares, Each Representing 1/1,000th Interest in a Share of Floating RateNon-Cumulative Preferred Stock, Series CDepositary Shares, Each Representing 1/1,000th Interest in a Share of Floating RateNon-Cumulative Preferred Stock, Series DDepositary Shares, Each Representing 1/1,000th Interest in a Share of 5.50%Fixed-to-Floating Rate Non-Cumulative Preferred Stock, Series JDepositary Shares, Each Representing 1/1,000th Interest in a Share of 6.375%Fixed-to-Floating Rate Non-Cumulative Preferred Stock, Series KDepository Shares, Each Representing 1/1,000th Interest in a Share of 6.30%Non-Cumulative Preferred Stock, Series NSee Exhibit 99.2 for debt and trust securities registered under Section 12(b) of the\\nActSecurities registered pursuant to Section 12(g) of the Act: None   Indicate by check mark if the registrant is a well-known seasoned issuer, as defined in Rule 405 of the Securities Act.',\n",
       " '☒ Yes ☐ No Indicate by check mark if the\\nregistrant is not required to file reports pursuant to Section 13 or 15(d) of the Act.',\n",
       " '☐ Yes ☒ No Indicate by check mark whether the registrant (1) has filed all reports required to be filed by Section 13 or 15(d) of the Securities Exchange\\nAct of 1934 during the preceding 12 months (or for such shorter period that the registrant was required to file such reports), and (2) has been subject to such filing requirements for the past 90 days.',\n",
       " '☒ Yes ☐ No Indicate by check mark\\nwhether the registrant has submitted electronically and posted on its corporate Web site, if any, every Interactive Data File required to be submitted and posted pursuant to Rule 405 of Regulation S-T\\nduring the preceding 12 months (or for such shorter period that the registrant was required to submit and post such\\nfiles).',\n",
       " '☒ Yes ☐ No Indicate by check mark if disclosure of delinquent filers pursuant to Item 405 of Regulation S-K is not contained\\nherein, and will not be contained, to the best of registrant\\x92s knowledge, in definitive proxy or information statements incorporated by reference in Part III of the Annual Report on Form 10-K or\\nany amendment to the Annual Report on Form 10-K. ☒ Indicate by check mark whether the registrant is a large accelerated filer, an accelerated filer, a\\nnon-accelerated filer, a smaller reporting company, or an emerging growth company.']"
      ]
     },
     "execution_count": 101,
     "metadata": {
      "tags": []
     },
     "output_type": "execute_result"
    }
   ],
   "source": [
    "# Tokenize by sentence. Notce that the stop words and punctuations have not been removed yet in this cell\n",
    "from nltk.tokenize import PunktSentenceTokenizer\n",
    "sents_tokenized = sent_tokenize(intermediateTxt)\n",
    "sents_tokenized[1:20]"
   ]
  },
  {
   "cell_type": "markdown",
   "metadata": {
    "colab_type": "text",
    "id": "qm322rT44MBh"
   },
   "source": [
    "So sentences are recognized. We still need to do some data cleaning here as well. For that, we will create tokens per sentence, clean punctuations at that point, and then create sentences again, and finally will push them into a list of sentences. "
   ]
  },
  {
   "cell_type": "code",
   "execution_count": 102,
   "metadata": {
    "colab": {
     "base_uri": "https://localhost:8080/",
     "height": 354
    },
    "colab_type": "code",
    "id": "PHMRYQbRy69K",
    "outputId": "38240a31-2ed7-4cc2-e669-da40170fa3fd"
   },
   "outputs": [
    {
     "data": {
      "text/plain": [
       "['Employer Identification No',\n",
       " '200 West Street 10282 New York N.Y. Address of principal executive offices Zip Code 212 902-1000 Registrant\\x92s telephone number including area code Securities registered pursuant to Section 12 b of the Act Title of each class Name of each exchange on which registered Common stock par value .01 per share New York Stock Exchange Depositary Shares Each Representing 1/1,000th Interest in a Share of Floating Rate Non-Cumulative Preferred Stock Series A New York Stock Exchange Depositary Shares Each Representing 1/1,000th Interest in a Share of 6.20 Non-Cumulative Preferred Stock Series B New York Stock Exchange Depositary Shares Each Representing 1/1,000th Interest in a Share of Floating Rate Non-Cumulative Preferred Stock Series C New York Stock Exchange Depositary Shares Each Representing 1/1,000th Interest in a Share of Floating Rate Non-Cumulative Preferred Stock Series D New York Stock Exchange Depositary Shares Each Representing 1/1,000th Interest in a Share of 5.50 Fixed-to-Floating Rate Non-Cumulative Preferred Stock Series J New York Stock Exchange Depositary Shares Each Representing 1/1,000th Interest in a Share of 6.375 Fixed-to-Floating Rate Non-Cumulative Preferred Stock Series K New York Stock Exchange Depository Shares Each Representing 1/1,000th Interest in a Share of 6.30 Non-Cumulative Preferred Stock Series N New York Stock Exchange See Exhibit 99.2 for debt and trust securities registered under Section 12 b of the Act Securities registered pursuant to Section 12 g of the Act None Indicate by check mark if the registrant is a well-known seasoned issuer as defined in Rule 405 of the Securities Act',\n",
       " '☒ Yes ☐ No Indicate by check mark if the registrant is not required to file reports pursuant to Section 13 or 15 d of the Act',\n",
       " '☐ Yes ☒ No Indicate by check mark whether the registrant 1 has filed all reports required to be filed by Section 13 or 15 d of the Securities Exchange Act of 1934 during the preceding 12 months or for such shorter period that the registrant was required to file such reports and 2 has been subject to such filing requirements for the past 90 days',\n",
       " '☒ Yes ☐ No Indicate by check mark whether the registrant has submitted electronically and posted on its corporate Web site if any every Interactive Data File required to be submitted and posted pursuant to Rule 405 of Regulation S-T during the preceding 12 months or for such shorter period that the registrant was required to submit and post such files',\n",
       " '☒ Yes ☐ No Indicate by check mark if disclosure of delinquent filers pursuant to Item 405 of Regulation S-K is not contained herein and will not be contained to the best of registrant\\x92s knowledge in definitive proxy or information statements incorporated by reference in Part III of the Annual Report on Form 10-K or any amendment to the Annual Report on Form 10-K. ☒ Indicate by check mark whether the registrant is a large accelerated filer an accelerated filer a non-accelerated filer a smaller reporting company or an emerging growth company',\n",
       " 'See the definitions of \\x93large accelerated filer \\x94 \\x93accelerated filer \\x94 \\x93smaller reporting company \\x94 and \\x93emerging growth company\\x94 in Rule 12b-2 of the Exchange Act',\n",
       " 'Large accelerated filer ☒ Accelerated filer ☐ Non-accelerated filer Do not check if a smaller reporting company ☐ Smaller reporting company ☐ Emerging growth company ☐ If an emerging growth company indicate by check mark if the registrant has elected not to use the extended transition period for complying with any new or revised financial accounting standards provided pursuant to Section 13 a of the Exchange Act',\n",
       " '☐ Indicate by check mark whether the registrant is a shell company as defined in Rule 12b-2 of the Exchange Act',\n",
       " '☐ Yes ☒ No As of June 30 2017 the aggregate market value of the common stock of the registrant held by non-affiliates of the registrant was approximately 84.9 billion',\n",
       " 'As of February 9 2018 there were 379,887,039 shares of the registrant\\x92s common stock outstanding',\n",
       " 'Documents incorporated by reference Portions of The Goldman Sachs Group Inc.\\x92s Proxy Statement for its 2018 Annual Meeting of Shareholders are incorporated by reference in the Annual Report on Form 10-K in response to Part III Items 10 11 12 13 and 14',\n",
       " 'UNITED STATES SECURITIES AND EXCHANGE COMMISSION Washington D.C. 20549 Form 10-K ANNUAL REPORT PURSUANT TO SECTION 13 OR 15 d OF THE SECURITIES EXCHANGE ACT OF 1934 For the fiscal year ended December 31 2017The Goldman Sachs Group Inc. Exact name of registrant as specified in its charter State or other jurisdiction ofincorporation or organization I.R.S',\n",
       " 'EmployerIdentification No',\n",
       " 'New York N.Y. Address of principal executive offices 212 902-1000 Registrant\\x92s telephone number including area code Securities registered pursuant to Section 12 b of the Act Common stock par value .01 per shareDepositary Shares Each Representing 1/1,000th Interest in a Share of Floating RateNon-Cumulative Preferred Stock Series ADepositary Shares Each Representing 1/1,000th Interest in a Share of 6.20 Non-Cumulative Preferred Stock Series BDepositary Shares Each Representing 1/1,000th Interest in a Share of Floating RateNon-Cumulative Preferred Stock Series CDepositary Shares Each Representing 1/1,000th Interest in a Share of Floating RateNon-Cumulative Preferred Stock Series DDepositary Shares Each Representing 1/1,000th Interest in a Share of 5.50 Fixed-to-Floating Rate Non-Cumulative Preferred Stock Series JDepositary Shares Each Representing 1/1,000th Interest in a Share of 6.375 Fixed-to-Floating Rate Non-Cumulative Preferred Stock Series KDepository Shares Each Representing 1/1,000th Interest in a Share of 6.30 Non-Cumulative Preferred Stock Series NSee Exhibit 99.2 for debt and trust securities registered under Section 12 b of the ActSecurities registered pursuant to Section 12 g of the Act None Indicate by check mark if the registrant is a well-known seasoned issuer as defined in Rule 405 of the Securities Act',\n",
       " '☒ Yes ☐ No Indicate by check mark if the registrant is not required to file reports pursuant to Section 13 or 15 d of the Act',\n",
       " '☐ Yes ☒ No Indicate by check mark whether the registrant 1 has filed all reports required to be filed by Section 13 or 15 d of the Securities Exchange Act of 1934 during the preceding 12 months or for such shorter period that the registrant was required to file such reports and 2 has been subject to such filing requirements for the past 90 days',\n",
       " '☒ Yes ☐ No Indicate by check mark whether the registrant has submitted electronically and posted on its corporate Web site if any every Interactive Data File required to be submitted and posted pursuant to Rule 405 of Regulation S-T during the preceding 12 months or for such shorter period that the registrant was required to submit and post such files',\n",
       " '☒ Yes ☐ No Indicate by check mark if disclosure of delinquent filers pursuant to Item 405 of Regulation S-K is not contained herein and will not be contained to the best of registrant\\x92s knowledge in definitive proxy or information statements incorporated by reference in Part III of the Annual Report on Form 10-K or any amendment to the Annual Report on Form 10-K. ☒ Indicate by check mark whether the registrant is a large accelerated filer an accelerated filer a non-accelerated filer a smaller reporting company or an emerging growth company']"
      ]
     },
     "execution_count": 102,
     "metadata": {
      "tags": []
     },
     "output_type": "execute_result"
    }
   ],
   "source": [
    "sents_ClnTknzd = []\n",
    "punctuations = list(string.punctuation) # only remove punctuations. Keep stop words for phrases and un-abbreviated forms. Don't lose \"of\" in US of A for example. \n",
    "\n",
    "for sent in sents_tokenized:\n",
    "  tempStr = ''\n",
    "  tempTokens = nltk.word_tokenize(sent)\n",
    "  for token in tempTokens:\n",
    "    if token not in punctuations:\n",
    "        tempStr += (token)\n",
    "        tempStr += ' '\n",
    "        #cleanTokens.append(' ') # Need to append a single space for cases where words are losing space in between\n",
    "  \n",
    "  sents_ClnTknzd.append(tempStr.strip())\n",
    "\n",
    "sents_ClnTknzd[1:20]"
   ]
  },
  {
   "cell_type": "markdown",
   "metadata": {
    "colab_type": "text",
    "id": "NGnhz08HfOpm"
   },
   "source": [
    "## Topic Modeling"
   ]
  },
  {
   "cell_type": "markdown",
   "metadata": {
    "colab_type": "text",
    "id": "zZmCH6TtfVq5"
   },
   "source": [
    "Now, we have clean data. Next we format it so that gensim can consume it and generate data for topic modeling. Code from here onwards has largely been borrowed from https://www.machinelearningplus.com/nlp/topic-modeling-gensim-python/.  "
   ]
  },
  {
   "cell_type": "code",
   "execution_count": 103,
   "metadata": {
    "colab": {
     "base_uri": "https://localhost:8080/",
     "height": 53
    },
    "colab_type": "code",
    "id": "Wl49VirjD1sP",
    "outputId": "bb262cbe-7ad8-4a65-a774-e33841ede8a5"
   },
   "outputs": [
    {
     "name": "stdout",
     "output_type": "stream",
     "text": [
      "[['united', 'states', 'securities', 'and', 'exchange', 'commission', 'washington', 'form', 'annual', 'report', 'pursuant', 'to', 'section', 'or', 'of', 'the', 'securities', 'exchange', 'act', 'of', 'for', 'the', 'fiscal', 'year', 'ended', 'december', 'commission', 'file', 'number', 'the', 'goldman', 'sachs', 'group', 'inc', 'exact', 'name', 'of', 'registrant', 'as', 'specified', 'in', 'its', 'charter', 'delaware', 'state', 'or', 'other', 'jurisdiction', 'of', 'incorporation', 'or', 'organization']]\n"
     ]
    }
   ],
   "source": [
    "def sent_to_words(sentences):\n",
    "    for sentence in sentences:\n",
    "        yield(gensim.utils.simple_preprocess(str(sentence), deacc=True))  # deacc=True removes punctuations\n",
    "\n",
    "data_words = list(sent_to_words(sents_ClnTknzd))\n",
    "\n",
    "print(data_words[:1])"
   ]
  },
  {
   "cell_type": "code",
   "execution_count": 104,
   "metadata": {
    "colab": {
     "base_uri": "https://localhost:8080/",
     "height": 87
    },
    "colab_type": "code",
    "id": "ZhFJ8cwUFP0P",
    "outputId": "f7e47461-0733-48ed-e17f-e7d609ebe326"
   },
   "outputs": [
    {
     "name": "stderr",
     "output_type": "stream",
     "text": [
      "/usr/local/lib/python3.6/dist-packages/gensim/models/phrases.py:598: UserWarning: For a faster implementation, use the gensim.models.phrases.Phraser class\n",
      "  warnings.warn(\"For a faster implementation, use the gensim.models.phrases.Phraser class\")\n"
     ]
    },
    {
     "name": "stdout",
     "output_type": "stream",
     "text": [
      "['united_states', 'securities', 'and', 'exchange', 'commission', 'washington', 'form', 'annual', 'report', 'pursuant', 'to', 'section', 'or', 'of', 'the', 'securities', 'exchange', 'act', 'of', 'for', 'the', 'fiscal', 'year', 'ended', 'december', 'commission', 'file', 'number', 'the', 'goldman', 'sachs', 'group', 'inc', 'exact', 'name', 'of', 'registrant', 'as', 'specified', 'in', 'its', 'charter', 'delaware', 'state', 'or', 'other', 'jurisdiction', 'of', 'incorporation', 'or', 'organization']\n"
     ]
    }
   ],
   "source": [
    "# Build the bigram and trigram models\n",
    "bigram = gensim.models.Phrases(data_words, min_count=5, threshold=100) # higher threshold fewer phrases.\n",
    "trigram = gensim.models.Phrases(bigram[data_words], threshold=100)  \n",
    "\n",
    "# Faster way to get a sentence clubbed as a trigram/bigram\n",
    "bigram_mod = gensim.models.phrases.Phraser(bigram)\n",
    "trigram_mod = gensim.models.phrases.Phraser(trigram)\n",
    "\n",
    "# See trigram example\n",
    "print(trigram_mod[bigram_mod[data_words[0]]])"
   ]
  },
  {
   "cell_type": "code",
   "execution_count": 0,
   "metadata": {
    "colab": {},
    "colab_type": "code",
    "id": "frMWu9x1FpDD"
   },
   "outputs": [],
   "source": [
    "# Define functions for stopwords, bigrams, trigrams and lemmatization\n",
    "def remove_stopwords(texts):\n",
    "    return [[word for word in simple_preprocess(str(doc)) if word not in stop_words] for doc in texts]\n",
    "\n",
    "def make_bigrams(texts):\n",
    "    return [bigram_mod[doc] for doc in texts]\n",
    "\n",
    "def make_trigrams(texts):\n",
    "    return [trigram_mod[bigram_mod[doc]] for doc in texts]\n",
    "\n",
    "def lemmatization(texts, allowed_postags=['NOUN', 'ADJ', 'VERB', 'ADV']):\n",
    "    \"\"\"https://spacy.io/api/annotation\"\"\"\n",
    "    texts_out = []\n",
    "    for sent in texts:\n",
    "        doc = nlp(\" \".join(sent)) \n",
    "        texts_out.append([token.lemma_ for token in doc if token.pos_ in allowed_postags])\n",
    "    return texts_out"
   ]
  },
  {
   "cell_type": "code",
   "execution_count": 106,
   "metadata": {
    "colab": {
     "base_uri": "https://localhost:8080/",
     "height": 53
    },
    "colab_type": "code",
    "id": "obSDpesQFzYr",
    "outputId": "c2b1388d-cd27-459e-d225-336d9121a236"
   },
   "outputs": [
    {
     "name": "stdout",
     "output_type": "stream",
     "text": [
      "[['united_state', 'security', 'exchange', 'commission', 'washington', 'form', 'annual', 'report', 'pursuant', 'section', 'security', 'exchange', 'act', 'fiscal', 'year', 'end', 'december', 'commission', 'file', 'number', 'goldman', 'sach', 'group', 'inc', 'exact', 'name', 'registrant', 'specify', 'charter', 'delaware', 'state', 'jurisdiction', 'incorporation', 'organization']]\n"
     ]
    }
   ],
   "source": [
    "# Remove Stop Words\n",
    "data_words_nostops = remove_stopwords(data_words)\n",
    "\n",
    "# Form Bigrams\n",
    "data_words_bigrams = make_bigrams(data_words_nostops)\n",
    "\n",
    "# Initialize spacy 'en' model, keeping only tagger component (for efficiency)\n",
    "# python3 -m spacy download en\n",
    "nlp = spacy.load('en', disable=['parser', 'ner'])\n",
    "\n",
    "# Do lemmatization keeping only noun, adj, vb, adv\n",
    "data_lemmatized = lemmatization(data_words_bigrams, allowed_postags=['NOUN', 'ADJ', 'VERB', 'ADV'])\n",
    "\n",
    "print(data_lemmatized[:1])"
   ]
  },
  {
   "cell_type": "code",
   "execution_count": 107,
   "metadata": {
    "colab": {
     "base_uri": "https://localhost:8080/",
     "height": 53
    },
    "colab_type": "code",
    "id": "Ril2jt3PF245",
    "outputId": "3cc8c24e-274a-46c5-d684-553cd320ed2a"
   },
   "outputs": [
    {
     "name": "stdout",
     "output_type": "stream",
     "text": [
      "[[(0, 1), (1, 1), (2, 1), (3, 2), (4, 1), (5, 1), (6, 1), (7, 1), (8, 2), (9, 1), (10, 1), (11, 1), (12, 1), (13, 1), (14, 1), (15, 1), (16, 1), (17, 1), (18, 1), (19, 1), (20, 1), (21, 1), (22, 1), (23, 1), (24, 1), (25, 2), (26, 1), (27, 1), (28, 1), (29, 1), (30, 1)]]\n"
     ]
    }
   ],
   "source": [
    "# Create Dictionary\n",
    "id2word = corpora.Dictionary(data_lemmatized)\n",
    "\n",
    "# Create Corpus\n",
    "texts = data_lemmatized\n",
    "\n",
    "# Term Document Frequency\n",
    "corpus = [id2word.doc2bow(text) for text in texts]\n",
    "\n",
    "# View\n",
    "print(corpus[:1])"
   ]
  },
  {
   "cell_type": "code",
   "execution_count": 108,
   "metadata": {
    "colab": {
     "base_uri": "https://localhost:8080/",
     "height": 535
    },
    "colab_type": "code",
    "id": "XffS2AVKF62m",
    "outputId": "7f3b7eb7-33f4-45fd-b731-cd93b0173577"
   },
   "outputs": [
    {
     "data": {
      "text/plain": [
       "[[('act', 1),\n",
       "  ('annual', 1),\n",
       "  ('charter', 1),\n",
       "  ('commission', 2),\n",
       "  ('december', 1),\n",
       "  ('delaware', 1),\n",
       "  ('end', 1),\n",
       "  ('exact', 1),\n",
       "  ('exchange', 2),\n",
       "  ('file', 1),\n",
       "  ('fiscal', 1),\n",
       "  ('form', 1),\n",
       "  ('goldman', 1),\n",
       "  ('group', 1),\n",
       "  ('inc', 1),\n",
       "  ('incorporation', 1),\n",
       "  ('jurisdiction', 1),\n",
       "  ('name', 1),\n",
       "  ('number', 1),\n",
       "  ('organization', 1),\n",
       "  ('pursuant', 1),\n",
       "  ('registrant', 1),\n",
       "  ('report', 1),\n",
       "  ('sach', 1),\n",
       "  ('section', 1),\n",
       "  ('security', 2),\n",
       "  ('specify', 1),\n",
       "  ('state', 1),\n",
       "  ('united_state', 1),\n",
       "  ('washington', 1),\n",
       "  ('year', 1)]]"
      ]
     },
     "execution_count": 108,
     "metadata": {
      "tags": []
     },
     "output_type": "execute_result"
    }
   ],
   "source": [
    "# Human readable format of corpus (term-frequency)\n",
    "[[(id2word[id], freq) for id, freq in cp] for cp in corpus[:1]]"
   ]
  },
  {
   "cell_type": "code",
   "execution_count": 0,
   "metadata": {
    "colab": {},
    "colab_type": "code",
    "id": "78Fp8mKEF-vl"
   },
   "outputs": [],
   "source": [
    "# Build LDA model\n",
    "lda_model = gensim.models.ldamodel.LdaModel(corpus=corpus,\n",
    "                                           id2word=id2word,\n",
    "                                           num_topics=20, \n",
    "                                           random_state=100,\n",
    "                                           update_every=1,\n",
    "                                           chunksize=100,\n",
    "                                           passes=50,\n",
    "                                           alpha='auto',\n",
    "                                           per_word_topics=True)"
   ]
  },
  {
   "cell_type": "code",
   "execution_count": 110,
   "metadata": {
    "colab": {
     "base_uri": "https://localhost:8080/",
     "height": 1355
    },
    "colab_type": "code",
    "id": "G39QuvqZGxeJ",
    "outputId": "03b338e2-4ea7-4a09-a7e6-badd0cad78cb"
   },
   "outputs": [
    {
     "name": "stdout",
     "output_type": "stream",
     "text": [
      "[(0,\n",
      "  '0.095*\"certain\" + 0.067*\"equity\" + 0.055*\"option\" + 0.053*\"award\" + '\n",
      "  '0.044*\"compensation\" + 0.044*\"investment\" + 0.042*\"price\" + '\n",
      "  '0.041*\"director\" + 0.032*\"transaction\" + 0.031*\"performance\"'),\n",
      " (1,\n",
      "  '0.195*\"bank\" + 0.111*\"gs\" + 0.098*\"service\" + 0.077*\"client\" + 0.057*\"usa\" '\n",
      "  '+ 0.057*\"segment\" + 0.054*\"operating\" + 0.045*\"lending\" + 0.029*\"invest\" + '\n",
      "  '0.025*\"proceeding\"'),\n",
      " (2,\n",
      "  '0.115*\"february\" + 0.105*\"exhibit\" + 0.094*\"share\" + 0.042*\"act\" + '\n",
      "  '0.038*\"outstanding\" + 0.036*\"new_york\" + 0.034*\"co\" + 0.034*\"principal\" + '\n",
      "  '0.021*\"see\" + 0.021*\"law\"'),\n",
      " (3,\n",
      "  '0.176*\"reference\" + 0.160*\"loan\" + 0.096*\"instrument\" + 0.077*\"may\" + '\n",
      "  '0.039*\"future\" + 0.028*\"receivable\" + 0.027*\"underlie\" + 0.021*\"claim\" + '\n",
      "  '0.021*\"various\" + 0.020*\"transfer\"'),\n",
      " (4,\n",
      "  '0.167*\"term\" + 0.101*\"borrowing\" + 0.098*\"action\" + 0.071*\"long\" + '\n",
      "  '0.059*\"sell\" + 0.049*\"applicable\" + 0.039*\"exclude\" + 0.038*\"own\" + '\n",
      "  '0.025*\"recognize\" + 0.025*\"indemnification\"'),\n",
      " (5,\n",
      "  '0.135*\"interest\" + 0.119*\"include\" + 0.111*\"stock\" + 0.082*\"agreement\" + '\n",
      "  '0.081*\"asset\" + 0.064*\"cash\" + 0.047*\"rate\" + 0.027*\"financing\" + '\n",
      "  '0.026*\"dividend\" + 0.026*\"average\"'),\n",
      " (6,\n",
      "  '0.063*\"loss\" + 0.058*\"plan\" + 0.057*\"risk\" + 0.053*\"officer\" + '\n",
      "  '0.052*\"capacity_director\" + 0.033*\"regulatory\" + 0.032*\"employee\" + '\n",
      "  '0.026*\"benefit\" + 0.025*\"chief\" + 0.024*\"executive\"'),\n",
      " (7,\n",
      "  '0.144*\"file\" + 0.088*\"management\" + 0.062*\"result\" + 0.055*\"condition\" + '\n",
      "  '0.048*\"estimate\" + 0.043*\"begin\" + 0.035*\"payment\" + 0.030*\"arrangement\" + '\n",
      "  '0.026*\"disclosure\" + 0.024*\"southern_district\"'),\n",
      " (8,\n",
      "  '0.145*\"capital\" + 0.062*\"ratio\" + 0.056*\"market\" + 0.049*\"mark\" + '\n",
      "  '0.048*\"level\" + 0.034*\"rwa\" + 0.034*\"prefer\" + 0.034*\"tier\" + 0.033*\"sale\" '\n",
      "  '+ 0.032*\"accordance\"'),\n",
      " (9,\n",
      "  '0.187*\"amount\" + 0.069*\"earn\" + 0.052*\"collateral\" + 0.045*\"pay\" + '\n",
      "  '0.043*\"unsecured\" + 0.038*\"incentive\" + 0.036*\"secure\" + 0.035*\"issuance\" + '\n",
      "  '0.034*\"restate\" + 0.028*\"general\"'),\n",
      " (10,\n",
      "  '0.151*\"financial\" + 0.108*\"report\" + 0.094*\"statement\" + 0.062*\"note\" + '\n",
      "  '0.056*\"information\" + 0.055*\"change\" + 0.050*\"annual\" + 0.048*\"fair\" + '\n",
      "  '0.047*\"consolidate\" + 0.035*\"consolidated\"'),\n",
      " (11,\n",
      "  '0.067*\"derivative\" + 0.066*\"activity\" + 0.061*\"defendant\" + '\n",
      "  '0.057*\"generally\" + 0.035*\"trading\" + 0.035*\"district_court\" + '\n",
      "  '0.030*\"connection\" + 0.029*\"swap\" + 0.028*\"follow\" + 0.027*\"respect\"'),\n",
      " (12,\n",
      "  '0.095*\"provide\" + 0.080*\"allowance\" + 0.063*\"trustee\" + 0.044*\"individual\" '\n",
      "  '+ 0.043*\"remain\" + 0.030*\"expect\" + 0.026*\"contribution\" + 0.021*\"japan\" + '\n",
      "  '0.019*\"breach\" + 0.018*\"city\"'),\n",
      " (13,\n",
      "  '0.237*\"security\" + 0.095*\"debt\" + 0.052*\"grant\" + 0.046*\"trust\" + '\n",
      "  '0.045*\"fix\" + 0.043*\"preferred\" + 0.038*\"primarily\" + 0.035*\"register\" + '\n",
      "  '0.022*\"occur\" + 0.021*\"maturity\"'),\n",
      " (14,\n",
      "  '0.132*\"december\" + 0.080*\"form\" + 0.074*\"year\" + 0.070*\"end\" + 0.061*\"inc\" '\n",
      "  '+ 0.061*\"date\" + 0.059*\"group\" + 0.053*\"goldman\" + 0.039*\"incorporate\" + '\n",
      "  '0.034*\"subsidiary\"'),\n",
      " (15,\n",
      "  '0.153*\"value\" + 0.149*\"common\" + 0.114*\"liability\" + 0.047*\"hold\" + '\n",
      "  '0.042*\"rsus\" + 0.039*\"exposure\" + 0.037*\"reflect\" + 0.035*\"impact\" + '\n",
      "  '0.027*\"carry\" + 0.026*\"approximately\"'),\n",
      " (16,\n",
      "  '0.150*\"tax\" + 0.142*\"net\" + 0.081*\"credit\" + 0.079*\"earning\" + '\n",
      "  '0.077*\"income\" + 0.033*\"due\" + 0.029*\"increase\" + 0.024*\"august\" + '\n",
      "  '0.020*\"counterparty\" + 0.019*\"use\"'),\n",
      " (17,\n",
      "  '0.147*\"firm\" + 0.109*\"total\" + 0.060*\"relate\" + 0.053*\"table\" + '\n",
      "  '0.051*\"base\" + 0.032*\"present\" + 0.031*\"expense\" + 0.029*\"respectively\" + '\n",
      "  '0.023*\"pre\" + 0.020*\"issue\"'),\n",
      " (18,\n",
      "  '0.074*\"current\" + 0.072*\"deposit\" + 0.064*\"commitment\" + 0.063*\"section\" + '\n",
      "  '0.056*\"obligation\" + 0.056*\"require\" + 0.055*\"guarantee\" + 0.036*\"vie\" + '\n",
      "  '0.033*\"counterpartie\" + 0.033*\"significant\"'),\n",
      " (19,\n",
      "  '0.209*\"non\" + 0.073*\"exchange\" + 0.066*\"rule\" + 0.058*\"period\" + '\n",
      "  '0.054*\"requirement\" + 0.047*\"short\" + 0.036*\"corporate\" + 0.033*\"january\" + '\n",
      "  '0.030*\"effective\" + 0.028*\"basel\"')]\n"
     ]
    }
   ],
   "source": [
    "# Print the Keyword in the 10 topics\n",
    "pprint(lda_model.print_topics())\n",
    "doc_lda = lda_model[corpus]"
   ]
  },
  {
   "cell_type": "code",
   "execution_count": 111,
   "metadata": {
    "colab": {
     "base_uri": "https://localhost:8080/",
     "height": 84
    },
    "colab_type": "code",
    "id": "eNGqCEL_jpUj",
    "outputId": "289039a8-3de6-4f85-9268-11fe217722fc"
   },
   "outputs": [
    {
     "name": "stdout",
     "output_type": "stream",
     "text": [
      "\n",
      "Perplexity:  -7.5858258719464216\n",
      "\n",
      "Coherence Score:  0.4002224099255929\n"
     ]
    }
   ],
   "source": [
    "# Compute Perplexity\n",
    "print('\\nPerplexity: ', lda_model.log_perplexity(corpus))  # a measure of how good the model is. lower the better.\n",
    "\n",
    "# Compute Coherence Score\n",
    "coherence_model_lda = CoherenceModel(model=lda_model, texts=data_lemmatized, dictionary=id2word, coherence='c_v')\n",
    "coherence_lda = coherence_model_lda.get_coherence()\n",
    "print('\\nCoherence Score: ', coherence_lda)"
   ]
  },
  {
   "cell_type": "code",
   "execution_count": 112,
   "metadata": {
    "colab": {
     "base_uri": "https://localhost:8080/",
     "height": 860
    },
    "colab_type": "code",
    "id": "URMd0Bdjjpyn",
    "outputId": "52543813-d196-438e-84ec-5bb5a171e26c"
   },
   "outputs": [
    {
     "data": {
      "text/html": [
       "\n",
       "<link rel=\"stylesheet\" type=\"text/css\" href=\"https://cdn.rawgit.com/bmabey/pyLDAvis/files/ldavis.v1.0.0.css\">\n",
       "\n",
       "\n",
       "<div id=\"ldavis_el1401401581869779448660032748\"></div>\n",
       "<script type=\"text/javascript\">\n",
       "\n",
       "var ldavis_el1401401581869779448660032748_data = {\"mdsDat\": {\"Freq\": [11.158564567565918, 7.404928684234619, 7.165999889373779, 6.990447044372559, 5.930533409118652, 5.90078592300415, 5.861429691314697, 5.430558681488037, 4.985644340515137, 4.649814605712891, 4.4217376708984375, 4.298501968383789, 4.2309041023254395, 3.8981571197509766, 3.682828664779663, 3.597203254699707, 3.165227174758911, 2.8902859687805176, 2.4019994735717773, 1.9344462156295776], \"cluster\": [1, 1, 1, 1, 1, 1, 1, 1, 1, 1, 1, 1, 1, 1, 1, 1, 1, 1, 1, 1], \"topics\": [1, 2, 3, 4, 5, 6, 7, 8, 9, 10, 11, 12, 13, 14, 15, 16, 17, 18, 19, 20], \"x\": [0.005285917730758497, 0.03647682096663153, -0.31128770035479303, -0.2351677438038237, -0.1371453278237021, -0.049484335785576816, 0.053124497674898984, -0.019098115504414596, 0.06268486275940358, 0.040930527241605626, 0.08543409116651311, 0.008670840657116223, -0.0972400375200428, 0.06328433293048578, 0.048096208681992644, 0.03915313938883855, 0.09012738862020318, 0.11605811212654016, 0.09340809145123857, 0.106688429396126], \"y\": [-0.14946823294587339, -0.14875332605916403, -0.14283382260641675, -0.13732130507381848, 0.24846274560427936, 0.15393840753482105, -0.09250691740946625, 0.04959643503859409, -0.0362028895213589, -0.0390028698653254, 0.04708576277836453, -0.00978885370063779, 0.22783398797964186, 0.022943064076966457, 0.027802286537305324, 0.017397571159834743, 0.013274942128750097, -0.042589810274731986, -0.03209202862265506, 0.022224853240889107]}, \"tinfo\": {\"Category\": [\"Default\", \"Default\", \"Default\", \"Default\", \"Default\", \"Default\", \"Default\", \"Default\", \"Default\", \"Default\", \"Default\", \"Default\", \"Default\", \"Default\", \"Default\", \"Default\", \"Default\", \"Default\", \"Default\", \"Default\", \"Default\", \"Default\", \"Default\", \"Default\", \"Default\", \"Default\", \"Default\", \"Default\", \"Default\", \"Default\", \"Topic1\", \"Topic1\", \"Topic1\", \"Topic1\", \"Topic1\", \"Topic1\", \"Topic1\", \"Topic1\", \"Topic1\", \"Topic1\", \"Topic1\", \"Topic1\", \"Topic1\", \"Topic1\", \"Topic1\", \"Topic1\", \"Topic1\", \"Topic1\", \"Topic1\", \"Topic1\", \"Topic1\", \"Topic1\", \"Topic1\", \"Topic1\", \"Topic1\", \"Topic1\", \"Topic1\", \"Topic1\", \"Topic1\", \"Topic1\", \"Topic2\", \"Topic2\", \"Topic2\", \"Topic2\", \"Topic2\", \"Topic2\", \"Topic2\", \"Topic2\", \"Topic2\", \"Topic2\", \"Topic2\", \"Topic2\", \"Topic2\", \"Topic2\", \"Topic2\", \"Topic2\", \"Topic2\", \"Topic2\", \"Topic2\", \"Topic2\", \"Topic2\", \"Topic2\", \"Topic2\", \"Topic2\", \"Topic2\", \"Topic2\", \"Topic2\", \"Topic2\", \"Topic2\", \"Topic2\", \"Topic3\", \"Topic3\", \"Topic3\", \"Topic3\", \"Topic3\", \"Topic3\", \"Topic3\", \"Topic3\", \"Topic3\", \"Topic3\", \"Topic3\", \"Topic3\", \"Topic3\", \"Topic3\", \"Topic3\", \"Topic3\", \"Topic3\", \"Topic3\", \"Topic3\", \"Topic3\", \"Topic3\", \"Topic3\", \"Topic3\", \"Topic3\", \"Topic3\", \"Topic3\", \"Topic3\", \"Topic3\", \"Topic3\", \"Topic3\", \"Topic3\", \"Topic3\", \"Topic3\", \"Topic3\", \"Topic3\", \"Topic3\", \"Topic4\", \"Topic4\", \"Topic4\", \"Topic4\", \"Topic4\", \"Topic4\", \"Topic4\", \"Topic4\", \"Topic4\", \"Topic4\", \"Topic4\", \"Topic4\", \"Topic4\", \"Topic4\", \"Topic4\", \"Topic4\", \"Topic4\", \"Topic4\", \"Topic4\", \"Topic4\", \"Topic4\", \"Topic4\", \"Topic4\", \"Topic4\", \"Topic4\", \"Topic4\", \"Topic4\", \"Topic4\", \"Topic4\", \"Topic4\", \"Topic4\", \"Topic4\", \"Topic4\", \"Topic5\", \"Topic5\", \"Topic5\", \"Topic5\", \"Topic5\", \"Topic5\", \"Topic5\", \"Topic5\", \"Topic5\", \"Topic5\", \"Topic5\", \"Topic5\", \"Topic5\", \"Topic5\", \"Topic5\", \"Topic5\", \"Topic5\", \"Topic5\", \"Topic5\", \"Topic5\", \"Topic5\", \"Topic5\", \"Topic5\", \"Topic5\", \"Topic5\", \"Topic5\", \"Topic5\", \"Topic5\", \"Topic5\", \"Topic5\", \"Topic5\", \"Topic5\", \"Topic5\", \"Topic5\", \"Topic5\", \"Topic5\", \"Topic6\", \"Topic6\", \"Topic6\", \"Topic6\", \"Topic6\", \"Topic6\", \"Topic6\", \"Topic6\", \"Topic6\", \"Topic6\", \"Topic6\", \"Topic6\", \"Topic6\", \"Topic6\", \"Topic6\", \"Topic6\", \"Topic6\", \"Topic6\", \"Topic6\", \"Topic6\", \"Topic6\", \"Topic6\", \"Topic6\", \"Topic6\", \"Topic6\", \"Topic6\", \"Topic6\", \"Topic6\", \"Topic6\", \"Topic6\", \"Topic7\", \"Topic7\", \"Topic7\", \"Topic7\", \"Topic7\", \"Topic7\", \"Topic7\", \"Topic7\", \"Topic7\", \"Topic7\", \"Topic7\", \"Topic7\", \"Topic7\", \"Topic7\", \"Topic7\", \"Topic7\", \"Topic7\", \"Topic7\", \"Topic7\", \"Topic7\", \"Topic7\", \"Topic7\", \"Topic7\", \"Topic7\", \"Topic7\", \"Topic7\", \"Topic7\", \"Topic7\", \"Topic7\", \"Topic7\", \"Topic7\", \"Topic7\", \"Topic8\", \"Topic8\", \"Topic8\", \"Topic8\", \"Topic8\", \"Topic8\", \"Topic8\", \"Topic8\", \"Topic8\", \"Topic8\", \"Topic8\", \"Topic8\", \"Topic8\", \"Topic8\", \"Topic8\", \"Topic8\", \"Topic8\", \"Topic8\", \"Topic8\", \"Topic8\", \"Topic8\", \"Topic8\", \"Topic8\", \"Topic8\", \"Topic8\", \"Topic8\", \"Topic8\", \"Topic8\", \"Topic8\", \"Topic8\", \"Topic8\", \"Topic9\", \"Topic9\", \"Topic9\", \"Topic9\", \"Topic9\", \"Topic9\", \"Topic9\", \"Topic9\", \"Topic9\", \"Topic9\", \"Topic9\", \"Topic9\", \"Topic9\", \"Topic9\", \"Topic9\", \"Topic9\", \"Topic9\", \"Topic9\", \"Topic9\", \"Topic9\", \"Topic9\", \"Topic9\", \"Topic9\", \"Topic9\", \"Topic9\", \"Topic9\", \"Topic9\", \"Topic9\", \"Topic9\", \"Topic9\", \"Topic10\", \"Topic10\", \"Topic10\", \"Topic10\", \"Topic10\", \"Topic10\", \"Topic10\", \"Topic10\", \"Topic10\", \"Topic10\", \"Topic10\", \"Topic10\", \"Topic10\", \"Topic10\", \"Topic10\", \"Topic10\", \"Topic10\", \"Topic10\", \"Topic10\", \"Topic10\", \"Topic10\", \"Topic10\", \"Topic10\", \"Topic10\", \"Topic10\", \"Topic10\", \"Topic10\", \"Topic10\", \"Topic10\", \"Topic10\", \"Topic10\", \"Topic11\", \"Topic11\", \"Topic11\", \"Topic11\", \"Topic11\", \"Topic11\", \"Topic11\", \"Topic11\", \"Topic11\", \"Topic11\", \"Topic11\", \"Topic11\", \"Topic11\", \"Topic11\", \"Topic11\", \"Topic11\", \"Topic11\", \"Topic11\", \"Topic11\", \"Topic11\", \"Topic11\", \"Topic11\", \"Topic11\", \"Topic11\", \"Topic11\", \"Topic11\", \"Topic11\", \"Topic11\", \"Topic11\", \"Topic11\", \"Topic11\", \"Topic11\", \"Topic11\", \"Topic11\", \"Topic12\", \"Topic12\", \"Topic12\", \"Topic12\", \"Topic12\", \"Topic12\", \"Topic12\", \"Topic12\", \"Topic12\", \"Topic12\", \"Topic12\", \"Topic12\", \"Topic12\", \"Topic12\", \"Topic12\", \"Topic12\", \"Topic12\", \"Topic12\", \"Topic12\", \"Topic12\", \"Topic12\", \"Topic12\", \"Topic12\", \"Topic12\", \"Topic12\", \"Topic12\", \"Topic12\", \"Topic12\", \"Topic12\", \"Topic12\", \"Topic13\", \"Topic13\", \"Topic13\", \"Topic13\", \"Topic13\", \"Topic13\", \"Topic13\", \"Topic13\", \"Topic13\", \"Topic13\", \"Topic13\", \"Topic13\", \"Topic13\", \"Topic13\", \"Topic13\", \"Topic13\", \"Topic13\", \"Topic13\", \"Topic13\", \"Topic13\", \"Topic13\", \"Topic13\", \"Topic13\", \"Topic13\", \"Topic13\", \"Topic13\", \"Topic13\", \"Topic13\", \"Topic13\", \"Topic13\", \"Topic13\", \"Topic13\", \"Topic13\", \"Topic14\", \"Topic14\", \"Topic14\", \"Topic14\", \"Topic14\", \"Topic14\", \"Topic14\", \"Topic14\", \"Topic14\", \"Topic14\", \"Topic14\", \"Topic14\", \"Topic14\", \"Topic14\", \"Topic14\", \"Topic14\", \"Topic14\", \"Topic14\", \"Topic14\", \"Topic14\", \"Topic14\", \"Topic14\", \"Topic14\", \"Topic14\", \"Topic14\", \"Topic14\", \"Topic14\", \"Topic14\", \"Topic14\", \"Topic14\", \"Topic15\", \"Topic15\", \"Topic15\", \"Topic15\", \"Topic15\", \"Topic15\", \"Topic15\", \"Topic15\", \"Topic15\", \"Topic15\", \"Topic15\", \"Topic15\", \"Topic15\", \"Topic15\", \"Topic15\", \"Topic15\", \"Topic15\", \"Topic15\", \"Topic15\", \"Topic15\", \"Topic15\", \"Topic15\", \"Topic15\", \"Topic15\", \"Topic15\", \"Topic15\", \"Topic15\", \"Topic15\", \"Topic15\", \"Topic15\", \"Topic16\", \"Topic16\", \"Topic16\", \"Topic16\", \"Topic16\", \"Topic16\", \"Topic16\", \"Topic16\", \"Topic16\", \"Topic16\", \"Topic16\", \"Topic16\", \"Topic16\", \"Topic16\", \"Topic16\", \"Topic16\", \"Topic16\", \"Topic16\", \"Topic16\", \"Topic16\", \"Topic16\", \"Topic16\", \"Topic16\", \"Topic16\", \"Topic16\", \"Topic16\", \"Topic16\", \"Topic16\", \"Topic16\", \"Topic16\", \"Topic17\", \"Topic17\", \"Topic17\", \"Topic17\", \"Topic17\", \"Topic17\", \"Topic17\", \"Topic17\", \"Topic17\", \"Topic17\", \"Topic17\", \"Topic17\", \"Topic17\", \"Topic17\", \"Topic17\", \"Topic17\", \"Topic17\", \"Topic17\", \"Topic17\", \"Topic17\", \"Topic17\", \"Topic17\", \"Topic17\", \"Topic17\", \"Topic17\", \"Topic17\", \"Topic17\", \"Topic17\", \"Topic17\", \"Topic17\", \"Topic18\", \"Topic18\", \"Topic18\", \"Topic18\", \"Topic18\", \"Topic18\", \"Topic18\", \"Topic18\", \"Topic18\", \"Topic18\", \"Topic18\", \"Topic18\", \"Topic18\", \"Topic18\", \"Topic18\", \"Topic18\", \"Topic18\", \"Topic18\", \"Topic18\", \"Topic18\", \"Topic18\", \"Topic18\", \"Topic18\", \"Topic18\", \"Topic18\", \"Topic18\", \"Topic18\", \"Topic18\", \"Topic18\", \"Topic18\", \"Topic18\", \"Topic18\", \"Topic18\", \"Topic19\", \"Topic19\", \"Topic19\", \"Topic19\", \"Topic19\", \"Topic19\", \"Topic19\", \"Topic19\", \"Topic19\", \"Topic19\", \"Topic19\", \"Topic19\", \"Topic19\", \"Topic19\", \"Topic19\", \"Topic19\", \"Topic19\", \"Topic19\", \"Topic19\", \"Topic19\", \"Topic19\", \"Topic19\", \"Topic19\", \"Topic19\", \"Topic19\", \"Topic19\", \"Topic19\", \"Topic19\", \"Topic19\", \"Topic19\", \"Topic19\", \"Topic19\", \"Topic20\", \"Topic20\", \"Topic20\", \"Topic20\", \"Topic20\", \"Topic20\", \"Topic20\", \"Topic20\", \"Topic20\", \"Topic20\", \"Topic20\", \"Topic20\", \"Topic20\", \"Topic20\", \"Topic20\", \"Topic20\", \"Topic20\", \"Topic20\", \"Topic20\", \"Topic20\", \"Topic20\", \"Topic20\", \"Topic20\", \"Topic20\", \"Topic20\", \"Topic20\", \"Topic20\", \"Topic20\", \"Topic20\", \"Topic20\", \"Topic20\", \"Topic20\", \"Topic20\", \"Topic20\", \"Topic20\", \"Topic20\", \"Topic20\"], \"Freq\": [3648.0, 1894.0, 1998.0, 2341.0, 2709.0, 2220.0, 1819.0, 2110.0, 1951.0, 1901.0, 1846.0, 1698.0, 1952.0, 1652.0, 1650.0, 1820.0, 1316.0, 1673.0, 1251.0, 1039.0, 1460.0, 1072.0, 1265.0, 1356.0, 1332.0, 1084.0, 1147.0, 1502.0, 1477.0, 990.0, 3647.18115234375, 2708.189453125, 1476.6583251953125, 1310.4573974609375, 1262.54931640625, 789.0188598632812, 778.40966796875, 720.2053833007812, 558.2080078125, 507.8244934082031, 438.9039306640625, 402.80078125, 388.1246337890625, 367.9292297363281, 342.8351135253906, 308.62738037109375, 296.11016845703125, 278.0535888671875, 259.3836975097656, 240.6712188720703, 234.4217529296875, 230.50228881835938, 224.8970489501953, 224.44046020507812, 220.870361328125, 215.3445281982422, 200.17681884765625, 199.2256317138672, 186.03057861328125, 176.3533935546875, 2219.108642578125, 1951.894775390625, 1819.1339111328125, 1355.996826171875, 1331.30419921875, 1059.2806396484375, 780.4652099609375, 442.14031982421875, 424.719970703125, 424.17193603515625, 391.3634948730469, 326.6811218261719, 263.435546875, 258.2887878417969, 206.52691650390625, 180.11895751953125, 179.51962280273438, 173.0665740966797, 170.67132568359375, 169.4189453125, 88.52706909179688, 87.81877136230469, 73.8311996459961, 73.36772918701172, 72.356201171875, 71.99520874023438, 71.01499938964844, 68.89984893798828, 57.806495666503906, 56.152584075927734, 2109.976806640625, 1170.57763671875, 1109.24609375, 976.1040649414062, 971.6043090820312, 943.8016967773438, 843.0891723632812, 620.5136108398438, 547.0458984375, 511.2319030761719, 506.41424560546875, 442.5279541015625, 400.58258056640625, 350.15435791015625, 310.9256286621094, 238.7519989013672, 176.19097900390625, 171.86680603027344, 127.83602905273438, 174.7912139892578, 70.66449737548828, 60.84391403198242, 162.73065185546875, 54.283416748046875, 53.34081268310547, 45.81120300292969, 39.91842269897461, 39.68198776245117, 35.85730743408203, 33.79499816894531, 92.66120147705078, 1276.054931640625, 99.29789733886719, 69.12034606933594, 66.7043685913086, 93.12543487548828, 2340.913818359375, 1672.85986328125, 1459.3314208984375, 965.0374145507812, 875.9414672851562, 850.998291015625, 772.6710205078125, 739.5464477539062, 736.7979736328125, 550.8483276367188, 544.8873291015625, 284.9087829589844, 237.74766540527344, 225.6934051513672, 205.2269744873047, 197.7861785888672, 195.82269287109375, 194.6055450439453, 188.29164123535156, 172.91404724121094, 166.4601593017578, 142.88949584960938, 138.91346740722656, 88.24698638916016, 79.48658752441406, 76.21980285644531, 62.54618453979492, 53.709320068359375, 45.8296012878418, 40.7301025390625, 125.09085083007812, 225.5857696533203, 56.143272399902344, 836.5418701171875, 759.1196899414062, 750.3280639648438, 703.1240234375, 438.73577880859375, 425.8772888183594, 683.9306640625, 345.9119873046875, 329.81866455078125, 313.2713317871094, 311.7917175292969, 283.760986328125, 263.2825012207031, 256.219970703125, 249.38632202148438, 247.04559326171875, 220.52162170410156, 146.22055053710938, 144.4088592529297, 113.74183654785156, 186.0107879638672, 108.74520874023438, 94.81452178955078, 93.40791320800781, 88.3808822631836, 246.9892578125, 79.9972152709961, 77.91517639160156, 59.685508728027344, 123.36613464355469, 139.49099731445312, 171.14501953125, 171.14501953125, 171.14501953125, 171.14501953125, 168.11160278320312, 1900.2509765625, 810.6710205078125, 739.84716796875, 640.4728393554688, 633.1546630859375, 450.0951843261719, 447.8711242675781, 439.7640686035156, 431.00665283203125, 425.07440185546875, 424.2814636230469, 366.23968505859375, 289.9732360839844, 283.0536193847656, 274.5348205566406, 267.78302001953125, 215.26625061035156, 211.21580505371094, 190.39520263671875, 189.71070861816406, 151.5673370361328, 149.60519409179688, 135.71163940429688, 132.53794860839844, 124.85655975341797, 108.94769287109375, 101.60592651367188, 98.29737091064453, 93.55924987792969, 92.2662353515625, 1950.997314453125, 1845.5390625, 1053.8907470703125, 1029.633056640625, 998.1383056640625, 434.52191162109375, 383.4960632324219, 315.56671142578125, 256.1035461425781, 241.6830596923828, 238.24334716796875, 213.75108337402344, 204.3373565673828, 198.99610900878906, 196.5706024169922, 162.9290313720703, 145.6804656982422, 142.22991943359375, 137.33213806152344, 109.26825714111328, 103.77005767822266, 97.65176391601562, 94.60586547851562, 93.31159973144531, 89.98965454101562, 86.7478256225586, 83.18706512451172, 75.77642059326172, 72.1995849609375, 68.05958557128906, 103.04563903808594, 101.12141418457031, 1146.911376953125, 811.7741088867188, 660.0592041015625, 634.7280883789062, 535.2520141601562, 533.2767333984375, 501.8438720703125, 498.466064453125, 386.2890930175781, 372.6315612792969, 368.3280029296875, 352.5852355957031, 337.85662841796875, 334.43377685546875, 283.7105712890625, 256.3688049316406, 223.0525665283203, 218.20245361328125, 205.61746215820312, 196.24044799804688, 195.2162322998047, 181.1074676513672, 145.9781951904297, 141.88966369628906, 138.36888122558594, 137.89505004882812, 116.4696273803711, 286.38262939453125, 97.58529663085938, 91.14601135253906, 115.68718719482422, 1698.003662109375, 1649.2703857421875, 1264.1690673828125, 516.7381591796875, 463.2641906738281, 435.6833801269531, 409.1781311035156, 385.3929443359375, 299.20703125, 289.75457763671875, 271.4698181152344, 266.28387451171875, 209.0316619873047, 177.94964599609375, 167.3601531982422, 107.98487091064453, 102.63702392578125, 95.52721405029297, 91.68661499023438, 89.59549713134766, 88.15849304199219, 78.75802612304688, 75.94395446777344, 73.11021423339844, 72.81105041503906, 72.7012939453125, 62.078487396240234, 61.060604095458984, 58.170082092285156, 57.7053108215332, 1818.476318359375, 1651.4468994140625, 991.8555908203125, 797.0401611328125, 405.09869384765625, 293.92645263671875, 279.928466796875, 222.14373779296875, 214.57955932617188, 211.40870666503906, 211.1073760986328, 171.9265899658203, 167.31129455566406, 153.7966766357422, 142.68312072753906, 126.0257797241211, 112.23375701904297, 102.24903106689453, 87.35687255859375, 85.1563491821289, 75.1231460571289, 65.05084228515625, 56.469398498535156, 53.63983917236328, 52.50297164916992, 50.06787872314453, 47.559593200683594, 45.64486312866211, 44.776432037353516, 42.6003532409668, 50.55813217163086, 662.1538696289062, 647.6212158203125, 597.5633544921875, 559.7669067382812, 347.6904296875, 295.7370300292969, 280.68994140625, 279.7362365722656, 343.6534118652344, 266.1370849609375, 212.22854614257812, 177.4974365234375, 190.29486083984375, 171.17872619628906, 213.04852294921875, 156.9138641357422, 134.18870544433594, 116.44732666015625, 115.6344985961914, 106.83397674560547, 99.82610321044922, 93.95650482177734, 89.99612426757812, 86.1476821899414, 85.05492401123047, 84.61431884765625, 77.77545928955078, 75.55838775634766, 73.78365325927734, 73.00924682617188, 183.82369995117188, 121.87593078613281, 124.92045593261719, 115.13697814941406, 1997.1290283203125, 694.3262939453125, 626.1803588867188, 556.30615234375, 517.9200439453125, 447.1012878417969, 343.7835388183594, 314.50616455078125, 283.6891784667969, 268.2257995605469, 245.05299377441406, 226.82623291015625, 220.0406494140625, 162.2842254638672, 151.4871063232422, 131.7339630126953, 126.88589477539062, 125.73025512695312, 118.74056243896484, 110.12566375732422, 105.14115905761719, 90.48532104492188, 87.17479705810547, 76.96749114990234, 56.10144805908203, 54.47834396362305, 49.962623596191406, 45.70431900024414, 43.955589294433594, 43.928504943847656, 1083.974609375, 989.5515747070312, 880.0742797851562, 393.15765380859375, 361.5942077636719, 335.7383728027344, 317.6890869140625, 316.32489013671875, 201.11573791503906, 194.23519897460938, 161.9913330078125, 160.46055603027344, 152.49916076660156, 149.74224853515625, 130.1087646484375, 129.8612823486328, 118.287841796875, 105.89908599853516, 101.19707489013672, 97.01083374023438, 93.13184356689453, 88.99663543701172, 80.03153228759766, 79.17388916015625, 70.781494140625, 69.19357299804688, 67.7846450805664, 62.99040985107422, 56.61530685424805, 56.282859802246094, 116.17088317871094, 78.93873596191406, 87.8259506225586, 1250.7950439453125, 763.9480590820312, 538.9009399414062, 475.7416076660156, 415.3670349121094, 375.739501953125, 300.6307678222656, 258.0315856933594, 228.8865203857422, 194.42100524902344, 162.35598754882812, 161.29225158691406, 151.8722381591797, 137.8775177001953, 136.9628143310547, 125.72393798828125, 120.95429992675781, 211.7371063232422, 111.79552459716797, 101.59266662597656, 121.85293579101562, 93.98986053466797, 71.96849060058594, 69.15018463134766, 64.37679290771484, 146.34854125976562, 59.9984245300293, 59.02141189575195, 58.88029479980469, 57.03858184814453, 609.6123657226562, 592.7955322265625, 522.7294311523438, 511.66778564453125, 458.5599670410156, 456.8087158203125, 451.1115417480469, 294.7117614746094, 267.7685852050781, 266.1585388183594, 258.5024108886719, 238.89019775390625, 210.0960693359375, 135.68817138671875, 132.57394409179688, 120.20462799072266, 112.61768341064453, 107.14631652832031, 97.79766845703125, 84.33173370361328, 175.6518096923828, 74.63957214355469, 73.30127716064453, 71.8038558959961, 67.47221374511719, 67.377197265625, 66.0594711303711, 61.71068572998047, 60.48100662231445, 60.34904861450195, 1893.65283203125, 761.0743408203125, 412.30035400390625, 367.7706604003906, 355.9681091308594, 342.15264892578125, 299.8261413574219, 276.510498046875, 172.31442260742188, 169.5584716796875, 164.79571533203125, 157.4707794189453, 147.41990661621094, 134.83883666992188, 120.45368194580078, 100.30821228027344, 97.63134002685547, 95.703857421875, 73.2852554321289, 69.007080078125, 66.69486999511719, 65.06888580322266, 61.37367248535156, 59.373497009277344, 59.030574798583984, 58.50638198852539, 58.21457290649414, 52.503353118896484, 49.858680725097656, 44.756954193115234, 1315.5380859375, 483.2221374511719, 362.3987121582031, 319.33282470703125, 302.2043151855469, 268.71343994140625, 255.66770935058594, 243.30345153808594, 199.29957580566406, 198.37765502929688, 159.54713439941406, 154.99560546875, 144.67767333984375, 236.9319305419922, 86.5013427734375, 84.53914642333984, 81.27478790283203, 75.02244567871094, 67.01397705078125, 66.95952606201172, 66.07398986816406, 64.60464477539062, 63.79459762573242, 61.79935073852539, 61.24240493774414, 59.67842102050781, 58.16697692871094, 50.79592514038086, 46.912899017333984, 43.71533203125, 1071.281494140625, 646.42626953125, 628.8765869140625, 454.18756103515625, 380.8799743652344, 316.19769287109375, 249.42965698242188, 246.139892578125, 163.54104614257812, 160.0135498046875, 137.4089813232422, 125.25139617919922, 96.61275482177734, 87.27704620361328, 59.85288619995117, 45.23543930053711, 43.49319076538086, 43.451255798339844, 41.75754165649414, 32.435237884521484, 32.23383331298828, 30.71983528137207, 26.637557983398438, 24.205602645874023, 23.1783504486084, 20.91680145263672, 20.422874450683594, 19.500986099243164, 17.40058708190918, 16.615633010864258, 130.9523162841797, 42.35984420776367, 32.97740936279297, 1038.2896728515625, 594.62060546875, 525.1194458007812, 412.2318115234375, 305.5709228515625, 301.6992492675781, 286.447998046875, 240.4993438720703, 156.24696350097656, 133.1277313232422, 82.56332397460938, 63.906742095947266, 56.874454498291016, 54.28205108642578, 49.96352005004883, 43.82230758666992, 43.65155029296875, 41.942596435546875, 28.61649513244629, 25.56501579284668, 24.835771560668945, 24.164852142333984, 21.681865692138672, 20.65154457092285, 19.676063537597656, 21.0914306640625, 18.175216674804688, 16.46973419189453, 17.053918838500977, 14.868863105773926, 18.80331039428711, 18.57742691040039, 407.1956481933594, 343.9817199707031, 271.117431640625, 187.06309509277344, 186.97959899902344, 131.05801391601562, 113.12405395507812, 91.88084411621094, 82.81101989746094, 76.3686752319336, 69.82747650146484, 57.99965286254883, 57.420162200927734, 57.420162200927734, 53.37190246582031, 48.8044319152832, 46.55792999267578, 45.919677734375, 43.704933166503906, 51.741798400878906, 38.42026901245117, 34.69728469848633, 33.91480255126953, 28.523513793945312, 28.09893035888672, 27.63585090637207, 27.29056739807129, 26.71796417236328, 26.003015518188477, 26.675222396850586, 38.68659973144531, 44.03070068359375, 39.04539108276367, 39.04539108276367, 32.58368682861328, 32.58368682861328, 32.653907775878906], \"Term\": [\"firm\", \"security\", \"non\", \"financial\", \"total\", \"interest\", \"reference\", \"december\", \"tax\", \"capital\", \"net\", \"value\", \"include\", \"loan\", \"common\", \"stock\", \"amount\", \"report\", \"file\", \"bank\", \"statement\", \"term\", \"liability\", \"agreement\", \"asset\", \"february\", \"certain\", \"form\", \"relate\", \"exhibit\", \"firm\", \"total\", \"relate\", \"table\", \"base\", \"present\", \"expense\", \"respectively\", \"pre\", \"issue\", \"offering\", \"also\", \"revenue\", \"time\", \"public\", \"exercise\", \"federal\", \"settlement\", \"addition\", \"make\", \"record\", \"government\", \"substantially\", \"agency\", \"deliver\", \"bear\", \"contract\", \"mortgage\", \"seek\", \"initial\", \"interest\", \"include\", \"stock\", \"agreement\", \"asset\", \"cash\", \"rate\", \"financing\", \"dividend\", \"average\", \"collateralized\", \"represent\", \"class\", \"repurchase\", \"bearing\", \"charge\", \"back\", \"equivalent\", \"receivables\", \"purpose\", \"second\", \"payable\", \"list\", \"approve\", \"redemption\", \"identifiable_intangible\", \"nonconsolidat\", \"distribution\", \"fourth_quarter\", \"cancellation\", \"december\", \"year\", \"end\", \"inc\", \"date\", \"group\", \"goldman\", \"incorporate\", \"subsidiary\", \"registrant\", \"name\", \"sachs\", \"sach\", \"fiscal\", \"shareholder\", \"million\", \"state\", \"account\", \"effect\", \"award_agreement\", \"foreign\", \"subordinated\", \"rsu_award\", \"llc\", \"weighted\", \"authorize\", \"extend\", \"forfeiture\", \"number\", \"primary\", \"fully_vest\", \"form\", \"incorporated\", \"william_george\", \"james_johnson\", \"indenture_dat\", \"financial\", \"report\", \"statement\", \"note\", \"information\", \"change\", \"annual\", \"fair\", \"consolidate\", \"consolidated\", \"november\", \"item\", \"flow\", \"control\", \"weight\", \"potential\", \"part\", \"comprehensive\", \"amendment\", \"independent\", \"describe\", \"datum\", \"internal\", \"reporting\", \"unrecognized\", \"new\", \"conflict\", \"sensitivity\", \"test\", \"ability\", \"regulation\", \"form\", \"interactive\", \"loss\", \"plan\", \"risk\", \"officer\", \"regulatory\", \"employee\", \"capacity_director\", \"benefit\", \"chief\", \"executive\", \"june\", \"business\", \"balance\", \"aggregate\", \"matter\", \"senior\", \"accounting\", \"policy\", \"review\", \"reasonably_possible\", \"david\", \"select\", \"april\", \"chairman\", \"operational\", \"martin_chavez\", \"framework\", \"believe\", \"legal\", \"lloyd_blankfein\", \"lakshmi_mittal\", \"ellen\", \"peter\", \"brian\", \"adebayo\", \"michele\", \"capital\", \"ratio\", \"market\", \"mark\", \"level\", \"rwa\", \"prefer\", \"tier\", \"sale\", \"accordance\", \"calculate\", \"offer\", \"var\", \"measure\", \"minimum\", \"standardized\", \"iii_advanc\", \"gross\", \"basis\", \"classify\", \"model\", \"funding\", \"meet\", \"maximum\", \"liquidity\", \"buffer\", \"component\", \"judgment\", \"transitional_provision\", \"structure\", \"tax\", \"net\", \"credit\", \"earning\", \"income\", \"due\", \"increase\", \"august\", \"counterparty\", \"use\", \"march\", \"adjustment\", \"decrease\", \"defer\", \"consist\", \"gain\", \"excess\", \"basic\", \"compare\", \"exceed\", \"execution\", \"therefore\", \"benefit_pension\", \"return\", \"postretirement\", \"combine\", \"asu\", \"real\", \"reduction\", \"reclassify\", \"computation\", \"carryforward\", \"certain\", \"equity\", \"option\", \"award\", \"compensation\", \"investment\", \"price\", \"director\", \"transaction\", \"performance\", \"fund\", \"pursuant\", \"related\", \"affiliate\", \"supplemental\", \"quarterly\", \"life\", \"behalf\", \"available\", \"purchase\", \"real_estate\", \"litigation\", \"fee\", \"purchaser\", \"range\", \"data\", \"deferred\", \"sip\", \"factor\", \"participating_manag\", \"signature\", \"value\", \"common\", \"liability\", \"hold\", \"rsus\", \"exposure\", \"reflect\", \"impact\", \"carry\", \"approximately\", \"material\", \"unit\", \"cet\", \"holder\", \"accrue\", \"thing\", \"proceed\", \"book\", \"termination\", \"give\", \"adoption\", \"decision\", \"assess\", \"hierarchy\", \"manage\", \"attributable\", \"arise\", \"approximate\", \"impairment\", \"liabiliti\", \"reference\", \"loan\", \"instrument\", \"may\", \"future\", \"receivable\", \"underlie\", \"claim\", \"various\", \"transfer\", \"prior\", \"commercial\", \"right\", \"determine\", \"input\", \"obtain\", \"procedure\", \"covenant\", \"pwm\", \"trade\", \"utilize\", \"able\", \"settle\", \"subsequent\", \"resolve\", \"increased\", \"approval\", \"satisfy\", \"hybrid\", \"mitigate\", \"noncompetition\", \"derivative\", \"activity\", \"defendant\", \"generally\", \"trading\", \"connection\", \"swap\", \"follow\", \"district_court\", \"respect\", \"certification\", \"court\", \"plaintiff\", \"hedge\", \"dismiss\", \"demand\", \"volume\", \"enter\", \"valuation\", \"less\", \"nature\", \"order\", \"treasury\", \"advisory\", \"spread\", \"involve\", \"mitigant\", \"pend\", \"sec\", \"realize\", \"motion\", \"defendants_mov\", \"putative\", \"deny\", \"non\", \"exchange\", \"rule\", \"period\", \"requirement\", \"short\", \"corporate\", \"january\", \"effective\", \"basel\", \"series\", \"define\", \"well\", \"deduction\", \"specific\", \"iii_advanced\", \"vest\", \"cover\", \"post\", \"standardize\", \"phase\", \"committee\", \"october\", \"relevant\", \"depend\", \"document\", \"affect\", \"rwas\", \"fully_phas\", \"become\", \"february\", \"exhibit\", \"share\", \"act\", \"outstanding\", \"new_york\", \"co\", \"principal\", \"see\", \"law\", \"restricted\", \"cobalt\", \"capacity\", \"amend\", \"event\", \"antitrust\", \"allege\", \"iii\", \"provision\", \"underwriter\", \"restrict\", \"delivery\", \"cost\", \"location\", \"person\", \"cause\", \"practice\", \"apply\", \"customer\", \"reduce\", \"complaint\", \"amended_complaint\", \"unspecified\", \"file\", \"management\", \"result\", \"condition\", \"estimate\", \"begin\", \"payment\", \"arrangement\", \"disclosure\", \"legislation\", \"investigation\", \"operation\", \"additional\", \"permit\", \"request\", \"september\", \"economic\", \"southern_district\", \"program\", \"contractual\", \"furnish\", \"analysis\", \"last\", \"materially\", \"allegation\", \"putative_class\", \"adverse\", \"calculation\", \"development\", \"political\", \"current\", \"deposit\", \"commitment\", \"section\", \"obligation\", \"require\", \"guarantee\", \"vie\", \"counterpartie\", \"significant\", \"entity\", \"case\", \"damage\", \"index\", \"restriction\", \"insurance\", \"day\", \"several\", \"variable\", \"regulator\", \"compensatory\", \"float\", \"consider\", \"qualify\", \"certificate\", \"representation\", \"presentation\", \"contingency\", \"adopt\", \"money\", \"security\", \"debt\", \"grant\", \"trust\", \"fix\", \"preferred\", \"primarily\", \"register\", \"occur\", \"maturity\", \"junior_subordinat\", \"default\", \"issuer\", \"month\", \"subordinate\", \"beneficial_interest\", \"third_partie\", \"municipal\", \"convertible\", \"resale\", \"redeemable\", \"expire\", \"amortization\", \"eligible\", \"pension\", \"description\", \"borrower\", \"office\", \"par\", \"finance\", \"amount\", \"earn\", \"collateral\", \"pay\", \"unsecured\", \"incentive\", \"secure\", \"issuance\", \"general\", \"low\", \"borrow\", \"principally\", \"indicate\", \"restate\", \"measurement\", \"notional\", \"lender\", \"schedule\", \"terminate\", \"otherwise\", \"allocation\", \"marcus\", \"currently\", \"portfolio\", \"accumulate\", \"direct\", \"margin\", \"collateralize\", \"clearing\", \"monitor\", \"term\", \"borrowing\", \"action\", \"long\", \"sell\", \"applicable\", \"exclude\", \"own\", \"recognize\", \"indemnification\", \"difference\", \"yet_purchas\", \"previously\", \"third_party\", \"appropriate\", \"thereafter\", \"establish\", \"exist\", \"aus\", \"personnel\", \"status\", \"possible\", \"unsecur\", \"supervision\", \"equal\", \"theyear\", \"develop\", \"draw\", \"enable\", \"barrier\", \"terraform_global\", \"month_libor\", \"payable_quarterly\", \"bank\", \"gs\", \"service\", \"client\", \"usa\", \"segment\", \"operating\", \"lending\", \"invest\", \"proceeding\", \"finance_corp\", \"institutional\", \"reserve\", \"capitalize\", \"geographic\", \"expensespre\", \"employment\", \"fdic\", \"agree\", \"whole\", \"designate\", \"charitable_contribution\", \"dividendsnet\", \"insure\", \"holding_company\", \"warehouse\", \"immediately\", \"prompt_corrective\", \"supervise\", \"taxesnet\", \"city_examination\", \"mellon\", \"provide\", \"allowance\", \"trustee\", \"individual\", \"remain\", \"expect\", \"contribution\", \"japan\", \"breach\", \"city\", \"company\", \"support\", \"germany\", \"france\", \"battery_park\", \"industry\", \"complete\", \"china\", \"assert\", \"retirement\", \"charge_off\", \"close\", \"clearance\", \"dependent\", \"hong_kong\", \"dated\", \"region\", \"ground_lease\", \"monetary\", \"headquarters\", \"fiduciary_dutie\", \"singapore\", \"cayman_island\", \"italy\", \"medical\", \"retiree\", \"magistrate_judge\"], \"Total\": [3648.0, 1894.0, 1998.0, 2341.0, 2709.0, 2220.0, 1819.0, 2110.0, 1951.0, 1901.0, 1846.0, 1698.0, 1952.0, 1652.0, 1650.0, 1820.0, 1316.0, 1673.0, 1251.0, 1039.0, 1460.0, 1072.0, 1265.0, 1356.0, 1332.0, 1084.0, 1147.0, 1502.0, 1477.0, 990.0, 3648.130859375, 2709.13916015625, 1477.6077880859375, 1311.4068603515625, 1263.498779296875, 789.9681396484375, 779.3589477539062, 721.1546630859375, 559.1572875976562, 508.7739562988281, 439.8533935546875, 403.750244140625, 389.0740966796875, 368.8786926269531, 343.7845764160156, 309.57684326171875, 297.05963134765625, 279.0030517578125, 260.3331604003906, 241.62062072753906, 235.37115478515625, 231.45169067382812, 225.84645080566406, 225.38986206054688, 221.81976318359375, 216.2939453125, 201.126220703125, 200.17503356933594, 186.97999572753906, 177.30279541015625, 2220.066650390625, 1952.8524169921875, 1820.091552734375, 1356.9544677734375, 1332.2618408203125, 1060.23828125, 781.4226684570312, 443.09796142578125, 425.6776123046875, 425.12957763671875, 392.3211364746094, 327.6387634277344, 264.3931884765625, 259.2464294433594, 207.48451232910156, 181.0765380859375, 180.47720336914062, 174.02415466308594, 171.62890625, 170.37652587890625, 89.48467254638672, 88.77637481689453, 74.78880310058594, 74.32533264160156, 73.31380462646484, 72.95281219482422, 71.97260284423828, 69.85745239257812, 58.764102935791016, 57.110191345214844, 2110.957275390625, 1171.5576171875, 1110.22607421875, 977.0839233398438, 972.5841674804688, 944.7815551757812, 844.0690307617188, 621.4934692382812, 548.0257568359375, 512.2118530273438, 507.3942565917969, 443.5079650878906, 401.5625915527344, 351.1344299316406, 311.9056396484375, 239.73194885253906, 177.17092895507812, 172.8467559814453, 128.81597900390625, 176.91737365722656, 71.64447784423828, 61.82390213012695, 165.3639678955078, 55.263404846191406, 54.32080078125, 46.79121398925781, 40.89841079711914, 40.6619758605957, 36.83729553222656, 34.774986267089844, 96.29667663574219, 1502.5758056640625, 106.3379898071289, 75.68550109863281, 76.89608001708984, 139.02792358398438, 2341.87060546875, 1673.8162841796875, 1460.287841796875, 965.99365234375, 876.897705078125, 851.9545288085938, 773.6272583007812, 740.502685546875, 737.7542114257812, 551.8045654296875, 545.8435668945312, 285.8652038574219, 238.70401000976562, 226.64974975585938, 206.18331909179688, 198.74252319335938, 196.77903747558594, 195.5618896484375, 189.24798583984375, 173.87039184570312, 167.41650390625, 143.84584045410156, 139.86981201171875, 89.20336151123047, 80.4429702758789, 77.17617797851562, 63.502567291259766, 54.66570281982422, 46.78598403930664, 41.686485290527344, 155.03765869140625, 1502.5758056640625, 92.10302734375, 837.4994506835938, 760.0772705078125, 751.28564453125, 704.0816040039062, 439.6934814453125, 426.8349914550781, 685.5496826171875, 346.86968994140625, 330.7763671875, 314.2290344238281, 312.7494201660156, 284.71868896484375, 264.2402038574219, 257.17767333984375, 250.34396362304688, 248.00323486328125, 221.47926330566406, 147.17819213867188, 145.3665008544922, 114.69962310791016, 187.6404266357422, 109.70288848876953, 95.77220153808594, 94.38359832763672, 89.33856201171875, 249.87779235839844, 80.95489501953125, 78.87285614013672, 60.6431884765625, 125.3817367553711, 147.3358154296875, 185.8182373046875, 185.8182373046875, 185.8182373046875, 185.8182373046875, 185.78981018066406, 1901.1778564453125, 811.5977172851562, 740.7738647460938, 641.3995361328125, 634.0813598632812, 451.0220642089844, 448.7980041503906, 440.6909484863281, 431.93353271484375, 426.00128173828125, 425.2083435058594, 367.16656494140625, 290.9001159667969, 283.9804992675781, 275.4617004394531, 268.70989990234375, 216.1930694580078, 212.1426239013672, 191.322021484375, 190.63754272460938, 152.49415588378906, 150.53201293945312, 136.63845825195312, 133.46478271484375, 125.78340148925781, 109.8745346069336, 102.53276824951172, 99.22421264648438, 94.48609161376953, 93.19307708740234, 1951.9453125, 1846.487060546875, 1054.8387451171875, 1030.5810546875, 999.0861206054688, 435.46990966796875, 384.4440612792969, 316.51470947265625, 257.0515441894531, 242.6309814453125, 239.19126892089844, 214.69900512695312, 205.2852783203125, 199.94403076171875, 197.51852416992188, 163.876953125, 146.62838745117188, 143.1778564453125, 138.28005981445312, 110.21620178222656, 104.71800231933594, 98.5997085571289, 95.5538101196289, 94.2595443725586, 90.9375991821289, 87.69577026367188, 84.135009765625, 76.724365234375, 73.14752960205078, 69.00753021240234, 105.27207946777344, 127.63184356689453, 1147.8681640625, 812.7308349609375, 661.0159301757812, 635.684814453125, 536.208740234375, 534.2334594726562, 502.8006896972656, 499.4228820800781, 387.24591064453125, 373.58837890625, 369.2848205566406, 353.54205322265625, 338.8134460449219, 335.3905944824219, 284.66741943359375, 257.32562255859375, 224.0093231201172, 219.1592559814453, 206.57421875, 197.19720458984375, 196.17298889160156, 182.06422424316406, 146.93495178222656, 142.846435546875, 139.3256378173828, 138.85263061523438, 117.4264144897461, 288.76171875, 98.54208374023438, 92.10332489013672, 126.99960327148438, 1698.942138671875, 1650.2088623046875, 1265.1075439453125, 517.676513671875, 464.20263671875, 436.621826171875, 410.1165771484375, 386.3313903808594, 300.1454772949219, 290.6930236816406, 272.40826416015625, 267.2223205566406, 209.97006225585938, 178.88803100585938, 168.2985382080078, 108.92329406738281, 103.57544708251953, 96.46563720703125, 92.62503814697266, 90.53392028808594, 89.09691619873047, 79.69644927978516, 76.88237762451172, 74.04863739013672, 73.74947357177734, 73.63971710205078, 63.01691818237305, 61.9990348815918, 59.10851287841797, 58.643741607666016, 1819.425537109375, 1652.3961181640625, 992.8046264648438, 797.9891967773438, 406.0478515625, 294.8756103515625, 280.87762451171875, 223.09283447265625, 215.52865600585938, 212.35780334472656, 212.0564727783203, 172.8756866455078, 168.26039123535156, 154.7457733154297, 143.63221740722656, 126.97491455078125, 113.18289184570312, 103.19816589355469, 88.30699920654297, 86.10548400878906, 76.07228088378906, 65.9999771118164, 57.41853713989258, 54.5889778137207, 53.452110290527344, 51.01701736450195, 48.508731842041016, 46.59400177001953, 45.72557067871094, 43.54949188232422, 69.94560241699219, 663.0993041992188, 648.566650390625, 598.5337524414062, 560.7123413085938, 348.635986328125, 296.6825866699219, 281.635498046875, 280.6817932128906, 344.8345031738281, 267.0826416015625, 213.22409057617188, 178.4432830810547, 191.32249450683594, 172.12423706054688, 214.32278442382812, 157.859375, 135.1342315673828, 117.39288330078125, 116.5800552368164, 107.77953338623047, 100.77165985107422, 94.90206146240234, 90.94168090820312, 87.0932388305664, 86.00048065185547, 85.55987548828125, 78.72101593017578, 76.50394439697266, 74.72921752929688, 73.95480346679688, 186.25335693359375, 124.62921142578125, 132.39930725097656, 121.85668182373047, 1998.08642578125, 695.2835693359375, 627.1376342773438, 557.263427734375, 518.8773193359375, 448.0586242675781, 344.7408752441406, 315.4635009765625, 284.6465148925781, 269.1831359863281, 246.0102996826172, 227.78353881835938, 220.99795532226562, 163.2415313720703, 152.4444122314453, 132.69126892089844, 127.8432388305664, 126.6875991821289, 119.69790649414062, 111.0830078125, 106.09850311279297, 91.44266510009766, 88.13214111328125, 77.92483520507812, 57.05879211425781, 55.43568801879883, 50.91996765136719, 46.66166305541992, 44.912933349609375, 44.88584899902344, 1084.9464111328125, 990.5233154296875, 881.0460205078125, 394.1294860839844, 362.5660400390625, 336.710205078125, 318.6609191894531, 317.2967224121094, 202.08753967285156, 195.20700073242188, 162.963134765625, 161.44998168945312, 153.47097778320312, 150.71405029296875, 131.08056640625, 130.83316040039062, 119.28515625, 106.87091064453125, 102.16889953613281, 97.9826889038086, 94.10366821289062, 89.96846008300781, 81.00335693359375, 80.14571380615234, 71.7535400390625, 70.1654052734375, 68.7564697265625, 63.96223831176758, 57.587135314941406, 57.25468826293945, 119.2567367553711, 81.2280502319336, 91.91402435302734, 1251.7386474609375, 764.8915405273438, 539.8444213867188, 476.6851501464844, 416.3105773925781, 376.68304443359375, 301.5743103027344, 258.9751281738281, 229.83004760742188, 195.36453247070312, 163.29953002929688, 162.23577880859375, 152.81576538085938, 138.821044921875, 137.90635681152344, 126.66764068603516, 121.89784240722656, 213.41140747070312, 112.73907470703125, 102.53620910644531, 123.0549545288086, 94.93341064453125, 72.91204833984375, 70.09373474121094, 65.33443450927734, 148.56443786621094, 60.94197463989258, 59.964962005615234, 59.82384490966797, 57.98213195800781, 610.5588989257812, 593.7420654296875, 523.6759643554688, 512.6143188476562, 459.506591796875, 457.7553405761719, 452.05816650390625, 295.65838623046875, 268.7152099609375, 267.10516357421875, 259.44903564453125, 239.83682250976562, 211.04269409179688, 136.63479614257812, 133.52056884765625, 121.15129089355469, 113.5643081665039, 108.09294128417969, 98.74429321289062, 85.27835845947266, 177.8148193359375, 75.58619689941406, 74.2479019165039, 72.75048065185547, 68.41883850097656, 68.32382202148438, 67.00609588623047, 62.657318115234375, 61.42763900756836, 61.29568099975586, 1894.6080322265625, 762.0294189453125, 413.2555236816406, 368.725830078125, 356.92327880859375, 343.1078186035156, 300.78131103515625, 277.4656677246094, 173.2695770263672, 170.5136260986328, 165.75086975097656, 158.42593383789062, 148.37506103515625, 135.7939910888672, 121.4088363647461, 101.26336669921875, 98.58649444580078, 96.65901184082031, 74.24042510986328, 69.96223449707031, 67.6500244140625, 66.02404022216797, 62.328834533691406, 60.32865905761719, 59.98573684692383, 59.461544036865234, 59.169734954833984, 53.45851516723633, 50.8142204284668, 45.71211624145508, 1316.4749755859375, 484.1590576171875, 363.33563232421875, 320.2697448730469, 303.1412353515625, 269.6503601074219, 256.6046142578125, 244.24037170410156, 200.2364959716797, 199.3145751953125, 160.4840545654297, 155.93252563476562, 145.61459350585938, 238.84854125976562, 87.4382553100586, 85.47605895996094, 82.21170043945312, 75.9593734741211, 67.95088958740234, 67.89643859863281, 67.01090240478516, 65.54155731201172, 64.73151397705078, 62.736263275146484, 62.179317474365234, 60.615333557128906, 59.10388946533203, 51.73283767700195, 47.84981155395508, 44.652244567871094, 1072.2322998046875, 647.376953125, 629.8272705078125, 455.1383056640625, 381.8307189941406, 317.1484375, 250.38040161132812, 247.09063720703125, 164.49179077148438, 160.96649169921875, 138.35972595214844, 126.2021484375, 97.56350708007812, 88.22779846191406, 60.80363082885742, 46.18618392944336, 44.44393539428711, 44.402000427246094, 42.708290100097656, 33.385986328125, 33.18523406982422, 31.670581817626953, 27.58831214904785, 25.156349182128906, 24.12909698486328, 21.867551803588867, 21.373620986938477, 20.451732635498047, 18.351333618164062, 17.566455841064453, 138.6785888671875, 46.491615295410156, 38.510040283203125, 1039.2371826171875, 595.5680541992188, 526.06689453125, 413.17926025390625, 306.51837158203125, 302.6466979980469, 287.39544677734375, 241.44680786132812, 157.19442749023438, 134.0751953125, 83.6221694946289, 64.85420227050781, 57.82190704345703, 55.2295036315918, 50.910972595214844, 44.76976013183594, 44.599002838134766, 42.89004898071289, 29.56415367126465, 26.51247215270996, 25.783227920532227, 25.112308502197266, 22.629329681396484, 21.599000930786133, 20.623519897460938, 22.131202697753906, 19.122676849365234, 17.417726516723633, 18.047544479370117, 15.816375732421875, 32.11603927612305, 114.20877838134766, 408.1451110839844, 344.9311828613281, 272.0669250488281, 188.0125732421875, 187.9290771484375, 132.0074920654297, 114.07353973388672, 92.830322265625, 83.760498046875, 77.31815338134766, 70.7769546508789, 58.94913101196289, 58.371952056884766, 58.371952056884766, 54.35605239868164, 49.753910064697266, 47.507408142089844, 46.869197845458984, 44.673709869384766, 53.00608825683594, 39.390316009521484, 35.64676284790039, 34.86441421508789, 29.47308921813965, 29.048439025878906, 28.58576202392578, 28.24004554748535, 27.688026428222656, 26.95250701904297, 27.679546356201172, 40.283546447753906, 46.66944885253906, 46.271854400634766, 46.271854400634766, 44.14202880859375, 44.14202880859375, 66.19550323486328], \"loglift\": [30.0, 29.0, 28.0, 27.0, 26.0, 25.0, 24.0, 23.0, 22.0, 21.0, 20.0, 19.0, 18.0, 17.0, 16.0, 15.0, 14.0, 13.0, 12.0, 11.0, 10.0, 9.0, 8.0, 7.0, 6.0, 5.0, 4.0, 3.0, 2.0, 1.0, 2.192699909210205, 2.1926000118255615, 2.1923000812530518, 2.192199945449829, 2.192199945449829, 2.191800117492676, 2.191699981689453, 2.1916000843048096, 2.1912999153137207, 2.1910998821258545, 2.1907999515533447, 2.1905999183654785, 2.190500020980835, 2.1903998851776123, 2.190200090408325, 2.1898999214172363, 2.1898000240325928, 2.1895999908447266, 2.189300060272217, 2.188999891281128, 2.1888999938964844, 2.1888999938964844, 2.188800096511841, 2.188699960708618, 2.188699960708618, 2.1886000633239746, 2.188199996948242, 2.188199996948242, 2.1879000663757324, 2.1875998973846436, 2.60260009765625, 2.6024999618530273, 2.6024999618530273, 2.602299928665161, 2.602299928665161, 2.602099895477295, 2.601799964904785, 2.6008999347686768, 2.600800037384033, 2.600800037384033, 2.600600004196167, 2.600100040435791, 2.599400043487549, 2.599299907684326, 2.598400115966797, 2.5977001190185547, 2.5977001190185547, 2.5975000858306885, 2.597399950027466, 2.597399950027466, 2.5922999382019043, 2.5922000408172607, 2.590100049972534, 2.590100049972534, 2.589900016784668, 2.5897998809814453, 2.589600086212158, 2.589200019836426, 2.5866000652313232, 2.5861001014709473, 2.6354000568389893, 2.634999990463257, 2.6349000930786133, 2.6347999572753906, 2.6347999572753906, 2.6347999572753906, 2.634700059890747, 2.634200096130371, 2.634000062942505, 2.6338999271392822, 2.6338999271392822, 2.6335999965667725, 2.6333999633789062, 2.632999897003174, 2.632699966430664, 2.631700038909912, 2.6303000450134277, 2.6301000118255615, 2.628200054168701, 2.623699903488159, 2.621999979019165, 2.619800090789795, 2.619800090789795, 2.6178998947143555, 2.6175999641418457, 2.6147000789642334, 2.611599922180176, 2.6113998889923096, 2.6089000701904297, 2.6071999073028564, 2.5973000526428223, 2.472399950027466, 2.5673000812530518, 2.545099973678589, 2.4935998916625977, 2.235100030899048, 2.6602001190185547, 2.660099983215332, 2.6600000858306885, 2.659600019454956, 2.6594998836517334, 2.6594998836517334, 2.65939998626709, 2.6593000888824463, 2.6593000888824463, 2.658900022506714, 2.658900022506714, 2.6572999954223633, 2.656599998474121, 2.656399965286255, 2.6559998989105225, 2.6558001041412354, 2.6558001041412354, 2.6556999683380127, 2.655600070953369, 2.655100107192993, 2.654900074005127, 2.6540000438690186, 2.6538000106811523, 2.6498000621795654, 2.648699998855591, 2.648200035095215, 2.6454999446868896, 2.6429998874664307, 2.640000104904175, 2.637399911880493, 2.446000099182129, 0.7644000053405762, 2.165600061416626, 2.823899984359741, 2.8238000869750977, 2.8238000869750977, 2.823699951171875, 2.8229000568389893, 2.8227999210357666, 2.822700023651123, 2.8222999572753906, 2.822200059890747, 2.822000026702881, 2.822000026702881, 2.821700096130371, 2.8213999271392822, 2.8213000297546387, 2.821199893951416, 2.821199893951416, 2.82069993019104, 2.81850004196167, 2.8183999061584473, 2.816699981689453, 2.8162999153137207, 2.8162999153137207, 2.815000057220459, 2.81469988822937, 2.814300060272217, 2.8134000301361084, 2.813199996948242, 2.8127999305725098, 2.8090999126434326, 2.808799982070923, 2.7702999114990234, 2.742799997329712, 2.742799997329712, 2.742799997329712, 2.742799997329712, 2.725100040435791, 2.8296000957489014, 2.828900098800659, 2.8287999629974365, 2.8285999298095703, 2.8285999298095703, 2.828000068664551, 2.828000068664551, 2.828000068664551, 2.827899932861328, 2.827899932861328, 2.827899932861328, 2.8276000022888184, 2.826900005340576, 2.8268001079559326, 2.82669997215271, 2.8266000747680664, 2.8257999420166016, 2.825700044631958, 2.825200080871582, 2.825200080871582, 2.8239998817443848, 2.823899984359741, 2.8232998847961426, 2.8231000900268555, 2.822700023651123, 2.8215999603271484, 2.821000099182129, 2.82069993019104, 2.820199966430664, 2.8201000690460205, 2.8362998962402344, 2.8362998962402344, 2.835900068283081, 2.835900068283081, 2.8357999324798584, 2.8345999717712402, 2.8343000411987305, 2.8338000774383545, 2.8331000804901123, 2.832900047302246, 2.8327999114990234, 2.83240008354187, 2.8320999145507812, 2.8320000171661377, 2.8320000171661377, 2.8310000896453857, 2.8303000926971436, 2.8301000595092773, 2.829900026321411, 2.8280999660491943, 2.827699899673462, 2.8271000385284424, 2.8268001079559326, 2.82669997215271, 2.8262999057769775, 2.825900077819824, 2.8254001140594482, 2.8243000507354736, 2.823699951171875, 2.8229000568389893, 2.8153998851776123, 2.6038999557495117, 2.9123001098632812, 2.9119999408721924, 2.9117000102996826, 2.911600112915039, 2.91129994392395, 2.91129994392395, 2.9112000465393066, 2.9112000465393066, 2.9107000827789307, 2.910599946975708, 2.9105000495910645, 2.910399913787842, 2.9103000164031982, 2.9103000164031982, 2.9098000526428223, 2.90939998626709, 2.908799886703491, 2.908799886703491, 2.9084999561309814, 2.9082999229431152, 2.9082000255584717, 2.907900094985962, 2.906599998474121, 2.906399965286255, 2.9061999320983887, 2.9061999320983887, 2.904900074005127, 2.904900074005127, 2.90339994430542, 2.9026999473571777, 2.8197999000549316, 2.9981000423431396, 2.997999906539917, 2.9979000091552734, 2.996799945831299, 2.9965999126434326, 2.996500015258789, 2.996299982070923, 2.9962000846862793, 2.995500087738037, 2.9953999519348145, 2.9951999187469482, 2.9951000213623047, 2.9941000938415527, 2.993299961090088, 2.993000030517578, 2.990000009536743, 2.989500045776367, 2.988800048828125, 2.9883999824523926, 2.9881999492645264, 2.98799991607666, 2.986799955368042, 2.986299991607666, 2.9858999252319336, 2.98580002784729, 2.98580002784729, 2.983599901199341, 2.9834001064300537, 2.982599973678589, 2.9825000762939453, 3.0678000450134277, 3.0678000450134277, 3.0673999786376953, 3.067199945449829, 3.065999984741211, 3.0650999546051025, 3.065000057220459, 3.0641000270843506, 3.0638999938964844, 3.0638999938964844, 3.0638999938964844, 3.0627999305725098, 3.062700033187866, 3.0622000694274902, 3.0617001056671143, 3.060800075531006, 3.0599000453948975, 3.0590999126434326, 3.057499885559082, 3.057300090789795, 3.055799961090088, 3.0539000034332275, 3.0517001152038574, 3.050800085067749, 3.0504000186920166, 3.0495998859405518, 3.0485999584198, 3.047800064086914, 3.0473999977111816, 3.046299934387207, 2.7437000274658203, 3.1171998977661133, 3.1171998977661133, 3.117000102996826, 3.1168999671936035, 3.1159000396728516, 3.1154000759124756, 3.115299940109253, 3.115299940109253, 3.1152000427246094, 3.1150999069213867, 3.114000082015991, 3.113300085067749, 3.113300085067749, 3.113100051879883, 3.1126999855041504, 3.112600088119507, 3.111599922180176, 3.110599994659424, 3.1105000972747803, 3.109800100326538, 3.1092000007629395, 3.108599901199341, 3.1082000732421875, 3.1077001094818115, 3.107599973678589, 3.1075000762939453, 3.106600046157837, 3.1061999797821045, 3.1059000492095947, 3.105799913406372, 3.1054999828338623, 3.096299886703491, 3.060499906539917, 3.0618999004364014, 3.146399974822998, 3.1454999446868896, 3.145400047302246, 3.14520001411438, 3.1451001167297363, 3.1447999477386475, 3.1440999507904053, 3.143899917602539, 3.1435000896453857, 3.1433000564575195, 3.1429998874664307, 3.142699956893921, 3.1426000595092773, 3.1410000324249268, 3.1405999660491943, 3.139699935913086, 3.139400005340576, 3.1393001079559326, 3.1389000415802, 3.138200044631958, 3.1377999782562256, 3.136399984359741, 3.135999917984009, 3.134500026702881, 3.130000114440918, 3.129499912261963, 3.1278998851776123, 3.126199960708618, 3.1254000663757324, 3.1252999305725098, 3.161900043487549, 3.161799907684326, 3.1617000102996826, 3.1603000164031982, 3.160099983215332, 3.159899950027466, 3.1596999168395996, 3.1596999168395996, 3.157900094985962, 3.1577999591827393, 3.1568000316619873, 3.156599998474121, 3.156399965286255, 3.1563000679016113, 3.1552999019622803, 3.1552999019622803, 3.154400110244751, 3.153599977493286, 3.1531999111175537, 3.1528000831604004, 3.152400016784668, 3.151900053024292, 3.150700092315674, 3.150599956512451, 3.1491000652313232, 3.1487998962402344, 3.1484999656677246, 3.14739990234375, 3.145699977874756, 3.1456000804901123, 3.1364998817443848, 3.134200096130371, 3.117300033569336, 3.2439000606536865, 3.2434000968933105, 3.2428998947143555, 3.2427000999450684, 3.2423999309539795, 3.2421998977661133, 3.241499900817871, 3.240999937057495, 3.240600109100342, 3.239799976348877, 3.2388999462127686, 3.238800048828125, 3.2385001182556152, 3.237799882888794, 3.237799882888794, 3.2372000217437744, 3.2369000911712646, 3.236799955368042, 3.236299991607666, 3.2353999614715576, 3.2348999977111816, 3.2346999645233154, 3.231600046157837, 3.231100082397461, 3.2298998832702637, 3.229599952697754, 3.229099988937378, 3.228800058364868, 3.228800058364868, 3.228300094604492, 3.2999000549316406, 3.2999000549316406, 3.2997000217437744, 3.2995998859405518, 3.2994000911712646, 3.2994000911712646, 3.2994000911712646, 3.29830002784729, 3.2980000972747803, 3.2978999614715576, 3.297800064086914, 3.297499895095825, 3.296999931335449, 3.2945001125335693, 3.2943999767303467, 3.293600082397461, 3.293100118637085, 3.2927000522613525, 3.2918999195098877, 3.290299892425537, 3.2892000675201416, 3.2888998985290527, 3.2887001037597656, 3.2883999347686768, 3.287600040435791, 3.2874999046325684, 3.2873001098632812, 3.28629994392395, 3.2860000133514404, 3.285900115966797, 3.32450008392334, 3.3238000869750977, 3.322700023651123, 3.3224000930786133, 3.3222999572753906, 3.322200059890747, 3.3217999935150146, 3.3215999603271484, 3.319499969482422, 3.3194000720977783, 3.319200038909912, 3.319000005722046, 3.3185999393463135, 3.318000078201294, 3.3171000480651855, 3.315500020980835, 3.3152999877929688, 3.3150999546051025, 3.3120999336242676, 3.311300039291382, 3.310800075531006, 3.3104000091552734, 3.3096001148223877, 3.3090999126434326, 3.309000015258789, 3.308799982070923, 3.3087000846862793, 3.306999921798706, 3.305999994277954, 3.3039000034332275, 3.452199935913086, 3.4509999752044678, 3.4504001140594482, 3.450000047683716, 3.4498000144958496, 3.44950008392334, 3.4493000507354736, 3.4491000175476074, 3.4482998847961426, 3.448199987411499, 3.4470999240875244, 3.446899890899658, 3.446500062942505, 3.4449000358581543, 3.442199945449829, 3.4419000148773193, 3.441499948501587, 3.440500020980835, 3.4391000270843506, 3.438999891281128, 3.4388999938964844, 3.438499927520752, 3.4384000301361084, 3.4379000663757324, 3.4377999305725098, 3.4374001026153564, 3.437000036239624, 3.4347000122070312, 3.433199882507324, 3.4316999912261963, 3.5429000854492188, 3.54229998588562, 3.54229998588562, 3.5416998863220215, 3.541300058364868, 3.540800094604492, 3.5399999618530273, 3.5399999618530273, 3.5380001068115234, 3.537899971008301, 3.536900043487549, 3.53629994392395, 3.5339999198913574, 3.5329999923706055, 3.52810001373291, 3.5230000019073486, 3.522200107574463, 3.522200107574463, 3.5213000774383545, 3.514899969100952, 3.514699935913086, 3.5132999420166016, 3.508699893951416, 3.5053000450134277, 3.5035998821258545, 3.4993999004364014, 3.498300075531006, 3.4962000846862793, 3.490600109100342, 3.4881999492645264, 3.4865000247955322, 3.450700044631958, 3.388700008392334, 3.7279999256134033, 3.727299928665161, 3.727099895477295, 3.726599931716919, 3.725800037384033, 3.7256999015808105, 3.725600004196167, 3.724900007247925, 3.7228000164031982, 3.7218000888824463, 3.716099977493286, 3.714200019836426, 3.7123000621795654, 3.7116000652313232, 3.710099935531616, 3.7074999809265137, 3.70740008354187, 3.7065000534057617, 3.6963000297546387, 3.692500114440918, 3.6914000511169434, 3.6903998851776123, 3.6861000061035156, 3.684000015258789, 3.68179988861084, 3.6807000637054443, 3.678100109100342, 3.6728999614715576, 3.6721999645233154, 3.667099952697754, 3.19350004196167, 1.9127999544143677, 3.943000078201294, 3.9426000118255615, 3.9419000148773193, 3.9402999877929688, 3.9402999877929688, 3.9381000995635986, 3.937000036239624, 3.9351000785827637, 3.9339001178741455, 3.933000087738037, 3.93179988861084, 3.9291000366210938, 3.9289000034332275, 3.9289000034332275, 3.9270999431610107, 3.926100015640259, 3.9251999855041504, 3.9249000549316406, 3.9233999252319336, 3.9212000370025635, 3.9203999042510986, 3.9184000492095947, 3.9177000522613525, 3.912600040435791, 3.912100076675415, 3.911600112915039, 3.911099910736084, 3.9096999168395996, 3.9094998836517334, 3.908400058746338, 3.904900074005127, 3.8870999813079834, 3.7755000591278076, 3.7755000591278076, 3.641700029373169, 3.641700029373169, 3.2386999130249023], \"logprob\": [30.0, 29.0, 28.0, 27.0, 26.0, 25.0, 24.0, 23.0, 22.0, 21.0, 20.0, 19.0, 18.0, 17.0, 16.0, 15.0, 14.0, 13.0, 12.0, 11.0, 10.0, 9.0, 8.0, 7.0, 6.0, 5.0, 4.0, 3.0, 2.0, 1.0, -1.9168000221252441, -2.214400053024292, -2.8208999633789062, -2.9402999877929688, -2.97760009765625, -3.447700023651123, -3.461199998855591, -3.5388998985290527, -3.7936999797821045, -3.8882999420166016, -4.034200191497803, -4.119999885559082, -4.157100200653076, -4.210599899291992, -4.281199932098389, -4.386300086975098, -4.427700042724609, -4.490699768066406, -4.560200214385986, -4.635000228881836, -4.661300182342529, -4.678199768066406, -4.7027997970581055, -4.704899787902832, -4.720900058746338, -4.746200084686279, -4.819300174713135, -4.823999881744385, -4.892600059509277, -4.946000099182129, -2.003499984741211, -2.1319000720977783, -2.2023000717163086, -2.4960999488830566, -2.5144999027252197, -2.7430999279022217, -3.0485000610351562, -3.61680006980896, -3.6570000648498535, -3.6582999229431152, -3.738800048828125, -3.9193999767303467, -4.1346001625061035, -4.154300212860107, -4.377999782562256, -4.514800071716309, -4.518099784851074, -4.554699897766113, -4.568699836730957, -4.576000213623047, -5.225100040435791, -5.233099937438965, -5.406599998474121, -5.412899971008301, -5.426799774169922, -5.43179988861084, -5.445499897003174, -5.475800037384033, -5.651299953460693, -5.680300235748291, -2.021199941635132, -2.6103999614715576, -2.6642000675201416, -2.7920000553131104, -2.7967000007629395, -2.825700044631958, -2.938499927520752, -3.2451000213623047, -3.3710999488830566, -3.438800096511841, -3.4482998847961426, -3.5831000804901123, -3.6826999187469482, -3.817199945449829, -3.9361000061035156, -4.200200080871582, -4.504000186920166, -4.528900146484375, -4.824900150299072, -4.51200008392334, -5.417699813842773, -5.567299842834473, -4.583499908447266, -5.681399822235107, -5.69890022277832, -5.851099967956543, -5.988800048828125, -5.994699954986572, -6.096099853515625, -6.155300140380859, -5.146699905395508, -2.5241000652313232, -5.077499866485596, -5.439799785614014, -5.475299835205078, -5.14169979095459, -1.8925000429153442, -2.2284998893737793, -2.3650999069213867, -2.778599977493286, -2.875499963760376, -2.904400110244751, -3.000999927520752, -3.044800043106079, -3.0485000610351562, -3.3392999172210693, -3.3501999378204346, -3.9986000061035156, -4.179599761962891, -4.231599807739258, -4.326700210571289, -4.36359977722168, -4.373600006103516, -4.379799842834473, -4.412799835205078, -4.498000144958496, -4.536099910736084, -4.688700199127197, -4.7170000076293945, -5.1707000732421875, -5.275199890136719, -5.317200183868408, -5.514900207519531, -5.667200088500977, -5.825900077819824, -5.94379997253418, -4.821800231933594, -4.232100009918213, -5.622900009155273, -2.7571001052856445, -2.8541998863220215, -2.8659000396728516, -2.930799961090088, -3.4024999141693115, -3.4321999549865723, -2.9584999084472656, -3.640199899673462, -3.6877999305725098, -3.739300012588501, -3.74399995803833, -3.838200092315674, -3.913100004196167, -3.9402999877929688, -3.967400074005127, -3.976799964904785, -4.090400218963623, -4.501299858093262, -4.513700008392334, -4.752399921417236, -4.2606000900268555, -4.797399997711182, -4.934500217437744, -4.949399948120117, -5.004700183868408, -3.9769999980926514, -5.104400157928467, -5.130799770355225, -5.397299766540527, -4.671199798583984, -4.548399925231934, -4.343900203704834, -4.343900203704834, -4.343900203704834, -4.343900203704834, -4.361700057983398, -1.9315999746322632, -2.7834999561309814, -2.8749001026153564, -3.0190999507904053, -3.030600070953369, -3.3719000816345215, -3.376800060272217, -3.3951001167297363, -3.4151999950408936, -3.4291000366210938, -3.430999994277954, -3.5780999660491943, -3.8115999698638916, -3.835700035095215, -3.866300106048584, -3.891200065612793, -4.109499931335449, -4.128499984741211, -4.2322001457214355, -4.235799789428711, -4.460299968719482, -4.473299980163574, -4.570799827575684, -4.5945000648498535, -4.654200077056885, -4.790500164031982, -4.860199928283691, -4.893400192260742, -4.942800045013428, -4.956699848175049, -1.8985999822616577, -1.9541000127792358, -2.514400005340576, -2.5376999378204346, -2.5687999725341797, -3.400399923324585, -3.5253000259399414, -3.7202999591827393, -3.9291000366210938, -3.986999988555908, -4.001399993896484, -4.109799861907959, -4.154900074005127, -4.181399822235107, -4.193600177764893, -4.38129997253418, -4.493199825286865, -4.517199993133545, -4.552299976348877, -4.780900001525879, -4.832499980926514, -4.893199920654297, -4.924900054931641, -4.938700199127197, -4.974999904632568, -5.01170015335083, -5.053599834442139, -5.146900177001953, -5.195199966430664, -5.254300117492676, -4.8394999504089355, -4.85830020904541, -2.3534998893737793, -2.6991000175476074, -2.9059998989105225, -2.9451000690460205, -3.115600109100342, -3.11929988861084, -3.180000066757202, -3.186800003051758, -3.441699981689453, -3.4776999950408936, -3.489300012588501, -3.5329999923706055, -3.575700044631958, -3.585900068283081, -3.7504000663757324, -3.8517000675201416, -3.9909000396728516, -4.012899875640869, -4.072299957275391, -4.11899995803833, -4.124199867248535, -4.19920015335083, -4.41480016708374, -4.443299770355225, -4.468400001525879, -4.471799850463867, -4.640699863433838, -3.740999937057495, -4.817599773406982, -4.885799884796143, -4.64739990234375, -1.875599980354309, -1.9047000408172607, -2.1707000732421875, -3.0652999877929688, -3.174499988555908, -3.2358999252319336, -3.2987000942230225, -3.358599901199341, -3.6117000579833984, -3.6438000202178955, -3.7090001106262207, -3.728300094604492, -3.9702999591827393, -4.13129997253418, -4.192699909210205, -4.630799770355225, -4.681600093841553, -4.753399848937988, -4.794400215148926, -4.817500114440918, -4.833700180053711, -4.946400165557861, -4.982800006866455, -5.020899772644043, -5.025000095367432, -5.026500225067139, -5.1844000816345215, -5.201000213623047, -5.249499797821045, -5.257500171661377, -1.7373000383377075, -1.8336999416351318, -2.3434998989105225, -2.5622000694274902, -3.239000082015991, -3.559799909591675, -3.608599901199341, -3.8397998809814453, -3.8743999004364014, -3.8893001079559326, -3.890700101852417, -4.0960001945495605, -4.123199939727783, -4.207499980926514, -4.28249979019165, -4.406599998474121, -4.522500038146973, -4.615699768066406, -4.773099899291992, -4.798600196838379, -4.923999786376953, -5.06790018081665, -5.209400177001953, -5.260799884796143, -5.282199859619141, -5.329699993133545, -5.381100177764893, -5.4222002029418945, -5.441400051116943, -5.491199970245361, -5.320000171661377, -2.6972999572753906, -2.7195000648498535, -2.7999000549316406, -2.865299940109253, -3.3415000438690186, -3.5032999515533447, -3.555500030517578, -3.5589001178741455, -3.3531999588012695, -3.608799934387207, -3.835099935531616, -4.013800144195557, -3.944200038909912, -4.050099849700928, -3.8313000202178955, -4.1371002197265625, -4.293499946594238, -4.435400009155273, -4.442399978637695, -4.521500110626221, -4.589399814605713, -4.650000095367432, -4.692999839782715, -4.736700057983398, -4.749499797821045, -4.754700183868408, -4.839000225067139, -4.8678998947143555, -4.89169979095459, -4.902200222015381, -3.978800058364868, -4.389800071716309, -4.365099906921387, -4.446700096130371, -1.5650999546051025, -2.6215999126434326, -2.724900007247925, -2.8431999683380127, -2.9147000312805176, -3.0617001056671143, -3.32450008392334, -3.4135000705718994, -3.5165998935699463, -3.572700023651123, -3.663100004196167, -3.740299940109253, -3.770699977874756, -4.075200080871582, -4.144000053405762, -4.283699989318848, -4.321199893951416, -4.330399990081787, -4.387599945068359, -4.462900161743164, -4.509200096130371, -4.659299850463867, -4.696599960327148, -4.821100234985352, -5.137400150299072, -5.1666998863220215, -5.253300189971924, -5.342299938201904, -5.38129997253418, -5.381999969482422, -2.1603000164031982, -2.2513999938964844, -2.3687000274658203, -3.174499988555908, -3.25819993019104, -3.3322999477386475, -3.3875999450683594, -3.391900062561035, -3.8447999954223633, -3.8796000480651855, -4.061100006103516, -4.0706000328063965, -4.121500015258789, -4.139800071716309, -4.280300140380859, -4.282199859619141, -4.3755998611450195, -4.486199855804443, -4.531599998474121, -4.57390022277832, -4.614699840545654, -4.660099983215332, -4.766300201416016, -4.7769999504089355, -4.889100074768066, -4.911799907684326, -4.932300090789795, -5.00570011138916, -5.112400054931641, -5.118299961090088, -4.393599987030029, -4.78000020980835, -4.673299789428711, -1.9351999759674072, -2.428299903869629, -2.7771999835968018, -2.901900053024292, -3.037600040435791, -3.1379001140594482, -3.3608999252319336, -3.513700008392334, -3.633500099182129, -3.7967000007629395, -3.9769999980926514, -3.9835000038146973, -4.043700218200684, -4.140399932861328, -4.14709997177124, -4.232699871063232, -4.271399974822998, -3.711400032043457, -4.350100040435791, -4.445799827575684, -4.263999938964844, -4.523600101470947, -4.790500164031982, -4.83050012588501, -4.9019999504089355, -4.0808000564575195, -4.972400188446045, -4.988900184631348, -4.991300106048584, -5.0229997634887695, -2.597100019454956, -2.6250998973846436, -2.7509000301361084, -2.7723000049591064, -2.8819000720977783, -2.885699987411499, -2.898200035095215, -3.323899984359741, -3.419800043106079, -3.4258999824523926, -3.4549999237060547, -3.533900022506714, -3.662400007247925, -4.099599838256836, -4.122799873352051, -4.220699787139893, -4.285900115966797, -4.335700035095215, -4.427000045776367, -4.575200080871582, -3.841399908065796, -4.697299957275391, -4.715400218963623, -4.736000061035156, -4.7982001304626465, -4.799600124359131, -4.819399833679199, -4.887499809265137, -4.907599925994873, -4.909800052642822, -1.4401999711990356, -2.3517000675201416, -2.9646999835968018, -3.0789999961853027, -3.111599922180176, -3.15120005607605, -3.2832000255584717, -3.3642001152038574, -3.837100028991699, -3.8531999588012695, -3.881700038909912, -3.9272000789642334, -3.9930999279022217, -4.082300186157227, -4.195199966430664, -4.378200054168701, -4.405200004577637, -4.42519998550415, -4.6921000480651855, -4.752200126647949, -4.786300182342529, -4.810999870300293, -4.8694000244140625, -4.902599811553955, -4.908400058746338, -4.917300224304199, -4.922299861907959, -5.0254998207092285, -5.077199935913086, -5.185200214385986, -1.6764999628067017, -2.677999973297119, -2.9656999111175537, -3.0922999382019043, -3.14739990234375, -3.2648000717163086, -3.3145999908447266, -3.3642001152038574, -3.563699960708618, -3.5683000087738037, -3.786099910736084, -3.8150999546051025, -3.884000062942505, -3.390700101852417, -4.3983001708984375, -4.421299934387207, -4.460700035095215, -4.5406999588012695, -4.653600215911865, -4.654399871826172, -4.667699813842773, -4.690199851989746, -4.7027997970581055, -4.734600067138672, -4.743599891662598, -4.769499778747559, -4.795199871063232, -4.930699825286865, -5.010200023651123, -5.0808000564575195, -1.7910000085830688, -2.2962000370025635, -2.323699951171875, -2.6491000652313232, -2.8250999450683594, -3.0113000869750977, -3.2483999729156494, -3.261699914932251, -3.670599937438965, -3.6923999786376953, -3.8447000980377197, -3.937299966812134, -4.196899890899658, -4.298500061035156, -4.6757001876831055, -4.955699920654297, -4.994999885559082, -4.995999813079834, -5.035699844360352, -5.288400173187256, -5.294600009918213, -5.342700004577637, -5.485300064086914, -5.580999851226807, -5.6244001388549805, -5.727099895477295, -5.750999927520752, -5.7972002029418945, -5.911099910736084, -5.957300186157227, -3.8928000926971436, -5.021399974822998, -5.2718000411987305, -1.6371999979019165, -2.1946001052856445, -2.3189001083374023, -2.561000108718872, -2.8603999614715576, -2.8731000423431396, -2.924999952316284, -3.0998001098632812, -3.531100034713745, -3.6912999153137207, -4.169000148773193, -4.425099849700928, -4.5416998863220215, -4.588399887084961, -4.671299934387207, -4.8024001121521, -4.806300163269043, -4.84630012512207, -5.228600025177002, -5.341300010681152, -5.370299816131592, -5.39769983291626, -5.506100177764893, -5.554800033569336, -5.6031999588012695, -5.533699989318848, -5.682499885559082, -5.781000137329102, -5.746200084686279, -5.883299827575684, -5.648499965667725, -5.660600185394287, -2.356800079345703, -2.5255000591278076, -2.7634999752044678, -3.1345999240875244, -3.1350998878479004, -3.4904000759124756, -3.6375999450683594, -3.845599889755249, -3.94950008392334, -4.0304999351501465, -4.120100021362305, -4.305600166320801, -4.315700054168701, -4.315700054168701, -4.388800144195557, -4.478300094604492, -4.525400161743164, -4.5391998291015625, -4.588600158691406, -4.4197998046875, -4.71750020980835, -4.819399833679199, -4.842199802398682, -5.015399932861328, -5.030399799346924, -5.046999931335449, -5.059500217437744, -5.080699920654297, -5.107900142669678, -5.082300186157227, -4.710599899291992, -4.581200122833252, -4.701399803161621, -4.701399803161621, -4.882299900054932, -4.882299900054932, -4.880099773406982]}, \"token.table\": {\"Topic\": [4, 10, 6, 3, 5, 9, 17, 13, 18, 11, 1, 14, 3, 4, 5, 6, 8, 13, 7, 15, 9, 14, 11, 12, 8, 1, 5, 19, 2, 14, 13, 17, 20, 1, 13, 13, 4, 16, 17, 14, 4, 13, 18, 13, 18, 10, 2, 9, 9, 5, 9, 14, 20, 9, 2, 7, 9, 7, 18, 3, 8, 2, 8, 3, 2, 5, 19, 18, 1, 12, 7, 6, 20, 1, 2, 12, 14, 8, 5, 16, 5, 7, 9, 17, 16, 18, 20, 3, 4, 5, 6, 8, 13, 6, 5, 6, 14, 2, 13, 5, 6, 19, 9, 1, 2, 3, 4, 5, 6, 7, 8, 9, 10, 11, 14, 16, 17, 19, 20, 15, 2, 13, 1, 6, 9, 13, 15, 17, 19, 20, 8, 15, 11, 9, 5, 4, 2, 20, 19, 5, 20, 20, 1, 2, 3, 6, 9, 13, 14, 18, 19, 20, 10, 2, 6, 20, 17, 19, 20, 13, 13, 17, 17, 2, 7, 10, 15, 12, 9, 20, 7, 8, 15, 13, 20, 20, 6, 4, 7, 14, 4, 11, 15, 7, 4, 4, 15, 1, 14, 20, 4, 16, 12, 13, 15, 7, 11, 10, 12, 7, 15, 17, 13, 15, 8, 3, 20, 4, 5, 15, 16, 3, 9, 7, 12, 16, 11, 11, 7, 8, 12, 1, 13, 11, 8, 9, 10, 11, 12, 20, 15, 11, 4, 16, 19, 10, 18, 14, 18, 17, 8, 14, 11, 2, 11, 2, 19, 12, 18, 7, 17, 7, 14, 3, 12, 16, 3, 4, 5, 6, 8, 13, 5, 19, 18, 3, 11, 15, 18, 8, 2, 18, 14, 13, 7, 7, 12, 18, 7, 5, 1, 13, 18, 20, 1, 19, 16, 9, 3, 8, 4, 19, 13, 1, 8, 20, 14, 16, 19, 4, 2, 1, 3, 16, 15, 4, 11, 3, 3, 3, 4, 2, 5, 20, 12, 3, 4, 8, 6, 14, 10, 7, 17, 11, 19, 20, 9, 3, 1, 16, 6, 20, 3, 19, 15, 20, 11, 9, 9, 9, 19, 20, 10, 2, 13, 6, 12, 19, 9, 9, 3, 17, 2, 7, 3, 3, 4, 10, 15, 7, 10, 18, 1, 2, 3, 4, 5, 6, 7, 8, 9, 10, 11, 12, 13, 14, 15, 16, 17, 19, 20, 4, 15, 17, 20, 20, 4, 1, 10, 19, 10, 15, 19, 1, 2, 3, 4, 5, 6, 7, 8, 9, 12, 13, 14, 15, 2, 4, 19, 14, 8, 11, 17, 1, 16, 1, 6, 9, 13, 15, 17, 19, 20, 4, 3, 4, 10, 13, 12, 20, 6, 5, 16, 3, 4, 5, 10, 13, 14, 15, 14, 13, 5, 14, 17, 19, 11, 6, 9, 9, 8, 6, 2, 8, 3, 5, 10, 13, 18, 5, 17, 1, 2, 4, 5, 6, 7, 9, 10, 11, 14, 16, 20, 1, 9, 14, 7, 17, 17, 6, 6, 5, 9, 14, 5, 16, 6, 10, 6, 17, 1, 5, 7, 8, 12, 14, 15, 16, 20, 6, 1, 2, 3, 4, 5, 6, 7, 8, 9, 10, 11, 12, 13, 14, 15, 16, 17, 19, 20, 3, 4, 5, 6, 8, 12, 13, 15, 16, 3, 6, 11, 10, 6, 20, 15, 17, 16, 8, 12, 17, 18, 1, 11, 14, 16, 3, 11, 7, 4, 13, 12, 1, 2, 3, 4, 10, 13, 2, 4, 17, 4, 3, 15, 10, 16, 12, 6, 1, 16, 5, 19, 14, 5, 8, 11, 17, 13, 18, 16, 4, 8, 17, 2, 8, 12, 17, 18, 14, 11, 16, 8, 12, 14, 13, 18, 3, 4, 5, 6, 8, 13, 12, 11, 5, 5, 14, 17, 18, 12, 7, 4, 13, 1, 6, 16, 1, 15, 18, 8, 16, 3, 13, 17, 10, 10, 9, 19, 14, 19, 20, 13, 1, 8, 8, 2, 8, 8, 11, 13, 14, 18, 11, 14, 10, 15, 8, 8, 2, 6, 7, 8, 11, 5, 10, 2, 7, 18, 1, 16, 2, 13, 7, 10, 9, 20, 16, 3, 4, 12, 15, 5, 1, 8, 12, 20, 4, 4, 2, 15, 2, 14, 15, 12, 16, 19, 10, 11, 1, 17, 13, 13, 15, 14, 1, 5, 7, 8, 12, 14, 15, 16, 20, 20, 7, 1, 5, 10, 5, 3, 9, 12, 6, 12, 3, 3, 6, 10, 17, 11, 2, 15, 17, 16, 13, 1, 19, 5, 18, 5, 4, 14, 12, 19, 10, 1, 15, 13, 3, 12, 3, 8, 15, 20, 8, 14, 12, 11, 12, 6, 3, 4, 18, 2, 6, 16, 3, 10, 3, 1, 19, 18, 8, 20, 11, 1, 7, 19, 18, 17, 9, 1, 8, 9, 13, 14, 18, 20, 4, 18, 7, 18, 9, 16, 18, 6, 1, 1, 10, 11, 8, 10, 6, 11, 16, 20, 10, 13, 9, 4, 18, 17, 13, 20, 19, 7, 10, 11, 9, 6, 15, 10, 12, 15, 11, 19, 4, 3, 12, 19, 3, 4, 10, 13, 3, 18], \"Freq\": [0.983532190322876, 0.9848487973213196, 0.997649610042572, 0.9951010942459106, 0.9978360533714294, 0.9922842979431152, 0.9810336232185364, 0.9971342086791992, 0.9986864924430847, 0.9991263151168823, 0.9948790073394775, 0.9946617484092712, 0.010763206519186497, 0.005381603259593248, 0.920254111289978, 0.021526413038372993, 0.005381603259593248, 0.026908015832304955, 0.9967442750930786, 0.9767590165138245, 0.9876884818077087, 0.9845430850982666, 0.9874475002288818, 0.981933057308197, 0.9958537817001343, 0.9938335418701172, 0.9954207539558411, 0.9809176325798035, 0.9992966055870056, 0.9795753359794617, 0.9892261624336243, 0.9849143624305725, 0.997300386428833, 0.9981418251991272, 0.9952622056007385, 0.9725704193115234, 0.9934055805206299, 0.9786802530288696, 0.9996392130851746, 0.9901677370071411, 0.9991891980171204, 0.993631899356842, 0.9963788390159607, 0.9849561452865601, 0.9867832064628601, 0.98951256275177, 0.9821684956550598, 0.9838863015174866, 0.9976159334182739, 0.9919371008872986, 0.9838627576828003, 0.996234655380249, 0.9849193096160889, 0.988523006439209, 0.999052882194519, 0.9865096807479858, 0.9913128614425659, 0.998373806476593, 0.9834156036376953, 0.9830905199050903, 0.9972202777862549, 0.9973430037498474, 0.9989227056503296, 0.9891623258590698, 0.9973558783531189, 0.9953065514564514, 0.9988095164299011, 0.967753529548645, 0.9996052384376526, 0.9956046938896179, 0.9917734861373901, 0.9930900931358337, 0.9750524163246155, 0.9940176606178284, 0.9976648092269897, 0.98026442527771, 0.9981867074966431, 0.9947104454040527, 0.9889333844184875, 0.9875239729881287, 0.9974927306175232, 0.9942042231559753, 0.9951730370521545, 0.9969837665557861, 0.9802308678627014, 0.9978730082511902, 0.9909205436706543, 0.010763206519186497, 0.005381603259593248, 0.920254111289978, 0.021526413038372993, 0.005381603259593248, 0.026908015832304955, 0.9920406341552734, 0.997475802898407, 0.9971582293510437, 0.9839078783988953, 0.9805605411529541, 0.9904152750968933, 0.9977394938468933, 0.9993804693222046, 0.9777382612228394, 0.9961835741996765, 0.023505106568336487, 0.00783503521233797, 0.01567007042467594, 0.00783503521233797, 0.01567007042467594, 0.00783503521233797, 0.7913385629653931, 0.00783503521233797, 0.01567007042467594, 0.00783503521233797, 0.00783503521233797, 0.047010213136672974, 0.01567007042467594, 0.00783503521233797, 0.01567007042467594, 0.01567007042467594, 0.9965108633041382, 0.9988320469856262, 0.9833906292915344, 0.0216114092618227, 0.0216114092618227, 0.0216114092618227, 0.0216114092618227, 0.0216114092618227, 0.0216114092618227, 0.0216114092618227, 0.8428449630737305, 0.9992436766624451, 0.9792624711990356, 0.9942591190338135, 0.9953799843788147, 0.9853407144546509, 0.998879611492157, 0.9940547943115234, 0.9647040963172913, 0.9557066559791565, 0.9976528882980347, 0.9814547896385193, 0.9829515814781189, 0.031137090176343918, 0.031137090176343918, 0.031137090176343918, 0.031137090176343918, 0.031137090176343918, 0.031137090176343918, 0.031137090176343918, 0.031137090176343918, 0.5916047096252441, 0.09341126680374146, 0.9951014518737793, 0.9947305917739868, 0.9966557621955872, 0.9752063751220703, 0.9822400212287903, 0.9971458911895752, 0.9818563461303711, 0.9979259371757507, 0.9910190105438232, 0.9963239431381226, 0.9858341813087463, 0.9966325163841248, 0.9920660853385925, 0.9949345588684082, 0.9987092018127441, 0.9842233061790466, 0.9992674589157104, 0.9890224933624268, 0.9907429814338684, 0.9977457523345947, 0.9897937774658203, 0.9726913571357727, 0.008385270833969116, 0.989319384098053, 0.9948039054870605, 0.9971268177032471, 0.9784170985221863, 0.9985626935958862, 0.992085874080658, 0.9976992607116699, 0.9831927418708801, 0.9973748326301575, 0.9989777207374573, 0.9985419511795044, 0.9895093441009521, 0.9944004416465759, 0.9947705268859863, 0.9905890822410583, 0.9971332550048828, 0.9832918047904968, 0.9978508949279785, 0.9876133799552917, 0.9973384141921997, 0.9959092140197754, 0.9919118285179138, 0.9883896708488464, 0.9945724606513977, 0.9992048740386963, 0.9990845918655396, 0.9886992573738098, 0.9898043870925903, 0.9950593113899231, 0.9938594698905945, 0.9993993639945984, 0.979508638381958, 0.9941198229789734, 0.9912576079368591, 0.99503093957901, 0.9986491203308105, 0.9995465278625488, 0.9912612438201904, 0.9937390685081482, 0.9923945069313049, 0.9909993410110474, 0.9991082549095154, 0.9789037108421326, 0.995278537273407, 0.9878526926040649, 0.9965601563453674, 0.9963043928146362, 0.9892355799674988, 0.9945560693740845, 0.008206361904740334, 0.008206361904740334, 0.008206361904740334, 0.9437316060066223, 0.9814438223838806, 0.9839484095573425, 0.9987502098083496, 0.9983421564102173, 0.9915390610694885, 0.99223792552948, 0.9696225523948669, 0.9951806664466858, 0.935732901096344, 0.9862288236618042, 0.9901725053787231, 0.9898485541343689, 0.9971509575843811, 0.9963884353637695, 0.9938280582427979, 0.9877256751060486, 0.9975799918174744, 0.9984081387519836, 0.9721896648406982, 0.974101722240448, 0.9779122471809387, 0.9989209175109863, 0.9976060390472412, 0.9994361996650696, 0.9926344752311707, 0.9936655163764954, 0.997728705406189, 0.9779763221740723, 0.010763206519186497, 0.005381603259593248, 0.920254111289978, 0.021526413038372993, 0.005381603259593248, 0.026908015832304955, 0.9980437755584717, 0.9865691661834717, 0.9263631701469421, 0.9988956451416016, 0.9881348609924316, 0.998269259929657, 0.9532060027122498, 0.9991007447242737, 0.994114875793457, 0.9675110578536987, 0.996851921081543, 0.9917564988136292, 0.9889653325080872, 0.9957144260406494, 0.9981538653373718, 0.9944868087768555, 0.9931434392929077, 0.9960887432098389, 0.9981366991996765, 0.9994716644287109, 0.9684248566627502, 0.9923679232597351, 0.9982563257217407, 0.9828062653541565, 0.984489917755127, 0.9985758066177368, 0.9780331254005432, 0.9944989681243896, 0.9993211627006531, 0.9792481064796448, 0.9991276860237122, 0.9964329600334167, 0.993636965751648, 0.9681372046470642, 0.9994099140167236, 0.9844217300415039, 0.9925597310066223, 0.9996282458305359, 0.9975220561027527, 0.9996899962425232, 0.9967692494392395, 0.9974132180213928, 0.9922446608543396, 0.9970507025718689, 0.9975709319114685, 0.9910045266151428, 0.9837200045585632, 0.849208414554596, 0.15040838718414307, 0.986997127532959, 0.9882045984268188, 0.9764963984489441, 0.9796732664108276, 0.9657654166221619, 0.01038457453250885, 0.9965207576751709, 0.996465802192688, 0.991426944732666, 0.9974194169044495, 0.9946486949920654, 0.99382483959198, 0.9987295866012573, 0.9821065664291382, 0.9764963984489441, 0.9941025376319885, 0.9987334609031677, 0.9980484247207642, 0.9969618916511536, 0.9946138858795166, 0.9751507639884949, 0.9991727471351624, 0.9990462064743042, 0.9976592063903809, 0.9754495024681091, 0.9934684634208679, 0.9858385324478149, 0.9986931681632996, 0.9950358271598816, 0.9697665572166443, 0.9639072418212891, 0.9841320514678955, 0.9869393110275269, 0.9918507933616638, 0.9944814443588257, 0.9947903752326965, 0.9412907958030701, 0.9965537786483765, 0.9812461137771606, 0.9988906383514404, 0.9975881576538086, 0.9995635151863098, 0.9989128708839417, 0.999206006526947, 0.9309937357902527, 0.009403976611793041, 0.009403976611793041, 0.009403976611793041, 0.9962437748908997, 0.980065107345581, 0.993995726108551, 0.00719279982149601, 0.00719279982149601, 0.6689303517341614, 0.02157839946448803, 0.01438559964299202, 0.00719279982149601, 0.00719279982149601, 0.00719279982149601, 0.00719279982149601, 0.0359639972448349, 0.01438559964299202, 0.01438559964299202, 0.02157839946448803, 0.01438559964299202, 0.01438559964299202, 0.04315679892897606, 0.00719279982149601, 0.05754239857196808, 0.04315679892897606, 0.994994044303894, 0.9953540563583374, 0.9957793354988098, 0.99461430311203, 0.9848472476005554, 0.9989762902259827, 0.9926521182060242, 0.9955983757972717, 0.9868288636207581, 0.999189555644989, 0.9904970526695251, 0.972267210483551, 0.010857406072318554, 0.010857406072318554, 0.0760018453001976, 0.6080147624015808, 0.010857406072318554, 0.010857406072318554, 0.043429624289274216, 0.043429624289274216, 0.010857406072318554, 0.021714812144637108, 0.010857406072318554, 0.09771665930747986, 0.010857406072318554, 0.9995195269584656, 0.9937812685966492, 0.9924015998840332, 0.992042064666748, 0.9976911544799805, 0.9934563040733337, 0.9949215054512024, 0.9984787702560425, 0.9907325506210327, 0.0216114092618227, 0.0216114092618227, 0.0216114092618227, 0.0216114092618227, 0.0216114092618227, 0.0216114092618227, 0.0216114092618227, 0.8428449630737305, 0.9969733953475952, 0.8713057637214661, 0.03901369124650955, 0.013004563748836517, 0.05201825499534607, 0.9985307455062866, 0.9910554885864258, 0.987662136554718, 0.9976037740707397, 0.995469868183136, 0.013574431650340557, 0.0067872158251702785, 0.9434230327606201, 0.0067872158251702785, 0.0067872158251702785, 0.0067872158251702785, 0.0067872158251702785, 0.9874911308288574, 0.9938167929649353, 0.9893938899040222, 0.993015468120575, 0.9852612018585205, 0.9940077662467957, 0.992767333984375, 0.9982945919036865, 0.9890228509902954, 0.9991245269775391, 0.9954943060874939, 0.9937718510627747, 0.9894528985023499, 0.994154691696167, 0.9771385192871094, 0.9810041189193726, 0.9991551041603088, 0.9857046008110046, 0.9974989891052246, 0.9994036555290222, 0.9934045076370239, 0.015106766484677792, 0.015106766484677792, 0.015106766484677792, 0.015106766484677792, 0.015106766484677792, 0.030213532969355583, 0.030213532969355583, 0.030213532969355583, 0.2719217836856842, 0.015106766484677792, 0.015106766484677792, 0.4985232949256897, 0.9974313974380493, 0.9898375868797302, 0.9988344311714172, 0.9950196146965027, 0.9917371869087219, 0.9813228845596313, 0.9978179931640625, 0.9989553093910217, 0.988483190536499, 0.994830310344696, 0.9843961000442505, 0.9946315288543701, 0.9969877600669861, 0.996517539024353, 0.9987604022026062, 0.996547281742096, 0.9949878454208374, 0.02265414595603943, 0.02265414595603943, 0.02265414595603943, 0.02265414595603943, 0.02265414595603943, 0.02265414595603943, 0.04530829191207886, 0.02265414595603943, 0.7475868463516235, 0.9953274130821228, 0.01751178875565529, 0.008755894377827644, 0.18387378752231598, 0.04377947002649307, 0.03502357751131058, 0.01751178875565529, 0.008755894377827644, 0.026267683133482933, 0.01751178875565529, 0.07004715502262115, 0.026267683133482933, 0.04377947002649307, 0.052535366266965866, 0.026267683133482933, 0.03502357751131058, 0.11382662504911423, 0.008755894377827644, 0.1663619875907898, 0.10507073253393173, 0.010764853097498417, 0.0053824265487492085, 0.9042476415634155, 0.021529706194996834, 0.0053824265487492085, 0.0053824265487492085, 0.026912132278084755, 0.0053824265487492085, 0.0053824265487492085, 0.9969468116760254, 0.998323917388916, 0.9908408522605896, 0.9873823523521423, 0.9967595338821411, 0.9646598100662231, 0.9788618087768555, 0.9853928089141846, 0.9941529631614685, 0.021509254351258278, 0.021509254351258278, 0.021509254351258278, 0.9033886790275574, 0.9941299557685852, 0.9879016280174255, 0.005369030870497227, 0.9931821227073669, 0.9972521066665649, 0.992342472076416, 0.9997362494468689, 0.9847598075866699, 0.9978907704353333, 0.9994562864303589, 0.014296824112534523, 0.014296824112534523, 0.08578094840049744, 0.11437459290027618, 0.7291380763053894, 0.014296824112534523, 0.9864864945411682, 0.9989713430404663, 0.9944304823875427, 0.9984545707702637, 0.9772704243659973, 0.9988975524902344, 0.9923219680786133, 0.9926728010177612, 0.9871540665626526, 0.9968227744102478, 0.9980598092079163, 0.9914229512214661, 0.9984638094902039, 0.9951444864273071, 0.992382824420929, 0.9850170016288757, 0.9984630942344666, 0.9904947876930237, 0.9867969751358032, 0.9984387755393982, 0.995586097240448, 0.9839765429496765, 0.9960410594940186, 0.9880207777023315, 0.9960353970527649, 0.9912546873092651, 0.025967253372073174, 0.025967253372073174, 0.025967253372073174, 0.8569194078445435, 0.9980956315994263, 0.9934128522872925, 0.9835671186447144, 0.9984250664710999, 0.9977328181266785, 0.9940856099128723, 0.9894981980323792, 0.9584859609603882, 0.010763206519186497, 0.005381603259593248, 0.920254111289978, 0.021526413038372993, 0.005381603259593248, 0.026908015832304955, 0.9896463751792908, 0.9930875897407532, 0.998582661151886, 0.9919947981834412, 0.9830614924430847, 0.9882641434669495, 0.9788263440132141, 0.9941694140434265, 0.9896896481513977, 0.9962639212608337, 0.9889978170394897, 0.9979302883148193, 0.9982219338417053, 0.9967712163925171, 0.9987744688987732, 0.9849849939346313, 0.9942241907119751, 0.9984075427055359, 0.9974023699760437, 0.9777142405509949, 0.9959132075309753, 0.9940196871757507, 0.995017945766449, 0.9895488619804382, 0.9944441914558411, 0.9919806718826294, 0.9934443831443787, 0.9186043739318848, 0.9971943497657776, 0.9885591268539429, 0.9977177977561951, 0.9939289093017578, 0.9940745234489441, 0.9919207096099854, 0.9984667897224426, 0.007552909664809704, 0.9441136717796326, 0.007552909664809704, 0.015105819329619408, 0.007552909664809704, 0.006731085944920778, 0.9827385544776917, 0.9851993918418884, 0.9896841645240784, 0.9948484897613525, 0.9904853105545044, 0.9981793761253357, 0.9992635250091553, 0.9905588626861572, 0.9940206408500671, 0.9870893359184265, 0.9939004182815552, 0.9970305562019348, 0.9963356852531433, 0.9853997230529785, 0.9970102310180664, 0.9941744804382324, 0.9903913736343384, 0.9820796847343445, 0.9780858159065247, 0.984312117099762, 0.9992164969444275, 0.9972774386405945, 0.9560891389846802, 0.9983217120170593, 0.9976340532302856, 0.8062556982040405, 0.18705132603645325, 0.9850095510482788, 0.9984228014945984, 0.999588668346405, 0.9975991249084473, 0.9881317019462585, 0.9950562119483948, 0.9995123147964478, 0.9865099191665649, 0.9980503916740417, 0.9806243181228638, 0.9951921105384827, 0.9934277534484863, 0.9983499050140381, 0.9983091950416565, 0.9862463474273682, 0.9857855439186096, 0.9915417432785034, 0.9959464073181152, 0.9983988404273987, 0.9922606348991394, 0.9882717728614807, 0.9940898418426514, 0.9961012005805969, 0.9984357953071594, 0.02265414595603943, 0.02265414595603943, 0.02265414595603943, 0.02265414595603943, 0.02265414595603943, 0.02265414595603943, 0.04530829191207886, 0.02265414595603943, 0.7475868463516235, 0.9810193777084351, 0.9866374731063843, 0.997239351272583, 0.9905996322631836, 0.9925093054771423, 0.9982887506484985, 0.9857044816017151, 0.9974092245101929, 0.9981859922409058, 0.9977338910102844, 0.9858199954032898, 0.9985989928245544, 0.9988546371459961, 0.9978387355804443, 0.9872515201568604, 0.9873698949813843, 0.9902418851852417, 0.9945837259292603, 0.998801589012146, 0.997643768787384, 0.9996790885925293, 0.9946184754371643, 0.9947588443756104, 0.9978631734848022, 0.9935927987098694, 0.9978243708610535, 0.9959547519683838, 0.9878222942352295, 0.994729220867157, 0.9958932399749756, 0.9979719519615173, 0.9752947688102722, 0.9964048862457275, 0.9898888468742371, 0.998812735080719, 0.9970964193344116, 0.9976373314857483, 0.07086636126041412, 0.9133886694908142, 0.9958624243736267, 0.9428009390830994, 0.9904360175132751, 0.993386447429657, 0.9905250072479248, 0.9883665442466736, 0.9902504682540894, 0.9973581433296204, 0.9933909773826599, 0.9991180896759033, 0.9642843008041382, 0.99940025806427, 0.9871978163719177, 0.9883959293365479, 0.9866734147071838, 0.9892106652259827, 0.9981282949447632, 0.9962521195411682, 0.9419564008712769, 0.9540334939956665, 0.99765545129776, 0.9838991761207581, 0.997743546962738, 0.9989272356033325, 0.9995157122612, 0.948384165763855, 0.9988507032394409, 0.9860062003135681, 0.9932519793510437, 0.007210918702185154, 0.007210918702185154, 0.007210918702185154, 0.007210918702185154, 0.007210918702185154, 0.9446303248405457, 0.007210918702185154, 0.9832004308700562, 0.9743173718452454, 0.9939177632331848, 0.9603269696235657, 0.9915234446525574, 0.9940509796142578, 0.9860837459564209, 0.9984320998191833, 0.9976179599761963, 0.9995794892311096, 0.9871612787246704, 0.9981757998466492, 0.996782660484314, 0.9936060309410095, 0.9948554039001465, 0.98964524269104, 0.998031497001648, 0.9960784316062927, 0.9968754053115845, 0.9899708032608032, 0.995425820350647, 0.9820622205734253, 0.9786753058433533, 0.9962353110313416, 0.9574164748191833, 0.01087973266839981, 0.9983088374137878, 0.9973993897438049, 0.9859044551849365, 0.9950243830680847, 0.9994454383850098, 0.9969057440757751, 0.9924623966217041, 0.9975471496582031, 0.9934040904045105, 0.9977731704711914, 0.9916066527366638, 0.948886513710022, 0.994260847568512, 0.975685179233551, 0.9954843521118164, 0.9806705117225647, 0.9116673469543457, 0.026425139978528023, 0.013212569989264011, 0.013212569989264011, 0.9995240569114685, 0.9904744029045105], \"Term\": [\"ability\", \"able\", \"accordance\", \"account\", \"accounting\", \"accrue\", \"accumulate\", \"act\", \"action\", \"activity\", \"addition\", \"additional\", \"adebayo\", \"adebayo\", \"adebayo\", \"adebayo\", \"adebayo\", \"adebayo\", \"adjustment\", \"adopt\", \"adoption\", \"adverse\", \"advisory\", \"affect\", \"affiliate\", \"agency\", \"aggregate\", \"agree\", \"agreement\", \"allegation\", \"allege\", \"allocation\", \"allowance\", \"also\", \"amend\", \"amended_complaint\", \"amendment\", \"amortization\", \"amount\", \"analysis\", \"annual\", \"antitrust\", \"applicable\", \"apply\", \"appropriate\", \"approval\", \"approve\", \"approximate\", \"approximately\", \"april\", \"arise\", \"arrangement\", \"assert\", \"assess\", \"asset\", \"asu\", \"attributable\", \"august\", \"aus\", \"authorize\", \"available\", \"average\", \"award\", \"award_agreement\", \"back\", \"balance\", \"bank\", \"barrier\", \"base\", \"basel\", \"basic\", \"basis\", \"battery_park\", \"bear\", \"bearing\", \"become\", \"begin\", \"behalf\", \"believe\", \"beneficial_interest\", \"benefit\", \"benefit_pension\", \"book\", \"borrow\", \"borrower\", \"borrowing\", \"breach\", \"brian\", \"brian\", \"brian\", \"brian\", \"brian\", \"brian\", \"buffer\", \"business\", \"calculate\", \"calculation\", \"cancellation\", \"capacity\", \"capacity_director\", \"capital\", \"capitalize\", \"carry\", \"carryforward\", \"carryforward\", \"carryforward\", \"carryforward\", \"carryforward\", \"carryforward\", \"carryforward\", \"carryforward\", \"carryforward\", \"carryforward\", \"carryforward\", \"carryforward\", \"carryforward\", \"carryforward\", \"carryforward\", \"carryforward\", \"case\", \"cash\", \"cause\", \"cayman_island\", \"cayman_island\", \"cayman_island\", \"cayman_island\", \"cayman_island\", \"cayman_island\", \"cayman_island\", \"cayman_island\", \"certain\", \"certificate\", \"certification\", \"cet\", \"chairman\", \"change\", \"charge\", \"charge_off\", \"charitable_contribution\", \"chief\", \"china\", \"city\", \"city_examination\", \"city_examination\", \"city_examination\", \"city_examination\", \"city_examination\", \"city_examination\", \"city_examination\", \"city_examination\", \"city_examination\", \"city_examination\", \"claim\", \"class\", \"classify\", \"clearance\", \"clearing\", \"client\", \"close\", \"co\", \"cobalt\", \"collateral\", \"collateralize\", \"collateralized\", \"combine\", \"commercial\", \"commitment\", \"committee\", \"common\", \"company\", \"compare\", \"compensation\", \"compensatory\", \"complaint\", \"complaint\", \"complete\", \"component\", \"comprehensive\", \"computation\", \"condition\", \"conflict\", \"connection\", \"consider\", \"consist\", \"consolidate\", \"consolidated\", \"contingency\", \"contract\", \"contractual\", \"contribution\", \"control\", \"convertible\", \"corporate\", \"cost\", \"counterpartie\", \"counterparty\", \"court\", \"covenant\", \"cover\", \"credit\", \"current\", \"currently\", \"customer\", \"damage\", \"data\", \"date\", \"dated\", \"datum\", \"david\", \"day\", \"debt\", \"december\", \"decision\", \"decrease\", \"deduction\", \"default\", \"defendant\", \"defendants_mov\", \"defer\", \"deferred\", \"define\", \"deliver\", \"delivery\", \"demand\", \"deny\", \"deny\", \"deny\", \"deny\", \"depend\", \"dependent\", \"deposit\", \"derivative\", \"describe\", \"description\", \"designate\", \"determine\", \"develop\", \"development\", \"difference\", \"direct\", \"director\", \"disclosure\", \"dismiss\", \"distribution\", \"district_court\", \"dividend\", \"dividendsnet\", \"document\", \"draw\", \"due\", \"earn\", \"earning\", \"economic\", \"effect\", \"effective\", \"eligible\", \"ellen\", \"ellen\", \"ellen\", \"ellen\", \"ellen\", \"ellen\", \"employee\", \"employment\", \"enable\", \"end\", \"enter\", \"entity\", \"equal\", \"equity\", \"equivalent\", \"establish\", \"estimate\", \"event\", \"exceed\", \"excess\", \"exchange\", \"exclude\", \"execution\", \"executive\", \"exercise\", \"exhibit\", \"exist\", \"expect\", \"expense\", \"expensespre\", \"expire\", \"exposure\", \"extend\", \"factor\", \"fair\", \"fdic\", \"february\", \"federal\", \"fee\", \"fiduciary_dutie\", \"file\", \"finance\", \"finance_corp\", \"financial\", \"financing\", \"firm\", \"fiscal\", \"fix\", \"float\", \"flow\", \"follow\", \"foreign\", \"forfeiture\", \"form\", \"form\", \"fourth_quarter\", \"framework\", \"france\", \"fully_phas\", \"fully_vest\", \"fully_vest\", \"fund\", \"funding\", \"furnish\", \"future\", \"gain\", \"general\", \"generally\", \"geographic\", \"germany\", \"give\", \"goldman\", \"government\", \"grant\", \"gross\", \"ground_lease\", \"group\", \"gs\", \"guarantee\", \"headquarters\", \"hedge\", \"hierarchy\", \"hold\", \"holder\", \"holding_company\", \"hong_kong\", \"hybrid\", \"identifiable_intangible\", \"iii\", \"iii_advanc\", \"iii_advanced\", \"immediately\", \"impact\", \"impairment\", \"inc\", \"incentive\", \"include\", \"income\", \"incorporate\", \"incorporated\", \"incorporated\", \"incorporated\", \"incorporated\", \"increase\", \"increased\", \"indemnification\", \"indenture_dat\", \"indenture_dat\", \"indenture_dat\", \"indenture_dat\", \"indenture_dat\", \"indenture_dat\", \"indenture_dat\", \"indenture_dat\", \"indenture_dat\", \"indenture_dat\", \"indenture_dat\", \"indenture_dat\", \"indenture_dat\", \"indenture_dat\", \"indenture_dat\", \"indenture_dat\", \"indenture_dat\", \"indenture_dat\", \"indenture_dat\", \"independent\", \"index\", \"indicate\", \"individual\", \"industry\", \"information\", \"initial\", \"input\", \"institutional\", \"instrument\", \"insurance\", \"insure\", \"interactive\", \"interactive\", \"interactive\", \"interactive\", \"interactive\", \"interactive\", \"interactive\", \"interactive\", \"interactive\", \"interactive\", \"interactive\", \"interactive\", \"interactive\", \"interest\", \"internal\", \"invest\", \"investigation\", \"investment\", \"involve\", \"issuance\", \"issue\", \"issuer\", \"italy\", \"italy\", \"italy\", \"italy\", \"italy\", \"italy\", \"italy\", \"italy\", \"item\", \"james_johnson\", \"james_johnson\", \"james_johnson\", \"james_johnson\", \"january\", \"japan\", \"judgment\", \"june\", \"junior_subordinat\", \"lakshmi_mittal\", \"lakshmi_mittal\", \"lakshmi_mittal\", \"lakshmi_mittal\", \"lakshmi_mittal\", \"lakshmi_mittal\", \"lakshmi_mittal\", \"last\", \"law\", \"legal\", \"legislation\", \"lender\", \"lending\", \"less\", \"level\", \"liabiliti\", \"liability\", \"life\", \"liquidity\", \"list\", \"litigation\", \"llc\", \"lloyd_blankfein\", \"loan\", \"location\", \"long\", \"loss\", \"low\", \"magistrate_judge\", \"magistrate_judge\", \"magistrate_judge\", \"magistrate_judge\", \"magistrate_judge\", \"magistrate_judge\", \"magistrate_judge\", \"magistrate_judge\", \"magistrate_judge\", \"magistrate_judge\", \"magistrate_judge\", \"magistrate_judge\", \"make\", \"manage\", \"management\", \"march\", \"marcus\", \"margin\", \"mark\", \"market\", \"martin_chavez\", \"material\", \"materially\", \"matter\", \"maturity\", \"maximum\", \"may\", \"measure\", \"measurement\", \"medical\", \"medical\", \"medical\", \"medical\", \"medical\", \"medical\", \"medical\", \"medical\", \"medical\", \"meet\", \"mellon\", \"mellon\", \"mellon\", \"mellon\", \"mellon\", \"mellon\", \"mellon\", \"mellon\", \"mellon\", \"mellon\", \"mellon\", \"mellon\", \"mellon\", \"mellon\", \"mellon\", \"mellon\", \"mellon\", \"mellon\", \"mellon\", \"michele\", \"michele\", \"michele\", \"michele\", \"michele\", \"michele\", \"michele\", \"michele\", \"michele\", \"million\", \"minimum\", \"mitigant\", \"mitigate\", \"model\", \"monetary\", \"money\", \"monitor\", \"month\", \"month_libor\", \"month_libor\", \"month_libor\", \"month_libor\", \"mortgage\", \"motion\", \"motion\", \"municipal\", \"name\", \"nature\", \"net\", \"new\", \"new_york\", \"non\", \"noncompetition\", \"noncompetition\", \"noncompetition\", \"noncompetition\", \"noncompetition\", \"noncompetition\", \"nonconsolidat\", \"note\", \"notional\", \"november\", \"number\", \"obligation\", \"obtain\", \"occur\", \"october\", \"offer\", \"offering\", \"office\", \"officer\", \"operating\", \"operation\", \"operational\", \"option\", \"order\", \"otherwise\", \"outstanding\", \"own\", \"par\", \"part\", \"participating_manag\", \"pay\", \"payable\", \"payable_quarterly\", \"payable_quarterly\", \"payable_quarterly\", \"payable_quarterly\", \"payment\", \"pend\", \"pension\", \"performance\", \"period\", \"permit\", \"person\", \"personnel\", \"peter\", \"peter\", \"peter\", \"peter\", \"peter\", \"peter\", \"phase\", \"plaintiff\", \"plan\", \"policy\", \"political\", \"portfolio\", \"possible\", \"post\", \"postretirement\", \"potential\", \"practice\", \"pre\", \"prefer\", \"preferred\", \"present\", \"presentation\", \"previously\", \"price\", \"primarily\", \"primary\", \"principal\", \"principally\", \"prior\", \"procedure\", \"proceed\", \"proceeding\", \"program\", \"prompt_corrective\", \"provide\", \"provision\", \"public\", \"purchase\", \"purchaser\", \"purpose\", \"pursuant\", \"putative\", \"putative\", \"putative\", \"putative\", \"putative\", \"putative_class\", \"putative_class\", \"pwm\", \"qualify\", \"quarterly\", \"range\", \"rate\", \"ratio\", \"real\", \"real_estate\", \"realize\", \"reasonably_possible\", \"receivable\", \"receivables\", \"reclassify\", \"recognize\", \"record\", \"redeemable\", \"redemption\", \"reduce\", \"reduction\", \"reference\", \"reflect\", \"region\", \"register\", \"registrant\", \"regulation\", \"regulation\", \"regulator\", \"regulatory\", \"relate\", \"related\", \"relevant\", \"remain\", \"report\", \"reporting\", \"represent\", \"representation\", \"repurchase\", \"request\", \"require\", \"requirement\", \"resale\", \"reserve\", \"resolve\", \"respect\", \"respectively\", \"restate\", \"restrict\", \"restricted\", \"restriction\", \"result\", \"retiree\", \"retiree\", \"retiree\", \"retiree\", \"retiree\", \"retiree\", \"retiree\", \"retiree\", \"retiree\", \"retirement\", \"return\", \"revenue\", \"review\", \"right\", \"risk\", \"rsu_award\", \"rsus\", \"rule\", \"rwa\", \"rwas\", \"sach\", \"sachs\", \"sale\", \"satisfy\", \"schedule\", \"sec\", \"second\", \"section\", \"secure\", \"security\", \"see\", \"seek\", \"segment\", \"select\", \"sell\", \"senior\", \"sensitivity\", \"september\", \"series\", \"service\", \"settle\", \"settlement\", \"several\", \"share\", \"shareholder\", \"short\", \"signature\", \"signature\", \"significant\", \"singapore\", \"sip\", \"southern_district\", \"specific\", \"spread\", \"standardize\", \"standardized\", \"state\", \"statement\", \"status\", \"stock\", \"structure\", \"subordinate\", \"subordinated\", \"subsequent\", \"subsidiary\", \"substantially\", \"supervise\", \"supervision\", \"supplemental\", \"support\", \"swap\", \"table\", \"tax\", \"taxesnet\", \"term\", \"terminate\", \"termination\", \"terraform_global\", \"terraform_global\", \"terraform_global\", \"terraform_global\", \"terraform_global\", \"terraform_global\", \"terraform_global\", \"test\", \"thereafter\", \"therefore\", \"theyear\", \"thing\", \"third_partie\", \"third_party\", \"tier\", \"time\", \"total\", \"trade\", \"trading\", \"transaction\", \"transfer\", \"transitional_provision\", \"treasury\", \"trust\", \"trustee\", \"underlie\", \"underwriter\", \"unit\", \"unrecognized\", \"unsecur\", \"unsecured\", \"unspecified\", \"unspecified\", \"usa\", \"use\", \"utilize\", \"valuation\", \"value\", \"var\", \"variable\", \"various\", \"vest\", \"vie\", \"volume\", \"warehouse\", \"weight\", \"weighted\", \"well\", \"whole\", \"william_george\", \"william_george\", \"william_george\", \"william_george\", \"year\", \"yet_purchas\"]}, \"R\": 30, \"lambda.step\": 0.01, \"plot.opts\": {\"xlab\": \"PC1\", \"ylab\": \"PC2\"}, \"topic.order\": [18, 6, 15, 11, 7, 9, 17, 1, 16, 4, 12, 20, 3, 8, 19, 14, 10, 5, 2, 13]};\n",
       "\n",
       "function LDAvis_load_lib(url, callback){\n",
       "  var s = document.createElement('script');\n",
       "  s.src = url;\n",
       "  s.async = true;\n",
       "  s.onreadystatechange = s.onload = callback;\n",
       "  s.onerror = function(){console.warn(\"failed to load library \" + url);};\n",
       "  document.getElementsByTagName(\"head\")[0].appendChild(s);\n",
       "}\n",
       "\n",
       "if(typeof(LDAvis) !== \"undefined\"){\n",
       "   // already loaded: just create the visualization\n",
       "   !function(LDAvis){\n",
       "       new LDAvis(\"#\" + \"ldavis_el1401401581869779448660032748\", ldavis_el1401401581869779448660032748_data);\n",
       "   }(LDAvis);\n",
       "}else if(typeof define === \"function\" && define.amd){\n",
       "   // require.js is available: use it to load d3/LDAvis\n",
       "   require.config({paths: {d3: \"https://cdnjs.cloudflare.com/ajax/libs/d3/3.5.5/d3.min\"}});\n",
       "   require([\"d3\"], function(d3){\n",
       "      window.d3 = d3;\n",
       "      LDAvis_load_lib(\"https://cdn.rawgit.com/bmabey/pyLDAvis/files/ldavis.v1.0.0.js\", function(){\n",
       "        new LDAvis(\"#\" + \"ldavis_el1401401581869779448660032748\", ldavis_el1401401581869779448660032748_data);\n",
       "      });\n",
       "    });\n",
       "}else{\n",
       "    // require.js not available: dynamically load d3 & LDAvis\n",
       "    LDAvis_load_lib(\"https://cdnjs.cloudflare.com/ajax/libs/d3/3.5.5/d3.min.js\", function(){\n",
       "         LDAvis_load_lib(\"https://cdn.rawgit.com/bmabey/pyLDAvis/files/ldavis.v1.0.0.js\", function(){\n",
       "                 new LDAvis(\"#\" + \"ldavis_el1401401581869779448660032748\", ldavis_el1401401581869779448660032748_data);\n",
       "            })\n",
       "         });\n",
       "}\n",
       "</script>"
      ],
      "text/plain": [
       "PreparedData(topic_coordinates=            Freq  cluster  topics         x         y\n",
       "topic                                                \n",
       "17     11.158565        1       1  0.005286 -0.149468\n",
       "5       7.404929        1       2  0.036477 -0.148753\n",
       "14      7.166000        1       3 -0.311288 -0.142834\n",
       "10      6.990447        1       4 -0.235168 -0.137321\n",
       "6       5.930533        1       5 -0.137145  0.248463\n",
       "8       5.900786        1       6 -0.049484  0.153938\n",
       "16      5.861430        1       7  0.053124 -0.092507\n",
       "0       5.430559        1       8 -0.019098  0.049596\n",
       "15      4.985644        1       9  0.062685 -0.036203\n",
       "3       4.649815        1      10  0.040931 -0.039003\n",
       "11      4.421738        1      11  0.085434  0.047086\n",
       "19      4.298502        1      12  0.008671 -0.009789\n",
       "2       4.230904        1      13 -0.097240  0.227834\n",
       "7       3.898157        1      14  0.063284  0.022943\n",
       "18      3.682829        1      15  0.048096  0.027802\n",
       "13      3.597203        1      16  0.039153  0.017398\n",
       "9       3.165227        1      17  0.090127  0.013275\n",
       "4       2.890286        1      18  0.116058 -0.042590\n",
       "1       2.401999        1      19  0.093408 -0.032092\n",
       "12      1.934446        1      20  0.106688  0.022225, topic_info=     Category         Freq              Term        Total  loglift  logprob\n",
       "term                                                                       \n",
       "228   Default  3648.000000              firm  3648.000000  30.0000  30.0000\n",
       "25    Default  1894.000000          security  1894.000000  29.0000  29.0000\n",
       "54    Default  1998.000000               non  1998.000000  28.0000  28.0000\n",
       "121   Default  2341.000000         financial  2341.000000  27.0000  27.0000\n",
       "337   Default  2709.000000             total  2709.000000  26.0000  26.0000\n",
       "50    Default  2220.000000          interest  2220.000000  25.0000  25.0000\n",
       "112   Default  1819.000000         reference  1819.000000  24.0000  24.0000\n",
       "4     Default  2110.000000          december  2110.000000  23.0000  23.0000\n",
       "274   Default  1951.000000               tax  1951.000000  22.0000  22.0000\n",
       "196   Default  1901.000000           capital  1901.000000  21.0000  21.0000\n",
       "344   Default  1846.000000               net  1846.000000  20.0000  20.0000\n",
       "72    Default  1698.000000             value  1698.000000  19.0000  19.0000\n",
       "48    Default  1952.000000           include  1952.000000  18.0000  18.0000\n",
       "251   Default  1652.000000              loan  1652.000000  17.0000  17.0000\n",
       "38    Default  1650.000000            common  1650.000000  16.0000  16.0000\n",
       "68    Default  1820.000000             stock  1820.000000  15.0000  15.0000\n",
       "617   Default  1316.000000            amount  1316.000000  14.0000  14.0000\n",
       "22    Default  1673.000000            report  1673.000000  13.0000  13.0000\n",
       "9     Default  1251.000000              file  1251.000000  12.0000  12.0000\n",
       "158   Default  1039.000000              bank  1039.000000  11.0000  11.0000\n",
       "114   Default  1460.000000         statement  1460.000000  10.0000  10.0000\n",
       "262   Default  1072.000000              term  1072.000000   9.0000   9.0000\n",
       "266   Default  1265.000000         liability  1265.000000   8.0000   8.0000\n",
       "253   Default  1356.000000         agreement  1356.000000   7.0000   7.0000\n",
       "259   Default  1332.000000             asset  1332.000000   6.0000   6.0000\n",
       "134   Default  1084.000000          february  1084.000000   5.0000   5.0000\n",
       "281   Default  1147.000000           certain  1147.000000   4.0000   4.0000\n",
       "11    Default  1502.000000              form  1502.000000   3.0000   3.0000\n",
       "188   Default  1477.000000            relate  1477.000000   2.0000   2.0000\n",
       "45    Default   990.000000           exhibit   990.000000   1.0000   1.0000\n",
       "...       ...          ...               ...          ...      ...      ...\n",
       "1407  Topic20    91.880844             japan    92.830322   3.9351  -3.8456\n",
       "1534  Topic20    82.811020            breach    83.760498   3.9339  -3.9495\n",
       "1913  Topic20    76.368675              city    77.318153   3.9330  -4.0305\n",
       "96    Topic20    69.827477           company    70.776955   3.9318  -4.1201\n",
       "523   Topic20    57.999653           support    58.949131   3.9291  -4.3056\n",
       "2323  Topic20    57.420162           germany    58.371952   3.9289  -4.3157\n",
       "2322  Topic20    57.420162            france    58.371952   3.9289  -4.3157\n",
       "2194  Topic20    53.371902      battery_park    54.356052   3.9271  -4.3888\n",
       "521   Topic20    48.804432          industry    49.753910   3.9261  -4.4783\n",
       "1623  Topic20    46.557930          complete    47.507408   3.9252  -4.5254\n",
       "1415  Topic20    45.919678             china    46.869198   3.9249  -4.5392\n",
       "2104  Topic20    43.704933            assert    44.673710   3.9234  -4.5886\n",
       "500   Topic20    51.741798        retirement    53.006088   3.9212  -4.4198\n",
       "3409  Topic20    38.420269        charge_off    39.390316   3.9204  -4.7175\n",
       "1914  Topic20    34.697285             close    35.646763   3.9184  -4.8194\n",
       "2750  Topic20    33.914803         clearance    34.864414   3.9177  -4.8422\n",
       "1645  Topic20    28.523514         dependent    29.473089   3.9126  -5.0154\n",
       "1417  Topic20    28.098930         hong_kong    29.048439   3.9121  -5.0304\n",
       "3288  Topic20    27.635851             dated    28.585762   3.9116  -5.0470\n",
       "2032  Topic20    27.290567            region    28.240046   3.9111  -5.0595\n",
       "2195  Topic20    26.717964      ground_lease    27.688026   3.9097  -5.0807\n",
       "1420  Topic20    26.003016          monetary    26.952507   3.9095  -5.1079\n",
       "1921  Topic20    26.675222      headquarters    27.679546   3.9084  -5.0823\n",
       "1427  Topic20    38.686600   fiduciary_dutie    40.283546   3.9049  -4.7106\n",
       "1421  Topic20    44.030701         singapore    46.669449   3.8871  -4.5812\n",
       "3922  Topic20    39.045391     cayman_island    46.271854   3.7755  -4.7014\n",
       "3924  Topic20    39.045391             italy    46.271854   3.7755  -4.7014\n",
       "3834  Topic20    32.583687           medical    44.142029   3.6417  -4.8823\n",
       "3835  Topic20    32.583687           retiree    44.142029   3.6417  -4.8823\n",
       "3820  Topic20    32.653908  magistrate_judge    66.195503   3.2387  -4.8801\n",
       "\n",
       "[668 rows x 6 columns], token_table=      Topic      Freq            Term\n",
       "term                                 \n",
       "818       4  0.983532         ability\n",
       "1814     10  0.984849            able\n",
       "1040      6  0.997650      accordance\n",
       "278       3  0.995101         account\n",
       "116       5  0.997836      accounting\n",
       "264       9  0.992284          accrue\n",
       "1145     17  0.981034      accumulate\n",
       "0        13  0.997134             act\n",
       "918      18  0.998686          action\n",
       "247      11  0.999126        activity\n",
       "458       1  0.994879        addition\n",
       "914      14  0.994662      additional\n",
       "3976      3  0.010763         adebayo\n",
       "3976      4  0.005382         adebayo\n",
       "3976      5  0.920254         adebayo\n",
       "3976      6  0.021526         adebayo\n",
       "3976      8  0.005382         adebayo\n",
       "3976     13  0.026908         adebayo\n",
       "1316      7  0.996744      adjustment\n",
       "911      15  0.976759           adopt\n",
       "1269      9  0.987688        adoption\n",
       "1298     14  0.984543         adverse\n",
       "377      11  0.987448        advisory\n",
       "679      12  0.981933          affect\n",
       "128       8  0.995854       affiliate\n",
       "445       1  0.993834          agency\n",
       "129       5  0.995421       aggregate\n",
       "1196     19  0.980918           agree\n",
       "253       2  0.999297       agreement\n",
       "2044     14  0.979575      allegation\n",
       "...     ...       ...             ...\n",
       "564      10  0.996875        underlie\n",
       "3425     13  0.989971     underwriter\n",
       "2339      9  0.995426            unit\n",
       "2756      4  0.982062    unrecognized\n",
       "1259     18  0.978675         unsecur\n",
       "644      17  0.996235       unsecured\n",
       "3716     13  0.957416     unspecified\n",
       "3716     20  0.010880     unspecified\n",
       "332      19  0.998309             usa\n",
       "1319      7  0.997399             use\n",
       "1312     10  0.985904         utilize\n",
       "559      11  0.995024       valuation\n",
       "72        9  0.999445           value\n",
       "1771      6  0.996906             var\n",
       "258      15  0.992462        variable\n",
       "456      10  0.997547         various\n",
       "3182     12  0.993404            vest\n",
       "2753     15  0.997773             vie\n",
       "553      11  0.991607          volume\n",
       "3384     19  0.948887       warehouse\n",
       "2677      4  0.994261          weight\n",
       "1032      3  0.975685        weighted\n",
       "73       12  0.995484            well\n",
       "2530     19  0.980671           whole\n",
       "3953      3  0.911667  william_george\n",
       "3953      4  0.026425  william_george\n",
       "3953     10  0.013213  william_george\n",
       "3953     13  0.013213  william_george\n",
       "30        3  0.999524            year\n",
       "244      18  0.990474     yet_purchas\n",
       "\n",
       "[825 rows x 3 columns], R=30, lambda_step=0.01, plot_opts={'xlab': 'PC1', 'ylab': 'PC2'}, topic_order=[18, 6, 15, 11, 7, 9, 17, 1, 16, 4, 12, 20, 3, 8, 19, 14, 10, 5, 2, 13])"
      ]
     },
     "execution_count": 112,
     "metadata": {
      "tags": []
     },
     "output_type": "execute_result"
    }
   ],
   "source": [
    "# Visualize the topics\n",
    "pyLDAvis.enable_notebook()\n",
    "vis = pyLDAvis.gensim.prepare(lda_model, corpus, id2word)\n",
    "vis"
   ]
  },
  {
   "cell_type": "code",
   "execution_count": 0,
   "metadata": {
    "colab": {},
    "colab_type": "code",
    "id": "WUzeRQs5lnbV"
   },
   "outputs": [],
   "source": []
  }
 ],
 "metadata": {
  "accelerator": "TPU",
  "colab": {
   "collapsed_sections": [],
   "name": "NLP_TopicModeling.ipynb",
   "provenance": [],
   "version": "0.3.2"
  },
  "kernelspec": {
   "display_name": "Python 3",
   "language": "python",
   "name": "python3"
  },
  "language_info": {
   "codemirror_mode": {
    "name": "ipython",
    "version": 3
   },
   "file_extension": ".py",
   "mimetype": "text/x-python",
   "name": "python",
   "nbconvert_exporter": "python",
   "pygments_lexer": "ipython3",
   "version": "3.6.4"
  }
 },
 "nbformat": 4,
 "nbformat_minor": 1
}
