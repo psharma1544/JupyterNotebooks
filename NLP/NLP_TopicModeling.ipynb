{
 "cells": [
  {
   "cell_type": "markdown",
   "metadata": {
    "colab_type": "text",
    "id": "50EZZ_FZawvG"
   },
   "source": [
    "# NLP Topic Modeling\n"
   ]
  },
  {
   "cell_type": "markdown",
   "metadata": {
    "colab_type": "text",
    "id": "N85G1Nw0a_To"
   },
   "source": [
    "This notebook focuses on topic modeling in Natural Language Processing. As one can infer from the verbiage, Topic Modeling deals with determining the major themes of a document. Based on the document, it generates a group of words for each topic. The API used here is GenSim and the method is primarily Latent Dirichlet Algorithm. This notebook is divided among several sections. The first half is about data retrieval, cleanup, and organization, and the second half gets into semantics of topic modeling. The majority of code in the second half has been retrieved from the following link that does a great job of explaining core gensim concepts: https://www.machinelearningplus.com/nlp/topic-modeling-gensim-python/\n",
    "\n"
   ]
  },
  {
   "cell_type": "code",
   "execution_count": 2,
   "metadata": {
    "colab": {
     "base_uri": "https://localhost:8080/",
     "height": 385
    },
    "colab_type": "code",
    "id": "fZFYL8T2iO6Z",
    "outputId": "8c1314f2-124f-44e3-a291-b08019e6b2ec"
   },
   "outputs": [
    {
     "ename": "ModuleNotFoundError",
     "evalue": "No module named 'spacy'",
     "output_type": "error",
     "traceback": [
      "\u001b[1;31m---------------------------------------------------------------------------\u001b[0m",
      "\u001b[1;31mModuleNotFoundError\u001b[0m                       Traceback (most recent call last)",
      "\u001b[1;32m<ipython-input-2-3d4bc8c6da87>\u001b[0m in \u001b[0;36m<module>\u001b[1;34m()\u001b[0m\n\u001b[0;32m     24\u001b[0m \u001b[1;33m\u001b[0m\u001b[0m\n\u001b[0;32m     25\u001b[0m \u001b[1;31m# spacy for lemmatization\u001b[0m\u001b[1;33m\u001b[0m\u001b[1;33m\u001b[0m\u001b[0m\n\u001b[1;32m---> 26\u001b[1;33m \u001b[1;32mimport\u001b[0m \u001b[0mspacy\u001b[0m\u001b[1;33m\u001b[0m\u001b[0m\n\u001b[0m\u001b[0;32m     27\u001b[0m \u001b[1;33m\u001b[0m\u001b[0m\n\u001b[0;32m     28\u001b[0m \u001b[1;31m# Plotting tools\u001b[0m\u001b[1;33m\u001b[0m\u001b[1;33m\u001b[0m\u001b[0m\n",
      "\u001b[1;31mModuleNotFoundError\u001b[0m: No module named 'spacy'"
     ]
    }
   ],
   "source": [
    "import nltk\n",
    "import pickle\n",
    "\n",
    "import gensim\n",
    "from gensim.models.word2vec import Word2Vec\n",
    "from gensim.models.phrases import Phraser, Phrases\n",
    "from gensim import corpora\n",
    "from gensim.utils import simple_preprocess\n",
    "from gensim.models import CoherenceModel\n",
    "from pprint import pprint\n",
    "\n",
    "import pandas as pd\n",
    "import requests\n",
    "import string\n",
    "\n",
    "from nltk.tokenize import sent_tokenize, word_tokenize\n",
    "from nltk.corpus import stopwords\n",
    "from nltk.tag import StanfordNERTagger\n",
    "from nltk import word_tokenize, sent_tokenize\n",
    "from sklearn.manifold import TSNE\n",
    "from bokeh.io import output_notebook, output_file\n",
    "from bokeh.plotting import show, figure\n",
    "from bs4 import BeautifulSoup\n",
    "\n",
    "# spacy for lemmatization\n",
    "import spacy\n",
    "\n",
    "# Plotting tools\n",
    "!pip install pyLDAvis\n",
    "import pyLDAvis\n",
    "import pyLDAvis.gensim  # don't skip this\n",
    "import matplotlib.pyplot as plt\n",
    "%matplotlib inline\n",
    "\n",
    "# Enable logging for gensim - optional\n",
    "import logging\n",
    "logging.basicConfig(format='%(asctime)s : %(levelname)s : %(message)s', level=logging.ERROR)\n",
    "\n",
    "import warnings\n",
    "warnings.filterwarnings(\"ignore\",category=DeprecationWarning)\n",
    "\n"
   ]
  },
  {
   "cell_type": "code",
   "execution_count": 2,
   "metadata": {
    "colab": {
     "base_uri": "https://localhost:8080/",
     "height": 100
    },
    "colab_type": "code",
    "id": "H6tjUKjBBdh4",
    "outputId": "29dffe1c-6715-4986-8289-6763ad0215e6"
   },
   "outputs": [
    {
     "name": "stdout",
     "output_type": "stream",
     "text": [
      "[nltk_data] Downloading package stopwords to /root/nltk_data...\n",
      "[nltk_data]   Package stopwords is already up-to-date!\n",
      "[nltk_data] Downloading package punkt to /root/nltk_data...\n",
      "[nltk_data]   Package punkt is already up-to-date!\n"
     ]
    },
    {
     "data": {
      "text/plain": [
       "True"
      ]
     },
     "execution_count": 2,
     "metadata": {
      "tags": []
     },
     "output_type": "execute_result"
    }
   ],
   "source": [
    "nltk.download('stopwords')\n",
    "nltk.download('punkt')"
   ]
  },
  {
   "cell_type": "markdown",
   "metadata": {
    "colab_type": "text",
    "id": "iF-nQxmWDDRG"
   },
   "source": [
    "## Retrieve Dataset"
   ]
  },
  {
   "cell_type": "code",
   "execution_count": 0,
   "metadata": {
    "colab": {},
    "colab_type": "code",
    "id": "qJfjBjATDDRN"
   },
   "outputs": [],
   "source": [
    "# For text dataset, I often use SEC EDGAR filings of US based public companies. For demonstration purpose, I often keep the list limited to around 1-3 such documents. \n",
    "urls = []\n",
    "urls.append(\"https://www.sec.gov/Archives/edgar/data/70858/000007085818000042/bac-930201810xq.htm\") # BAC:10Q: 20183Q\n",
    "\n",
    "\"\"\"\n",
    "urls.append(\"https://www.sec.gov/Archives/edgar/data/886982/000119312518056383/d480167d10k.htm\")\n",
    "urls.append(\"https://www.sec.gov/Archives/edgar/data/72971/000007297119000227/wfc-12312018x10k.htm\") # WFC: 10K: 2018\n",
    "urls.append(\"https://www.sec.gov/Archives/edgar/data/78003/000007800318000091/pfe-09302018x10q.htm\") # PFE : 10Q : 3Q2018\n",
    "urls.append(\"https://www.sec.gov/Archives/edgar/data/886982/000119312517056804/d308759d10k.htm\")\n",
    "urls.append(\"https://www.sec.gov/Archives/edgar/data/895421/000119312517059212/d328282d10k.htm\")\n",
    "urls.append(\"https://www.sec.gov/Archives/edgar/data/895421/000119312518060831/d500533d10k.htm\")\n",
    "tgtUrl = 'https://www.sec.gov/Archives/edgar/data/886982/000119312519050198/d669877d10k.htm'\n",
    "\"\"\"\n",
    "# Retrieve the HTML pages for URLs\n",
    "pages = ''\n",
    "for url in urls:\n",
    "  pages += requests.get(url).text"
   ]
  },
  {
   "cell_type": "code",
   "execution_count": 0,
   "metadata": {
    "colab": {},
    "colab_type": "code",
    "id": "_smeF9gDDDRc"
   },
   "outputs": [],
   "source": [
    "# Read the HTML using BeautifulSoup. Fallback 'html.parser' in case lxml has challages\",\n",
    "soup = BeautifulSoup(pages, \"lxml\")  "
   ]
  },
  {
   "cell_type": "code",
   "execution_count": 0,
   "metadata": {
    "colab": {},
    "colab_type": "code",
    "id": "yGhxWjaTDDRk"
   },
   "outputs": [],
   "source": [
    "# Find all 'div' and 'p' tags as these are the ones that contain data in our documents. Maintain the order of text.\n",
    "tagTypes = ['div', 'p']\n",
    "tags = soup.find_all(tagTypes)"
   ]
  },
  {
   "cell_type": "code",
   "execution_count": 0,
   "metadata": {
    "colab": {},
    "colab_type": "code",
    "id": "WZu_dfm1DDRt"
   },
   "outputs": [],
   "source": [
    "# Retrieve the plain-text from HTML tags.\n",
    "origTxt = ''\n",
    "for t in tags:\n",
    "    origTxt += t.text\n"
   ]
  },
  {
   "cell_type": "markdown",
   "metadata": {
    "colab_type": "text",
    "id": "hsW3unCxveyZ"
   },
   "source": [
    "## Data Cleanup"
   ]
  },
  {
   "cell_type": "markdown",
   "metadata": {
    "colab_type": "text",
    "id": "VogEYsHXoTmx"
   },
   "source": [
    "Now we have the raw text data. We need to clean it up to remove stop words, punctuations, and other common trivial patterns. "
   ]
  },
  {
   "cell_type": "markdown",
   "metadata": {
    "colab_type": "text",
    "id": "XUrqb8ZusWKy"
   },
   "source": [
    "This text has several \"\\xa0\" characters which need to be replaced. Start data clean up with these characters. Refer to:\n",
    "\n",
    "https://stackoverflow.com/questions/10993612/python-removing-xa0-from-string"
   ]
  },
  {
   "cell_type": "code",
   "execution_count": 0,
   "metadata": {
    "colab": {},
    "colab_type": "code",
    "id": "aKTunMPplvtU"
   },
   "outputs": [],
   "source": [
    "intermediateTxt = origTxt.replace(u'\\xa0', u' ')"
   ]
  },
  {
   "cell_type": "markdown",
   "metadata": {
    "colab_type": "text",
    "id": "UABwZLF-u029"
   },
   "source": [
    "Now, clean stop words."
   ]
  },
  {
   "cell_type": "code",
   "execution_count": 8,
   "metadata": {
    "colab": {
     "base_uri": "https://localhost:8080/",
     "height": 184
    },
    "colab_type": "code",
    "id": "U_8OVlWkwtSV",
    "outputId": "f1cb4288-69c4-4ffa-d789-e48e609c1f5c"
   },
   "outputs": [
    {
     "name": "stdout",
     "output_type": "stream",
     "text": [
      "a\n",
      "itself\n",
      "of\n",
      "didn't\n",
      "_\n",
      "was\n",
      "by\n",
      "you'd\n",
      "most\n",
      "their\n"
     ]
    }
   ],
   "source": [
    "import itertools\n",
    "stop_words = stopwords.words('english')\n",
    "stop_words.extend(['from', 'subject', 're', 'edu', 'use'])\n",
    "stopWords = set(stopwords.words('english') + list(string.punctuation))\n",
    "\n",
    "for i, val in enumerate(itertools.islice(stopWords, 10)): # print sample from stopWords to ensure the set is populated\n",
    "  print(val) \n"
   ]
  },
  {
   "cell_type": "code",
   "execution_count": 9,
   "metadata": {
    "colab": {
     "base_uri": "https://localhost:8080/",
     "height": 33
    },
    "colab_type": "code",
    "id": "-Y-_CL0Fx7zn",
    "outputId": "6c2bcf0b-e14e-4de9-cb34-f1ab2c49df97"
   },
   "outputs": [
    {
     "data": {
      "text/plain": [
       "226838"
      ]
     },
     "execution_count": 9,
     "metadata": {
      "tags": []
     },
     "output_type": "execute_result"
    }
   ],
   "source": [
    "intermediateTokens = nltk.word_tokenize(intermediateTxt)\n",
    "len(intermediateTokens)"
   ]
  },
  {
   "cell_type": "code",
   "execution_count": 10,
   "metadata": {
    "colab": {
     "base_uri": "https://localhost:8080/",
     "height": 33
    },
    "colab_type": "code",
    "id": "4MMYvxCCyIiH",
    "outputId": "535804cb-5400-43c5-de7f-f09319865522"
   },
   "outputs": [
    {
     "data": {
      "text/plain": [
       "292566"
      ]
     },
     "execution_count": 10,
     "metadata": {
      "tags": []
     },
     "output_type": "execute_result"
    }
   ],
   "source": [
    "# Remove stop words.\n",
    "cleanTokens = []\n",
    "for w in intermediateTokens:\n",
    "    if w not in stopWords:\n",
    "        cleanTokens.append(w.lower())\n",
    "        cleanTokens.append(' ') # Need to append a single space for cases where words are losing space in between\n",
    "\n",
    "len(cleanTokens)"
   ]
  },
  {
   "cell_type": "code",
   "execution_count": 0,
   "metadata": {
    "colab": {},
    "colab_type": "code",
    "id": "S4_mRSGNyZ0E"
   },
   "outputs": [],
   "source": [
    "cleanedTxt = ''\n",
    "cleanedTxtLst = []\n",
    "for token in cleanTokens:\n",
    "  if token != ' ':\n",
    "    cleanedTxtLst.append(token)\n",
    "    cleanedTxt += (token)\n",
    "cleanedTxt = cleanedTxt.replace('  ', ' ')  \n",
    "# cleanedTxtLst now contains individual words or tokens"
   ]
  },
  {
   "cell_type": "markdown",
   "metadata": {
    "colab_type": "text",
    "id": "HeBZCo5GuYHI"
   },
   "source": [
    "It is important to first tokenize and then match individual word against stop words. If we simply search for a stop word in the entire string and remove it, we will lose some important information. Consider example of a word \"I.R.S\". If the logic is to remove stop words and punctuation from entire string in one go, then the dots within this word will get removed. On the other hand, if we tokenize first then the comparison will be with entire \"I.R.S\" word as a token and therefore the dots inside will not get removed. This is one simple example but I have seen better results when stop words removal is done after tokenization. If you need a single string, then simply concatenate all tokens in a list."
   ]
  },
  {
   "cell_type": "markdown",
   "metadata": {
    "colab_type": "text",
    "id": "wWOFZDlZnblC"
   },
   "source": [
    "## Clean and Arrange Original Text into a List of Sentences"
   ]
  },
  {
   "cell_type": "markdown",
   "metadata": {
    "colab_type": "text",
    "id": "PlVMwt9mdu92"
   },
   "source": [
    "Thus far, we have tokenized input individual tokens  or words. However, it is also important to tokenize input by sentences. Toeknization by sentence can help highlight phrases, sentiments etc... which can not be generated on invidual words efficiently. "
   ]
  },
  {
   "cell_type": "code",
   "execution_count": 0,
   "metadata": {
    "colab": {},
    "colab_type": "code",
    "id": "Nz4zw-jgxFvt"
   },
   "outputs": [],
   "source": [
    "# Start with original text scraped from web resources. Check that it wasn't inadvertently modified.\n",
    "# origTxt"
   ]
  },
  {
   "cell_type": "code",
   "execution_count": 0,
   "metadata": {
    "colab": {},
    "colab_type": "code",
    "id": "iSfc1blgxF6e"
   },
   "outputs": [],
   "source": [
    "intermediateTxt = origTxt.replace(u'\\xa0', u' ')"
   ]
  },
  {
   "cell_type": "code",
   "execution_count": 14,
   "metadata": {
    "colab": {
     "base_uri": "https://localhost:8080/",
     "height": 204
    },
    "colab_type": "code",
    "id": "lMwLxndjydRb",
    "outputId": "51ce399e-9c1d-4a8e-d9ba-b4243dd0b029"
   },
   "outputs": [
    {
     "data": {
      "text/plain": [
       "['               UNITED STATESSECURITIES AND EXCHANGE COMMISSIONWashington, D.C. 20549FORM 10-Q(Mark One)[ü] QUARTERLY REPORT PURSUANT TO SECTION 13 OR 15(d) OF THE SECURITIESEXCHANGE ACT OF 1934For the Quarterly Period Ended September 30, 2018 or[   ] TRANSITION REPORT PURSUANT TO SECTION 13 OR 15(d) OF THE SECURITIESEXCHANGE ACT OF 1934For the transition period from          toCommission file number:1-6523Exact name of registrant as specified in its charter:Bank of America CorporationState or other jurisdiction of incorporation or organization:DelawareIRS Employer Identification No.',\n",
       " ':56-0906609Address of principal executive offices:Bank of America Corporate Center100 N. Tryon StreetCharlotte, North Carolina 28255Registrant’s telephone number, including area code:(704) 386-5681Former name, former address and former fiscal year, if changed since last report:Indicate by check mark whether the registrant (1) has filed all reports required to be filed by Section 13 or 15(d) of the Securities Exchange Act of 1934 during the preceding 12 months (or for such shorter period that the registrant was required to file such reports), and (2) has been subject to such filing requirements for the past 90 days.Yes ☑ No oIndicate by check mark whether the registrant has submitted electronically every Interactive Data File required to be submitted pursuant to Rule 405 of Regulation S-T (§ 232.405 of this chapter) during the preceding 12 months (or for such shorter period that the registrant was required to submit such files).Yes ☑ No oIndicate by check mark whether the registrant is a large accelerated filer, an accelerated filer, a non-accelerated filer, smaller reporting company, or an emerging growth company.',\n",
       " 'See the definitions of “large accelerated filer,” “accelerated filer,” “smaller reporting company,” and “emerging growth company” in Rule 12b-2 of the Exchange Act.Large accelerated filer  ☑ Accelerated filer o Non-accelerated filer o Smaller reporting company oLarge accelerated filer  ☑ Accelerated filer o Non-accelerated filer o Smaller reporting company oLarge accelerated filer  ☑ Accelerated filer o Non-accelerated filer o Smaller reporting company o            Emerging growth company o If an emerging growth company, indicate by check mark if the registrant has elected not to use the extended transition period for complying with any new or revised financial accounting standards provided pursuant to Section 13(a) of the Exchange Act.',\n",
       " 'oIndicate by check mark whether the registrant is a shell company (as defined in Exchange Act Rule 12b-2).',\n",
       " 'Yes o No ☑On October 26, 2018, there were 9,814,196,864 shares of Bank of America Corporation Common Stock outstanding.',\n",
       " 'Bank of America Corporation and SubsidiariesSeptember 30, 2018 Form 10-QINDEXPart I.',\n",
       " 'Financial InformationItem 1.',\n",
       " 'Financial Statements PageConsolidated Statement of Income 54Consolidated Statement of Comprehensive Income 55Consolidated Balance Sheet 56Consolidated Statement of Changes in Shareholders’ Equity 58Consolidated Statement of Cash Flows 59Notes to Consolidated Financial Statements 60Note 1 – Summary of Significant Accounting Principles 60Note 2 – Noninterest Income 62Note 3 – Derivatives 63Note 4 – Securities 71Note 5 – Outstanding Loans and Leases 74Note 6 – Allowance for Credit Losses 85Note 7 – Securitizations and Other Variable Interest Entities 87Note 8 – Goodwill and Intangible Assets 91Note 9 – Federal Funds Sold or Purchased, Securities Financing Agreements, Short-term Borrowings                     and Restricted Cash 92Note 10 – Commitments and Contingencies 94Note 11 – Shareholders’ Equity 96Note 12 – Accumulated Other Comprehensive Income (Loss) 97Note 13 – Earnings Per Common Share 98Note 14 – Fair Value Measurements 98Note 15 – Fair Value Option 107Note 16 – Fair Value of Financial Instruments 108Note 17 – Business Segment Information 109Glossary  113Acronyms 114Item 2.',\n",
       " 'Management’s Discussion and Analysis of Financial Condition and Results of Operations  Executive Summary 3Recent Events 3Financial Highlights 3Supplemental Financial Data 6Business Segment Operations 11Consumer Banking 11Global Wealth & Investment Management 15Global Banking 17Global Markets 19All Other 21Off-Balance Sheet Arrangements and Contractual Obligations 22Managing Risk 22Capital Management 22Liquidity Risk 26Credit Risk Management 28Consumer Portfolio Credit Risk Management 28Commercial Portfolio Credit Risk Management 37Non-U.S.',\n",
       " 'Portfolio 43Provision for Credit Losses 44Allowance for Credit Losses 44Market Risk Management 47Trading Risk Management 47Interest Rate Risk Management for the Banking Book 49Mortgage Banking Risk Management 51Complex Accounting Estimates 52Non-GAAP Reconciliations 52   Item 3.']"
      ]
     },
     "execution_count": 14,
     "metadata": {
      "tags": []
     },
     "output_type": "execute_result"
    }
   ],
   "source": [
    "# Tokenize by sentence. Notce that the stop words and punctuations have not been removed yet in this cell\n",
    "from nltk.tokenize import PunktSentenceTokenizer\n",
    "sents_tokenized = sent_tokenize(intermediateTxt)\n",
    "sents_tokenized[0:10]"
   ]
  },
  {
   "cell_type": "markdown",
   "metadata": {
    "colab_type": "text",
    "id": "qm322rT44MBh"
   },
   "source": [
    "So sentences are recognized. We still need to do some data cleaning here as well. For that, we will create tokens per sentence, clean punctuations at that point, and then create sentences again, and finally will push them into a list of sentences. "
   ]
  },
  {
   "cell_type": "code",
   "execution_count": 15,
   "metadata": {
    "colab": {
     "base_uri": "https://localhost:8080/",
     "height": 204
    },
    "colab_type": "code",
    "id": "PHMRYQbRy69K",
    "outputId": "7cec5851-09df-484c-aac7-7e2cddc9059b"
   },
   "outputs": [
    {
     "data": {
      "text/plain": [
       "['UNITED STATESSECURITIES AND EXCHANGE COMMISSIONWashington D.C. 20549FORM 10-Q Mark One ü QUARTERLY REPORT PURSUANT TO SECTION 13 OR 15 d OF THE SECURITIESEXCHANGE ACT OF 1934For the Quarterly Period Ended September 30 2018 or TRANSITION REPORT PURSUANT TO SECTION 13 OR 15 d OF THE SECURITIESEXCHANGE ACT OF 1934For the transition period from toCommission file number:1-6523Exact name of registrant as specified in its charter Bank of America CorporationState or other jurisdiction of incorporation or organization DelawareIRS Employer Identification No',\n",
       " ':56-0906609Address of principal executive offices Bank of America Corporate Center100 N. Tryon StreetCharlotte North Carolina 28255Registrant ’ s telephone number including area code 704 386-5681Former name former address and former fiscal year if changed since last report Indicate by check mark whether the registrant 1 has filed all reports required to be filed by Section 13 or 15 d of the Securities Exchange Act of 1934 during the preceding 12 months or for such shorter period that the registrant was required to file such reports and 2 has been subject to such filing requirements for the past 90 days.Yes ☑ No oIndicate by check mark whether the registrant has submitted electronically every Interactive Data File required to be submitted pursuant to Rule 405 of Regulation S-T § 232.405 of this chapter during the preceding 12 months or for such shorter period that the registrant was required to submit such files .Yes ☑ No oIndicate by check mark whether the registrant is a large accelerated filer an accelerated filer a non-accelerated filer smaller reporting company or an emerging growth company',\n",
       " 'See the definitions of “ large accelerated filer ” “ accelerated filer ” “ smaller reporting company ” and “ emerging growth company ” in Rule 12b-2 of the Exchange Act.Large accelerated filer ☑ Accelerated filer o Non-accelerated filer o Smaller reporting company oLarge accelerated filer ☑ Accelerated filer o Non-accelerated filer o Smaller reporting company oLarge accelerated filer ☑ Accelerated filer o Non-accelerated filer o Smaller reporting company o Emerging growth company o If an emerging growth company indicate by check mark if the registrant has elected not to use the extended transition period for complying with any new or revised financial accounting standards provided pursuant to Section 13 a of the Exchange Act',\n",
       " 'oIndicate by check mark whether the registrant is a shell company as defined in Exchange Act Rule 12b-2',\n",
       " 'Yes o No ☑On October 26 2018 there were 9,814,196,864 shares of Bank of America Corporation Common Stock outstanding',\n",
       " 'Bank of America Corporation and SubsidiariesSeptember 30 2018 Form 10-QINDEXPart I',\n",
       " 'Financial InformationItem 1',\n",
       " 'Financial Statements PageConsolidated Statement of Income 54Consolidated Statement of Comprehensive Income 55Consolidated Balance Sheet 56Consolidated Statement of Changes in Shareholders ’ Equity 58Consolidated Statement of Cash Flows 59Notes to Consolidated Financial Statements 60Note 1 – Summary of Significant Accounting Principles 60Note 2 – Noninterest Income 62Note 3 – Derivatives 63Note 4 – Securities 71Note 5 – Outstanding Loans and Leases 74Note 6 – Allowance for Credit Losses 85Note 7 – Securitizations and Other Variable Interest Entities 87Note 8 – Goodwill and Intangible Assets 91Note 9 – Federal Funds Sold or Purchased Securities Financing Agreements Short-term Borrowings and Restricted Cash 92Note 10 – Commitments and Contingencies 94Note 11 – Shareholders ’ Equity 96Note 12 – Accumulated Other Comprehensive Income Loss 97Note 13 – Earnings Per Common Share 98Note 14 – Fair Value Measurements 98Note 15 – Fair Value Option 107Note 16 – Fair Value of Financial Instruments 108Note 17 – Business Segment Information 109Glossary 113Acronyms 114Item 2',\n",
       " 'Management ’ s Discussion and Analysis of Financial Condition and Results of Operations Executive Summary 3Recent Events 3Financial Highlights 3Supplemental Financial Data 6Business Segment Operations 11Consumer Banking 11Global Wealth Investment Management 15Global Banking 17Global Markets 19All Other 21Off-Balance Sheet Arrangements and Contractual Obligations 22Managing Risk 22Capital Management 22Liquidity Risk 26Credit Risk Management 28Consumer Portfolio Credit Risk Management 28Commercial Portfolio Credit Risk Management 37Non-U.S',\n",
       " 'Portfolio 43Provision for Credit Losses 44Allowance for Credit Losses 44Market Risk Management 47Trading Risk Management 47Interest Rate Risk Management for the Banking Book 49Mortgage Banking Risk Management 51Complex Accounting Estimates 52Non-GAAP Reconciliations 52 Item 3']"
      ]
     },
     "execution_count": 15,
     "metadata": {
      "tags": []
     },
     "output_type": "execute_result"
    }
   ],
   "source": [
    "sents_ClnTknzd = []\n",
    "punctuations = list(string.punctuation) # only remove punctuations. Keep stop words for phrases and un-abbreviated forms. Don't lose \"of\" in US of A for example. \n",
    "\n",
    "for sent in sents_tokenized:\n",
    "  tempStr = ''\n",
    "  tempTokens = nltk.word_tokenize(sent)\n",
    "  for token in tempTokens:\n",
    "    if token not in punctuations:\n",
    "        tempStr += (token)\n",
    "        tempStr += ' '\n",
    "        #cleanTokens.append(' ') # Need to append a single space for cases where words are losing space in between\n",
    "  \n",
    "  sents_ClnTknzd.append(tempStr.strip())\n",
    "\n",
    "sents_ClnTknzd[0:10]"
   ]
  },
  {
   "cell_type": "markdown",
   "metadata": {
    "colab_type": "text",
    "id": "NGnhz08HfOpm"
   },
   "source": [
    "## Topic Modeling"
   ]
  },
  {
   "cell_type": "markdown",
   "metadata": {
    "colab_type": "text",
    "id": "zZmCH6TtfVq5"
   },
   "source": [
    "Now, we have clean data. Next we format it so that gensim can consume it and generate data for topic modeling. Code from here onwards has largely been borrowed from https://www.machinelearningplus.com/nlp/topic-modeling-gensim-python/.  "
   ]
  },
  {
   "cell_type": "code",
   "execution_count": 16,
   "metadata": {
    "colab": {
     "base_uri": "https://localhost:8080/",
     "height": 53
    },
    "colab_type": "code",
    "id": "Wl49VirjD1sP",
    "outputId": "290ed9e4-858b-4cd2-c160-604d45df0b69"
   },
   "outputs": [
    {
     "name": "stdout",
     "output_type": "stream",
     "text": [
      "[['united', 'and', 'exchange', 'form', 'mark', 'one', 'quarterly', 'report', 'pursuant', 'to', 'section', 'or', 'of', 'the', 'act', 'of', 'for', 'the', 'quarterly', 'period', 'ended', 'september', 'or', 'transition', 'report', 'pursuant', 'to', 'section', 'or', 'of', 'the', 'act', 'of', 'for', 'the', 'transition', 'period', 'from', 'tocommission', 'file', 'number', 'exact', 'name', 'of', 'registrant', 'as', 'specified', 'in', 'its', 'charter', 'bank', 'of', 'america', 'or', 'other', 'jurisdiction', 'of', 'incorporation', 'or', 'organization', 'delawareirs', 'employer', 'identification', 'no']]\n"
     ]
    }
   ],
   "source": [
    "def sent_to_words(sentences):\n",
    "    for sentence in sentences:\n",
    "        yield(gensim.utils.simple_preprocess(str(sentence), deacc=True))  # deacc=True removes punctuations\n",
    "\n",
    "data_words = list(sent_to_words(sents_ClnTknzd))\n",
    "\n",
    "print(data_words[:1])"
   ]
  },
  {
   "cell_type": "code",
   "execution_count": 17,
   "metadata": {
    "colab": {
     "base_uri": "https://localhost:8080/",
     "height": 87
    },
    "colab_type": "code",
    "id": "ZhFJ8cwUFP0P",
    "outputId": "d8bfbe4f-2b72-48f8-adb9-6a6c57f2702f"
   },
   "outputs": [
    {
     "name": "stderr",
     "output_type": "stream",
     "text": [
      "/usr/local/lib/python3.6/dist-packages/gensim/models/phrases.py:598: UserWarning: For a faster implementation, use the gensim.models.phrases.Phraser class\n",
      "  warnings.warn(\"For a faster implementation, use the gensim.models.phrases.Phraser class\")\n"
     ]
    },
    {
     "name": "stdout",
     "output_type": "stream",
     "text": [
      "['united', 'and', 'exchange', 'form', 'mark', 'one', 'quarterly', 'report', 'pursuant', 'to', 'section', 'or', 'of', 'the', 'act', 'of', 'for', 'the', 'quarterly', 'period', 'ended', 'september', 'or', 'transition', 'report', 'pursuant', 'to', 'section', 'or', 'of', 'the', 'act', 'of', 'for', 'the', 'transition', 'period', 'from', 'tocommission', 'file', 'number', 'exact', 'name', 'of', 'registrant', 'as', 'specified', 'in', 'its', 'charter', 'bank', 'of', 'america', 'or', 'other', 'jurisdiction', 'of', 'incorporation', 'or', 'organization', 'delawareirs', 'employer', 'identification', 'no']\n"
     ]
    }
   ],
   "source": [
    "# Build the bigram and trigram models\n",
    "bigram = gensim.models.Phrases(data_words, min_count=5, threshold=100) # higher threshold fewer phrases.\n",
    "trigram = gensim.models.Phrases(bigram[data_words], threshold=100)  \n",
    "\n",
    "# Faster way to get a sentence clubbed as a trigram/bigram\n",
    "bigram_mod = gensim.models.phrases.Phraser(bigram)\n",
    "trigram_mod = gensim.models.phrases.Phraser(trigram)\n",
    "\n",
    "# See trigram example\n",
    "print(trigram_mod[bigram_mod[data_words[0]]])"
   ]
  },
  {
   "cell_type": "code",
   "execution_count": 0,
   "metadata": {
    "colab": {},
    "colab_type": "code",
    "id": "frMWu9x1FpDD"
   },
   "outputs": [],
   "source": [
    "# Define functions for stopwords, bigrams, trigrams and lemmatization\n",
    "def remove_stopwords(texts):\n",
    "    return [[word for word in simple_preprocess(str(doc)) if word not in stop_words] for doc in texts]\n",
    "\n",
    "def make_bigrams(texts):\n",
    "    return [bigram_mod[doc] for doc in texts]\n",
    "\n",
    "def make_trigrams(texts):\n",
    "    return [trigram_mod[bigram_mod[doc]] for doc in texts]\n",
    "\n",
    "def lemmatization(texts, allowed_postags=['NOUN', 'ADJ', 'VERB', 'ADV']):\n",
    "    \"\"\"https://spacy.io/api/annotation\"\"\"\n",
    "    texts_out = []\n",
    "    for sent in texts:\n",
    "        doc = nlp(\" \".join(sent)) \n",
    "        texts_out.append([token.lemma_ for token in doc if token.pos_ in allowed_postags])\n",
    "    return texts_out"
   ]
  },
  {
   "cell_type": "code",
   "execution_count": 19,
   "metadata": {
    "colab": {
     "base_uri": "https://localhost:8080/",
     "height": 53
    },
    "colab_type": "code",
    "id": "obSDpesQFzYr",
    "outputId": "44fae8de-e63c-4ef4-b73c-6d1ae2724caa"
   },
   "outputs": [
    {
     "name": "stdout",
     "output_type": "stream",
     "text": [
      "[['united', 'exchange', 'form', 'mark', 'quarterly', 'report', 'pursuant', 'section', 'act', 'quarterly', 'period', 'end', 'september', 'transition', 'report', 'pursuant', 'section', 'act', 'transition', 'period', 'tocommission', 'file', 'number', 'exact', 'name', 'registrant', 'specify', 'charter', 'bank', 'america', 'jurisdiction', 'incorporation', 'organization', 'delawareir', 'employer', 'identification']]\n"
     ]
    }
   ],
   "source": [
    "# Remove Stop Words\n",
    "data_words_nostops = remove_stopwords(data_words)\n",
    "\n",
    "# Form Bigrams\n",
    "data_words_bigrams = make_bigrams(data_words_nostops)\n",
    "\n",
    "# Initialize spacy 'en' model, keeping only tagger component (for efficiency)\n",
    "# python3 -m spacy download en\n",
    "nlp = spacy.load('en', disable=['parser', 'ner'])\n",
    "\n",
    "# Do lemmatization keeping only noun, adj, vb, adv\n",
    "data_lemmatized = lemmatization(data_words_bigrams, allowed_postags=['NOUN', 'ADJ', 'VERB', 'ADV'])\n",
    "\n",
    "print(data_lemmatized[:1])"
   ]
  },
  {
   "cell_type": "code",
   "execution_count": 20,
   "metadata": {
    "colab": {
     "base_uri": "https://localhost:8080/",
     "height": 53
    },
    "colab_type": "code",
    "id": "Ril2jt3PF245",
    "outputId": "fd0e6787-d476-43a0-cfe8-be4bcbaf854d"
   },
   "outputs": [
    {
     "name": "stdout",
     "output_type": "stream",
     "text": [
      "[[(0, 2), (1, 1), (2, 1), (3, 1), (4, 1), (5, 1), (6, 1), (7, 1), (8, 1), (9, 1), (10, 1), (11, 1), (12, 1), (13, 1), (14, 1), (15, 1), (16, 1), (17, 1), (18, 2), (19, 2), (20, 2), (21, 1), (22, 2), (23, 2), (24, 1), (25, 1), (26, 1), (27, 2), (28, 1)]]\n"
     ]
    }
   ],
   "source": [
    "# Create Dictionary\n",
    "id2word = corpora.Dictionary(data_lemmatized)\n",
    "\n",
    "# Create Corpus\n",
    "texts = data_lemmatized\n",
    "\n",
    "# Term Document Frequency\n",
    "corpus = [id2word.doc2bow(text) for text in texts]\n",
    "\n",
    "# View\n",
    "print(corpus[:1])"
   ]
  },
  {
   "cell_type": "code",
   "execution_count": 21,
   "metadata": {
    "colab": {
     "base_uri": "https://localhost:8080/",
     "height": 502
    },
    "colab_type": "code",
    "id": "XffS2AVKF62m",
    "outputId": "77aeac82-7cf0-4406-e14d-e0618c04d372"
   },
   "outputs": [
    {
     "data": {
      "text/plain": [
       "[[('act', 2),\n",
       "  ('america', 1),\n",
       "  ('bank', 1),\n",
       "  ('charter', 1),\n",
       "  ('delawareir', 1),\n",
       "  ('employer', 1),\n",
       "  ('end', 1),\n",
       "  ('exact', 1),\n",
       "  ('exchange', 1),\n",
       "  ('file', 1),\n",
       "  ('form', 1),\n",
       "  ('identification', 1),\n",
       "  ('incorporation', 1),\n",
       "  ('jurisdiction', 1),\n",
       "  ('mark', 1),\n",
       "  ('name', 1),\n",
       "  ('number', 1),\n",
       "  ('organization', 1),\n",
       "  ('period', 2),\n",
       "  ('pursuant', 2),\n",
       "  ('quarterly', 2),\n",
       "  ('registrant', 1),\n",
       "  ('report', 2),\n",
       "  ('section', 2),\n",
       "  ('september', 1),\n",
       "  ('specify', 1),\n",
       "  ('tocommission', 1),\n",
       "  ('transition', 2),\n",
       "  ('united', 1)]]"
      ]
     },
     "execution_count": 21,
     "metadata": {
      "tags": []
     },
     "output_type": "execute_result"
    }
   ],
   "source": [
    "# Human readable format of corpus (term-frequency)\n",
    "[[(id2word[id], freq) for id, freq in cp] for cp in corpus[:1]]"
   ]
  },
  {
   "cell_type": "code",
   "execution_count": 0,
   "metadata": {
    "colab": {},
    "colab_type": "code",
    "id": "78Fp8mKEF-vl"
   },
   "outputs": [],
   "source": [
    "# Build LDA model\n",
    "lda_model = gensim.models.ldamodel.LdaModel(corpus=corpus,\n",
    "                                           id2word=id2word,\n",
    "                                           num_topics=20, \n",
    "                                           random_state=100,\n",
    "                                           update_every=1,\n",
    "                                           chunksize=100,\n",
    "                                           passes=50,\n",
    "                                           alpha='auto',\n",
    "                                           per_word_topics=True)"
   ]
  },
  {
   "cell_type": "code",
   "execution_count": 23,
   "metadata": {
    "colab": {
     "base_uri": "https://localhost:8080/",
     "height": 1372
    },
    "colab_type": "code",
    "id": "G39QuvqZGxeJ",
    "outputId": "a00adef3-d0c3-4296-aae6-249d03a58e75"
   },
   "outputs": [
    {
     "name": "stdout",
     "output_type": "stream",
     "text": [
      "[(0,\n",
      "  '0.246*\"loan\" + 0.076*\"commercial\" + 0.062*\"mortgage\" + 0.060*\"consumer\" + '\n",
      "  '0.053*\"non\" + 0.042*\"credit\" + 0.040*\"month\" + 0.040*\"portfolio\" + '\n",
      "  '0.037*\"estate\" + 0.036*\"real\"'),\n",
      " (1,\n",
      "  '0.184*\"basis\" + 0.167*\"percent\" + 0.108*\"fte\" + 0.050*\"equal\" + '\n",
      "  '0.031*\"subprime\" + 0.028*\"greater\" + 0.027*\"great\" + 0.024*\"effective\" + '\n",
      "  '0.024*\"march\" + 0.019*\"embed\"'),\n",
      " (2,\n",
      "  '0.063*\"section\" + 0.053*\"taxonomy_extension\" + 0.049*\"act\" + '\n",
      "  '0.044*\"certification\" + 0.042*\"sarbanes_oxley\" + 0.042*\"linkbase_document\" '\n",
      "  '+ 0.042*\"officer_pursuant\" + 0.028*\"estimate\" + 0.026*\"payment\" + '\n",
      "  '0.025*\"weight\"'),\n",
      " (3,\n",
      "  '0.073*\"year\" + 0.061*\"represent\" + 0.051*\"matter\" + 0.044*\"day\" + '\n",
      "  '0.043*\"enter\" + 0.038*\"expect\" + 0.036*\"measure\" + 0.032*\"result\" + '\n",
      "  '0.030*\"current\" + 0.028*\"generally\"'),\n",
      " (4,\n",
      "  '0.087*\"valuation\" + 0.086*\"market\" + 0.079*\"activity\" + 0.036*\"realize\" + '\n",
      "  '0.035*\"position\" + 0.029*\"pricing\" + 0.029*\"volatility\" + 0.026*\"severity\" '\n",
      "  '+ 0.024*\"disclosure\" + 0.023*\"forward\"'),\n",
      " (5,\n",
      "  '0.296*\"september\" + 0.282*\"end\" + 0.089*\"period\" + 0.067*\"sale\" + '\n",
      "  '0.049*\"primarily\" + 0.030*\"compare\" + 0.017*\"decrease\" + '\n",
      "  '0.016*\"price_observability\" + 0.013*\"include\" + 0.010*\"specify\"'),\n",
      " (6,\n",
      "  '0.123*\"agency\" + 0.086*\"back\" + 0.073*\"corporate\" + 0.052*\"taxable\" + '\n",
      "  '0.047*\"abs\" + 0.042*\"correlation\" + 0.038*\"unrealized\" + 0.030*\"sale\" + '\n",
      "  '0.022*\"new\" + 0.018*\"mmbtu\"'),\n",
      " (7,\n",
      "  '0.163*\"income\" + 0.125*\"net\" + 0.091*\"month\" + 0.061*\"tax\" + '\n",
      "  '0.060*\"investment\" + 0.040*\"expense\" + 0.035*\"increase\" + 0.034*\"interest\" '\n",
      "  '+ 0.031*\"average\" + 0.028*\"noninter\"'),\n",
      " (8,\n",
      "  '0.146*\"liability\" + 0.129*\"rate\" + 0.104*\"interest\" + 0.041*\"asset\" + '\n",
      "  '0.030*\"change\" + 0.029*\"deposit\" + 0.029*\"time\" + 0.023*\"sovereign\" + '\n",
      "  '0.023*\"potential\" + 0.022*\"afs\"'),\n",
      " (9,\n",
      "  '0.224*\"total\" + 0.103*\"september\" + 0.096*\"december\" + 0.074*\"dollar\" + '\n",
      "  '0.068*\"asset\" + 0.067*\"million\" + 0.036*\"balance\" + 0.030*\"fix\" + '\n",
      "  '0.025*\"default\" + 0.024*\"guarantee\"'),\n",
      " (10,\n",
      "  '0.176*\"loss\" + 0.147*\"credit\" + 0.083*\"amount\" + 0.061*\"allowance\" + '\n",
      "  '0.061*\"date\" + 0.045*\"relate\" + 0.044*\"adjustment\" + 0.037*\"record\" + '\n",
      "  '0.030*\"include\" + 0.028*\"non\"'),\n",
      " (11,\n",
      "  '0.114*\"financial\" + 0.099*\"note\" + 0.090*\"cash\" + 0.082*\"consolidate\" + '\n",
      "  '0.070*\"statement\" + 0.046*\"accounting\" + 0.042*\"flow\" + 0.036*\"vie\" + '\n",
      "  '0.031*\"significant\" + 0.031*\"derivative\"'),\n",
      " (12,\n",
      "  '0.082*\"corporation\" + 0.056*\"capital\" + 0.055*\"effect\" + 0.041*\"standard\" + '\n",
      "  '0.037*\"certain\" + 0.033*\"remain\" + 0.029*\"require\" + 0.025*\"treasury\" + '\n",
      "  '0.020*\"plan\" + 0.018*\"market\"'),\n",
      " (13,\n",
      "  '0.188*\"corporation\" + 0.114*\"information\" + 0.078*\"report\" + 0.071*\"see\" + '\n",
      "  '0.065*\"table\" + 0.049*\"form\" + 0.048*\"segment\" + 0.045*\"annual\" + '\n",
      "  '0.044*\"present\" + 0.030*\"follow\"'),\n",
      " (14,\n",
      "  '0.123*\"security\" + 0.090*\"value\" + 0.065*\"debt\" + 0.064*\"fair\" + '\n",
      "  '0.058*\"trading\" + 0.052*\"account\" + 0.050*\"asset\" + 0.043*\"derivative\" + '\n",
      "  '0.032*\"term\" + 0.030*\"commitment\"'),\n",
      " (15,\n",
      "  '0.098*\"share\" + 0.096*\"lease\" + 0.076*\"common\" + 0.061*\"stock\" + '\n",
      "  '0.056*\"earning\" + 0.051*\"equity\" + 0.036*\"outstanding\" + 0.034*\"charge\" + '\n",
      "  '0.028*\"month\" + 0.026*\"dividend\"'),\n",
      " (16,\n",
      "  '0.201*\"bank\" + 0.199*\"america\" + 0.122*\"hold\" + 0.053*\"corporation\" + '\n",
      "  '0.050*\"transfer\" + 0.040*\"discount\" + 0.036*\"mb\" + 0.033*\"rudolf_bless\" + '\n",
      "  '0.021*\"line\" + 0.020*\"grade\"'),\n",
      " (17,\n",
      "  '0.140*\"risk\" + 0.057*\"transaction\" + 0.055*\"corporation\" + '\n",
      "  '0.040*\"management\" + 0.030*\"receive\" + 0.030*\"use\" + 0.027*\"product\" + '\n",
      "  '0.025*\"officer\" + 0.025*\"provide\" + 0.023*\"classify\"'),\n",
      " (18,\n",
      "  '0.061*\"fee\" + 0.055*\"level\" + 0.051*\"gain\" + 0.050*\"exposure\" + '\n",
      "  '0.037*\"price\" + 0.033*\"base\" + 0.033*\"less\" + 0.032*\"card\" + '\n",
      "  '0.024*\"decrease\" + 0.022*\"hedge\"'),\n",
      " (19,\n",
      "  '0.073*\"service\" + 0.070*\"banking\" + 0.057*\"global\" + 0.053*\"business\" + '\n",
      "  '0.051*\"chief\" + 0.048*\"financial\" + 0.046*\"brokerage\" + 0.038*\"trust\" + '\n",
      "  '0.034*\"chief_executive\" + 0.033*\"management\"')]\n"
     ]
    }
   ],
   "source": [
    "# Print the Keyword in the 10 topics\n",
    "pprint(lda_model.print_topics())\n",
    "doc_lda = lda_model[corpus]"
   ]
  },
  {
   "cell_type": "code",
   "execution_count": 24,
   "metadata": {
    "colab": {
     "base_uri": "https://localhost:8080/",
     "height": 84
    },
    "colab_type": "code",
    "id": "eNGqCEL_jpUj",
    "outputId": "5aa6081e-885a-49cd-e575-1ff0d1c98c5e"
   },
   "outputs": [
    {
     "name": "stdout",
     "output_type": "stream",
     "text": [
      "\n",
      "Perplexity:  -6.053528584742239\n",
      "\n",
      "Coherence Score:  0.45001237881600514\n"
     ]
    }
   ],
   "source": [
    "# Compute Perplexity\n",
    "print('\\nPerplexity: ', lda_model.log_perplexity(corpus))  # a measure of how good the model is. lower the better.\n",
    "\n",
    "# Compute Coherence Score\n",
    "coherence_model_lda = CoherenceModel(model=lda_model, texts=data_lemmatized, dictionary=id2word, coherence='c_v')\n",
    "coherence_lda = coherence_model_lda.get_coherence()\n",
    "print('\\nCoherence Score: ', coherence_lda)"
   ]
  },
  {
   "cell_type": "code",
   "execution_count": 25,
   "metadata": {
    "colab": {
     "base_uri": "https://localhost:8080/",
     "height": 994
    },
    "colab_type": "code",
    "id": "URMd0Bdjjpyn",
    "outputId": "88b71bab-08da-48e1-8abe-54a4a61586cd"
   },
   "outputs": [
    {
     "name": "stderr",
     "output_type": "stream",
     "text": [
      "/usr/local/lib/python3.6/dist-packages/pyLDAvis/_prepare.py:257: FutureWarning: Sorting because non-concatenation axis is not aligned. A future version\n",
      "of pandas will change to not sort by default.\n",
      "\n",
      "To accept the future behavior, pass 'sort=False'.\n",
      "\n",
      "To retain the current behavior and silence the warning, pass 'sort=True'.\n",
      "\n",
      "  return pd.concat([default_term_info] + list(topic_dfs))\n"
     ]
    },
    {
     "data": {
      "text/html": [
       "\n",
       "<link rel=\"stylesheet\" type=\"text/css\" href=\"https://cdn.rawgit.com/bmabey/pyLDAvis/files/ldavis.v1.0.0.css\">\n",
       "\n",
       "\n",
       "<div id=\"ldavis_el3211400668098016084641335937\"></div>\n",
       "<script type=\"text/javascript\">\n",
       "\n",
       "var ldavis_el3211400668098016084641335937_data = {\"mdsDat\": {\"x\": [0.11909252861921278, 0.10952872418835684, 0.17969765555111658, 0.04436684334180935, 0.18804445049871982, 0.15531795817501953, 0.027469232485527083, 0.11974865432285967, 0.12226182820205272, 0.026263207746590016, -0.24274184618472816, -0.22799033886562256, -0.038523239446954294, -0.19601017837716514, -0.046733559365185945, -0.19299887521735065, -0.11705012642533381, -0.01555506447007381, -0.02022928349816727, 0.0060414287193167335], \"y\": [0.019496312964100457, 0.21872579038317394, 0.1967855530360985, -0.029082701027041472, -0.23713512508974985, 0.02425247700622942, 0.1981067505334208, -0.27224772166250616, 0.05745735545075143, 0.051369351683797415, 0.004661277782725743, 0.0129994205369569, 0.06035388953037826, 0.01925382868735345, -0.028732848072373227, -0.0178519201008679, -0.026254932122666597, -0.08028237325523212, -0.05263715472470963, -0.11923723153983831], \"topics\": [1, 2, 3, 4, 5, 6, 7, 8, 9, 10, 11, 12, 13, 14, 15, 16, 17, 18, 19, 20], \"cluster\": [1, 1, 1, 1, 1, 1, 1, 1, 1, 1, 1, 1, 1, 1, 1, 1, 1, 1, 1, 1], \"Freq\": [11.156632423400879, 10.575933456420898, 8.554327011108398, 6.867244243621826, 6.60027551651001, 6.219735622406006, 5.721695899963379, 4.819202899932861, 4.46456241607666, 4.331677436828613, 4.229390621185303, 3.989044666290283, 3.6654109954833984, 3.4062716960906982, 3.065802574157715, 2.9787468910217285, 2.62821102142334, 2.3511202335357666, 2.2591655254364014, 2.1155452728271484]}, \"tinfo\": {\"Category\": [\"Default\", \"Default\", \"Default\", \"Default\", \"Default\", \"Default\", \"Default\", \"Default\", \"Default\", \"Default\", \"Default\", \"Default\", \"Default\", \"Default\", \"Default\", \"Default\", \"Default\", \"Default\", \"Default\", \"Default\", \"Default\", \"Default\", \"Default\", \"Default\", \"Default\", \"Default\", \"Default\", \"Default\", \"Default\", \"Default\", \"Topic1\", \"Topic1\", \"Topic1\", \"Topic1\", \"Topic1\", \"Topic1\", \"Topic1\", \"Topic1\", \"Topic1\", \"Topic1\", \"Topic1\", \"Topic1\", \"Topic1\", \"Topic1\", \"Topic1\", \"Topic1\", \"Topic1\", \"Topic1\", \"Topic1\", \"Topic1\", \"Topic1\", \"Topic1\", \"Topic1\", \"Topic1\", \"Topic1\", \"Topic1\", \"Topic1\", \"Topic1\", \"Topic1\", \"Topic1\", \"Topic1\", \"Topic1\", \"Topic1\", \"Topic1\", \"Topic1\", \"Topic1\", \"Topic1\", \"Topic1\", \"Topic2\", \"Topic2\", \"Topic2\", \"Topic2\", \"Topic2\", \"Topic2\", \"Topic2\", \"Topic2\", \"Topic2\", \"Topic2\", \"Topic2\", \"Topic2\", \"Topic2\", \"Topic2\", \"Topic2\", \"Topic2\", \"Topic2\", \"Topic2\", \"Topic2\", \"Topic2\", \"Topic2\", \"Topic2\", \"Topic2\", \"Topic2\", \"Topic2\", \"Topic2\", \"Topic2\", \"Topic2\", \"Topic2\", \"Topic2\", \"Topic2\", \"Topic2\", \"Topic2\", \"Topic2\", \"Topic2\", \"Topic2\", \"Topic2\", \"Topic2\", \"Topic2\", \"Topic3\", \"Topic3\", \"Topic3\", \"Topic3\", \"Topic3\", \"Topic3\", \"Topic3\", \"Topic3\", \"Topic3\", \"Topic3\", \"Topic3\", \"Topic3\", \"Topic3\", \"Topic3\", \"Topic3\", \"Topic3\", \"Topic3\", \"Topic3\", \"Topic3\", \"Topic3\", \"Topic3\", \"Topic3\", \"Topic3\", \"Topic3\", \"Topic3\", \"Topic3\", \"Topic3\", \"Topic3\", \"Topic3\", \"Topic3\", \"Topic3\", \"Topic3\", \"Topic3\", \"Topic3\", \"Topic3\", \"Topic3\", \"Topic3\", \"Topic3\", \"Topic3\", \"Topic3\", \"Topic3\", \"Topic3\", \"Topic3\", \"Topic3\", \"Topic3\", \"Topic3\", \"Topic4\", \"Topic4\", \"Topic4\", \"Topic4\", \"Topic4\", \"Topic4\", \"Topic4\", \"Topic4\", \"Topic4\", \"Topic4\", \"Topic4\", \"Topic4\", \"Topic4\", \"Topic4\", \"Topic4\", \"Topic4\", \"Topic4\", \"Topic4\", \"Topic4\", \"Topic4\", \"Topic4\", \"Topic4\", \"Topic4\", \"Topic4\", \"Topic4\", \"Topic4\", \"Topic4\", \"Topic4\", \"Topic4\", \"Topic4\", \"Topic4\", \"Topic4\", \"Topic4\", \"Topic4\", \"Topic5\", \"Topic5\", \"Topic5\", \"Topic5\", \"Topic5\", \"Topic5\", \"Topic5\", \"Topic5\", \"Topic5\", \"Topic5\", \"Topic5\", \"Topic5\", \"Topic5\", \"Topic5\", \"Topic5\", \"Topic5\", \"Topic5\", \"Topic5\", \"Topic5\", \"Topic5\", \"Topic5\", \"Topic5\", \"Topic5\", \"Topic5\", \"Topic5\", \"Topic5\", \"Topic5\", \"Topic5\", \"Topic5\", \"Topic5\", \"Topic5\", \"Topic5\", \"Topic5\", \"Topic5\", \"Topic5\", \"Topic5\", \"Topic6\", \"Topic6\", \"Topic6\", \"Topic6\", \"Topic6\", \"Topic6\", \"Topic6\", \"Topic6\", \"Topic6\", \"Topic6\", \"Topic6\", \"Topic6\", \"Topic6\", \"Topic6\", \"Topic6\", \"Topic6\", \"Topic6\", \"Topic6\", \"Topic6\", \"Topic6\", \"Topic6\", \"Topic6\", \"Topic6\", \"Topic6\", \"Topic6\", \"Topic6\", \"Topic6\", \"Topic6\", \"Topic6\", \"Topic6\", \"Topic6\", \"Topic6\", \"Topic6\", \"Topic6\", \"Topic6\", \"Topic6\", \"Topic6\", \"Topic7\", \"Topic7\", \"Topic7\", \"Topic7\", \"Topic7\", \"Topic7\", \"Topic7\", \"Topic7\", \"Topic7\", \"Topic7\", \"Topic7\", \"Topic7\", \"Topic7\", \"Topic7\", \"Topic7\", \"Topic7\", \"Topic7\", \"Topic7\", \"Topic7\", \"Topic7\", \"Topic7\", \"Topic7\", \"Topic7\", \"Topic7\", \"Topic7\", \"Topic7\", \"Topic7\", \"Topic7\", \"Topic7\", \"Topic7\", \"Topic7\", \"Topic7\", \"Topic7\", \"Topic7\", \"Topic7\", \"Topic7\", \"Topic7\", \"Topic7\", \"Topic8\", \"Topic8\", \"Topic8\", \"Topic8\", \"Topic8\", \"Topic8\", \"Topic8\", \"Topic8\", \"Topic8\", \"Topic8\", \"Topic8\", \"Topic8\", \"Topic8\", \"Topic8\", \"Topic8\", \"Topic8\", \"Topic8\", \"Topic8\", \"Topic8\", \"Topic8\", \"Topic8\", \"Topic8\", \"Topic8\", \"Topic8\", \"Topic8\", \"Topic8\", \"Topic8\", \"Topic8\", \"Topic8\", \"Topic8\", \"Topic8\", \"Topic8\", \"Topic8\", \"Topic8\", \"Topic8\", \"Topic8\", \"Topic9\", \"Topic9\", \"Topic9\", \"Topic9\", \"Topic9\", \"Topic9\", \"Topic9\", \"Topic9\", \"Topic9\", \"Topic9\", \"Topic9\", \"Topic9\", \"Topic9\", \"Topic9\", \"Topic9\", \"Topic9\", \"Topic9\", \"Topic9\", \"Topic9\", \"Topic9\", \"Topic9\", \"Topic9\", \"Topic9\", \"Topic9\", \"Topic9\", \"Topic9\", \"Topic9\", \"Topic9\", \"Topic9\", \"Topic9\", \"Topic9\", \"Topic9\", \"Topic9\", \"Topic9\", \"Topic9\", \"Topic9\", \"Topic9\", \"Topic9\", \"Topic9\", \"Topic9\", \"Topic9\", \"Topic10\", \"Topic10\", \"Topic10\", \"Topic10\", \"Topic10\", \"Topic10\", \"Topic10\", \"Topic10\", \"Topic10\", \"Topic10\", \"Topic10\", \"Topic10\", \"Topic10\", \"Topic10\", \"Topic10\", \"Topic10\", \"Topic10\", \"Topic10\", \"Topic10\", \"Topic10\", \"Topic10\", \"Topic10\", \"Topic10\", \"Topic10\", \"Topic10\", \"Topic10\", \"Topic10\", \"Topic10\", \"Topic10\", \"Topic10\", \"Topic10\", \"Topic10\", \"Topic10\", \"Topic10\", \"Topic10\", \"Topic10\", \"Topic10\", \"Topic10\", \"Topic10\", \"Topic11\", \"Topic11\", \"Topic11\", \"Topic11\", \"Topic11\", \"Topic11\", \"Topic11\", \"Topic11\", \"Topic11\", \"Topic11\", \"Topic11\", \"Topic11\", \"Topic11\", \"Topic11\", \"Topic11\", \"Topic11\", \"Topic11\", \"Topic11\", \"Topic11\", \"Topic11\", \"Topic11\", \"Topic11\", \"Topic11\", \"Topic11\", \"Topic11\", \"Topic11\", \"Topic11\", \"Topic11\", \"Topic11\", \"Topic11\", \"Topic11\", \"Topic11\", \"Topic11\", \"Topic11\", \"Topic11\", \"Topic11\", \"Topic11\", \"Topic12\", \"Topic12\", \"Topic12\", \"Topic12\", \"Topic12\", \"Topic12\", \"Topic12\", \"Topic12\", \"Topic12\", \"Topic12\", \"Topic12\", \"Topic12\", \"Topic12\", \"Topic12\", \"Topic12\", \"Topic12\", \"Topic12\", \"Topic12\", \"Topic12\", \"Topic12\", \"Topic12\", \"Topic12\", \"Topic12\", \"Topic12\", \"Topic12\", \"Topic12\", \"Topic12\", \"Topic12\", \"Topic12\", \"Topic12\", \"Topic12\", \"Topic12\", \"Topic12\", \"Topic12\", \"Topic12\", \"Topic12\", \"Topic12\", \"Topic12\", \"Topic12\", \"Topic12\", \"Topic12\", \"Topic12\", \"Topic13\", \"Topic13\", \"Topic13\", \"Topic13\", \"Topic13\", \"Topic13\", \"Topic13\", \"Topic13\", \"Topic13\", \"Topic13\", \"Topic13\", \"Topic13\", \"Topic13\", \"Topic13\", \"Topic13\", \"Topic13\", \"Topic13\", \"Topic13\", \"Topic13\", \"Topic13\", \"Topic13\", \"Topic13\", \"Topic13\", \"Topic13\", \"Topic13\", \"Topic13\", \"Topic13\", \"Topic13\", \"Topic13\", \"Topic13\", \"Topic13\", \"Topic13\", \"Topic13\", \"Topic13\", \"Topic13\", \"Topic13\", \"Topic14\", \"Topic14\", \"Topic14\", \"Topic14\", \"Topic14\", \"Topic14\", \"Topic14\", \"Topic14\", \"Topic14\", \"Topic14\", \"Topic14\", \"Topic14\", \"Topic14\", \"Topic14\", \"Topic14\", \"Topic14\", \"Topic14\", \"Topic14\", \"Topic14\", \"Topic14\", \"Topic14\", \"Topic14\", \"Topic14\", \"Topic14\", \"Topic14\", \"Topic14\", \"Topic14\", \"Topic14\", \"Topic14\", \"Topic14\", \"Topic14\", \"Topic14\", \"Topic14\", \"Topic14\", \"Topic14\", \"Topic14\", \"Topic14\", \"Topic15\", \"Topic15\", \"Topic15\", \"Topic15\", \"Topic15\", \"Topic15\", \"Topic15\", \"Topic15\", \"Topic15\", \"Topic15\", \"Topic15\", \"Topic15\", \"Topic15\", \"Topic15\", \"Topic15\", \"Topic15\", \"Topic15\", \"Topic15\", \"Topic15\", \"Topic15\", \"Topic15\", \"Topic15\", \"Topic15\", \"Topic15\", \"Topic15\", \"Topic15\", \"Topic15\", \"Topic15\", \"Topic15\", \"Topic15\", \"Topic15\", \"Topic15\", \"Topic15\", \"Topic15\", \"Topic16\", \"Topic16\", \"Topic16\", \"Topic16\", \"Topic16\", \"Topic16\", \"Topic16\", \"Topic16\", \"Topic16\", \"Topic16\", \"Topic16\", \"Topic16\", \"Topic16\", \"Topic16\", \"Topic16\", \"Topic16\", \"Topic16\", \"Topic16\", \"Topic16\", \"Topic16\", \"Topic16\", \"Topic16\", \"Topic16\", \"Topic16\", \"Topic16\", \"Topic16\", \"Topic16\", \"Topic16\", \"Topic16\", \"Topic16\", \"Topic16\", \"Topic16\", \"Topic16\", \"Topic16\", \"Topic17\", \"Topic17\", \"Topic17\", \"Topic17\", \"Topic17\", \"Topic17\", \"Topic17\", \"Topic17\", \"Topic17\", \"Topic17\", \"Topic17\", \"Topic17\", \"Topic17\", \"Topic17\", \"Topic17\", \"Topic17\", \"Topic17\", \"Topic17\", \"Topic17\", \"Topic17\", \"Topic17\", \"Topic17\", \"Topic17\", \"Topic17\", \"Topic17\", \"Topic17\", \"Topic17\", \"Topic17\", \"Topic17\", \"Topic17\", \"Topic17\", \"Topic17\", \"Topic17\", \"Topic17\", \"Topic17\", \"Topic18\", \"Topic18\", \"Topic18\", \"Topic18\", \"Topic18\", \"Topic18\", \"Topic18\", \"Topic18\", \"Topic18\", \"Topic18\", \"Topic18\", \"Topic18\", \"Topic18\", \"Topic18\", \"Topic18\", \"Topic18\", \"Topic18\", \"Topic18\", \"Topic18\", \"Topic18\", \"Topic18\", \"Topic18\", \"Topic18\", \"Topic18\", \"Topic18\", \"Topic18\", \"Topic18\", \"Topic18\", \"Topic18\", \"Topic18\", \"Topic18\", \"Topic18\", \"Topic18\", \"Topic19\", \"Topic19\", \"Topic19\", \"Topic19\", \"Topic19\", \"Topic19\", \"Topic19\", \"Topic19\", \"Topic19\", \"Topic19\", \"Topic19\", \"Topic19\", \"Topic19\", \"Topic19\", \"Topic19\", \"Topic19\", \"Topic19\", \"Topic19\", \"Topic19\", \"Topic19\", \"Topic19\", \"Topic19\", \"Topic19\", \"Topic19\", \"Topic19\", \"Topic19\", \"Topic19\", \"Topic19\", \"Topic19\", \"Topic19\", \"Topic19\", \"Topic20\", \"Topic20\", \"Topic20\", \"Topic20\", \"Topic20\", \"Topic20\", \"Topic20\", \"Topic20\", \"Topic20\", \"Topic20\", \"Topic20\", \"Topic20\", \"Topic20\", \"Topic20\", \"Topic20\", \"Topic20\", \"Topic20\", \"Topic20\", \"Topic20\", \"Topic20\", \"Topic20\", \"Topic20\", \"Topic20\", \"Topic20\", \"Topic20\", \"Topic20\", \"Topic20\", \"Topic20\", \"Topic20\", \"Topic20\", \"Topic20\", \"Topic20\", \"Topic20\", \"Topic20\", \"Topic20\", \"Topic20\"], \"Freq\": [2564.0, 2120.0, 1339.0, 1516.0, 1377.0, 1349.0, 1495.0, 1081.0, 1270.0, 1178.0, 993.0, 592.0, 585.0, 1360.0, 644.0, 613.0, 743.0, 1292.0, 790.0, 661.0, 626.0, 601.0, 592.0, 469.0, 411.0, 713.0, 703.0, 474.0, 648.0, 371.0, 1348.5340576171875, 992.8547973632812, 712.4385986328125, 702.8153686523438, 636.8215942382812, 354.9646911621094, 328.44354248046875, 285.2872314453125, 284.3837585449219, 271.64599609375, 260.8771057128906, 227.37486267089844, 219.927490234375, 214.9283905029297, 185.10147094726562, 107.23292541503906, 97.0193099975586, 87.419677734375, 83.18756103515625, 77.16291809082031, 71.62040710449219, 58.877044677734375, 52.08028793334961, 49.370845794677734, 48.6510124206543, 47.70330047607422, 46.33129119873047, 45.989479064941406, 45.983848571777344, 38.960044860839844, 567.7782592773438, 471.07574462890625, 129.27589416503906, 547.876953125, 298.3135070800781, 196.68812561035156, 76.20628356933594, 81.83499145507812, 2563.486083984375, 789.3468017578125, 647.285888671875, 622.5621948242188, 413.6060485839844, 380.8355712890625, 373.57989501953125, 360.7711181640625, 240.36422729492188, 146.249755859375, 121.4325180053711, 116.48745727539062, 88.14791107177734, 83.03326416015625, 78.8193588256836, 66.89202117919922, 63.38507080078125, 56.81574630737305, 43.93218994140625, 43.74888229370117, 34.17510223388672, 33.36558151245117, 33.09944152832031, 26.44857406616211, 24.30925750732422, 24.032373428344727, 23.853158950805664, 23.465139389038086, 23.0272216796875, 22.86049461364746, 555.20703125, 105.5553207397461, 227.16664123535156, 185.51687622070312, 439.31817626953125, 417.8861999511719, 174.10142517089844, 76.51363372802734, 40.45500183105469, 1376.3294677734375, 516.0095825195312, 336.05462646484375, 298.8860778808594, 238.15350341796875, 223.90609741210938, 149.64761352539062, 104.8432388305664, 93.24837493896484, 88.81855773925781, 85.3276138305664, 80.82127380371094, 77.44940185546875, 72.92796325683594, 44.800750732421875, 42.921409606933594, 39.75564956665039, 38.43767547607422, 21.28915023803711, 21.28915023803711, 20.261505126953125, 17.94878578186035, 15.869979858398438, 15.64533519744873, 14.060003280639648, 13.888252258300781, 10.002553939819336, 9.935379981994629, 9.325291633605957, 9.325288772583008, 1050.0897216796875, 507.7466735839844, 66.0359878540039, 188.21304321289062, 263.1990051269531, 768.7083129882812, 48.41619873046875, 217.5634307861328, 284.576171875, 158.83538818359375, 51.264183044433594, 93.5986557006836, 117.52542114257812, 52.34568405151367, 88.5853500366211, 45.62757110595703, 414.17572021484375, 373.8175048828125, 343.2801818847656, 335.7948913574219, 253.059814453125, 223.5948028564453, 222.8490447998047, 148.8313751220703, 144.02850341796875, 129.5201416015625, 128.59288024902344, 128.1709747314453, 124.30777740478516, 119.59565734863281, 118.3077163696289, 111.56022644042969, 103.30208587646484, 95.91473388671875, 92.40321350097656, 91.53130340576172, 81.2916030883789, 80.08441162109375, 79.68589782714844, 77.08500671386719, 70.9035873413086, 65.50236511230469, 64.34362030029297, 63.440494537353516, 59.0900764465332, 54.944725036621094, 163.83154296875, 219.36387634277344, 95.24829864501953, 88.4054183959961, 625.8624877929688, 481.0497131347656, 198.15513610839844, 165.70164489746094, 156.90988159179688, 133.61920166015625, 131.8794708251953, 90.99962615966797, 83.3551025390625, 69.31431579589844, 62.12952423095703, 54.970672607421875, 50.31674575805664, 47.11039352416992, 43.6607551574707, 42.86989212036133, 41.59531784057617, 40.5844841003418, 36.837501525878906, 32.15299606323242, 21.899179458618164, 21.599733352661133, 1458.2430419921875, 20.81838035583496, 19.004140853881836, 18.052188873291016, 16.93292999267578, 16.030893325805664, 13.999796867370605, 13.407002449035645, 432.61993408203125, 139.0640869140625, 235.47654724121094, 51.24625015258789, 671.412353515625, 444.28106689453125, 600.1812744140625, 591.351806640625, 462.73223876953125, 374.6565246582031, 345.4107971191406, 217.697265625, 210.89353942871094, 160.8452911376953, 150.5, 145.96783447265625, 87.49126434326172, 86.49205017089844, 83.51853942871094, 81.92994689941406, 79.85818481445312, 70.30844116210938, 58.14134979248047, 57.362918853759766, 57.362918853759766, 57.362918853759766, 54.21131896972656, 53.980892181396484, 49.94077682495117, 39.765621185302734, 35.1275520324707, 34.594627380371094, 30.857027053833008, 26.806461334228516, 26.621994018554688, 26.621068954467773, 314.02447509765625, 122.63982391357422, 72.38670349121094, 173.62191772460938, 127.60628509521484, 57.8835563659668, 40.59351348876953, 467.34979248046875, 345.9436950683594, 342.6829528808594, 251.09934997558594, 247.68165588378906, 210.89578247070312, 144.52407836914062, 125.3736572265625, 107.16812896728516, 96.6766586303711, 88.93374633789062, 87.58930969238281, 83.49915313720703, 50.53080368041992, 48.64328384399414, 41.428890228271484, 32.98085021972656, 19.761838912963867, 19.753629684448242, 18.091562271118164, 16.77530860900879, 16.396699905395508, 13.825661659240723, 13.254973411560059, 13.01107406616211, 12.686985969543457, 11.429022789001465, 11.247154235839844, 991.9041137695312, 8.629244804382324, 53.823734283447266, 830.7096557617188, 68.7105484008789, 74.95240020751953, 112.66110229492188, 157.07237243652344, 168.1366424560547, 50.317867279052734, 1338.8990478515625, 422.9338073730469, 140.6539764404297, 74.24073791503906, 46.40103530883789, 42.2016716003418, 37.09244155883789, 32.53827667236328, 29.97610855102539, 26.1270751953125, 23.1474609375, 22.55565071105957, 20.804367065429688, 18.52848243713379, 17.139068603515625, 15.37325668334961, 13.390083312988281, 12.424365997314453, 11.30505084991455, 10.428474426269531, 9.062420845031738, 8.728276252746582, 8.273056030273438, 8.233722686767578, 8.007224082946777, 6.5973639488220215, 6.5973639488220215, 6.404641151428223, 5.240528583526611, 233.0775909423828, 318.79766845703125, 1407.4898681640625, 78.56970977783203, 14.779842376708984, 60.039066314697266, 24.680095672607422, 643.58837890625, 126.36357116699219, 102.2291030883789, 99.45601654052734, 97.88247680664062, 97.34135437011719, 94.29258728027344, 73.15361022949219, 64.02465057373047, 60.9385986328125, 51.07686996459961, 46.89936447143555, 45.4818229675293, 45.18634796142578, 44.70014953613281, 31.728281021118164, 29.978551864624023, 27.946382522583008, 27.86306381225586, 27.625125885009766, 25.691608428955078, 23.42551612854004, 23.07476043701172, 18.445478439331055, 18.367176055908203, 16.09018325805664, 16.09018325805664, 15.859238624572754, 15.799400329589844, 14.460343360900879, 567.1476440429688, 458.0255126953125, 126.85369110107422, 46.90414810180664, 131.6068115234375, 44.28691101074219, 182.03208923339844, 52.69104766845703, 43.344482421875, 52.35481643676758, 40.7629280090332, 420.7159118652344, 384.1565246582031, 351.5209655761719, 299.11663818359375, 195.12301635742188, 181.06195068359375, 154.2877197265625, 133.2891082763672, 114.71316528320312, 85.0119400024414, 71.3203125, 70.59992218017578, 69.37991333007812, 47.054962158203125, 44.29926681518555, 44.001094818115234, 43.60877990722656, 33.127681732177734, 32.06261444091797, 23.754680633544922, 23.619503021240234, 23.2089786529541, 21.67166519165039, 20.667207717895508, 17.165868759155273, 16.095752716064453, 16.05228614807129, 14.236433029174805, 14.047528266906738, 12.366557121276855, 47.613739013671875, 488.2006530761719, 130.61203002929688, 102.54161834716797, 36.31333541870117, 27.6823787689209, 27.341218948364258, 37.68034744262695, 28.489049911499023, 473.9634704589844, 323.07574462890625, 295.2165832519531, 205.8344268798828, 201.9778289794922, 189.46725463867188, 184.10086059570312, 77.64221954345703, 51.18498992919922, 47.880123138427734, 47.26538848876953, 32.00803756713867, 29.19180679321289, 23.251527786254883, 21.778146743774414, 19.307430267333984, 18.620922088623047, 18.114126205444336, 17.886714935302734, 17.31930923461914, 16.34355354309082, 15.548508644104004, 15.480649948120117, 14.754014015197754, 13.91942024230957, 12.941079139709473, 12.359800338745117, 12.150471687316895, 11.075281143188477, 10.474886894226074, 126.97999572753906, 270.0228271484375, 120.73507690429688, 783.4593505859375, 65.10064697265625, 64.3995132446289, 37.59430694580078, 221.77105712890625, 214.44215393066406, 162.67413330078125, 128.82594299316406, 113.17727661132812, 98.68656158447266, 63.48269271850586, 57.90011978149414, 54.30888366699219, 50.061214447021484, 40.41326141357422, 35.89375305175781, 34.79428482055664, 32.14765548706055, 30.669095993041992, 29.284921646118164, 27.55278778076172, 27.180315017700195, 27.039932250976562, 25.022571563720703, 24.284122467041016, 23.67023468017578, 23.146451950073242, 22.90083885192871, 22.869861602783203, 22.37226676940918, 21.697895050048828, 20.492507934570312, 19.79964256286621, 19.704200744628906, 78.32906341552734, 147.0504608154297, 323.82403564453125, 58.767539978027344, 57.643123626708984, 70.39875030517578, 48.27572250366211, 52.1045036315918, 42.185733795166016, 32.8089714050293, 28.803455352783203, 34.88965606689453, 263.4383850097656, 253.12664794921875, 204.1961669921875, 183.63124084472656, 167.28292846679688, 138.9560546875, 122.86030578613281, 116.08036804199219, 74.86469268798828, 67.27200317382812, 64.39278411865234, 62.04364013671875, 58.94255447387695, 54.85702133178711, 52.3619270324707, 43.4912109375, 43.28712463378906, 40.735496520996094, 31.238018035888672, 26.014617919921875, 20.972997665405273, 20.949941635131836, 20.745222091674805, 19.99871826171875, 18.20648193359375, 18.189327239990234, 17.714216232299805, 17.357643127441406, 17.357643127441406, 17.072994232177734, 190.60614013671875, 119.09089660644531, 172.134033203125, 106.19837951660156, 96.82931518554688, 39.929893493652344, 469.1112365722656, 99.95832061767578, 92.1536865234375, 84.19203186035156, 77.32048797607422, 72.06835174560547, 65.78275299072266, 61.700992584228516, 60.8156623840332, 50.884178161621094, 49.53352737426758, 48.28834533691406, 35.915626525878906, 35.12165069580078, 34.749168395996094, 33.72309494018555, 33.392276763916016, 32.014957427978516, 31.546459197998047, 31.12406349182129, 29.890153884887695, 28.803945541381836, 28.398880004882812, 27.89796257019043, 26.690738677978516, 25.846271514892578, 25.184186935424805, 22.47100257873535, 21.849884033203125, 21.809898376464844, 99.23892211914062, 192.59796142578125, 82.68191528320312, 133.01321411132812, 184.21987915039062, 62.40156173706055, 50.042781829833984, 220.8939666748047, 183.52841186523438, 154.84706115722656, 133.2102813720703, 129.35633850097656, 115.36396026611328, 109.04082489013672, 91.36076354980469, 66.61377716064453, 66.52080535888672, 66.18839263916016, 59.551090240478516, 55.75981903076172, 55.1527214050293, 55.0035285949707, 53.02742004394531, 48.97990417480469, 45.7176628112793, 38.717227935791016, 34.135555267333984, 32.0106315612793, 30.46927833557129, 28.16790008544922, 27.716567993164062, 26.044761657714844, 26.035337448120117, 24.68798065185547, 24.687976837158203, 24.113298416137695, 22.87450408935547, 85.53019714355469, 76.96296691894531, 97.95084381103516, 48.00856399536133, 591.3932495117188, 584.6703491210938, 357.5538024902344, 146.04672241210938, 117.9613265991211, 107.07611083984375, 96.24862670898438, 62.88232421875, 58.25101852416992, 46.48162078857422, 40.07323455810547, 33.698482513427734, 32.409934997558594, 29.360721588134766, 26.068822860717773, 25.06421661376953, 21.770071029663086, 19.529409408569336, 17.171934127807617, 14.048118591308594, 13.630830764770508, 9.568621635437012, 8.885159492492676, 7.898409366607666, 7.888342380523682, 7.702193260192871, 7.475132942199707, 6.5386857986450195, 6.475274562835693, 5.310356140136719, 39.164859771728516, 155.65005493164062, 21.66937255859375, 12.040565490722656, 164.01966857910156, 136.18582153320312, 127.16458129882812, 115.1029281616211, 108.95258331298828, 108.95258331298828, 108.95258331298828, 72.31524658203125, 65.41570281982422, 62.24497985839844, 61.594486236572266, 54.67536163330078, 54.486087799072266, 54.486087799072266, 47.11814498901367, 35.30961990356445, 34.66079330444336, 34.30257034301758, 30.599088668823242, 27.34710693359375, 27.284259796142578, 27.252836227416992, 27.252836227416992, 27.252836227416992, 27.252836227416992, 27.252836227416992, 27.252836227416992, 27.252836227416992, 27.252836227416992, 27.252836227416992, 27.252836227416992, 68.17913818359375, 49.25110626220703, 47.56278610229492, 27.774728775024414, 201.97557067871094, 182.90890502929688, 84.25639343261719, 82.21265411376953, 66.50357818603516, 59.764305114746094, 55.214508056640625, 52.56631088256836, 48.46468734741211, 47.10015869140625, 46.87189865112305, 45.0572509765625, 38.319549560546875, 37.609466552734375, 37.44734191894531, 35.226139068603516, 33.053165435791016, 32.16658020019531, 30.181276321411133, 29.671098709106445, 28.530479431152344, 28.30450439453125, 27.910085678100586, 27.247787475585938, 26.23771095275879, 24.43435287475586, 24.19365119934082, 23.17010498046875, 20.428714752197266, 19.142358779907227, 66.40926361083984, 200.20733642578125, 38.87517166137695, 410.3159484863281, 371.1363525390625, 240.75587463378906, 111.78821563720703, 68.80170440673828, 61.39542007446289, 60.00776290893555, 53.55953598022461, 52.66248321533203, 42.0232048034668, 38.43119430541992, 36.11277389526367, 34.091304779052734, 34.08684539794922, 33.61504364013672, 32.88161849975586, 32.38248062133789, 25.875581741333008, 20.667604446411133, 18.747873306274414, 17.475669860839844, 17.13837432861328, 16.513830184936523, 15.841986656188965, 13.241829872131348, 10.830425262451172, 10.830425262451172, 10.651226043701172, 10.64614486694336, 10.32170295715332, 16.00277328491211, 257.07879638671875, 179.09609985351562, 152.54446411132812, 109.4095687866211, 99.00023651123047, 88.19652557373047, 78.31257629394531, 45.88385009765625, 37.81891632080078, 31.52171516418457, 31.372098922729492, 29.67277717590332, 29.422645568847656, 25.232378005981445, 25.224510192871094, 25.224510192871094, 25.224510192871094, 22.946598052978516, 22.068822860717773, 21.700925827026367, 20.75465965270996, 18.927310943603516, 18.800430297851562, 15.234993934631348, 15.05634880065918, 13.79470157623291, 13.289935111999512, 12.888675689697266, 12.630106925964355, 12.630106925964355, 12.630106925964355, 12.630106925964355, 36.45001983642578, 12.630106925964355, 12.630106925964355, 62.592315673828125], \"Term\": [\"loan\", \"september\", \"end\", \"total\", \"income\", \"security\", \"corporation\", \"loss\", \"credit\", \"net\", \"value\", \"bank\", \"america\", \"month\", \"liability\", \"rate\", \"interest\", \"asset\", \"commercial\", \"financial\", \"december\", \"share\", \"lease\", \"risk\", \"basis\", \"debt\", \"fair\", \"information\", \"mortgage\", \"percent\", \"security\", \"value\", \"debt\", \"fair\", \"trading\", \"term\", \"commitment\", \"carry\", \"agreement\", \"long\", \"option\", \"purchase\", \"instrument\", \"repurchase\", \"sell\", \"pursuant\", \"unfunded\", \"maturity\", \"pci\", \"program\", \"june\", \"borrow\", \"write\", \"warrant\", \"oci\", \"quarter\", \"finance\", \"letter\", \"borrowing\", \"entity\", \"account\", \"derivative\", \"fund\", \"asset\", \"include\", \"equity\", \"federal\", \"collateral\", \"loan\", \"commercial\", \"mortgage\", \"consumer\", \"portfolio\", \"estate\", \"real\", \"residential\", \"home\", \"tdrs\", \"contractual\", \"borrower\", \"accrue\", \"incorporate\", \"impair\", \"manage\", \"score\", \"internal\", \"impaired\", \"experience\", \"servicing\", \"restructuring\", \"ltv\", \"discussion\", \"status\", \"fully_insured\", \"exhibit\", \"repayment\", \"characteristic\", \"fully_insur\", \"non\", \"customer\", \"card\", \"due\", \"credit\", \"month\", \"include\", \"balance\", \"lending\", \"income\", \"tax\", \"expense\", \"increase\", \"noninter\", \"revenue\", \"profit\", \"service_charge\", \"high\", \"benefit\", \"preferred\", \"reflect\", \"currency\", \"issuance\", \"insurance\", \"elimination\", \"accumulated_oci\", \"country\", \"affordable_hous\", \"partnership\", \"issuer\", \"guidance\", \"pre\", \"thereto\", \"personnel\", \"environment\", \"rise\", \"resolution\", \"actuarial\", \"foreigncurrency\", \"net\", \"investment\", \"return\", \"related\", \"average\", \"month\", \"drive\", \"change\", \"interest\", \"due\", \"low\", \"deposit\", \"asset\", \"provision\", \"loss\", \"rate\", \"fee\", \"level\", \"gain\", \"exposure\", \"price\", \"base\", \"less\", \"hedge\", \"offset\", \"recognize\", \"model\", \"financing\", \"prefer\", \"msrs\", \"industry\", \"core\", \"calculation\", \"cost\", \"exempt\", \"also\", \"earn\", \"accrued_expens\", \"yield\", \"approximately\", \"connection\", \"advisory\", \"quality\", \"compensation\", \"debit\", \"pretax\", \"decrease\", \"card\", \"exclude\", \"issue\", \"december\", \"dollar\", \"fix\", \"default\", \"guarantee\", \"maximum\", \"swap\", \"gross\", \"counterparty\", \"assumption\", \"lend\", \"unconsolidated\", \"commodity\", \"part\", \"still\", \"sept\", \"legally_enforceable\", \"offer\", \"master_nett\", \"settlement\", \"control\", \"obtain\", \"total\", \"involve\", \"forwards_written\", \"joint_venture\", \"show\", \"standby_letter\", \"group\", \"billion\", \"million\", \"sheet\", \"balance\", \"protection\", \"september\", \"asset\", \"share\", \"lease\", \"common\", \"stock\", \"earning\", \"outstanding\", \"charge\", \"dividend\", \"ratio\", \"nonperform\", \"shareholder\", \"off\", \"october\", \"pay\", \"percentage\", \"computation\", \"foreclosed_propertie\", \"august\", \"sharespurchas\", \"aspart\", \"applicable\", \"series\", \"employee\", \"leverage\", \"diluted\", \"perform\", \"intangible\", \"tier\", \"divide\", \"goodwill\", \"equity\", \"average\", \"issue\", \"month\", \"net\", \"total\", \"september\", \"amount\", \"allowance\", \"date\", \"relate\", \"adjustment\", \"record\", \"reserve\", \"consolidated\", \"principal\", \"contract\", \"presentation\", \"liquidity\", \"notional\", \"carrying\", \"book\", \"investor\", \"reconciliation\", \"currency_translation\", \"properly_reflect\", \"therefore\", \"compliance\", \"qualify\", \"approach\", \"eligible\", \"gaap\", \"seller\", \"key\", \"subsequent\", \"loss\", \"add\", \"item\", \"credit\", \"provision\", \"obligation\", \"certain\", \"non\", \"include\", \"may\", \"end\", \"period\", \"compare\", \"price_observability\", \"specify\", \"quarterly\", \"number\", \"specific\", \"subordinate\", \"paydown\", \"post_modification\", \"link\", \"accretable_yield\", \"pre_modification\", \"otti\", \"heloc\", \"trial\", \"liquidate\", \"index\", \"nonaccretable_difference\", \"individually\", \"outpace\", \"organization\", \"name\", \"provider\", \"ashort\", \"afederal\", \"structured\", \"disposal\", \"primarily\", \"sale\", \"september\", \"decrease\", \"origination\", \"include\", \"lending\", \"liability\", \"time\", \"sovereign\", \"potential\", \"afs\", \"trade\", \"modification\", \"possible\", \"analysis\", \"resell\", \"extension\", \"lynch\", \"typically\", \"behalf\", \"aggregate\", \"secure\", \"funding\", \"liquid\", \"bearing\", \"lock\", \"determine\", \"cause\", \"action\", \"predominantly\", \"significantly\", \"fenner_smith\", \"lynch_pierce\", \"assume\", \"instantaneous\", \"duration\", \"rate\", \"interest\", \"deposit\", \"foreign\", \"change\", \"short\", \"asset\", \"impact\", \"federal\", \"market\", \"customer\", \"note\", \"cash\", \"consolidate\", \"statement\", \"accounting\", \"flow\", \"vie\", \"significant\", \"measurement\", \"securitization\", \"contingency\", \"principle\", \"variable\", \"place\", \"sponsor\", \"cumulative\", \"reclassify\", \"restricted\", \"restrict\", \"probable\", \"terminate\", \"recognition\", \"counter\", \"herein\", \"classification\", \"settle\", \"recourse\", \"invest\", \"investing\", \"substitute\", \"summary\", \"financial\", \"derivative\", \"change\", \"prior\", \"comprehensive\", \"well\", \"certain\", \"collateral\", \"information\", \"report\", \"see\", \"form\", \"segment\", \"annual\", \"present\", \"var\", \"page\", \"nonrecurr\", \"operation\", \"disclose\", \"policy\", \"support\", \"unregister\", \"isda\", \"election\", \"accept\", \"united_state\", \"regard\", \"ab\", \"summarize\", \"allocation\", \"confidence\", \"purchaser\", \"example\", \"documentation\", \"contingent_feature\", \"criterion\", \"supplement\", \"follow\", \"table\", \"additional\", \"corporation\", \"result\", \"business\", \"management\", \"capital\", \"effect\", \"standard\", \"remain\", \"require\", \"treasury\", \"regulatory\", \"requirement\", \"event\", \"excess\", \"condition\", \"rating\", \"counterpartie\", \"merchant\", \"difficulty\", \"recovery\", \"various\", \"ability\", \"right\", \"adverse\", \"facility\", \"fail\", \"refer\", \"planning\", \"termination\", \"objection\", \"office\", \"loaned\", \"currently\", \"adoption\", \"plan\", \"certain\", \"corporation\", \"generally\", \"collateral\", \"market\", \"may\", \"transaction\", \"additional\", \"obligation\", \"exchange\", \"include\", \"service\", \"banking\", \"global\", \"chief\", \"brokerage\", \"trust\", \"chief_executive\", \"range\", \"wealth\", \"certificate\", \"small\", \"thousand\", \"third_party\", \"occur\", \"material\", \"meet\", \"collateralized\", \"client\", \"full\", \"restructure\", \"appropriate\", \"equipment\", \"litigation\", \"government_sponsored\", \"retail\", \"lender\", \"whose\", \"grants_concession\", \"manner\", \"become\", \"business\", \"management\", \"financial\", \"investment\", \"include\", \"provide\", \"risk\", \"receive\", \"product\", \"officer\", \"classify\", \"type\", \"process\", \"limit\", \"alm\", \"review\", \"cdo\", \"metric\", \"allocate\", \"legal\", \"legally_bind\", \"securitiz\", \"originate\", \"define\", \"receivables\", \"technique\", \"distribute\", \"historical\", \"associate\", \"incentive\", \"hierarchy\", \"variety\", \"consideration\", \"concentration\", \"characterize\", \"framework\", \"use\", \"transaction\", \"provide\", \"management\", \"corporation\", \"related\", \"include\", \"year\", \"represent\", \"matter\", \"day\", \"enter\", \"expect\", \"measure\", \"current\", \"would\", \"consider\", \"could\", \"modify\", \"authorize\", \"expire\", \"ccar\", \"whole\", \"senior\", \"amortization\", \"relation\", \"continue\", \"party\", \"believe\", \"file\", \"tdr\", \"contractually\", \"resale\", \"outcome\", \"pend\", \"forecast\", \"normal_course\", \"generally\", \"impact\", \"result\", \"plan\", \"bank\", \"america\", \"hold\", \"transfer\", \"discount\", \"mb\", \"rudolf_bless\", \"line\", \"grade\", \"unpaid_principal\", \"retain\", \"structure\", \"proceed\", \"pledge\", \"exercise\", \"method\", \"own\", \"post\", \"incremental_notch\", \"valueasset\", \"case\", \"parent_company\", \"separate\", \"premise\", \"upon_downgrade\", \"truststhe\", \"affiliate\", \"intercompany\", \"originally_classifi\", \"run\", \"subsidiary\", \"corporation\", \"certain\", \"use\", \"section\", \"taxonomy_extension\", \"act\", \"certification\", \"sarbanes_oxley\", \"linkbase_document\", \"officer_pursuant\", \"estimate\", \"weight\", \"document\", \"adopt\", \"amend\", \"hereof\", \"restate\", \"life\", \"january\", \"definition\", \"make\", \"direct_indirect\", \"label\", \"incorporation\", \"bylaw\", \"datefile\", \"instance\", \"labxbrl\", \"insxbrl\", \"defxbrl\", \"schxbrl\", \"schema\", \"calxbrl\", \"prexbrl\", \"payment\", \"exchange\", \"corporation\", \"foreign\", \"valuation\", \"activity\", \"realize\", \"position\", \"pricing\", \"severity\", \"disclosure\", \"forward\", \"project\", \"first_lien\", \"underwriting\", \"discharge\", \"msr\", \"chapter_bankruptcy\", \"reference\", \"national\", \"inventory\", \"input\", \"factor\", \"operate\", \"actual\", \"cva\", \"fva\", \"quantitative\", \"margin\", \"vary\", \"prepayment_speed\", \"operating\", \"curve\", \"describe\", \"volatility\", \"market\", \"primarily\", \"basis\", \"percent\", \"fte\", \"equal\", \"subprime\", \"greater\", \"great\", \"effective\", \"march\", \"embed\", \"regular\", \"fully\", \"quality_indicator\", \"refreshed_fico\", \"prime\", \"alt\", \"risky\", \"company\", \"majority\", \"effectively\", \"refreshed_ltv\", \"hierarchy_classification\", \"defendant\", \"application\", \"taxable_equivalent\", \"paper\", \"offering\", \"view\", \"statutory\", \"amortize\", \"daily\", \"agency\", \"back\", \"corporate\", \"taxable\", \"abs\", \"correlation\", \"unrealized\", \"new\", \"mmbtu\", \"adjusted_spread\", \"prepayment\", \"large\", \"cpr\", \"primary\", \"cdr\", \"points_point\", \"dated_inflation\", \"give\", \"class\", \"gwim\", \"temporarily_impaired\", \"flowyield\", \"match\", \"partner\", \"exceed\", \"association_inc\", \"exist\", \"oas_level\", \"inputsweighted_averageloan\", \"balancejuly\", \"upfront\", \"modelyield\", \"substantially\", \"prepayment_spe\", \"balancejanuary\", \"sale\"], \"Total\": [2564.0, 2120.0, 1339.0, 1516.0, 1377.0, 1349.0, 1495.0, 1081.0, 1270.0, 1178.0, 993.0, 592.0, 585.0, 1360.0, 644.0, 613.0, 743.0, 1292.0, 790.0, 661.0, 626.0, 601.0, 592.0, 469.0, 411.0, 713.0, 703.0, 474.0, 648.0, 371.0, 1349.4007568359375, 993.7214965820312, 713.3052978515625, 703.6820678710938, 637.6882934570312, 355.8314208984375, 329.3102722167969, 286.1539611816406, 285.25048828125, 272.5127258300781, 261.74383544921875, 228.24156188964844, 220.794189453125, 215.7950897216797, 185.96817016601562, 108.09964752197266, 97.88603210449219, 88.2863998413086, 84.05428314208984, 78.0296401977539, 72.48712921142578, 59.7437629699707, 52.94700622558594, 50.23756408691406, 49.517730712890625, 48.57001876831055, 47.1980094909668, 46.856197357177734, 46.85056686401367, 39.82676315307617, 598.033447265625, 602.516845703125, 155.19163513183594, 1292.4337158203125, 882.9235229492188, 511.5381164550781, 135.09523010253906, 168.75103759765625, 2564.33447265625, 790.1951293945312, 648.1342163085938, 623.4105224609375, 414.4544372558594, 381.6839599609375, 374.42828369140625, 361.6195068359375, 241.21258544921875, 147.09811401367188, 122.28089141845703, 117.33583068847656, 88.99628448486328, 83.88163757324219, 79.66773223876953, 67.74039459228516, 64.23344421386719, 57.66412353515625, 44.78056716918945, 44.597259521484375, 35.02347946166992, 34.213958740234375, 33.947818756103516, 27.29694175720215, 25.157625198364258, 24.880741119384766, 24.701526641845703, 24.313507080078125, 23.87558937072754, 23.7088623046875, 713.0812377929688, 147.1199493408203, 447.32562255859375, 345.14166259765625, 1270.8297119140625, 1360.964599609375, 882.9235229492188, 334.1856384277344, 120.54684448242188, 1377.169677734375, 516.8497314453125, 336.89483642578125, 299.7262878417969, 238.99368286132812, 224.74627685546875, 150.48779296875, 105.68342590332031, 94.08856201171875, 89.65874481201172, 86.16780090332031, 81.66146087646484, 78.28958892822266, 73.76815032958984, 45.64093780517578, 43.7615966796875, 40.5958366394043, 39.277862548828125, 22.12932777404785, 22.12932777404785, 21.101682662963867, 18.788963317871094, 16.71015739440918, 16.485517501831055, 14.900186538696289, 14.728435516357422, 10.842737197875977, 10.77556324005127, 10.165474891662598, 10.165472984313965, 1178.4949951171875, 614.7415161132812, 75.32087707519531, 251.39805603027344, 386.6378173828125, 1360.964599609375, 65.48509979248047, 452.46783447265625, 743.3951416015625, 345.14166259765625, 77.79106140136719, 221.24586486816406, 1292.4337158203125, 121.84989929199219, 1081.2830810546875, 613.5687255859375, 415.0216369628906, 374.6634216308594, 344.1260986328125, 336.64080810546875, 253.90570068359375, 224.44068908691406, 223.69493103027344, 149.67726135253906, 144.8743896484375, 130.36602783203125, 129.4387664794922, 129.01686096191406, 125.15367889404297, 120.44155883789062, 119.15361785888672, 112.4061279296875, 104.14798736572266, 96.76063537597656, 93.24911499023438, 92.37720489501953, 82.13750457763672, 80.93031311035156, 80.53179931640625, 77.930908203125, 71.7494888305664, 66.3482666015625, 65.18952178955078, 64.2863998413086, 59.93598175048828, 55.79063034057617, 243.19456481933594, 447.32562255859375, 125.0417251586914, 161.59678649902344, 626.7186889648438, 481.906005859375, 199.01138305664062, 166.55789184570312, 157.76612854003906, 134.47544860839844, 132.7357177734375, 91.85588836669922, 84.21136474609375, 70.17057800292969, 62.985782623291016, 55.82693099975586, 51.173004150390625, 47.966651916503906, 44.51701354980469, 43.72615051269531, 42.451576232910156, 41.44074249267578, 37.69375991821289, 33.009254455566406, 22.755430221557617, 22.455984115600586, 1516.9415283203125, 21.674631118774414, 19.86039161682129, 18.90843963623047, 17.789180755615234, 16.887144088745117, 14.856053352355957, 14.263258934020996, 472.5034484863281, 157.8483123779297, 334.1856384277344, 63.877197265625, 2120.258056640625, 1292.4337158203125, 601.0391845703125, 592.209716796875, 463.5902404785156, 375.5145263671875, 346.268798828125, 218.5552215576172, 211.75149536132812, 161.7032470703125, 151.3579559326172, 146.82579040527344, 88.3492431640625, 87.35002899169922, 84.37651824951172, 82.78792572021484, 80.7161636352539, 71.16641998291016, 58.99932861328125, 58.22089767456055, 58.22089767456055, 58.22089767456055, 55.069297790527344, 54.838871002197266, 50.79875564575195, 40.623600006103516, 35.985530853271484, 35.452606201171875, 31.714996337890625, 27.664430618286133, 27.479963302612305, 27.47903823852539, 511.5381164550781, 386.6378173828125, 161.59678649902344, 1360.964599609375, 1178.4949951171875, 1516.9415283203125, 2120.258056640625, 468.2025146484375, 346.7964172363281, 343.5356750488281, 251.95201110839844, 248.53431701660156, 211.74844360351562, 145.37673950195312, 126.2263412475586, 108.02081298828125, 97.52934265136719, 89.78643035888672, 88.4419937133789, 84.35183715820312, 51.383487701416016, 49.495967864990234, 42.28157424926758, 33.833534240722656, 20.61451530456543, 20.606306076049805, 18.944238662719727, 17.62798500061035, 17.24937629699707, 14.678342819213867, 14.107654571533203, 13.863755226135254, 13.539667129516602, 12.28170394897461, 12.099835395812988, 1081.2830810546875, 9.481926918029785, 66.55374908447266, 1270.8297119140625, 121.84989929199219, 161.0279541015625, 319.79656982421875, 713.0812377929688, 882.9235229492188, 134.90769958496094, 1339.74560546875, 423.78045654296875, 141.50057983398438, 75.08735656738281, 47.24765396118164, 43.04829025268555, 37.93906021118164, 33.38489532470703, 30.822717666625977, 26.973684310913086, 23.994070053100586, 23.402259826660156, 21.650976181030273, 19.375091552734375, 17.98567771911621, 16.21986961364746, 14.236698150634766, 13.270980834960938, 12.151665687561035, 11.275089263916016, 9.909035682678223, 9.574891090393066, 9.119670867919922, 9.080337524414062, 8.853838920593262, 7.443978786468506, 7.443978786468506, 7.251255512237549, 6.0871429443359375, 272.7545471191406, 382.200927734375, 2120.258056640625, 243.19456481933594, 34.59003448486328, 882.9235229492188, 120.54684448242188, 644.4408569335938, 127.21611022949219, 103.0816421508789, 100.30855560302734, 98.73501586914062, 98.19389343261719, 95.14512634277344, 74.00614929199219, 64.87718963623047, 61.7911376953125, 51.92940902709961, 47.75190353393555, 46.3343620300293, 46.03888702392578, 45.55268859863281, 32.58081817626953, 30.831083297729492, 28.798913955688477, 28.715595245361328, 28.477657318115234, 26.544139862060547, 24.278047561645508, 23.927291870117188, 19.298009872436523, 19.219707489013672, 16.94271469116211, 16.94271469116211, 16.71177101135254, 16.651931762695312, 15.312881469726562, 613.5687255859375, 743.3951416015625, 221.24586486816406, 75.51182556152344, 452.46783447265625, 93.82943725585938, 1292.4337158203125, 130.4521484375, 135.09523010253906, 323.723388671875, 147.1199493408203, 421.5775451660156, 385.0181579589844, 352.3825988769531, 299.978271484375, 195.98460388183594, 181.9235382080078, 155.14930725097656, 134.15069580078125, 115.57477569580078, 85.87355041503906, 72.18192291259766, 71.46153259277344, 70.24152374267578, 47.91656494140625, 45.16086959838867, 44.86269760131836, 44.47038269042969, 33.98928451538086, 32.924217224121094, 24.61627960205078, 24.481101989746094, 24.07057762145996, 22.53326416015625, 21.528806686401367, 18.027467727661133, 16.957351684570312, 16.91388511657715, 15.098037719726562, 14.909132957458496, 13.228161811828613, 55.44499588012695, 661.1525268554688, 602.516845703125, 452.46783447265625, 78.97904205322266, 53.64132308959961, 54.17781066894531, 319.79656982421875, 168.75103759765625, 474.8158264160156, 323.9281005859375, 296.0689392089844, 206.68670654296875, 202.83010864257812, 190.3195343017578, 184.95314025878906, 78.49453735351562, 52.03730392456055, 48.73243713378906, 48.11770248413086, 32.8603515625, 30.044116973876953, 24.103837966918945, 22.630456924438477, 20.159740447998047, 19.47323226928711, 18.9664363861084, 18.739025115966797, 18.171619415283203, 17.195863723754883, 16.40081787109375, 16.33296012878418, 15.606328010559082, 14.771734237670898, 13.7933931350708, 13.212114334106445, 13.002785682678223, 11.927595138549805, 11.327200889587402, 146.55125427246094, 334.58050537109375, 163.72787475585938, 1495.412353515625, 225.2064208984375, 264.9047546386719, 290.4503479003906, 222.625, 215.2960968017578, 163.528076171875, 129.6798858642578, 114.03125, 99.54053497314453, 64.336669921875, 58.754093170166016, 55.16285705566406, 50.91518783569336, 41.267234802246094, 36.74772644042969, 35.648258209228516, 33.00162887573242, 31.5230655670166, 30.138891220092773, 28.406757354736328, 28.034284591674805, 27.893901824951172, 25.876541137695312, 25.138092041015625, 24.52420425415039, 24.00042152404785, 23.75480842590332, 23.723831176757812, 23.22623634338379, 22.551864624023438, 21.346477508544922, 20.65361213684082, 20.558170318603516, 127.13721466064453, 319.79656982421875, 1495.412353515625, 145.0972900390625, 168.75103759765625, 323.723388671875, 134.90769958496094, 245.4996795654297, 163.72787475585938, 161.0279541015625, 78.88894653320312, 882.9235229492188, 264.2939147949219, 253.98211669921875, 205.0516357421875, 184.48670959472656, 168.13839721679688, 139.8115234375, 123.71580505371094, 116.93586730957031, 75.7201919555664, 68.12750244140625, 65.24828338623047, 62.89913558959961, 59.79804992675781, 55.71251678466797, 53.21742248535156, 44.34670639038086, 44.14262008666992, 41.59099197387695, 32.09351348876953, 26.87010955810547, 21.828489303588867, 21.80543327331543, 21.6007137298584, 20.854209899902344, 19.061973571777344, 19.044818878173828, 18.5697078704834, 18.213134765625, 18.213134765625, 17.928485870361328, 264.9047546386719, 290.4503479003906, 661.1525268554688, 614.7415161132812, 882.9235229492188, 123.41056823730469, 469.9537353515625, 100.80078887939453, 92.99615478515625, 85.03450012207031, 78.16295623779297, 72.91082000732422, 66.6252212524414, 62.543460845947266, 61.65813064575195, 51.726646423339844, 50.37599563598633, 49.13081359863281, 36.758094787597656, 35.96411895751953, 35.591636657714844, 34.5655632019043, 34.234745025634766, 32.857425689697266, 32.3889274597168, 31.966524124145508, 30.732614517211914, 29.646406173706055, 29.24134063720703, 28.74042510986328, 27.533199310302734, 26.688732147216797, 26.026647567749023, 23.31346321105957, 22.692344665527344, 22.652359008789062, 112.08735656738281, 245.4996795654297, 123.41056823730469, 290.4503479003906, 1495.412353515625, 251.39805603027344, 882.9235229492188, 221.73875427246094, 184.37319946289062, 155.6918487548828, 134.05506896972656, 130.2011260986328, 116.20877075195312, 109.88563537597656, 92.20557403564453, 67.45858764648438, 67.36561584472656, 67.033203125, 60.39590072631836, 56.60462951660156, 55.99753189086914, 55.84833908081055, 53.872230529785156, 49.82471466064453, 46.56247329711914, 39.56203842163086, 34.98036575317383, 32.85544204711914, 31.314083099365234, 29.012704849243164, 28.561372756958008, 26.88956642150879, 26.880142211914062, 25.532785415649414, 25.53278160095215, 24.95810317993164, 23.719308853149414, 145.0972900390625, 130.4521484375, 225.2064208984375, 127.13721466064453, 592.2578735351562, 585.5349731445312, 358.4184265136719, 146.9113006591797, 118.825927734375, 107.94071197509766, 97.11322784423828, 63.746925354003906, 59.11561965942383, 47.346221923828125, 40.937835693359375, 34.56308364868164, 33.2745361328125, 30.22532081604004, 26.933422088623047, 25.928815841674805, 22.63467025756836, 20.39400863647461, 18.03653335571289, 14.9127197265625, 14.495430946350098, 10.433221817016602, 9.749759674072266, 8.763010025024414, 8.75294303894043, 8.566794395446777, 8.339733123779297, 7.403286457061768, 7.339875221252441, 6.174956798553467, 58.46257400512695, 1495.412353515625, 319.79656982421875, 112.08735656738281, 164.89927673339844, 137.0654296875, 128.044189453125, 115.98253631591797, 109.83219146728516, 109.83219146728516, 109.83219146728516, 73.19485473632812, 66.2953109741211, 63.12459182739258, 62.474098205566406, 55.55497360229492, 55.365699768066406, 55.365699768066406, 47.99775695800781, 36.189231872558594, 35.5404052734375, 35.18218231201172, 31.47869873046875, 28.226716995239258, 28.163869857788086, 28.1324462890625, 28.1324462890625, 28.1324462890625, 28.1324462890625, 28.1324462890625, 28.1324462890625, 28.1324462890625, 28.1324462890625, 28.1324462890625, 28.1324462890625, 84.47332763671875, 78.88894653320312, 1495.412353515625, 75.51182556152344, 202.8299102783203, 183.76324462890625, 85.11073303222656, 83.0669937133789, 67.35791778564453, 60.618648529052734, 56.068851470947266, 53.420654296875, 49.31903076171875, 47.95450210571289, 47.72624206542969, 45.91159439086914, 39.173892974853516, 38.463809967041016, 38.30168533325195, 36.080482482910156, 33.907508850097656, 33.02092361450195, 31.035619735717773, 30.525442123413086, 29.384822845458984, 29.15884780883789, 28.764429092407227, 28.102130889892578, 27.09205436706543, 25.2886962890625, 25.04799461364746, 24.02444839477539, 21.283058166503906, 19.996702194213867, 80.14947509765625, 323.723388671875, 272.7545471191406, 411.1607360839844, 371.98114013671875, 241.60067749023438, 112.63301086425781, 69.64649963378906, 62.24021530151367, 60.85255813598633, 54.40433120727539, 53.50727844238281, 42.86800003051758, 39.2759895324707, 36.95756912231445, 34.936100006103516, 34.931640625, 34.4598388671875, 33.72641372680664, 33.22727584838867, 26.72037696838379, 21.512399673461914, 19.592668533325195, 18.320465087890625, 17.983169555664062, 17.358625411987305, 16.686782836914062, 14.086625099182129, 11.675220489501953, 11.67522144317627, 11.496021270751953, 11.49094009399414, 11.166498184204102, 24.898334503173828, 257.9422912597656, 179.9595947265625, 153.407958984375, 110.27305603027344, 99.86372375488281, 89.06001281738281, 79.17606353759766, 46.74734115600586, 38.68240737915039, 32.38520431518555, 32.23558807373047, 30.536266326904297, 30.286134719848633, 26.095867156982422, 26.08799934387207, 26.08799934387207, 26.08799934387207, 23.810087203979492, 22.93231201171875, 22.564414978027344, 21.618148803710938, 19.790800094604492, 19.663921356201172, 16.09848403930664, 15.919838905334473, 14.658191680908203, 14.153425216674805, 13.752165794372559, 13.493597030639648, 13.493597030639648, 13.493597030639648, 13.493597030639648, 52.78054428100586, 13.493597030639648, 13.493597030639648, 382.200927734375], \"loglift\": [30.0, 29.0, 28.0, 27.0, 26.0, 25.0, 24.0, 23.0, 22.0, 21.0, 20.0, 19.0, 18.0, 17.0, 16.0, 15.0, 14.0, 13.0, 12.0, 11.0, 10.0, 9.0, 8.0, 7.0, 6.0, 5.0, 4.0, 3.0, 2.0, 1.0, 2.192500114440918, 2.1923000812530518, 2.1919000148773193, 2.1919000148773193, 2.191800117492676, 2.190700054168701, 2.190500020980835, 2.1900999546051025, 2.1900999546051025, 2.190000057220459, 2.1898000240325928, 2.189300060272217, 2.189199924468994, 2.1891000270843506, 2.188499927520752, 2.1851000785827637, 2.1842000484466553, 2.183300018310547, 2.182800054550171, 2.181999921798706, 2.1810998916625977, 2.178499937057495, 2.1765999794006348, 2.1756999492645264, 2.17549991607666, 2.175100088119507, 2.1745998859405518, 2.174499988555908, 2.174499988555908, 2.171099901199341, 2.141200065612793, 1.9470000267028809, 2.0104000568389893, 1.3349000215530396, 1.1080000400543213, 1.2373000383377075, 1.6205999851226807, 1.4694000482559204, 2.246299982070923, 2.245500087738037, 2.245300054550171, 2.2451999187469482, 2.244499921798706, 2.2444000244140625, 2.24429988861084, 2.2441999912261963, 2.2430999279022217, 2.240799903869629, 2.2395999431610107, 2.239300012588501, 2.236999988555908, 2.2363998889923096, 2.2358999252319336, 2.2339999675750732, 2.233299970626831, 2.231800079345703, 2.2274999618530273, 2.227400064468384, 2.222100019454956, 2.2214999198913574, 2.221299886703491, 2.2149999141693115, 2.2123000621795654, 2.211899995803833, 2.2116000652313232, 2.2111001014709473, 2.210400104522705, 2.210200071334839, 1.9962999820709229, 1.9146000146865845, 1.569000005722046, 1.6258000135421753, 1.184399962425232, 1.0657999515533447, 0.6230000257492065, 0.7724000215530396, 1.1547000408172607, 2.4581000804901123, 2.4570999145507812, 2.456199884414673, 2.455899953842163, 2.455199956893921, 2.4549999237060547, 2.4530999660491943, 2.4507999420166016, 2.4498000144958496, 2.4493000507354736, 2.448899984359741, 2.4484000205993652, 2.4479000568389893, 2.4472999572753906, 2.440200090408325, 2.439300060272217, 2.4377999305725098, 2.4370999336242676, 2.4200000762939453, 2.4200000762939453, 2.418100118637085, 2.4130001068115234, 2.407099962234497, 2.406399965286255, 2.400700092315674, 2.4000000953674316, 2.3780999183654785, 2.3775999546051025, 2.372499942779541, 2.372499942779541, 2.343400001525879, 2.2674999237060547, 2.327199935913086, 2.169300079345703, 2.074199914932251, 1.8875000476837158, 2.1566998958587646, 1.7265000343322754, 1.4984999895095825, 1.6826000213623047, 2.0416998863220215, 1.5985000133514404, 0.06109999865293503, 1.613800048828125, -0.04320000112056732, -0.14000000059604645, 2.6763999462127686, 2.676100015640259, 2.6758999824523926, 2.6758999824523926, 2.675100088119507, 2.6745998859405518, 2.6745998859405518, 2.6726999282836914, 2.672600030899048, 2.6719000339508057, 2.6719000339508057, 2.671799898147583, 2.671600103378296, 2.6714000701904297, 2.671299934387207, 2.6709001064300537, 2.670300006866455, 2.669600009918213, 2.669300079345703, 2.6691999435424805, 2.668100118637085, 2.6679000854492188, 2.667799949645996, 2.6675000190734863, 2.6665000915527344, 2.665600061416626, 2.665299892425537, 2.6651999950408936, 2.6642000675201416, 2.663100004196167, 2.283400058746338, 1.96589994430542, 2.4061999320983887, 2.075200080871582, 2.7167000770568848, 2.7163000106811523, 2.71370005607605, 2.712899923324585, 2.712599992752075, 2.711699962615967, 2.7116000652313232, 2.708699941635132, 2.7077999114990234, 2.7058000564575195, 2.704400062561035, 2.7026000022888184, 2.701200008392334, 2.700000047683716, 2.6986000537872314, 2.6982998847961426, 2.697700023651123, 2.697200059890747, 2.6951000690460205, 2.691800117492676, 2.6796998977661133, 2.6791999340057373, 2.6786000728607178, 2.677799940109253, 2.6740000247955322, 2.6717000007629395, 2.6686999797821045, 2.6659998893737793, 2.6586999893188477, 2.656100034713745, 2.6298999786376953, 2.591399908065796, 2.368000030517578, 2.4976999759674072, 1.5680999755859375, 1.6502000093460083, 2.7760000228881836, 2.7760000228881836, 2.775599956512451, 2.7751998901367188, 2.7750000953674316, 2.7734999656677246, 2.773400068283081, 2.7720999717712402, 2.7718000411987305, 2.7716000080108643, 2.767699956893921, 2.7676000595092773, 2.767199993133545, 2.7669999599456787, 2.7667999267578125, 2.7653000354766846, 2.7627999782562256, 2.7625999450683594, 2.7625999450683594, 2.7625999450683594, 2.761699914932251, 2.761699914932251, 2.7604000568389893, 2.7560999393463135, 2.7532999515533447, 2.7528998851776123, 2.75, 2.7458999156951904, 2.745699882507324, 2.745699882507324, 2.2894999980926514, 1.6291999816894531, 1.9744000434875488, 0.7184000015258789, 0.5544000267982483, -0.4885999858379364, -1.1782000064849854, 2.859100103378296, 2.8584001064300537, 2.8584001064300537, 2.8575000762939453, 2.8575000762939453, 2.8568999767303467, 2.8550000190734863, 2.854099988937378, 2.8529999256134033, 2.852099895477295, 2.8513998985290527, 2.8512001037597656, 2.8506999015808105, 2.8441998958587646, 2.8434998989105225, 2.8405001163482666, 2.835400104522705, 2.818700075149536, 2.8185999393463135, 2.8148999214172363, 2.811300039291382, 2.8101999759674072, 2.801100015640259, 2.7985999584198, 2.7973999977111816, 2.7959001064300537, 2.7890000343322754, 2.7878000736236572, 2.774600028991699, 2.766700029373169, 2.6486001014709473, 2.435800075531006, 2.2880001068115234, 2.0961999893188477, 1.8176000118255615, 1.3480000495910645, 1.2023999691009521, 1.8746999502182007, 3.031899929046631, 3.030600070953369, 3.026599884033203, 3.021199941635132, 3.0144999027252197, 3.012700080871582, 3.009999990463257, 3.0069000720977783, 3.004699945449829, 3.000699996948242, 2.9965999126434326, 2.995699882507324, 2.9927000999450684, 2.9879000186920166, 2.984299898147583, 2.9790000915527344, 2.971299886703491, 2.966599941253662, 2.9602999687194824, 2.9544999599456787, 2.9433000087738037, 2.940000057220459, 2.9351000785827637, 2.9347000122070312, 2.9321000576019287, 2.911799907684326, 2.911799907684326, 2.908400058746338, 2.8828001022338867, 2.8754000663757324, 2.8512001037597656, 2.62280011177063, 1.9026999473571777, 2.182300090789795, 0.3443000018596649, 1.4464999437332153, 3.1077001094818115, 3.102299928665161, 3.1006999015808105, 3.1005001068115234, 3.1003000736236572, 3.1003000736236572, 3.0999999046325684, 3.097399950027466, 3.0957999229431152, 3.095099925994873, 3.092400074005127, 3.0910000801086426, 3.090399980545044, 3.0903000831604004, 3.090100049972534, 3.0824999809265137, 3.0810000896453857, 3.078900098800659, 3.078900098800659, 3.0785999298095703, 3.0764000415802, 3.0732998847961426, 3.072700023651123, 3.063800096511841, 3.0636000633239746, 3.0573999881744385, 3.0573999881744385, 3.0566000938415527, 3.0564000606536865, 3.0517001152038574, 3.0302999019622803, 2.6247000694274902, 2.552799940109253, 2.6328001022338867, 1.8740999698638916, 2.3582000732421875, 1.148900032043457, 2.202399969100952, 1.9722000360488892, 1.2871999740600586, 1.8255000114440918, 3.137200117111206, 3.13700008392334, 3.1368000507354736, 3.1363000869750977, 3.1347999572753906, 3.134500026702881, 3.1335999965667725, 3.1328001022338867, 3.131700038909912, 3.1291000843048096, 3.12719988822937, 3.1270999908447266, 3.1268999576568604, 3.1210999488830566, 3.119999885559082, 3.119800090789795, 3.1196999549865723, 3.1135001182556152, 3.1126999855041504, 3.103600025177002, 3.1033999919891357, 3.102799892425537, 3.1001999378204346, 3.098400115966797, 3.0901999473571777, 3.087100028991699, 3.086899995803833, 3.0804998874664307, 3.079699993133545, 3.071899890899658, 2.9869000911712646, 2.8359999656677246, 1.6102999448776245, 1.6548000574111938, 2.3622000217437744, 2.4776999950408936, 2.4553000926971436, 1.0006999969482422, 1.3602999448776245, 3.16129994392395, 3.1605000495910645, 3.1602001190185547, 3.1589999198913574, 3.158900022506714, 3.158600091934204, 3.1584999561309814, 3.1521999835968018, 3.1466000080108643, 3.1454999446868896, 3.14520001411438, 3.1368000507354736, 3.1342999935150146, 3.1270999908447266, 3.1247000694274902, 3.1198999881744385, 3.1184000968933105, 3.1171000003814697, 3.1166000366210938, 3.1150999069213867, 3.112299919128418, 3.1096999645233154, 3.109499931335449, 3.1070001125335693, 3.1036999225616455, 3.099299907684326, 3.096400022506714, 3.0952999591827393, 3.0889999866485596, 3.08489990234375, 3.0197999477386475, 2.948699951171875, 2.8585000038146973, 2.516700029373169, 1.9220000505447388, 1.7488000392913818, 1.118499994277954, 3.2177999019622803, 3.217600107192993, 3.216399908065796, 3.2149999141693115, 3.214099884033203, 3.2130000591278076, 3.2083001136779785, 3.2070000171661377, 3.2060000896453857, 3.204699993133545, 3.200700044631958, 3.1981000900268555, 3.1974000930786133, 3.1953999996185303, 3.194200038909912, 3.1928999423980713, 3.1910998821258545, 3.190700054168701, 3.190500020980835, 3.1881000995635986, 3.1870999336242676, 3.186199903488159, 3.1854000091552734, 3.184999942779541, 3.184999942779541, 3.1842000484466553, 3.183000087738037, 3.180799961090088, 3.1793999671936035, 3.1791999340057373, 2.737299919128418, 2.444700002670288, 1.6916999816894531, 2.3178000450134277, 2.1475000381469727, 1.6958999633789062, 2.194000005722046, 1.6715999841690063, 1.8654999732971191, 1.6306999921798706, 2.214099884033203, -0.009399999864399433, 3.302999973297119, 3.3029000759124756, 3.302000045776367, 3.3015999794006348, 3.301100015640259, 3.300100088119507, 3.299299955368042, 3.2988998889923096, 3.2948999404907227, 3.293600082397461, 3.2929999828338623, 3.2925000190734863, 3.291800022125244, 3.290800094604492, 3.2899999618530273, 3.286799907684326, 3.2867000102996826, 3.285399913787842, 3.2792000770568848, 3.273900032043457, 3.266200065612793, 3.266200065612793, 3.2657999992370605, 3.2643001079559326, 3.2602999210357666, 3.2602999210357666, 3.2590999603271484, 3.2581000328063965, 3.2581000328063965, 3.2572999000549316, 2.977099895477295, 2.4147000312805176, 1.9605000019073486, 1.5503000020980835, 1.095900058746338, 2.177799940109253, 3.3777999877929688, 3.3712000846862793, 3.370500087738037, 3.3696000576019287, 3.3687000274658203, 3.3678998947143555, 3.36680006980896, 3.365999937057495, 3.365799903869629, 3.363100051879883, 3.3626999855041504, 3.362299919128418, 3.3564000129699707, 3.355799913406372, 3.355600118637085, 3.3548998832702637, 3.354599952697754, 3.353600025177002, 3.3531999588012695, 3.352799892425537, 3.351799964904785, 3.3506999015808105, 3.3503000736236572, 3.3498001098632812, 3.3485000133514404, 3.3475000858306885, 3.34660005569458, 3.3427000045776367, 3.3417000770568848, 3.3417000770568848, 3.2578001022338867, 3.136899948120117, 2.9790000915527344, 2.598599910736084, 1.2855000495910645, 1.9860999584197998, 0.5091999769210815, 3.4809999465942383, 3.480299949645996, 3.4793999195098877, 3.4784998893737793, 3.4783999919891357, 3.47760009765625, 3.477099895477295, 3.4756999015808105, 3.4723000526428223, 3.4721999168395996, 3.4721999168395996, 3.4707999229431152, 3.4697999954223633, 3.4697000980377197, 3.469599962234497, 3.469099998474121, 3.4677999019622803, 3.466599941253662, 3.4632999897003174, 3.460400104522705, 3.4588000774383545, 3.4574999809265137, 3.4553000926971436, 3.4547998905181885, 3.452899932861328, 3.452899932861328, 3.451200008392334, 3.451200008392334, 3.4504001140594482, 3.4486000537872314, 2.9563000202178955, 2.957200050354004, 2.6522998809814453, 2.510999917984009, 3.512200117111206, 3.512200117111206, 3.5113000869750977, 3.5078001022338867, 3.5064001083374023, 3.5055999755859375, 3.504699945449829, 3.5, 3.4988999366760254, 3.4951999187469482, 3.492300033569336, 3.488300085067749, 3.487299919128418, 3.484600067138672, 3.4809999465942383, 3.47979998588562, 3.4746999740600586, 3.4702999591827393, 3.4644999504089355, 3.453900098800659, 3.452199935913086, 3.4272000789642334, 3.420799970626831, 3.4098000526428223, 3.4096999168395996, 3.4072999954223633, 3.4042000770568848, 3.3894999027252197, 3.3882999420166016, 3.362799882888794, 3.113100051879883, 1.251099944114685, 0.8219000101089478, 1.2826999425888062, 3.633500099182129, 3.6324000358581543, 3.631999969482422, 3.6312999725341797, 3.6308000087738037, 3.6308000087738037, 3.6308000087738037, 3.626800060272217, 3.625499963760376, 3.624799966812134, 3.6247000694274902, 3.6229000091552734, 3.6229000091552734, 3.6229000091552734, 3.6203999519348145, 3.614300012588501, 3.613800048828125, 3.6135001182556152, 3.6105000972747803, 3.6071999073028564, 3.607100009918213, 3.607100009918213, 3.607100009918213, 3.607100009918213, 3.607100009918213, 3.607100009918213, 3.607100009918213, 3.607100009918213, 3.607100009918213, 3.607100009918213, 3.607100009918213, 3.4245998859405518, 3.167799949645996, 0.1907999962568283, 2.638700008392334, 3.7460999488830566, 3.7455999851226807, 3.7402000427246094, 3.7399001121520996, 3.737499952316284, 3.7360999584198, 3.7348999977111816, 3.7342000007629395, 3.732800006866455, 3.732300043106079, 3.7321999073028564, 3.7314999103546143, 3.7281999588012695, 3.727799892425537, 3.7276999950408936, 3.726300001144409, 3.7248001098632812, 3.724100112915039, 3.722399950027466, 3.72189998626709, 3.7207999229431152, 3.7204999923706055, 3.720099925994873, 3.719399929046631, 3.7181999683380127, 3.71589994430542, 3.71560001373291, 3.714099884033203, 3.7093000411987305, 3.7065999507904053, 3.5622000694274902, 3.269700050354004, 1.8020999431610107, 3.788100004196167, 3.787899971008301, 3.7867000102996826, 3.782599925994873, 3.7780001163482666, 3.7764999866485596, 3.77620005607605, 3.7744998931884766, 3.7743000984191895, 3.7702999114990234, 3.768399953842163, 3.7671000957489014, 3.765700101852417, 3.765700101852417, 3.765399932861328, 3.7648000717163086, 3.764400005340576, 3.757999897003174, 3.7500998973846436, 3.7460999488830566, 3.743000030517578, 3.7421000003814697, 3.740299940109253, 3.7381999492645264, 3.728300094604492, 3.715100049972534, 3.715100049972534, 3.7137999534606934, 3.7137999534606934, 3.7114999294281006, 3.348099946975708, 3.8524999618530273, 3.8510000705718994, 3.8501999378204346, 3.8480000495910645, 3.8471999168395996, 3.846100091934204, 3.844899892807007, 3.8371999263763428, 3.8333001136779785, 3.8287999629974365, 3.828700065612793, 3.827199935913086, 3.826900005340576, 3.822200059890747, 3.822200059890747, 3.822200059890747, 3.822200059890747, 3.8189001083374023, 3.817500114440918, 3.816800117492676, 3.8150999546051025, 3.811199903488159, 3.811000108718872, 3.8006999492645264, 3.800100088119507, 3.795099973678589, 3.7929000854492188, 3.7909998893737793, 3.7897000312805176, 3.7897000312805176, 3.7897000312805176, 3.7897000312805176, 3.4856998920440674, 3.7897000312805176, 3.7897000312805176, 2.046600103378296], \"logprob\": [30.0, 29.0, 28.0, 27.0, 26.0, 25.0, 24.0, 23.0, 22.0, 21.0, 20.0, 19.0, 18.0, 17.0, 16.0, 15.0, 14.0, 13.0, 12.0, 11.0, 10.0, 9.0, 8.0, 7.0, 6.0, 5.0, 4.0, 3.0, 2.0, 1.0, -2.0982000827789307, -2.404400110244751, -2.736299991607666, -2.7499001026153564, -2.8485000133514404, -3.433000087738037, -3.5106000900268555, -3.6514999866485596, -3.6547000408172607, -3.700500011444092, -3.740999937057495, -3.8784000873565674, -3.9117000102996826, -3.9347000122070312, -4.084099769592285, -4.630000114440918, -4.730100154876709, -4.8343000411987305, -4.883900165557861, -4.959099769592285, -5.033599853515625, -5.229499816894531, -5.352200031280518, -5.405600070953369, -5.420300006866455, -5.440000057220459, -5.469200134277344, -5.476600170135498, -5.4766998291015625, -5.642499923706055, -2.9632999897003174, -3.1500000953674316, -4.4430999755859375, -2.9988999366760254, -3.6068999767303467, -4.023399829864502, -4.97160005569458, -4.900300025939941, -1.402400016784668, -2.5803000926971436, -2.7788000106811523, -2.817699909210205, -3.226599931716919, -3.3092000484466553, -3.328399896621704, -3.363300085067749, -3.769399881362915, -4.266200065612793, -4.452199935913086, -4.493800163269043, -4.772500038146973, -4.832300186157227, -4.884399890899658, -5.048500061035156, -5.10230016708374, -5.211699962615967, -5.468900203704834, -5.473100185394287, -5.71999979019165, -5.74399995803833, -5.751999855041504, -5.97629976272583, -6.060699939727783, -6.0721001625061035, -6.079599857330322, -6.0960001945495605, -6.1149001121521, -6.122099876403809, -2.9321999549865723, -4.592299938201904, -3.825900077819824, -4.02839994430542, -3.166300058364868, -3.2163000106811523, -4.091899871826172, -4.914100170135498, -5.551400184631348, -1.8121999502182007, -2.793299913406372, -3.222100019454956, -3.3392999172210693, -3.566499948501587, -3.628200054168701, -4.031099796295166, -4.386899948120117, -4.5040998458862305, -4.552800178527832, -4.592899799346924, -4.647200107574463, -4.689799785614014, -4.749899864196777, -5.237199783325195, -5.28000020980835, -5.3566999435424805, -5.390399932861328, -5.981200218200684, -5.981200218200684, -6.030700206756592, -6.151899814605713, -6.275000095367432, -6.2891998291015625, -6.396100044250488, -6.408400058746338, -6.736599922180176, -6.743299961090088, -6.806700229644775, -6.806700229644775, -2.0827999114990234, -2.8094000816345215, -4.8491997718811035, -3.801800012588501, -3.4665000438690186, -2.394700050354004, -5.159599781036377, -3.656899929046631, -3.388400077819824, -3.9714999198913574, -5.102399826049805, -4.500400066375732, -4.27269983291626, -5.081500053405762, -4.5553998947143555, -5.218900203704834, -2.7934000492095947, -2.8959999084472656, -2.9811999797821045, -3.003200054168701, -3.286099910736084, -3.409899950027466, -3.4131999015808105, -3.8169000148773193, -3.8496999740600586, -3.955899953842163, -3.963099956512451, -3.966399908065796, -3.996999979019165, -4.035600185394287, -4.04640007019043, -4.105199813842773, -4.18209981918335, -4.25629997253418, -4.293600082397461, -4.302999973297119, -4.4217000007629395, -4.436600208282471, -4.4415998458862305, -4.474800109863281, -4.5584001541137695, -4.637599945068359, -4.6554999351501465, -4.669600009918213, -4.740699768066406, -4.813399791717529, -3.720900058746338, -3.428999900817871, -4.263199806213379, -4.337800025939941, -2.34089994430542, -2.604099988937378, -3.490999937057495, -3.6698999404907227, -3.724400043487549, -3.8850998878479004, -3.898200035095215, -4.269199848175049, -4.35699987411499, -4.541399955749512, -4.650899887084961, -4.7733001708984375, -4.861700057983398, -4.927599906921387, -5.003600120544434, -5.021900177001953, -5.05210018157959, -5.076700210571289, -5.173600196838379, -5.309599876403809, -5.693600177764893, -5.707399845123291, -1.4951000213623047, -5.744200229644775, -5.835400104522705, -5.8867998123168945, -5.950799942016602, -6.0055999755859375, -6.140999794006348, -6.184299945831299, -2.710200071334839, -3.845099925994873, -3.31850004196167, -4.843400001525879, -2.270699977874756, -2.6835999488830566, -2.323499917984009, -2.3382999897003174, -2.5834999084472656, -2.7946999073028564, -2.875999927520752, -3.337599992752075, -3.36929988861084, -3.6403000354766846, -3.706700086593628, -3.737299919128418, -4.249199867248535, -4.2606000900268555, -4.295599937438965, -4.314799785614014, -4.340400218963623, -4.467800140380859, -4.657800197601318, -4.671299934387207, -4.671299934387207, -4.671299934387207, -4.727799892425537, -4.732100009918213, -4.809899806976318, -5.037700176239014, -5.1616997718811035, -5.177000045776367, -5.291299819946289, -5.43209981918335, -5.439000129699707, -5.439000129699707, -2.9711999893188477, -3.911400079727173, -4.438700199127197, -3.563800096511841, -3.8717000484466553, -4.662300109863281, -5.017099857330322, -2.4902000427246094, -2.7909998893737793, -2.8004000186920166, -3.1113998889923096, -3.1250998973846436, -3.285900115966797, -3.663800001144409, -3.8059000968933105, -3.9628000259399414, -4.065899848937988, -4.1493000984191895, -4.164599895477295, -4.212399959564209, -4.714600086212158, -4.752699851989746, -4.913300037384033, -5.141300201416016, -5.653500080108643, -5.653900146484375, -5.741799831390381, -5.817299842834473, -5.840199947357178, -6.010700225830078, -6.0528998374938965, -6.071400165557861, -6.096700191497803, -6.201099872589111, -6.217100143432617, -1.7375999689102173, -6.482100009918213, -4.651500225067139, -1.9149999618530273, -4.407299995422363, -4.320400238037109, -3.9128000736236572, -3.5804998874664307, -3.512500047683716, -4.718900203704834, -1.2660000324249268, -2.4184000492095947, -3.5192999839782715, -4.158299922943115, -4.628300189971924, -4.723100185394287, -4.852200031280518, -4.9832000732421875, -5.065199851989746, -5.202600002288818, -5.323699951171875, -5.349599838256836, -5.4303998947143555, -5.546299934387207, -5.624199867248535, -5.732900142669678, -5.871099948883057, -5.945899963378906, -6.040299892425537, -6.120999813079834, -6.26140022277832, -6.298999786376953, -6.35260009765625, -6.3572998046875, -6.385200023651123, -6.57889986038208, -6.57889986038208, -6.60860013961792, -6.809199810028076, -3.01419997215271, -2.7009999752044678, -1.215999960899353, -4.101600170135498, -5.772299766540527, -4.37060022354126, -5.2596001625061035, -1.9220999479293823, -3.549999952316284, -3.761899948120117, -3.789400100708008, -3.8053998947143555, -3.8108999729156494, -3.8427000045776367, -4.09660005569458, -4.229899883270264, -4.279300212860107, -4.4558000564575195, -4.541100025177002, -4.571800231933594, -4.5782999992370605, -4.589200019836426, -4.9319000244140625, -4.988699913024902, -5.058800220489502, -5.061800003051758, -5.070400238037109, -5.14300012588501, -5.235300064086914, -5.250400066375732, -5.474299907684326, -5.478600025177002, -5.610899925231934, -5.610899925231934, -5.625400066375732, -5.629199981689453, -5.717700004577637, -2.0485000610351562, -2.262200117111206, -3.546099901199341, -4.540999889373779, -3.5092999935150146, -4.598400115966797, -3.184999942779541, -4.424699783325195, -4.619999885559082, -4.431099891662598, -4.681399822235107, -2.316999912261963, -2.407900094985962, -2.4967000484466553, -2.658099889755249, -3.0852999687194824, -3.160099983215332, -3.3201000690460205, -3.466399908065796, -3.616499900817871, -3.916100025177002, -4.091700077056885, -4.101900100708008, -4.11929988861084, -4.507599830627441, -4.567999839782715, -4.574699878692627, -4.583700180053711, -4.85860013961792, -4.891200065612793, -5.191100120544434, -5.196800231933594, -5.214399814605713, -5.282899856567383, -5.330399990081787, -5.515999794006348, -5.580399990081787, -5.583099842071533, -5.703100204467773, -5.7164998054504395, -5.843900203704834, -4.495800018310547, -2.1682000160217285, -3.4867000579833984, -3.7286999225616455, -4.76669979095459, -5.038099765777588, -5.05049991607666, -4.729800224304199, -5.009399890899658, -2.1738998889923096, -2.5571000576019287, -2.6473000049591064, -3.007999897003174, -3.026900053024292, -3.0908000469207764, -3.119499921798706, -3.9828999042510986, -4.399600028991699, -4.466300010681152, -4.4791998863220215, -4.86899995803833, -4.961100101470947, -5.188700199127197, -5.2540998458862305, -5.374499797821045, -5.410699844360352, -5.438300132751465, -5.451000213623047, -5.4832000732421875, -5.541200160980225, -5.591100215911865, -5.595399856567383, -5.643499851226807, -5.701700210571289, -5.774600028991699, -5.8206000328063965, -5.837699890136719, -5.930300235748291, -5.986000061035156, -3.490999937057495, -2.7365000247955322, -3.5413999557495117, -1.6713000535964966, -4.15910005569458, -4.169899940490723, -4.708199977874756, -2.8749001026153564, -2.9084999561309814, -3.184799909591675, -3.418100118637085, -3.547600030899048, -3.6846001148223877, -4.125800132751465, -4.217800140380859, -4.281799793243408, -4.36329984664917, -4.577400207519531, -4.696000099182129, -4.727099895477295, -4.80620002746582, -4.853300094604492, -4.899400234222412, -4.960400104522705, -4.973999977111816, -4.9791998863220215, -5.056700229644775, -5.086699962615967, -5.112299919128418, -5.134699821472168, -5.145299911499023, -5.146699905395508, -5.168700218200684, -5.1992998123168945, -5.256499767303467, -5.290900230407715, -5.2957000732421875, -3.915600061416626, -3.2857000827789307, -2.496299982070923, -4.202899932861328, -4.2221999168396, -4.022299766540527, -4.399600028991699, -4.323299884796143, -4.53439998626709, -4.785799980163574, -4.915999889373779, -4.724299907684326, -2.6180999279022217, -2.6579999923706055, -2.87280011177063, -2.9790000915527344, -3.072200059890747, -3.257699966430664, -3.3808999061584473, -3.4375998973846436, -3.876199960708618, -3.9832000732421875, -4.026899814605713, -4.0640997886657715, -4.115300178527832, -4.18720006942749, -4.233699798583984, -4.419300079345703, -4.424099922180176, -4.484799861907959, -4.75029993057251, -4.933199882507324, -5.14870023727417, -5.149799823760986, -5.159599781036377, -5.196199893951416, -5.29010009765625, -5.291100025177002, -5.317500114440918, -5.337900161743164, -5.337900161743164, -5.354400157928467, -2.941699981689453, -3.4119999408721924, -3.043600082397461, -3.526599884033203, -3.61899995803833, -4.504799842834473, -1.9677000045776367, -3.5137999057769775, -3.595099925994873, -3.685499906539917, -3.7706000804901123, -3.8410000801086426, -3.9321999549865723, -3.996299982070923, -4.010700225830078, -4.189000129699707, -4.21589994430542, -4.241399765014648, -4.537399768829346, -4.559800148010254, -4.570400238037109, -4.600399971008301, -4.610300064086914, -4.652400016784668, -4.667099952697754, -4.680600166320801, -4.721099853515625, -4.7581000328063965, -4.772200107574463, -4.789999961853027, -4.8343000411987305, -4.866399765014648, -4.892399787902832, -5.006400108337402, -5.03439998626709, -5.036200046539307, -3.5211000442504883, -2.8580000400543213, -3.7035999298095703, -3.228100061416626, -2.9024999141693115, -3.984999895095825, -4.205699920654297, -2.615600109100342, -2.8008999824523926, -2.9707999229431152, -3.121299982070923, -3.150700092315674, -3.265199899673462, -3.3215999603271484, -3.498500108718872, -3.8143999576568604, -3.8157999515533447, -3.8208000659942627, -3.9263999462127686, -3.9921998977661133, -4.003200054168701, -4.005899906158447, -4.042500019073486, -4.1219000816345215, -4.190800189971924, -4.35699987411499, -4.482900142669678, -4.5472002029418945, -4.59660005569458, -4.675099849700928, -4.691199779510498, -4.753499984741211, -4.753799915313721, -4.807000160217285, -4.807000160217285, -4.83050012588501, -4.883299827575684, -3.5643999576568604, -3.6700000762939453, -3.428800106048584, -4.141900062561035, -1.6019999980926514, -1.6133999824523926, -2.1052000522613525, -3.000499963760376, -3.214099884033203, -3.3108999729156494, -3.4175000190734863, -3.8431999683380127, -3.9196999073028564, -4.145400047302246, -4.293799877166748, -4.4670000076293945, -4.50600004196167, -4.604800224304199, -4.723700046539307, -4.763000011444092, -4.903900146484375, -5.012499809265137, -5.141200065612793, -5.3420000076293945, -5.372099876403809, -5.72599983215332, -5.800099849700928, -5.917799949645996, -5.919099807739258, -5.942999839782715, -5.972899913787842, -6.1066999435424805, -6.116499900817871, -6.314799785614014, -4.316699981689453, -2.9368999004364014, -4.908599853515625, -5.496200084686279, -2.7592999935150146, -2.945199966430664, -3.0137999057769775, -3.1133999824523926, -3.1684000492095947, -3.1684000492095947, -3.1684000492095947, -3.578200101852417, -3.678499937057495, -3.7281999588012695, -3.7386999130249023, -3.8578999042510986, -3.861299991607666, -3.861299991607666, -4.0065999031066895, -4.295100212097168, -4.313700199127197, -4.323999881744385, -4.438300132751465, -4.5507001876831055, -4.552999973297119, -4.554100036621094, -4.554100036621094, -4.554100036621094, -4.554100036621094, -4.554100036621094, -4.554100036621094, -4.554100036621094, -4.554100036621094, -4.554100036621094, -4.554100036621094, -3.6370999813079834, -3.9623000621795654, -3.9972000122070312, -4.535099983215332, -2.43969988822937, -2.5388998985290527, -3.313999891281128, -3.3385000228881836, -3.550600051879883, -3.657399892807007, -3.736599922180176, -3.785799980163574, -3.867000102996826, -3.8956000804901123, -3.900399923324585, -3.9398999214172363, -4.101900100708008, -4.12060022354126, -4.124899864196777, -4.186100006103516, -4.24970006942749, -4.276899814605713, -4.34060001373291, -4.357699871063232, -4.396900177001953, -4.404799938201904, -4.418900012969971, -4.44290018081665, -4.4807000160217285, -4.5518999099731445, -4.561800003051758, -4.605000019073486, -4.730899810791016, -4.796000003814697, -3.552000045776367, -2.448499917984009, -4.087500095367432, -1.690999984741211, -1.7913999557495117, -2.2242000102996826, -2.9914000034332275, -3.4767000675201416, -3.59060001373291, -3.6135001182556152, -3.7272000312805176, -3.7441000938415527, -3.9697000980377197, -4.059100151062012, -4.121300220489502, -4.178899765014648, -4.178999900817871, -4.192999839782715, -4.215000152587891, -4.230299949645996, -4.454699993133545, -4.6793999671936035, -4.776899814605713, -4.8471999168396, -4.866600036621094, -4.903800010681152, -4.945300102233887, -5.124599933624268, -5.3256001472473145, -5.3256001472473145, -5.342299938201904, -5.342800140380859, -5.373700141906738, -4.935200214385986, -2.092900037765503, -2.454400062561035, -2.614799976348877, -2.947200059890747, -3.0471999645233154, -3.1626999378204346, -3.281599998474121, -3.816200017929077, -4.009500026702881, -4.1915998458862305, -4.196400165557861, -4.251999855041504, -4.260499954223633, -4.4141998291015625, -4.4145002365112305, -4.4145002365112305, -4.4145002365112305, -4.509099960327148, -4.548099994659424, -4.564899921417236, -4.609499931335449, -4.701700210571289, -4.708399772644043, -4.918700218200684, -4.930500030517578, -5.01800012588501, -5.055300235748291, -5.085899829864502, -5.106200218200684, -5.106200218200684, -5.106200218200684, -5.106200218200684, -4.046299934387207, -5.106200218200684, -5.106200218200684, -3.5055999755859375]}, \"token.table\": {\"Topic\": [11, 12, 20, 11, 1, 4, 10, 8, 2, 4, 3, 17, 9, 18, 18, 3, 7, 11, 12, 20, 7, 17, 12, 12, 4, 8, 16, 3, 9, 20, 9, 1, 14, 11, 7, 14, 4, 19, 17, 16, 15, 19, 7, 9, 11, 6, 19, 7, 13, 4, 8, 6, 1, 3, 5, 9, 14, 20, 9, 5, 6, 15, 3, 6, 20, 2, 5, 10, 20, 20, 16, 13, 4, 19, 9, 13, 9, 15, 3, 5, 7, 1, 2, 1, 13, 11, 13, 14, 17, 4, 17, 12, 2, 4, 1, 7, 16, 10, 9, 15, 14, 20, 7, 10, 12, 16, 13, 17, 3, 9, 10, 18, 2, 14, 6, 13, 13, 20, 10, 14, 13, 1, 10, 12, 13, 2, 1, 5, 6, 19, 8, 4, 7, 1, 10, 6, 14, 12, 11, 4, 15, 14, 10, 7, 2, 10, 11, 15, 7, 2, 15, 5, 4, 20, 11, 12, 14, 16, 17, 20, 4, 15, 10, 12, 5, 3, 20, 2, 7, 11, 10, 3, 7, 15, 12, 18, 2, 9, 18, 12, 19, 7, 20, 17, 15, 4, 1, 5, 4, 8, 5, 19, 14, 17, 17, 3, 9, 1, 10, 18, 9, 12, 6, 17, 18, 11, 18, 16, 2, 8, 14, 6, 6, 17, 11, 5, 3, 4, 2, 3, 9, 4, 6, 12, 19, 19, 11, 7, 3, 19, 6, 8, 15, 1, 3, 19, 13, 1, 6, 2, 17, 12, 11, 20, 12, 12, 17, 4, 6, 4, 16, 2, 20, 15, 3, 2, 15, 4, 9, 12, 18, 12, 1, 1, 3, 9, 4, 9, 15, 1, 10, 13, 4, 18, 5, 10, 20, 10, 11, 15, 6, 9, 17, 3, 11, 18, 5, 14, 19, 13, 19, 2, 2, 1, 9, 9, 18, 7, 4, 12, 15, 20, 13, 6, 13, 16, 13, 19, 19, 5, 5, 5, 3, 20, 4, 8, 10, 17, 14, 19, 3, 14, 16, 2, 9, 15, 2, 2, 14, 1, 2, 7, 8, 12, 13, 14, 3, 2, 17, 3, 16, 8, 8, 4, 11, 18, 20, 17, 9, 1, 3, 17, 6, 16, 3, 9, 2, 18, 10, 10, 3, 13, 7, 5, 11, 3, 4, 6, 3, 7, 10, 17, 5, 1, 7, 17, 17, 20, 6, 14, 14, 5, 5, 13, 1, 2, 8, 4, 1, 4, 6, 9, 17, 14, 16, 8, 17, 9, 8, 7, 13, 2, 12, 9, 1, 3, 7, 3, 4, 2, 9, 9, 19, 17, 2, 11, 13, 14, 13, 19, 18, 9, 12, 18, 5, 20, 13, 15, 1, 5, 7, 12, 15, 17, 16, 15, 10, 13, 12, 16, 14, 5, 6, 20, 4, 20, 9, 15, 2, 3, 6, 2, 18, 4, 8, 18, 3, 6, 20, 2, 7, 8, 3, 6, 11, 15, 10, 7, 8, 20, 12, 1, 7, 12, 5, 13, 1, 6, 6, 5, 19, 12, 14, 17, 4, 18, 18, 11, 1, 8, 16, 14, 2, 8, 8, 15, 8, 6, 16, 11, 19, 16, 5, 20, 3, 15, 6, 8, 10, 17, 1, 15, 19, 6, 6, 8, 3, 10, 12, 15, 12, 16, 20, 11, 2, 18, 9, 16, 8, 9, 3, 8, 9, 4, 3, 16, 20, 20, 18, 11, 7, 4, 17, 4, 8, 18, 8, 18, 20, 19, 7, 10, 3, 10, 10, 16, 14, 14, 3, 1, 18, 7, 5, 13, 13, 14, 8, 3, 7, 1, 11, 1, 7, 4, 19, 18, 1, 8, 13, 3, 9, 12, 6, 2, 18, 14, 14, 10, 10, 4, 7, 7, 10, 12, 12, 18, 3, 19, 19, 11, 19, 12, 7, 3, 14, 15, 12, 2, 11, 15, 1, 12, 12, 15, 9, 7, 2, 3, 17, 10, 10, 13, 2, 3, 9, 11, 15, 13, 16, 3, 6, 3, 14, 12, 3, 14, 19, 16, 16, 8, 20, 17, 17, 17, 2, 17, 9, 14, 10, 1, 11, 11, 1, 7, 15, 16, 5, 5, 6, 8, 6, 13, 3, 2, 10, 5, 18, 6, 6, 6, 5, 10, 1, 9, 5, 10, 9, 13, 9, 8, 8, 10, 12, 5, 10, 2, 19, 5, 6, 16, 8, 8, 19, 7, 12, 16, 1, 20, 10, 11, 10, 11, 11, 11, 5, 2, 6, 11, 3, 20, 19, 17, 15, 2, 14, 20, 1, 10, 12, 7, 3, 13, 13, 6, 9, 5, 6, 9, 1, 12, 14, 16, 12, 8, 13, 16, 14, 9, 5, 18, 1, 11, 16, 20, 11, 20, 16, 14, 16, 18, 1, 16, 11, 10, 14, 12, 18, 10, 19, 9, 18, 1, 13, 17, 2, 10, 15, 13, 15, 1, 15, 4], \"Freq\": [0.9304563403129578, 0.9631064534187317, 0.9913509488105774, 0.949044942855835, 0.9497796297073364, 0.048492271453142166, 0.9949761033058167, 0.9699331521987915, 0.98880535364151, 0.9885047674179077, 0.9853227138519287, 0.9918450713157654, 0.9612454175949097, 0.9958465695381165, 0.9869040250778198, 0.885349690914154, 0.949174165725708, 0.7390311360359192, 0.2565232217311859, 0.9881055355072021, 0.9978501200675964, 0.9924112558364868, 0.9728492498397827, 0.966126024723053, 0.9947509169578552, 0.9403573274612427, 0.8393554091453552, 0.948966920375824, 0.9925556778907776, 0.9963468909263611, 0.9878670573234558, 0.9956161975860596, 0.9793761372566223, 0.918388307094574, 0.997703492641449, 0.9893261194229126, 0.9959166646003723, 0.9784615635871887, 0.9900103807449341, 0.9990863800048828, 0.9879200458526611, 0.8955358862876892, 0.9974316358566284, 0.9864792227745056, 0.9930667281150818, 0.9805827140808105, 0.9588426947593689, 0.9537861347198486, 0.9620454907417297, 0.9880546927452087, 0.9403573274612427, 0.9790298938751221, 0.42400628328323364, 0.09130062162876129, 0.34353792667388916, 0.14081959426403046, 0.9575484395027161, 0.9550973773002625, 0.9574090242385864, 0.9833180904388428, 0.9790298938751221, 0.9893183708190918, 0.6802231669425964, 0.31812718510627747, 0.9946677088737488, 0.2304108589887619, 0.703201949596405, 0.0628393217921257, 0.9634199142456055, 0.9634199142456055, 0.9978761672973633, 0.9961331486701965, 0.9980365037918091, 0.9971769452095032, 0.9750798940658569, 0.948211669921875, 0.9774345755577087, 0.958035409450531, 0.9926527738571167, 0.911432683467865, 0.98997962474823, 0.9875507950782776, 0.9886153340339661, 0.9818450808525085, 0.9932293891906738, 0.2415962666273117, 0.7210138440132141, 0.03397447615861893, 0.9597458839416504, 0.9889773726463318, 0.9597458839416504, 0.9971925616264343, 0.5074602961540222, 0.4895762503147125, 0.9959673285484314, 0.992536723613739, 0.9658215641975403, 0.997355580329895, 0.9473578929901123, 0.984809935092926, 0.992536187171936, 0.9582950472831726, 0.35334962606430054, 0.11882553994655609, 0.4596672058105469, 0.06879373639822006, 0.9834501147270203, 0.9915285706520081, 0.48180219531059265, 0.29173344373703003, 0.22764049470424652, 0.9879416823387146, 0.9633269906044006, 0.9694899320602417, 0.9964510798454285, 0.9973618388175964, 0.9942141175270081, 0.9593450427055359, 0.9430054426193237, 0.9851213693618774, 0.9857903718948364, 0.4859229326248169, 0.16592490673065186, 0.3437016010284424, 0.974115252494812, 0.9984875321388245, 0.9960211515426636, 0.9770776629447937, 0.9987267851829529, 0.9730401635169983, 0.996462345123291, 0.9799895286560059, 0.9643756747245789, 0.466058611869812, 0.521985650062561, 0.9836099743843079, 0.9436607360839844, 0.9692919850349426, 0.9611485600471497, 0.9895541071891785, 0.994572639465332, 0.9605540037155151, 0.9989142417907715, 0.9902845621109009, 0.9993414878845215, 0.9836257696151733, 0.922879159450531, 0.9719738364219666, 0.9945724606513977, 0.9895250201225281, 0.9669178128242493, 0.966802179813385, 0.9963869452476501, 0.9973406791687012, 0.5236014127731323, 0.21666264533996582, 0.1230429857969284, 0.10431905090808868, 0.03209817036986351, 0.9880977869033813, 0.9921389818191528, 0.9845867156982422, 0.9763343334197998, 0.9818151593208313, 0.9856151938438416, 0.9674661159515381, 0.9575338959693909, 0.34544360637664795, 0.6539034843444824, 0.9222311973571777, 0.9807702898979187, 0.9835279583930969, 0.970190167427063, 0.9869251251220703, 0.9683536291122437, 0.9397145509719849, 0.7205005288124084, 0.27868416905403137, 0.9602574110031128, 0.32130664587020874, 0.6426132917404175, 0.998440682888031, 0.9582950472831726, 0.9597458839416504, 0.9921295642852783, 0.9843836426734924, 0.9981700778007507, 0.9988532662391663, 0.6743571758270264, 0.32484278082847595, 0.9966504573822021, 0.9793401956558228, 0.9739046692848206, 0.9847946166992188, 0.9597458839416504, 0.4248667061328888, 0.5740220546722412, 0.7817208766937256, 0.21742130815982819, 0.9501566886901855, 0.9795005917549133, 0.9834069013595581, 0.9726131558418274, 0.984792947769165, 0.9801445603370667, 0.9738179445266724, 0.9809368252754211, 0.9930492639541626, 0.9524876475334167, 0.821403443813324, 0.9761616587638855, 0.9825340509414673, 0.9956510066986084, 0.9821845889091492, 0.9082573652267456, 0.9981199502944946, 0.7329911589622498, 0.24433039128780365, 0.5389091372489929, 0.46068039536476135, 0.9142629504203796, 0.9861512184143066, 0.9963358044624329, 0.9939799308776855, 0.9925680160522461, 0.9697505235671997, 0.9756982922554016, 0.9214855432510376, 0.9825966954231262, 0.9797517657279968, 0.9842760562896729, 0.9994434714317322, 0.9907748699188232, 0.9792410135269165, 0.9505422115325928, 0.9943798780441284, 0.9630627036094666, 0.38511303067207336, 0.6138349771499634, 0.9982080459594727, 0.9836757183074951, 0.9789195656776428, 0.942480206489563, 0.9422205686569214, 0.9820252656936646, 0.3676053583621979, 0.6211262941360474, 0.7597463726997375, 0.23192258179187775, 0.9866045117378235, 0.9653433561325073, 0.9715998768806458, 0.9185055494308472, 0.989598274230957, 0.997343897819519, 0.9866077303886414, 0.9821861386299133, 0.9980964660644531, 0.9821024537086487, 0.9547263979911804, 0.9666312336921692, 0.9786249995231628, 0.9990307092666626, 0.5625661015510559, 0.11103278398513794, 0.3182939887046814, 0.9975383281707764, 0.9443587064743042, 0.9650944471359253, 0.9746173620223999, 0.7381049990653992, 0.26015177369117737, 0.9921183586120605, 0.9800956845283508, 0.9949179887771606, 0.99492347240448, 0.9600420594215393, 0.12964747846126556, 0.8665910363197327, 0.9616115093231201, 0.9830620288848877, 0.6224190592765808, 0.3708028495311737, 0.8853498697280884, 0.996677577495575, 0.9921256303787231, 0.956678032875061, 0.9712013006210327, 0.9975137710571289, 0.9659273028373718, 0.974090039730072, 0.9701013565063477, 0.9646015167236328, 0.8312303423881531, 0.1610911637544632, 0.9730439782142639, 0.97342449426651, 0.9376968741416931, 0.9967276453971863, 0.4066237211227417, 0.5927057862281799, 0.965977132320404, 0.9948713779449463, 0.9825671315193176, 0.9590389728546143, 0.9811281561851501, 0.9333922863006592, 0.9859897494316101, 0.9800737500190735, 0.9906822443008423, 0.9423767924308777, 0.9951438903808594, 0.9580092430114746, 0.9749864935874939, 0.995475172996521, 0.9247916340827942, 0.9754372239112854, 0.9753330945968628, 0.980634331703186, 0.9453283548355103, 0.9884304404258728, 0.9781961441040039, 0.9988325834274292, 0.9949729442596436, 0.40627923607826233, 0.5902547240257263, 0.9916185140609741, 0.9825690388679504, 0.9742375016212463, 0.33751508593559265, 0.1970725655555725, 0.19027695059776306, 0.06795605272054672, 0.03964103385806084, 0.10986229032278061, 0.05663004517555237, 0.9991506934165955, 0.9894894957542419, 0.9586750864982605, 0.9975768327713013, 0.9425314664840698, 0.9052256941795349, 0.9082619547843933, 0.990318238735199, 0.9982817769050598, 0.9690825343132019, 0.9634199142456055, 0.9597458839416504, 0.9608494639396667, 0.9964030385017395, 0.9859569668769836, 0.9597458839416504, 0.9774555563926697, 0.9455260038375854, 0.38337618112564087, 0.6160922646522522, 0.9884828925132751, 0.9732357263565063, 0.9272727966308594, 0.9390217661857605, 0.8263635635375977, 0.17243020236492157, 0.9696895480155945, 0.9688746333122253, 0.9424724578857422, 0.9895869493484497, 0.5445652604103088, 0.44555342197418213, 0.9477916955947876, 0.8113742470741272, 0.1803053915500641, 0.9671385288238525, 0.9519558548927307, 0.993279755115509, 0.8956412076950073, 0.956540584564209, 0.9597458839416504, 0.9824383854866028, 0.9979572892189026, 0.9731922149658203, 0.9833770990371704, 0.9893625378608704, 0.9843491315841675, 0.9451389312744141, 0.45625415444374084, 0.3318212032318115, 0.2073882520198822, 0.9968934059143066, 0.981727123260498, 0.9982292652130127, 0.9846493005752563, 0.9993159174919128, 0.9792124032974243, 0.9913106560707092, 0.9882829785346985, 0.9828110933303833, 0.9924230575561523, 0.9722588658332825, 0.9042285680770874, 0.9950024485588074, 0.9721900820732117, 0.9994795918464661, 0.9369227290153503, 0.9832269549369812, 0.99811851978302, 0.08230961859226227, 0.9174285531044006, 0.6556023359298706, 0.33422863483428955, 0.9720801115036011, 0.9842539429664612, 0.9443587064743042, 0.9761812090873718, 0.9663982391357422, 0.9890701174736023, 0.13083131611347198, 0.40970858931541443, 0.45790958404541016, 0.9333922863006592, 0.9905194640159607, 0.9596909880638123, 0.1606309711933136, 0.2162339836359024, 0.617811381816864, 0.9815948605537415, 0.9662365913391113, 0.9771236181259155, 0.9955562949180603, 0.9854292273521423, 0.9964644312858582, 0.37062376737594604, 0.3557988107204437, 0.12601208686828613, 0.1334245502948761, 0.9912849068641663, 0.9919403791427612, 0.9950268268585205, 0.9696323275566101, 0.9696491360664368, 0.9641782641410828, 0.9769836068153381, 0.9163954257965088, 0.08253908157348633, 0.9823586940765381, 0.9966102242469788, 0.9634199142456055, 0.9879644513130188, 0.9934449195861816, 0.30713510513305664, 0.5650404095649719, 0.1278505027294159, 0.9982500076293945, 0.9700337648391724, 0.9963338375091553, 0.8810245394706726, 0.9700535535812378, 0.8909668922424316, 0.10861310362815857, 0.9840131998062134, 0.7783124446868896, 0.2201712727546692, 0.8869109153747559, 0.9958422183990479, 0.9943757057189941, 0.984970211982727, 0.9696741104125977, 0.9986300468444824, 0.9839738011360168, 0.9752482175827026, 0.9453056454658508, 0.9472047090530396, 0.32292529940605164, 0.4657576382160187, 0.20493336021900177, 0.9796943068504333, 0.9872108101844788, 0.9895445108413696, 0.9955376386642456, 0.9845446348190308, 0.989364504814148, 0.942166268825531, 0.9755290746688843, 0.9878343343734741, 0.9924230575561523, 0.9939644932746887, 0.9827867746353149, 0.9573580622673035, 0.9767714738845825, 0.9971581697463989, 0.8772246241569519, 0.817452609539032, 0.963932991027832, 0.5492911338806152, 0.4336509108543396, 0.9451965093612671, 0.9791333079338074, 0.9399584531784058, 0.9974595904350281, 0.9719602465629578, 0.9800661206245422, 0.9421663880348206, 0.958476722240448, 0.9798474311828613, 0.9317647814750671, 0.948966920375824, 0.9739634394645691, 0.9904826283454895, 0.9639024138450623, 0.17757084965705872, 0.8049878478050232, 0.9874570965766907, 0.9791334271430969, 0.9973623752593994, 0.9911273717880249, 0.9872334599494934, 0.99815833568573, 0.9395855665206909, 0.9808716177940369, 0.6135103702545166, 0.3775448501110077, 0.9682250022888184, 0.959460437297821, 0.9582950472831726, 0.9652472138404846, 0.9989035129547119, 0.987155020236969, 0.986404538154602, 0.9806801676750183, 0.9585701823234558, 0.9869546890258789, 0.9575014710426331, 0.9806405305862427, 0.9327386617660522, 0.9907819032669067, 0.9864473342895508, 0.9129283428192139, 0.9616700410842896, 0.9634199142456055, 0.9581605195999146, 0.9948465824127197, 0.9912410974502563, 0.9858286380767822, 0.9597458839416504, 0.996432900428772, 0.985518753528595, 0.9946863055229187, 0.8542479276657104, 0.14298570156097412, 0.9580060839653015, 0.9866558313369751, 0.9905498623847961, 0.9935415387153625, 0.5317866206169128, 0.4558171331882477, 0.9749645590782166, 0.9616963267326355, 0.9906158447265625, 0.9892882108688354, 0.9967585802078247, 0.9868044853210449, 0.9732551574707031, 0.9705766439437866, 0.7984069585800171, 0.18786045908927917, 0.324121356010437, 0.6725518107414246, 0.9035628437995911, 0.42675456404685974, 0.5662704706192017, 0.9945603013038635, 0.9477559924125671, 0.9898274540901184, 0.9275697469711304, 0.981752872467041, 0.9732053875923157, 0.9607812166213989, 0.9882639646530151, 0.9756485223770142, 0.9919967651367188, 0.07497122883796692, 0.9241018295288086, 0.979652464389801, 0.9910281896591187, 0.9988561868667603, 0.9869495630264282, 0.987991988658905, 0.9920557141304016, 0.9894225597381592, 0.9555233716964722, 0.9971923232078552, 0.9753636717796326, 0.9964653849601746, 0.9459683299064636, 0.9622119069099426, 0.9583165049552917, 0.9660149216651917, 0.9918999671936035, 0.9733296036720276, 0.9279240369796753, 0.9355247616767883, 0.9675122499465942, 0.9792238473892212, 0.9962214827537537, 0.7478180527687073, 0.24662083387374878, 0.9857934713363647, 0.9947571754455566, 0.9459762573242188, 0.9971348643302917, 0.9979758262634277, 0.9963155388832092, 0.9909564256668091, 0.9871652722358704, 0.9672567844390869, 0.9871965646743774, 0.9974085092544556, 0.9982868432998657, 0.9280257225036621, 0.9753330945968628, 0.9719289541244507, 0.9708942174911499, 0.967617928981781, 0.9645186066627502, 0.15097260475158691, 0.1198900118470192, 0.288624107837677, 0.43515634536743164, 0.9442883729934692, 0.9770912528038025, 0.8762511014938354, 0.10621225088834763, 0.9966794848442078, 0.9859521985054016, 0.9679535031318665, 0.9222763180732727, 0.9979705810546875, 0.9630641937255859, 0.9885368347167969, 0.8097222447395325, 0.8346395492553711, 0.16483476758003235, 0.9924230575561523, 0.9597458839416504, 0.9597458839416504, 0.9807974696159363, 0.9945465326309204, 0.9821730256080627, 0.9836379289627075, 0.9898274540901184, 0.9997029900550842, 0.9963895678520203, 0.9959073662757874, 0.9947938919067383, 0.9601417779922485, 0.9834476709365845, 0.9230996966362, 0.9833931922912598, 0.3164709210395813, 0.01933726854622364, 0.6635984778404236, 0.984703004360199, 0.9951042532920837, 0.9935332536697388, 0.9707773327827454, 0.943543553352356, 0.9694250822067261, 0.9897944331169128, 0.9982710480690002, 0.9847282767295837, 0.9790298938751221, 0.8805922269821167, 0.1140335276722908, 0.5222241878509521, 0.4689359962940216, 0.9556370377540588, 0.9914223551750183, 0.9365386962890625, 0.9808686971664429, 0.9895069599151611, 0.9884709715843201, 0.9735932946205139, 0.9742947816848755, 0.9967707395553589, 0.9474663138389587, 0.996738851070404, 0.9539850950241089, 0.957275927066803, 0.9883861541748047, 0.9986298084259033, 0.9837085008621216, 0.8274429440498352, 0.9733080863952637, 0.9907174110412598, 0.909103274345398, 0.30788928270339966, 0.6670934557914734, 0.2841956317424774, 0.6820695400238037, 0.9071555137634277, 0.9755610823631287, 0.8657228350639343, 0.1262512505054474, 0.8828306198120117, 0.9542049169540405, 0.9944572448730469, 0.09564215689897537, 0.09265333414077759, 0.8069806694984436, 0.9983559250831604, 0.9884554147720337, 0.9228612184524536, 0.9922268390655518, 0.9803450107574463, 0.9925348162651062, 0.9697644710540771, 0.9714060425758362, 0.9976634383201599, 0.9803480505943298, 0.9694892764091492, 0.9501569271087646, 0.9705488681793213, 0.9866542220115662, 0.9857051372528076, 0.9759824872016907, 0.9904406070709229, 0.9611445069313049, 0.038234829902648926, 0.9878414869308472, 0.9989206194877625, 0.21181289851665497, 0.7861517667770386, 0.9937969446182251, 0.994569718837738, 0.9131330847740173, 0.9941955804824829, 0.9338381886482239, 0.9875077605247498, 0.971201479434967, 0.9851875901222229, 0.9847831726074219, 0.9909483194351196, 0.9605622291564941, 0.9715664386749268, 0.9851462244987488, 0.9721412062644958, 0.9634199142456055, 0.9139782786369324, 0.8832396864891052, 0.10705935209989548, 0.9959083199501038, 0.999273955821991, 0.9387958645820618, 0.9936997294425964, 0.9823249578475952, 0.9741938710212708, 0.9856809377670288, 0.9490405917167664, 0.9925922751426697, 0.9568527936935425, 0.16219694912433624, 0.8234614133834839, 0.9753657579421997, 0.9904887676239014, 0.9804614782333374, 0.4799012541770935, 0.49835899472236633, 0.9838092923164368, 0.9693205952644348, 0.9932019114494324, 0.9821140766143799, 0.9966683387756348, 0.9933964014053345], \"Term\": [\"ab\", \"ability\", \"abs\", \"accept\", \"account\", \"account\", \"accounting\", \"accretable_yield\", \"accrue\", \"accrued_expens\", \"accumulated_oci\", \"act\", \"action\", \"activity\", \"actual\", \"actuarial\", \"add\", \"additional\", \"additional\", \"adjusted_spread\", \"adjustment\", \"adopt\", \"adoption\", \"adverse\", \"advisory\", \"afederal\", \"affiliate\", \"affordable_hous\", \"afs\", \"agency\", \"aggregate\", \"agreement\", \"allocate\", \"allocation\", \"allowance\", \"alm\", \"also\", \"alt\", \"amend\", \"america\", \"amortization\", \"amortize\", \"amount\", \"analysis\", \"annual\", \"applicable\", \"application\", \"approach\", \"appropriate\", \"approximately\", \"ashort\", \"aspart\", \"asset\", \"asset\", \"asset\", \"asset\", \"associate\", \"association_inc\", \"assume\", \"assumption\", \"august\", \"authorize\", \"average\", \"average\", \"back\", \"balance\", \"balance\", \"balance\", \"balancejanuary\", \"balancejuly\", \"bank\", \"banking\", \"base\", \"basis\", \"bearing\", \"become\", \"behalf\", \"believe\", \"benefit\", \"billion\", \"book\", \"borrow\", \"borrower\", \"borrowing\", \"brokerage\", \"business\", \"business\", \"business\", \"bylaw\", \"calculation\", \"calxbrl\", \"capital\", \"card\", \"card\", \"carry\", \"carrying\", \"case\", \"cash\", \"cause\", \"ccar\", \"cdo\", \"cdr\", \"certain\", \"certain\", \"certain\", \"certain\", \"certificate\", \"certification\", \"change\", \"change\", \"change\", \"chapter_bankruptcy\", \"characteristic\", \"characterize\", \"charge\", \"chief\", \"chief_executive\", \"class\", \"classification\", \"classify\", \"client\", \"collateral\", \"collateral\", \"collateral\", \"collateralized\", \"commercial\", \"commitment\", \"commodity\", \"common\", \"company\", \"compare\", \"compensation\", \"compliance\", \"comprehensive\", \"comprehensive\", \"computation\", \"concentration\", \"condition\", \"confidence\", \"connection\", \"consider\", \"consideration\", \"consolidate\", \"consolidated\", \"consumer\", \"contingency\", \"contingent_feature\", \"continue\", \"contract\", \"contractual\", \"contractually\", \"control\", \"core\", \"corporate\", \"corporation\", \"corporation\", \"corporation\", \"corporation\", \"corporation\", \"correlation\", \"cost\", \"could\", \"counter\", \"counterpartie\", \"counterparty\", \"country\", \"cpr\", \"credit\", \"credit\", \"criterion\", \"cumulative\", \"currency\", \"currency_translation\", \"current\", \"currently\", \"curve\", \"customer\", \"customer\", \"cva\", \"daily\", \"daily\", \"date\", \"dated_inflation\", \"datefile\", \"day\", \"debit\", \"debt\", \"december\", \"decrease\", \"decrease\", \"default\", \"defendant\", \"define\", \"definition\", \"defxbrl\", \"deposit\", \"deposit\", \"derivative\", \"derivative\", \"describe\", \"determine\", \"difficulty\", \"diluted\", \"direct_indirect\", \"discharge\", \"disclose\", \"disclosure\", \"discount\", \"discussion\", \"disposal\", \"distribute\", \"divide\", \"dividend\", \"document\", \"documentation\", \"dollar\", \"drive\", \"drive\", \"due\", \"due\", \"duration\", \"earn\", \"earning\", \"effect\", \"effective\", \"effectively\", \"election\", \"eligible\", \"elimination\", \"embed\", \"employee\", \"end\", \"enter\", \"entity\", \"environment\", \"equal\", \"equipment\", \"equity\", \"equity\", \"estate\", \"estimate\", \"event\", \"example\", \"exceed\", \"excess\", \"exchange\", \"exchange\", \"exclude\", \"exclude\", \"exempt\", \"exercise\", \"exhibit\", \"exist\", \"expect\", \"expense\", \"experience\", \"expire\", \"exposure\", \"extension\", \"facility\", \"factor\", \"fail\", \"fair\", \"federal\", \"federal\", \"federal\", \"fee\", \"fenner_smith\", \"file\", \"finance\", \"financial\", \"financial\", \"financing\", \"first_lien\", \"fix\", \"flow\", \"flowyield\", \"follow\", \"follow\", \"forecast\", \"foreclosed_propertie\", \"foreign\", \"foreign\", \"foreigncurrency\", \"form\", \"forward\", \"forwards_written\", \"framework\", \"fte\", \"full\", \"fully\", \"fully_insur\", \"fully_insured\", \"fund\", \"fund\", \"funding\", \"fva\", \"gaap\", \"gain\", \"generally\", \"generally\", \"give\", \"global\", \"goodwill\", \"government_sponsored\", \"grade\", \"grants_concession\", \"great\", \"greater\", \"gross\", \"group\", \"guarantee\", \"guidance\", \"gwim\", \"hedge\", \"heloc\", \"herein\", \"hereof\", \"hierarchy\", \"hierarchy_classification\", \"high\", \"historical\", \"hold\", \"home\", \"impact\", \"impact\", \"impair\", \"impaired\", \"incentive\", \"include\", \"include\", \"include\", \"include\", \"include\", \"include\", \"include\", \"income\", \"incorporate\", \"incorporation\", \"increase\", \"incremental_notch\", \"index\", \"individually\", \"industry\", \"information\", \"input\", \"inputsweighted_averageloan\", \"instance\", \"instantaneous\", \"instrument\", \"insurance\", \"insxbrl\", \"intangible\", \"intercompany\", \"interest\", \"interest\", \"internal\", \"inventory\", \"invest\", \"investing\", \"investment\", \"investment\", \"investor\", \"involve\", \"isda\", \"issuance\", \"issue\", \"issue\", \"issuer\", \"item\", \"item\", \"january\", \"joint_venture\", \"june\", \"key\", \"label\", \"labxbrl\", \"large\", \"lease\", \"legal\", \"legally_bind\", \"legally_enforceable\", \"lend\", \"lender\", \"lending\", \"lending\", \"lending\", \"less\", \"letter\", \"level\", \"leverage\", \"liability\", \"life\", \"limit\", \"line\", \"link\", \"linkbase_document\", \"liquid\", \"liquidate\", \"liquidity\", \"litigation\", \"loan\", \"loaned\", \"lock\", \"long\", \"loss\", \"loss\", \"low\", \"low\", \"ltv\", \"lynch\", \"lynch_pierce\", \"majority\", \"make\", \"manage\", \"management\", \"management\", \"management\", \"manner\", \"march\", \"margin\", \"market\", \"market\", \"market\", \"master_nett\", \"match\", \"material\", \"matter\", \"maturity\", \"maximum\", \"may\", \"may\", \"may\", \"may\", \"mb\", \"measure\", \"measurement\", \"meet\", \"merchant\", \"method\", \"metric\", \"million\", \"million\", \"mmbtu\", \"model\", \"modelyield\", \"modification\", \"modify\", \"month\", \"month\", \"month\", \"mortgage\", \"msr\", \"msrs\", \"name\", \"national\", \"net\", \"net\", \"new\", \"non\", \"non\", \"nonaccretable_difference\", \"noninter\", \"nonperform\", \"nonrecurr\", \"normal_course\", \"note\", \"notional\", \"number\", \"oas_level\", \"objection\", \"obligation\", \"obligation\", \"obligation\", \"obtain\", \"occur\", \"oci\", \"october\", \"off\", \"offer\", \"offering\", \"office\", \"officer\", \"officer_pursuant\", \"offset\", \"operate\", \"operating\", \"operation\", \"option\", \"organization\", \"originally_classifi\", \"originate\", \"origination\", \"origination\", \"otti\", \"outcome\", \"outpace\", \"outstanding\", \"own\", \"page\", \"paper\", \"parent_company\", \"part\", \"partner\", \"partnership\", \"party\", \"pay\", \"paydown\", \"payment\", \"payment\", \"pci\", \"pend\", \"percent\", \"percentage\", \"perform\", \"period\", \"personnel\", \"place\", \"plan\", \"plan\", \"planning\", \"pledge\", \"points_point\", \"policy\", \"portfolio\", \"position\", \"possible\", \"post\", \"post_modification\", \"potential\", \"pre\", \"pre_modification\", \"predominantly\", \"prefer\", \"preferred\", \"premise\", \"prepayment\", \"prepayment_spe\", \"prepayment_speed\", \"present\", \"presentation\", \"pretax\", \"prexbrl\", \"price\", \"price_observability\", \"pricing\", \"primarily\", \"primarily\", \"primary\", \"prime\", \"principal\", \"principle\", \"prior\", \"prior\", \"probable\", \"proceed\", \"process\", \"product\", \"profit\", \"program\", \"project\", \"properly_reflect\", \"protection\", \"protection\", \"provide\", \"provide\", \"provider\", \"provision\", \"provision\", \"purchase\", \"purchaser\", \"pursuant\", \"qualify\", \"quality\", \"quality_indicator\", \"quantitative\", \"quarter\", \"quarterly\", \"range\", \"rate\", \"rate\", \"rating\", \"ratio\", \"real\", \"realize\", \"receivables\", \"receive\", \"reclassify\", \"recognition\", \"recognize\", \"reconciliation\", \"record\", \"recourse\", \"recovery\", \"refer\", \"reference\", \"reflect\", \"refreshed_fico\", \"refreshed_ltv\", \"regard\", \"regular\", \"regulatory\", \"relate\", \"related\", \"related\", \"relation\", \"remain\", \"repayment\", \"report\", \"represent\", \"repurchase\", \"require\", \"requirement\", \"resale\", \"resell\", \"reserve\", \"residential\", \"resolution\", \"restate\", \"restrict\", \"restricted\", \"restructure\", \"restructuring\", \"result\", \"result\", \"result\", \"result\", \"retail\", \"retain\", \"return\", \"return\", \"revenue\", \"review\", \"right\", \"rise\", \"risk\", \"risky\", \"rudolf_bless\", \"run\", \"sale\", \"sale\", \"sarbanes_oxley\", \"schema\", \"schxbrl\", \"score\", \"section\", \"secure\", \"securitiz\", \"securitization\", \"security\", \"see\", \"segment\", \"sell\", \"seller\", \"senior\", \"separate\", \"sept\", \"september\", \"september\", \"september\", \"series\", \"service\", \"service_charge\", \"servicing\", \"settle\", \"settlement\", \"severity\", \"share\", \"shareholder\", \"sharespurchas\", \"sheet\", \"sheet\", \"short\", \"short\", \"show\", \"significant\", \"significantly\", \"small\", \"sovereign\", \"specific\", \"specify\", \"sponsor\", \"standard\", \"standby_letter\", \"statement\", \"status\", \"statutory\", \"still\", \"stock\", \"structure\", \"structured\", \"subordinate\", \"subprime\", \"subsequent\", \"subsidiary\", \"subsidiary\", \"substantially\", \"substantially\", \"substitute\", \"summarize\", \"summary\", \"summary\", \"supplement\", \"support\", \"swap\", \"table\", \"table\", \"table\", \"tax\", \"taxable\", \"taxable_equivalent\", \"taxonomy_extension\", \"tdr\", \"tdrs\", \"technique\", \"temporarily_impaired\", \"term\", \"terminate\", \"termination\", \"therefore\", \"thereto\", \"third_party\", \"thousand\", \"tier\", \"time\", \"total\", \"total\", \"trade\", \"trading\", \"transaction\", \"transaction\", \"transfer\", \"treasury\", \"trial\", \"trust\", \"truststhe\", \"type\", \"typically\", \"unconsolidated\", \"underwriting\", \"unfunded\", \"united_state\", \"unpaid_principal\", \"unrealized\", \"unregister\", \"upfront\", \"upon_downgrade\", \"use\", \"use\", \"valuation\", \"value\", \"valueasset\", \"var\", \"variable\", \"variety\", \"various\", \"vary\", \"vie\", \"view\", \"volatility\", \"volatility\", \"warrant\", \"wealth\", \"weight\", \"well\", \"well\", \"whole\", \"whose\", \"would\", \"write\", \"year\", \"yield\"]}, \"R\": 30, \"lambda.step\": 0.01, \"plot.opts\": {\"xlab\": \"PC1\", \"ylab\": \"PC2\"}, \"topic.order\": [15, 1, 8, 19, 10, 16, 11, 6, 9, 12, 14, 13, 20, 18, 4, 17, 3, 5, 2, 7]};\n",
       "\n",
       "function LDAvis_load_lib(url, callback){\n",
       "  var s = document.createElement('script');\n",
       "  s.src = url;\n",
       "  s.async = true;\n",
       "  s.onreadystatechange = s.onload = callback;\n",
       "  s.onerror = function(){console.warn(\"failed to load library \" + url);};\n",
       "  document.getElementsByTagName(\"head\")[0].appendChild(s);\n",
       "}\n",
       "\n",
       "if(typeof(LDAvis) !== \"undefined\"){\n",
       "   // already loaded: just create the visualization\n",
       "   !function(LDAvis){\n",
       "       new LDAvis(\"#\" + \"ldavis_el3211400668098016084641335937\", ldavis_el3211400668098016084641335937_data);\n",
       "   }(LDAvis);\n",
       "}else if(typeof define === \"function\" && define.amd){\n",
       "   // require.js is available: use it to load d3/LDAvis\n",
       "   require.config({paths: {d3: \"https://cdnjs.cloudflare.com/ajax/libs/d3/3.5.5/d3.min\"}});\n",
       "   require([\"d3\"], function(d3){\n",
       "      window.d3 = d3;\n",
       "      LDAvis_load_lib(\"https://cdn.rawgit.com/bmabey/pyLDAvis/files/ldavis.v1.0.0.js\", function(){\n",
       "        new LDAvis(\"#\" + \"ldavis_el3211400668098016084641335937\", ldavis_el3211400668098016084641335937_data);\n",
       "      });\n",
       "    });\n",
       "}else{\n",
       "    // require.js not available: dynamically load d3 & LDAvis\n",
       "    LDAvis_load_lib(\"https://cdnjs.cloudflare.com/ajax/libs/d3/3.5.5/d3.min.js\", function(){\n",
       "         LDAvis_load_lib(\"https://cdn.rawgit.com/bmabey/pyLDAvis/files/ldavis.v1.0.0.js\", function(){\n",
       "                 new LDAvis(\"#\" + \"ldavis_el3211400668098016084641335937\", ldavis_el3211400668098016084641335937_data);\n",
       "            })\n",
       "         });\n",
       "}\n",
       "</script>"
      ],
      "text/plain": [
       "PreparedData(topic_coordinates=              x         y  topics  cluster       Freq\n",
       "topic                                                \n",
       "14     0.119093  0.019496       1        1  11.156632\n",
       "0      0.109529  0.218726       2        1  10.575933\n",
       "7      0.179698  0.196786       3        1   8.554327\n",
       "18     0.044367 -0.029083       4        1   6.867244\n",
       "9      0.188044 -0.237135       5        1   6.600276\n",
       "15     0.155318  0.024252       6        1   6.219736\n",
       "10     0.027469  0.198107       7        1   5.721696\n",
       "5      0.119749 -0.272248       8        1   4.819203\n",
       "8      0.122262  0.057457       9        1   4.464562\n",
       "11     0.026263  0.051369      10        1   4.331677\n",
       "13    -0.242742  0.004661      11        1   4.229391\n",
       "12    -0.227990  0.012999      12        1   3.989045\n",
       "19    -0.038523  0.060354      13        1   3.665411\n",
       "17    -0.196010  0.019254      14        1   3.406272\n",
       "3     -0.046734 -0.028733      15        1   3.065803\n",
       "16    -0.192999 -0.017852      16        1   2.978747\n",
       "2     -0.117050 -0.026255      17        1   2.628211\n",
       "4     -0.015555 -0.080282      18        1   2.351120\n",
       "1     -0.020229 -0.052637      19        1   2.259166\n",
       "6      0.006041 -0.119237      20        1   2.115545, topic_info=     Category         Freq                        Term        Total  loglift  \\\n",
       "term                                                                           \n",
       "128   Default  2564.000000                        loan  2564.000000  30.0000   \n",
       "24    Default  2120.000000                   september  2120.000000  29.0000   \n",
       "6     Default  1339.000000                         end  1339.000000  28.0000   \n",
       "389   Default  1516.000000                       total  1516.000000  27.0000   \n",
       "121   Default  1377.000000                      income  1377.000000  26.0000   \n",
       "66    Default  1349.000000                    security  1349.000000  25.0000   \n",
       "89    Default  1495.000000                 corporation  1495.000000  24.0000   \n",
       "129   Default  1081.000000                        loss  1081.000000  23.0000   \n",
       "109   Default  1270.000000                      credit  1270.000000  22.0000   \n",
       "338   Default  1178.000000                         net  1178.000000  21.0000   \n",
       "146   Default   993.000000                       value   993.000000  20.0000   \n",
       "2     Default   592.000000                        bank   592.000000  19.0000   \n",
       "1     Default   585.000000                     america   585.000000  18.0000   \n",
       "54    Default  1360.000000                       month  1360.000000  17.0000   \n",
       "333   Default   644.000000                   liability   644.000000  16.0000   \n",
       "180   Default   613.000000                        rate   613.000000  15.0000   \n",
       "125   Default   743.000000                    interest   743.000000  14.0000   \n",
       "100   Default  1292.000000                       asset  1292.000000  13.0000   \n",
       "152   Default   790.000000                  commercial   790.000000  12.0000   \n",
       "79    Default   661.000000                   financial   661.000000  11.0000   \n",
       "482   Default   626.000000                    december   626.000000  10.0000   \n",
       "92    Default   601.000000                       share   601.000000   9.0000   \n",
       "127   Default   592.000000                       lease   592.000000   8.0000   \n",
       "171   Default   469.000000                        risk   469.000000   7.0000   \n",
       "522   Default   411.000000                       basis   411.000000   6.0000   \n",
       "296   Default   713.000000                        debt   713.000000   5.0000   \n",
       "114   Default   703.000000                        fair   703.000000   4.0000   \n",
       "122   Default   474.000000                 information   474.000000   3.0000   \n",
       "178   Default   648.000000                    mortgage   648.000000   2.0000   \n",
       "445   Default   371.000000                     percent   371.000000   1.0000   \n",
       "...       ...          ...                         ...          ...      ...   \n",
       "1901  Topic20    78.312576                  unrealized    79.176064   3.8449   \n",
       "80    Topic20    45.883850                         new    46.747341   3.8372   \n",
       "2202  Topic20    37.818916                       mmbtu    38.682407   3.8333   \n",
       "2191  Topic20    31.521715             adjusted_spread    32.385204   3.8288   \n",
       "1703  Topic20    31.372099                  prepayment    32.235588   3.8287   \n",
       "52    Topic20    29.672777                       large    30.536266   3.8272   \n",
       "2195  Topic20    29.422646                         cpr    30.286135   3.8269   \n",
       "740   Topic20    25.232378                     primary    26.095867   3.8222   \n",
       "2193  Topic20    25.224510                         cdr    26.087999   3.8222   \n",
       "2204  Topic20    25.224510                points_point    26.087999   3.8222   \n",
       "2196  Topic20    25.224510             dated_inflation    26.087999   3.8222   \n",
       "1044  Topic20    22.946598                        give    23.810087   3.8189   \n",
       "467   Topic20    22.068823                       class    22.932312   3.8175   \n",
       "416   Topic20    21.700926                        gwim    22.564415   3.8168   \n",
       "1912  Topic20    20.754660        temporarily_impaired    21.618149   3.8151   \n",
       "2198  Topic20    18.927311                   flowyield    19.790800   3.8112   \n",
       "721   Topic20    18.800430                       match    19.663921   3.8110   \n",
       "1573  Topic20    15.234994                     partner    16.098484   3.8007   \n",
       "720   Topic20    15.056349                      exceed    15.919839   3.8001   \n",
       "1836  Topic20    13.794702             association_inc    14.658192   3.7951   \n",
       "998   Topic20    13.289935                       exist    14.153425   3.7929   \n",
       "2225  Topic20    12.888676                   oas_level    13.752166   3.7910   \n",
       "2201  Topic20    12.630107  inputsweighted_averageloan    13.493597   3.7897   \n",
       "2181  Topic20    12.630107                 balancejuly    13.493597   3.7897   \n",
       "2207  Topic20    12.630107                     upfront    13.493597   3.7897   \n",
       "2203  Topic20    12.630107                  modelyield    13.493597   3.7897   \n",
       "828   Topic20    36.450020               substantially    52.780544   3.4857   \n",
       "2205  Topic20    12.630107              prepayment_spe    13.493597   3.7897   \n",
       "2190  Topic20    12.630107              balancejanuary    13.493597   3.7897   \n",
       "193   Topic20    62.592316                        sale   382.200928   2.0466   \n",
       "\n",
       "      logprob  \n",
       "term           \n",
       "128   30.0000  \n",
       "24    29.0000  \n",
       "6     28.0000  \n",
       "389   27.0000  \n",
       "121   26.0000  \n",
       "66    25.0000  \n",
       "89    24.0000  \n",
       "129   23.0000  \n",
       "109   22.0000  \n",
       "338   21.0000  \n",
       "146   20.0000  \n",
       "2     19.0000  \n",
       "1     18.0000  \n",
       "54    17.0000  \n",
       "333   16.0000  \n",
       "180   15.0000  \n",
       "125   14.0000  \n",
       "100   13.0000  \n",
       "152   12.0000  \n",
       "79    11.0000  \n",
       "482   10.0000  \n",
       "92     9.0000  \n",
       "127    8.0000  \n",
       "171    7.0000  \n",
       "522    6.0000  \n",
       "296    5.0000  \n",
       "114    4.0000  \n",
       "122    3.0000  \n",
       "178    2.0000  \n",
       "445    1.0000  \n",
       "...       ...  \n",
       "1901  -3.2816  \n",
       "80    -3.8162  \n",
       "2202  -4.0095  \n",
       "2191  -4.1916  \n",
       "1703  -4.1964  \n",
       "52    -4.2520  \n",
       "2195  -4.2605  \n",
       "740   -4.4142  \n",
       "2193  -4.4145  \n",
       "2204  -4.4145  \n",
       "2196  -4.4145  \n",
       "1044  -4.5091  \n",
       "467   -4.5481  \n",
       "416   -4.5649  \n",
       "1912  -4.6095  \n",
       "2198  -4.7017  \n",
       "721   -4.7084  \n",
       "1573  -4.9187  \n",
       "720   -4.9305  \n",
       "1836  -5.0180  \n",
       "998   -5.0553  \n",
       "2225  -5.0859  \n",
       "2201  -5.1062  \n",
       "2181  -5.1062  \n",
       "2207  -5.1062  \n",
       "2203  -5.1062  \n",
       "828   -4.0463  \n",
       "2205  -5.1062  \n",
       "2190  -5.1062  \n",
       "193   -3.5056  \n",
       "\n",
       "[769 rows x 6 columns], token_table=      Topic      Freq              Term\n",
       "term                                   \n",
       "1992     11  0.930456                ab\n",
       "266      12  0.963106           ability\n",
       "1923     20  0.991351               abs\n",
       "497      11  0.949045            accept\n",
       "509       1  0.949780           account\n",
       "509       4  0.048492           account\n",
       "74       10  0.994976        accounting\n",
       "1983      8  0.969933  accretable_yield\n",
       "1221      2  0.988805            accrue\n",
       "510       4  0.988505    accrued_expens\n",
       "1670      3  0.985323   accumulated_oci\n",
       "0        17  0.991845               act\n",
       "269       9  0.961245            action\n",
       "422      18  0.995847          activity\n",
       "251      18  0.986904            actual\n",
       "2161      3  0.885350         actuarial\n",
       "1509      7  0.949174               add\n",
       "270      11  0.739031        additional\n",
       "270      12  0.256523        additional\n",
       "2191     20  0.988106   adjusted_spread\n",
       "619       7  0.997850        adjustment\n",
       "1767     17  0.992411             adopt\n",
       "1725     12  0.972849          adoption\n",
       "271      12  0.966126           adverse\n",
       "533       4  0.994751          advisory\n",
       "2056      8  0.940357          afederal\n",
       "410      16  0.839355         affiliate\n",
       "2039      3  0.948967   affordable_hous\n",
       "1671      9  0.992556               afs\n",
       "1126     20  0.996347            agency\n",
       "...     ...       ...               ...\n",
       "765      16  0.971566  unpaid_principal\n",
       "1901     20  0.985146        unrealized\n",
       "2314     11  0.972141        unregister\n",
       "2207     20  0.963420           upfront\n",
       "1894     16  0.913978    upon_downgrade\n",
       "405      14  0.883240               use\n",
       "405      16  0.107059               use\n",
       "546      18  0.995908         valuation\n",
       "146       1  0.999274             value\n",
       "2175     16  0.938796        valueasset\n",
       "1511     11  0.993700               var\n",
       "147      10  0.982325          variable\n",
       "1507     14  0.974194           variety\n",
       "421      12  0.985681           various\n",
       "1152     18  0.949041              vary\n",
       "1159     10  0.992592               vie\n",
       "603      19  0.956853              view\n",
       "1598      9  0.162197        volatility\n",
       "1598     18  0.823461        volatility\n",
       "922       1  0.975366           warrant\n",
       "173      13  0.990489            wealth\n",
       "936      17  0.980461            weight\n",
       "265       2  0.479901              well\n",
       "265      10  0.498359              well\n",
       "1283     15  0.983809             whole\n",
       "1466     13  0.969321             whose\n",
       "241      15  0.993202             would\n",
       "674       1  0.982114             write\n",
       "73       15  0.996668              year\n",
       "525       4  0.993396             yield\n",
       "\n",
       "[772 rows x 3 columns], R=30, lambda_step=0.01, plot_opts={'xlab': 'PC1', 'ylab': 'PC2'}, topic_order=[15, 1, 8, 19, 10, 16, 11, 6, 9, 12, 14, 13, 20, 18, 4, 17, 3, 5, 2, 7])"
      ]
     },
     "execution_count": 25,
     "metadata": {
      "tags": []
     },
     "output_type": "execute_result"
    }
   ],
   "source": [
    "# Visualize the topics\n",
    "pyLDAvis.enable_notebook()\n",
    "vis = pyLDAvis.gensim.prepare(lda_model, corpus, id2word)\n",
    "vis"
   ]
  },
  {
   "cell_type": "markdown",
   "metadata": {
    "colab_type": "text",
    "id": "okDOwErPMlCz"
   },
   "source": [
    "The next step is really how to present this information in a end-user friendly way in a web page. I have a site and web pages where this information can seamlessly be integrated, but the challenge is to draw out a single word or two that can properly summarize the topic or core theme of a document and not show this set of 20 (or any N) individual words. Is there a pre-trained Deep NN available that can depict topic if a group of words is fed to it? How else can we group these words to have a much smaller phrase as a topic?\n",
    "\n"
   ]
  }
 ],
 "metadata": {
  "accelerator": "TPU",
  "colab": {
   "collapsed_sections": [],
   "name": "NLP_TopicModeling.ipynb",
   "provenance": [],
   "version": "0.3.2"
  },
  "kernelspec": {
   "display_name": "Python 3",
   "language": "python",
   "name": "python3"
  }
 },
 "nbformat": 4,
 "nbformat_minor": 1
}
