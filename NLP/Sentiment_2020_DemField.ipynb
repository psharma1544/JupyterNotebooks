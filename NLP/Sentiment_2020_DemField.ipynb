{
 "cells": [
  {
   "cell_type": "markdown",
   "metadata": {
    "colab_type": "text",
    "id": "IINEy2AJkziB"
   },
   "source": [
    "# Sentiment Analysis of 2020 Democratic Field"
   ]
  },
  {
   "cell_type": "markdown",
   "metadata": {
    "colab_type": "text",
    "id": "n8Lqss6_r2ls"
   },
   "source": [
    "** Work-in-progress!!! **\n",
    "\n",
    "This notebook takes an early look into how the 2020 Democratic field is faring. Majority of primary candidates have announced their candidature and are jostling for making early in-roads for broader name recognition and gaining momentum initialy to last deep into debate time and eventually to become the candidate. This notebook will rely on articles published on Politico.com and run sentiment analysis against the names of these candidates. \n",
    "\n",
    "As far as scope is concerned, the basic framework is there for sentiment analysis for any given day. Work is pending to extend that analysis to be in a time-series where we can analyze ebb and flow across weeks and months. Check the full listing of further enhancements and limitations at the bottom of the page."
   ]
  },
  {
   "cell_type": "markdown",
   "metadata": {
    "colab_type": "text",
    "id": "ikhQ09bUr4-z"
   },
   "source": [
    "## Setup"
   ]
  },
  {
   "cell_type": "code",
   "execution_count": 1,
   "metadata": {
    "colab": {
     "base_uri": "https://localhost:8080/",
     "height": 33
    },
    "colab_type": "code",
    "id": "FJDDK3AUmJZ1",
    "outputId": "79b4d238-af2a-484c-d3b6-0c23743dbcb0"
   },
   "outputs": [
    {
     "name": "stderr",
     "output_type": "stream",
     "text": [
      "paramiko missing, opening SSH/SCP/SFTP paths will be disabled.  `pip install paramiko` to suppress\n"
     ]
    }
   ],
   "source": [
    "import nltk\n",
    "import pickle\n",
    "import gensim\n",
    "import pandas as pd\n",
    "import requests\n",
    "import string\n",
    "import datetime\n",
    "\n",
    "from nltk.tokenize import sent_tokenize, word_tokenize\n",
    "from nltk.corpus import stopwords\n",
    "from nltk.tag import StanfordNERTagger\n",
    "from nltk.tokenize import word_tokenize\n",
    "from nltk import word_tokenize, sent_tokenize\n",
    "from nltk.stem.porter import *\n",
    "from gensim.models.word2vec import Word2Vec\n",
    "from gensim.models.phrases import Phraser, Phrases\n",
    "from gensim import corpora\n",
    "from sklearn.manifold import TSNE\n",
    "from bs4 import BeautifulSoup\n",
    "\n",
    "%matplotlib inline"
   ]
  },
  {
   "cell_type": "code",
   "execution_count": 2,
   "metadata": {
    "colab": {
     "base_uri": "https://localhost:8080/",
     "height": 201
    },
    "colab_type": "code",
    "id": "9D9W4WKzmQy3",
    "outputId": "18a511d4-cd99-474c-ce07-bb769a630a0b"
   },
   "outputs": [
    {
     "name": "stdout",
     "output_type": "stream",
     "text": [
      "[nltk_data] Downloading package punkt to /root/nltk_data...\n",
      "[nltk_data]   Package punkt is already up-to-date!\n",
      "[nltk_data] Downloading package stopwords to /root/nltk_data...\n",
      "[nltk_data]   Package stopwords is already up-to-date!\n",
      "[nltk_data] Downloading package averaged_perceptron_tagger to\n",
      "[nltk_data]     /root/nltk_data...\n",
      "[nltk_data]   Package averaged_perceptron_tagger is already up-to-\n",
      "[nltk_data]       date!\n",
      "[nltk_data] Downloading package wordnet to /root/nltk_data...\n",
      "[nltk_data]   Package wordnet is already up-to-date!\n"
     ]
    },
    {
     "data": {
      "text/plain": [
       "True"
      ]
     },
     "execution_count": 2,
     "metadata": {
      "tags": []
     },
     "output_type": "execute_result"
    }
   ],
   "source": [
    "nltk.download('punkt')\n",
    "nltk.download('stopwords')\n",
    "nltk.download('averaged_perceptron_tagger')\n",
    "nltk.download('wordnet')"
   ]
  },
  {
   "cell_type": "markdown",
   "metadata": {
    "colab_type": "text",
    "id": "KWoTAuVOqPDa"
   },
   "source": [
    "## Retrieve URLs for News Articles"
   ]
  },
  {
   "cell_type": "code",
   "execution_count": 3,
   "metadata": {
    "colab": {
     "base_uri": "https://localhost:8080/",
     "height": 33
    },
    "colab_type": "code",
    "id": "BvlptwyvqVJd",
    "outputId": "68791b1b-0ac4-46b7-b5a8-6ab0922cfcac"
   },
   "outputs": [
    {
     "data": {
      "text/plain": [
       "57"
      ]
     },
     "execution_count": 3,
     "metadata": {
      "tags": []
     },
     "output_type": "execute_result"
    }
   ],
   "source": [
    "baseUrl1 = \"https://www.politico.com/story\" # Supposedly contains all Politico stories. Need to test and confirm\n",
    "baseUrl2 = \"https://www.politico.com/news/2020-elections\" # Focused on 2020 elections and therefore our base target URL but doesn't have ALL 2020 published stories \n",
    "#urlWapo = \"https://www.washingtonpost.com/politics/\"\n",
    "\n",
    "baseUrls = []\n",
    "baseUrls.append(baseUrl1)\n",
    "baseUrls.append(baseUrl2)\n",
    "#baseUrls.append(urlFoxN)\n",
    "#baseUrls.append(urlWapo)\n",
    "\n",
    "urls = []\n",
    "divs = []\n",
    "for baseUrl in baseUrls:\n",
    "  basePage = requests.get(baseUrl).text\n",
    "  soup = BeautifulSoup(basePage, \"lxml\")  \n",
    "  divs = soup.findAll(\"div\", {\"class\": \"summary\"})\n",
    "  for div in divs:\n",
    "    p = div.find('a')['href']\n",
    "    if (p not in urls):\n",
    "      urls.append(p)\n",
    "      \n",
    "      \n",
    "len(urls)"
   ]
  },
  {
   "cell_type": "code",
   "execution_count": 4,
   "metadata": {
    "colab": {
     "base_uri": "https://localhost:8080/",
     "height": 33
    },
    "colab_type": "code",
    "id": "90DMbDaGwA_P",
    "outputId": "3baa4b77-8956-40f2-b001-0243ab1565ae"
   },
   "outputs": [
    {
     "data": {
      "text/plain": [
       "57"
      ]
     },
     "execution_count": 4,
     "metadata": {
      "tags": []
     },
     "output_type": "execute_result"
    }
   ],
   "source": [
    "page = ''\n",
    "tagsList = []\n",
    "tagTypes = ['p']\n",
    "for url in urls: \n",
    "  page = requests.get(url).text \n",
    "  newssoup = BeautifulSoup(page, \"lxml\")  \n",
    "  tagsList.append(newssoup.find_all(tagTypes))\n",
    "  \n",
    "  \n",
    "len(tagsList)"
   ]
  },
  {
   "cell_type": "code",
   "execution_count": 0,
   "metadata": {
    "colab": {},
    "colab_type": "code",
    "id": "H6aNt5Mj1umq"
   },
   "outputs": [],
   "source": [
    "origTxt = ''\n",
    "for tagsSinglePage in tagsList:\n",
    "  for tag in tagsSinglePage:\n",
    "    origTxt += tag.text\n",
    "#origTxt"
   ]
  },
  {
   "cell_type": "markdown",
   "metadata": {
    "colab_type": "text",
    "id": "8447O-VY7qSO"
   },
   "source": [
    "# Input Cleanup"
   ]
  },
  {
   "cell_type": "markdown",
   "metadata": {
    "colab_type": "text",
    "id": "JYeKpP9RhEW4"
   },
   "source": [
    "## Steps\n",
    "\n",
    "1. Tokenize at sentence level.\n",
    "2. Clean the sentences removing stop words and punctuations\n",
    "3. Manually create list of candidates.\n",
    "4. Purge sentences that don't have reference to any candidate name.\n",
    "\n",
    "\n",
    "The term 'candidate' is somewhat loose here. It includes genuine candidates who have offocially launched their 2020 candidates, but also those who have only launched an exploratory committee but not offically launched their candidacy just yet."
   ]
  },
  {
   "cell_type": "code",
   "execution_count": 6,
   "metadata": {
    "colab": {
     "base_uri": "https://localhost:8080/",
     "height": 120
    },
    "colab_type": "code",
    "id": "jEs4VhwS9J5y",
    "outputId": "8db1ca4f-bb92-4b2e-c2d6-63f3137ab96e"
   },
   "outputs": [
    {
     "data": {
      "text/plain": [
       "['\\n                House Financial Services Committee Chairwoman Maxine Waters said in a statement that the potential use of the U.S. financial system for illicit purposes was a “very serious concern.\"',\n",
       " '| Zach Gibson/Getty Images\\nFinancial Services\\n                    By ZACHARY WARMBRODT and JOHN BRESNAHAN04/15/2019 08:20 PM EDTHouse Democrats on Monday issued a subpoena to the German lender Deutsche Bank seeking information on President Donald Trump’s finances, a major escalation of their investigation into his business dealings.In addition to the Deutsche Bank subpoena, House Democrats subpoenaed other banks — including JPMorgan Chase, Bank of America and Citigroup — seeking information on Russian money laundering.',\n",
       " 'The issuance of the subpoenas was first reported by The New York Times.Story Continued BelowDemocrats were expected to issue additional subpoenas targeting Trump’s finances soon, Democratic aides said.',\n",
       " 'The House Intelligence and Financial Services Committees are ratcheting up their coordinated investigations into Trump’s business dealings as the Justice Department prepares to release findings from special counsel Robert Mueller’s probe on Thursday.“As part of our oversight authority and authorized investigation into allegations of potential foreign influence on the U.S. political process, the House Intelligence Committee today issued subpoenas to multiple financial institutions in coordination with the House Financial Services Committee, including a friendly subpoena to Deutsche Bank, which has been cooperative with the Committees,” said Rep. Adam Schiff (D-Calif.), the House Intelligence chairman.',\n",
       " '“We look forward to their continued cooperation and compliance.”Sign up for our tax policy newsletter and stay informed — weekday mornings, in your inbox.By signing up you agree to receive email newsletters or alerts from POLITICO.']"
      ]
     },
     "execution_count": 6,
     "metadata": {
      "tags": []
     },
     "output_type": "execute_result"
    }
   ],
   "source": [
    "from nltk.tokenize import PunktSentenceTokenizer\n",
    "sents_tokenized = sent_tokenize(origTxt)\n",
    "sents_tokenized[:5]"
   ]
  },
  {
   "cell_type": "code",
   "execution_count": 7,
   "metadata": {
    "colab": {
     "base_uri": "https://localhost:8080/",
     "height": 184
    },
    "colab_type": "code",
    "id": "ANS2lWbqhM-L",
    "outputId": "12b5efe6-27dd-41a7-ec36-61a72a5911c4"
   },
   "outputs": [
    {
     "name": "stdout",
     "output_type": "stream",
     "text": [
      "you're\n",
      "myself\n",
      "were\n",
      "no\n",
      "been\n",
      "#\n",
      "each\n",
      "too\n",
      "she's\n",
      "aren't\n"
     ]
    }
   ],
   "source": [
    "import itertools\n",
    "stopWords = set(stopwords.words('english') + list(string.punctuation))\n",
    "for i, val in enumerate(itertools.islice(stopWords, 10)): # print sample from stopWords to ensure the set is populated\n",
    "  print(val)"
   ]
  },
  {
   "cell_type": "markdown",
   "metadata": {
    "colab_type": "text",
    "id": "7aC-B_mzhTXJ"
   },
   "source": [
    "Now, generate sentences after stopwords have been removed and list them at the end."
   ]
  },
  {
   "cell_type": "code",
   "execution_count": 8,
   "metadata": {
    "colab": {
     "base_uri": "https://localhost:8080/",
     "height": 120
    },
    "colab_type": "code",
    "id": "0X-sij4A9XEh",
    "outputId": "1f152ea3-087c-4d5f-c1f8-9f217a2b947b"
   },
   "outputs": [
    {
     "data": {
      "text/plain": [
       "[\"House Financial Services Committee Chairwoman Maxine Waters said in a statement that the potential use of the U.S. financial system for illicit purposes was a “ very serious concern ''\",\n",
       " 'Zach Gibson/Getty Images Financial Services By ZACHARY WARMBRODT and JOHN BRESNAHAN04/15/2019 08:20 PM EDTHouse Democrats on Monday issued a subpoena to the German lender Deutsche Bank seeking information on President Donald Trump ’ s finances a major escalation of their investigation into his business dealings.In addition to the Deutsche Bank subpoena House Democrats subpoenaed other banks — including JPMorgan Chase Bank of America and Citigroup — seeking information on Russian money laundering',\n",
       " 'The issuance of the subpoenas was first reported by The New York Times.Story Continued BelowDemocrats were expected to issue additional subpoenas targeting Trump ’ s finances soon Democratic aides said',\n",
       " 'The House Intelligence and Financial Services Committees are ratcheting up their coordinated investigations into Trump ’ s business dealings as the Justice Department prepares to release findings from special counsel Robert Mueller ’ s probe on Thursday. “ As part of our oversight authority and authorized investigation into allegations of potential foreign influence on the U.S. political process the House Intelligence Committee today issued subpoenas to multiple financial institutions in coordination with the House Financial Services Committee including a friendly subpoena to Deutsche Bank which has been cooperative with the Committees ” said Rep. Adam Schiff D-Calif. the House Intelligence chairman',\n",
       " '“ We look forward to their continued cooperation and compliance. ” Sign up for our tax policy newsletter and stay informed — weekday mornings in your inbox.By signing up you agree to receive email newsletters or alerts from POLITICO']"
      ]
     },
     "execution_count": 8,
     "metadata": {
      "tags": []
     },
     "output_type": "execute_result"
    }
   ],
   "source": [
    "sents_ClnTknzd = []\n",
    "punctuations = list(string.punctuation) # only remove punctuations. Keep stop words for phrases and un-abbreviated forms\n",
    "\n",
    "for sent in sents_tokenized:\n",
    "  tempStr = ''\n",
    "  tempTokens = nltk.word_tokenize(sent)\n",
    "  for token in tempTokens:\n",
    "    if token not in punctuations:\n",
    "        tempStr += (token)\n",
    "        tempStr += ' '\n",
    "        #cleanTokens.append(' ') # Need to append a single space for cases where words are losing space in between\n",
    "  \n",
    "  sents_ClnTknzd.append(tempStr.strip())\n",
    "\n",
    "sents_ClnTknzd[:5]"
   ]
  },
  {
   "cell_type": "code",
   "execution_count": 9,
   "metadata": {
    "colab": {
     "base_uri": "https://localhost:8080/",
     "height": 301
    },
    "colab_type": "code",
    "id": "5avL6m0K9_pM",
    "outputId": "b778cb64-9ef7-42be-e88b-42921a115de5"
   },
   "outputs": [
    {
     "data": {
      "text/plain": [
       "['Biden',\n",
       " 'Booker',\n",
       " 'Buttigieg',\n",
       " 'Castro',\n",
       " 'Delaney',\n",
       " 'Gabbard',\n",
       " 'Gillibrand',\n",
       " 'Harris',\n",
       " 'Hickenlooper',\n",
       " 'Inslee',\n",
       " 'Klobuchar',\n",
       " 'O’Rourke',\n",
       " 'Sanders',\n",
       " 'Schultz',\n",
       " 'Warren',\n",
       " 'Williamson',\n",
       " 'Yang']"
      ]
     },
     "execution_count": 9,
     "metadata": {
      "tags": []
     },
     "output_type": "execute_result"
    }
   ],
   "source": [
    "candidates = ['Joe Biden', 'Cory Booker', 'Pete Buttigieg',\n",
    "              'Julian Castro', 'John Delaney', 'Tulsi Gabbard',\n",
    "              'Kirsten Gillibrand', 'Kamala Harris', 'John Hickenlooper',\n",
    "              'Jay Inslee', 'Amy Klobuchar', 'Beto O’Rourke',\n",
    "              'Bernie Sanders', 'Howard Schultz', 'Elizabeth Warren', \n",
    "              'Marianne Williamson', 'Andrew Yang']\n",
    "\n",
    "# The news articles will rarely mention full name. Use last names to capture references to candidates. \n",
    "lastNames = []\n",
    "for candidate in candidates:\n",
    "    lastNames.append(candidate.split()[1])\n",
    "\n",
    "lastNames"
   ]
  },
  {
   "cell_type": "markdown",
   "metadata": {
    "colab_type": "text",
    "id": "uMZkEJ8H5BaG"
   },
   "source": [
    "Now, create a filter to keep only those sentences that have reference to at-least one member in this list. Remove sentences that don't directly refer to candidates names. There is a downside here though where we are losing information where pronouns are being used to refer to a candidate. May look to incorporate that as well later on with NLP analysis that can capture that level of contextual information."
   ]
  },
  {
   "cell_type": "code",
   "execution_count": 10,
   "metadata": {
    "colab": {
     "base_uri": "https://localhost:8080/",
     "height": 120
    },
    "colab_type": "code",
    "id": "rjj03n36vk8E",
    "outputId": "58d6b142-5d08-4c57-c0ca-710da91668aa"
   },
   "outputs": [
    {
     "name": "stdout",
     "output_type": "stream",
     "text": [
      "Buttigieg who is openly gay has gained notice for his criticism of Vice President Mike Pence a former Indiana governor and an opponent of same-sex marriage\n",
      "Read More » The early fundraising reveals that Sen. Elizabeth Warren is spending like a front-runner but isn ’ t yet raising money like one\n",
      "Warren took in over 6 million and Sens\n",
      "In addition to exceeding basement-level expectations for his candidacy Buttigieg has fashioned a headline-grabbing foil out of his fellow mild-mannered Hoosier Vice President Mike Pence the former Indiana governor with whom Buttigieg has had a long and not always contentious relationship\n",
      "Better than Klobuchar\n"
     ]
    }
   ],
   "source": [
    "\n",
    "sentsNameReferences = []\n",
    "for sent in sents_ClnTknzd:\n",
    "  for lName in lastNames:\n",
    "    if lName in sent:\n",
    "      #print(sent)\n",
    "      sentsNameReferences.append(sent)\n",
    "\n",
    "sentsUnqRefs = set(sentsNameReferences)\n",
    "for i, val in enumerate(itertools.islice(sentsUnqRefs, 5)):# print sample to ensure set is populated\n",
    "  print(val)"
   ]
  },
  {
   "cell_type": "code",
   "execution_count": 11,
   "metadata": {
    "colab": {
     "base_uri": "https://localhost:8080/",
     "height": 33
    },
    "colab_type": "code",
    "id": "odUny_VKNH-x",
    "outputId": "7ba6b559-c2f0-4c4e-b11b-3a64921b274c"
   },
   "outputs": [
    {
     "data": {
      "text/plain": [
       "212"
      ]
     },
     "execution_count": 11,
     "metadata": {
      "tags": []
     },
     "output_type": "execute_result"
    }
   ],
   "source": [
    "len(sentsUnqRefs)"
   ]
  },
  {
   "cell_type": "markdown",
   "metadata": {
    "colab_type": "text",
    "id": "7lzrM13KsEnW"
   },
   "source": [
    "# Analysis"
   ]
  },
  {
   "cell_type": "markdown",
   "metadata": {
    "colab_type": "text",
    "id": "WnR1XhuuxFIt"
   },
   "source": [
    "At this point, we do have a list of sentences with clean text. Now we will capture all available information in a DataFrame. This DataFrame will capture candidate's last names, the number of times each candidate's name appears across target corpus, sentiment value for those sentences and so on..."
   ]
  },
  {
   "cell_type": "code",
   "execution_count": 12,
   "metadata": {
    "colab": {
     "base_uri": "https://localhost:8080/",
     "height": 554
    },
    "colab_type": "code",
    "id": "r-flybum63g_",
    "outputId": "4a48ff15-9bfc-46db-f4fb-b8f791714bf4"
   },
   "outputs": [
    {
     "data": {
      "text/html": [
       "<div>\n",
       "<style scoped>\n",
       "    .dataframe tbody tr th:only-of-type {\n",
       "        vertical-align: middle;\n",
       "    }\n",
       "\n",
       "    .dataframe tbody tr th {\n",
       "        vertical-align: top;\n",
       "    }\n",
       "\n",
       "    .dataframe thead th {\n",
       "        text-align: right;\n",
       "    }\n",
       "</style>\n",
       "<table border=\"1\" class=\"dataframe\">\n",
       "  <thead>\n",
       "    <tr style=\"text-align: right;\">\n",
       "      <th></th>\n",
       "      <th>Candidate</th>\n",
       "      <th>RefCounts</th>\n",
       "    </tr>\n",
       "  </thead>\n",
       "  <tbody>\n",
       "    <tr>\n",
       "      <th>0</th>\n",
       "      <td>Biden</td>\n",
       "      <td>13</td>\n",
       "    </tr>\n",
       "    <tr>\n",
       "      <th>1</th>\n",
       "      <td>Booker</td>\n",
       "      <td>12</td>\n",
       "    </tr>\n",
       "    <tr>\n",
       "      <th>2</th>\n",
       "      <td>Buttigieg</td>\n",
       "      <td>73</td>\n",
       "    </tr>\n",
       "    <tr>\n",
       "      <th>3</th>\n",
       "      <td>Castro</td>\n",
       "      <td>9</td>\n",
       "    </tr>\n",
       "    <tr>\n",
       "      <th>4</th>\n",
       "      <td>Delaney</td>\n",
       "      <td>0</td>\n",
       "    </tr>\n",
       "    <tr>\n",
       "      <th>5</th>\n",
       "      <td>Gabbard</td>\n",
       "      <td>0</td>\n",
       "    </tr>\n",
       "    <tr>\n",
       "      <th>6</th>\n",
       "      <td>Gillibrand</td>\n",
       "      <td>13</td>\n",
       "    </tr>\n",
       "    <tr>\n",
       "      <th>7</th>\n",
       "      <td>Harris</td>\n",
       "      <td>28</td>\n",
       "    </tr>\n",
       "    <tr>\n",
       "      <th>8</th>\n",
       "      <td>Hickenlooper</td>\n",
       "      <td>0</td>\n",
       "    </tr>\n",
       "    <tr>\n",
       "      <th>9</th>\n",
       "      <td>Inslee</td>\n",
       "      <td>13</td>\n",
       "    </tr>\n",
       "    <tr>\n",
       "      <th>10</th>\n",
       "      <td>Klobuchar</td>\n",
       "      <td>11</td>\n",
       "    </tr>\n",
       "    <tr>\n",
       "      <th>11</th>\n",
       "      <td>O’Rourke</td>\n",
       "      <td>0</td>\n",
       "    </tr>\n",
       "    <tr>\n",
       "      <th>12</th>\n",
       "      <td>Sanders</td>\n",
       "      <td>68</td>\n",
       "    </tr>\n",
       "    <tr>\n",
       "      <th>13</th>\n",
       "      <td>Schultz</td>\n",
       "      <td>1</td>\n",
       "    </tr>\n",
       "    <tr>\n",
       "      <th>14</th>\n",
       "      <td>Warren</td>\n",
       "      <td>17</td>\n",
       "    </tr>\n",
       "    <tr>\n",
       "      <th>15</th>\n",
       "      <td>Williamson</td>\n",
       "      <td>0</td>\n",
       "    </tr>\n",
       "    <tr>\n",
       "      <th>16</th>\n",
       "      <td>Yang</td>\n",
       "      <td>2</td>\n",
       "    </tr>\n",
       "  </tbody>\n",
       "</table>\n",
       "</div>"
      ],
      "text/plain": [
       "       Candidate  RefCounts\n",
       "0          Biden         13\n",
       "1         Booker         12\n",
       "2      Buttigieg         73\n",
       "3         Castro          9\n",
       "4        Delaney          0\n",
       "5        Gabbard          0\n",
       "6     Gillibrand         13\n",
       "7         Harris         28\n",
       "8   Hickenlooper          0\n",
       "9         Inslee         13\n",
       "10     Klobuchar         11\n",
       "11      O’Rourke          0\n",
       "12       Sanders         68\n",
       "13       Schultz          1\n",
       "14        Warren         17\n",
       "15    Williamson          0\n",
       "16          Yang          2"
      ]
     },
     "execution_count": 12,
     "metadata": {
      "tags": []
     },
     "output_type": "execute_result"
    }
   ],
   "source": [
    "counts = [0, 0, 0, 0, 0, 0, 0, 0, 0, 0, 0, 0, 0, 0, 0, 0, 0, 0]\n",
    "\n",
    "mapCandCounts = dict(zip(lastNames, counts))\n",
    "dictCandidatesAndSents = {}\n",
    "\n",
    "for lName in mapCandCounts:\n",
    "  lstTemp = [] \n",
    "  for sent in sentsUnqRefs:\n",
    "    if lName in sent:\n",
    "      mapCandCounts[lName] += 1\n",
    "      lstTemp.append(sent)\n",
    "      \n",
    "  dictCandidatesAndSents[lName] = lstTemp\n",
    "      \n",
    "\n",
    "mapCandCounts\n",
    "dfrm = pd.DataFrame(list(mapCandCounts.items()), columns=['Candidate', 'RefCounts'])\n",
    "dfrm"
   ]
  },
  {
   "cell_type": "markdown",
   "metadata": {
    "colab_type": "text",
    "id": "RbmexfZE7sle"
   },
   "source": [
    "## Sentiment Analysis"
   ]
  },
  {
   "cell_type": "markdown",
   "metadata": {
    "colab_type": "text",
    "id": "gjFkJy55jVm3"
   },
   "source": [
    "We will use textblob package to generate sentiment analysis by each sentence and group the output by each candidate. Next, we import textblob and write simple Lambda functions to generate polarity and subjectivity value output from textblob."
   ]
  },
  {
   "cell_type": "code",
   "execution_count": 0,
   "metadata": {
    "colab": {},
    "colab_type": "code",
    "id": "EY_sl_Suy7On"
   },
   "outputs": [],
   "source": [
    "import textblob\n",
    "from textblob import TextBlob\n",
    "pol = lambda x: TextBlob(x).sentiment.polarity\n",
    "sub = lambda x: TextBlob(x).sentiment.subjectivity"
   ]
  },
  {
   "cell_type": "code",
   "execution_count": 14,
   "metadata": {
    "colab": {
     "base_uri": "https://localhost:8080/",
     "height": 554
    },
    "colab_type": "code",
    "id": "E5ovKWSCzVz8",
    "outputId": "677ef328-c654-4778-ab75-8ffd43f54206"
   },
   "outputs": [
    {
     "data": {
      "text/html": [
       "<div>\n",
       "<style scoped>\n",
       "    .dataframe tbody tr th:only-of-type {\n",
       "        vertical-align: middle;\n",
       "    }\n",
       "\n",
       "    .dataframe tbody tr th {\n",
       "        vertical-align: top;\n",
       "    }\n",
       "\n",
       "    .dataframe thead th {\n",
       "        text-align: right;\n",
       "    }\n",
       "</style>\n",
       "<table border=\"1\" class=\"dataframe\">\n",
       "  <thead>\n",
       "    <tr style=\"text-align: right;\">\n",
       "      <th></th>\n",
       "      <th>Candidate</th>\n",
       "      <th>RefCounts</th>\n",
       "      <th>Polarity</th>\n",
       "      <th>Subjectivity</th>\n",
       "    </tr>\n",
       "  </thead>\n",
       "  <tbody>\n",
       "    <tr>\n",
       "      <th>0</th>\n",
       "      <td>Biden</td>\n",
       "      <td>13</td>\n",
       "      <td>0.0</td>\n",
       "      <td>0.0</td>\n",
       "    </tr>\n",
       "    <tr>\n",
       "      <th>1</th>\n",
       "      <td>Booker</td>\n",
       "      <td>12</td>\n",
       "      <td>0.0</td>\n",
       "      <td>0.0</td>\n",
       "    </tr>\n",
       "    <tr>\n",
       "      <th>2</th>\n",
       "      <td>Buttigieg</td>\n",
       "      <td>73</td>\n",
       "      <td>0.0</td>\n",
       "      <td>0.0</td>\n",
       "    </tr>\n",
       "    <tr>\n",
       "      <th>3</th>\n",
       "      <td>Castro</td>\n",
       "      <td>9</td>\n",
       "      <td>0.0</td>\n",
       "      <td>0.0</td>\n",
       "    </tr>\n",
       "    <tr>\n",
       "      <th>4</th>\n",
       "      <td>Delaney</td>\n",
       "      <td>0</td>\n",
       "      <td>0.0</td>\n",
       "      <td>0.0</td>\n",
       "    </tr>\n",
       "    <tr>\n",
       "      <th>5</th>\n",
       "      <td>Gabbard</td>\n",
       "      <td>0</td>\n",
       "      <td>0.0</td>\n",
       "      <td>0.0</td>\n",
       "    </tr>\n",
       "    <tr>\n",
       "      <th>6</th>\n",
       "      <td>Gillibrand</td>\n",
       "      <td>13</td>\n",
       "      <td>0.0</td>\n",
       "      <td>0.0</td>\n",
       "    </tr>\n",
       "    <tr>\n",
       "      <th>7</th>\n",
       "      <td>Harris</td>\n",
       "      <td>28</td>\n",
       "      <td>0.0</td>\n",
       "      <td>0.0</td>\n",
       "    </tr>\n",
       "    <tr>\n",
       "      <th>8</th>\n",
       "      <td>Hickenlooper</td>\n",
       "      <td>0</td>\n",
       "      <td>0.0</td>\n",
       "      <td>0.0</td>\n",
       "    </tr>\n",
       "    <tr>\n",
       "      <th>9</th>\n",
       "      <td>Inslee</td>\n",
       "      <td>13</td>\n",
       "      <td>0.0</td>\n",
       "      <td>0.0</td>\n",
       "    </tr>\n",
       "    <tr>\n",
       "      <th>10</th>\n",
       "      <td>Klobuchar</td>\n",
       "      <td>11</td>\n",
       "      <td>0.0</td>\n",
       "      <td>0.0</td>\n",
       "    </tr>\n",
       "    <tr>\n",
       "      <th>11</th>\n",
       "      <td>O’Rourke</td>\n",
       "      <td>0</td>\n",
       "      <td>0.0</td>\n",
       "      <td>0.0</td>\n",
       "    </tr>\n",
       "    <tr>\n",
       "      <th>12</th>\n",
       "      <td>Sanders</td>\n",
       "      <td>68</td>\n",
       "      <td>0.0</td>\n",
       "      <td>0.0</td>\n",
       "    </tr>\n",
       "    <tr>\n",
       "      <th>13</th>\n",
       "      <td>Schultz</td>\n",
       "      <td>1</td>\n",
       "      <td>0.0</td>\n",
       "      <td>0.0</td>\n",
       "    </tr>\n",
       "    <tr>\n",
       "      <th>14</th>\n",
       "      <td>Warren</td>\n",
       "      <td>17</td>\n",
       "      <td>0.0</td>\n",
       "      <td>0.0</td>\n",
       "    </tr>\n",
       "    <tr>\n",
       "      <th>15</th>\n",
       "      <td>Williamson</td>\n",
       "      <td>0</td>\n",
       "      <td>0.0</td>\n",
       "      <td>0.0</td>\n",
       "    </tr>\n",
       "    <tr>\n",
       "      <th>16</th>\n",
       "      <td>Yang</td>\n",
       "      <td>2</td>\n",
       "      <td>0.0</td>\n",
       "      <td>0.0</td>\n",
       "    </tr>\n",
       "  </tbody>\n",
       "</table>\n",
       "</div>"
      ],
      "text/plain": [
       "       Candidate  RefCounts  Polarity  Subjectivity\n",
       "0          Biden         13       0.0           0.0\n",
       "1         Booker         12       0.0           0.0\n",
       "2      Buttigieg         73       0.0           0.0\n",
       "3         Castro          9       0.0           0.0\n",
       "4        Delaney          0       0.0           0.0\n",
       "5        Gabbard          0       0.0           0.0\n",
       "6     Gillibrand         13       0.0           0.0\n",
       "7         Harris         28       0.0           0.0\n",
       "8   Hickenlooper          0       0.0           0.0\n",
       "9         Inslee         13       0.0           0.0\n",
       "10     Klobuchar         11       0.0           0.0\n",
       "11      O’Rourke          0       0.0           0.0\n",
       "12       Sanders         68       0.0           0.0\n",
       "13       Schultz          1       0.0           0.0\n",
       "14        Warren         17       0.0           0.0\n",
       "15    Williamson          0       0.0           0.0\n",
       "16          Yang          2       0.0           0.0"
      ]
     },
     "execution_count": 14,
     "metadata": {
      "tags": []
     },
     "output_type": "execute_result"
    }
   ],
   "source": [
    "# Generate placeholder matching the total count of candidates. Conver list into Pandad series, merge that to our DFRM and print the DFRM. \n",
    "polarity = [0.0, 0.0, 0.0, 0.0, 0.0, 0.0, 0.0, 0.0, 0.0, 0.0, 0.0, 0.0, 0.0, 0.0, 0.0, 0.0, 0.0]\n",
    "subjectivity = [0.0, 0.0, 0.0, 0.0, 0.0, 0.0, 0.0, 0.0, 0.0, 0.0, 0.0, 0.0, 0.0, 0.0, 0.0, 0.0, 0.0]\n",
    "\n",
    "polSeries = pd.Series(data=polarity, name=\"Polarity\")\n",
    "subSeries = pd.Series(data=subjectivity, name=\"Subjectivity\")\n",
    "dfrm = pd.concat([dfrm, polSeries, subSeries], axis = 1)\n",
    "dfrm"
   ]
  },
  {
   "cell_type": "markdown",
   "metadata": {
    "colab_type": "text",
    "id": "zisaa9nVj7Pa"
   },
   "source": [
    "Now, we will go through list of sentences tagged for each candidate, calculate average sentiment scors, and put those scores in our DFRM."
   ]
  },
  {
   "cell_type": "code",
   "execution_count": 15,
   "metadata": {
    "colab": {
     "base_uri": "https://localhost:8080/",
     "height": 554
    },
    "colab_type": "code",
    "id": "1QG8SxW09DmU",
    "outputId": "c3f064d4-6ffd-45e0-caa6-7c403ab4318c"
   },
   "outputs": [
    {
     "data": {
      "text/html": [
       "<div>\n",
       "<style scoped>\n",
       "    .dataframe tbody tr th:only-of-type {\n",
       "        vertical-align: middle;\n",
       "    }\n",
       "\n",
       "    .dataframe tbody tr th {\n",
       "        vertical-align: top;\n",
       "    }\n",
       "\n",
       "    .dataframe thead th {\n",
       "        text-align: right;\n",
       "    }\n",
       "</style>\n",
       "<table border=\"1\" class=\"dataframe\">\n",
       "  <thead>\n",
       "    <tr style=\"text-align: right;\">\n",
       "      <th></th>\n",
       "      <th>Candidate</th>\n",
       "      <th>RefCounts</th>\n",
       "      <th>Polarity</th>\n",
       "      <th>Subjectivity</th>\n",
       "    </tr>\n",
       "  </thead>\n",
       "  <tbody>\n",
       "    <tr>\n",
       "      <th>0</th>\n",
       "      <td>Biden</td>\n",
       "      <td>13</td>\n",
       "      <td>-0.040237</td>\n",
       "      <td>0.017308</td>\n",
       "    </tr>\n",
       "    <tr>\n",
       "      <th>1</th>\n",
       "      <td>Booker</td>\n",
       "      <td>12</td>\n",
       "      <td>0.138828</td>\n",
       "      <td>0.038889</td>\n",
       "    </tr>\n",
       "    <tr>\n",
       "      <th>2</th>\n",
       "      <td>Buttigieg</td>\n",
       "      <td>73</td>\n",
       "      <td>0.105100</td>\n",
       "      <td>0.000000</td>\n",
       "    </tr>\n",
       "    <tr>\n",
       "      <th>3</th>\n",
       "      <td>Castro</td>\n",
       "      <td>9</td>\n",
       "      <td>0.063194</td>\n",
       "      <td>0.077778</td>\n",
       "    </tr>\n",
       "    <tr>\n",
       "      <th>4</th>\n",
       "      <td>Delaney</td>\n",
       "      <td>0</td>\n",
       "      <td>0.000000</td>\n",
       "      <td>0.000000</td>\n",
       "    </tr>\n",
       "    <tr>\n",
       "      <th>5</th>\n",
       "      <td>Gabbard</td>\n",
       "      <td>0</td>\n",
       "      <td>0.000000</td>\n",
       "      <td>0.000000</td>\n",
       "    </tr>\n",
       "    <tr>\n",
       "      <th>6</th>\n",
       "      <td>Gillibrand</td>\n",
       "      <td>13</td>\n",
       "      <td>0.065571</td>\n",
       "      <td>0.028846</td>\n",
       "    </tr>\n",
       "    <tr>\n",
       "      <th>7</th>\n",
       "      <td>Harris</td>\n",
       "      <td>28</td>\n",
       "      <td>0.123319</td>\n",
       "      <td>0.018240</td>\n",
       "    </tr>\n",
       "    <tr>\n",
       "      <th>8</th>\n",
       "      <td>Hickenlooper</td>\n",
       "      <td>0</td>\n",
       "      <td>0.000000</td>\n",
       "      <td>0.000000</td>\n",
       "    </tr>\n",
       "    <tr>\n",
       "      <th>9</th>\n",
       "      <td>Inslee</td>\n",
       "      <td>13</td>\n",
       "      <td>0.094188</td>\n",
       "      <td>0.005128</td>\n",
       "    </tr>\n",
       "    <tr>\n",
       "      <th>10</th>\n",
       "      <td>Klobuchar</td>\n",
       "      <td>11</td>\n",
       "      <td>0.094215</td>\n",
       "      <td>0.036364</td>\n",
       "    </tr>\n",
       "    <tr>\n",
       "      <th>11</th>\n",
       "      <td>O’Rourke</td>\n",
       "      <td>0</td>\n",
       "      <td>0.000000</td>\n",
       "      <td>0.000000</td>\n",
       "    </tr>\n",
       "    <tr>\n",
       "      <th>12</th>\n",
       "      <td>Sanders</td>\n",
       "      <td>68</td>\n",
       "      <td>0.088511</td>\n",
       "      <td>0.004596</td>\n",
       "    </tr>\n",
       "    <tr>\n",
       "      <th>13</th>\n",
       "      <td>Schultz</td>\n",
       "      <td>1</td>\n",
       "      <td>0.150000</td>\n",
       "      <td>0.213333</td>\n",
       "    </tr>\n",
       "    <tr>\n",
       "      <th>14</th>\n",
       "      <td>Warren</td>\n",
       "      <td>17</td>\n",
       "      <td>0.137188</td>\n",
       "      <td>0.000000</td>\n",
       "    </tr>\n",
       "    <tr>\n",
       "      <th>15</th>\n",
       "      <td>Williamson</td>\n",
       "      <td>0</td>\n",
       "      <td>0.000000</td>\n",
       "      <td>0.000000</td>\n",
       "    </tr>\n",
       "    <tr>\n",
       "      <th>16</th>\n",
       "      <td>Yang</td>\n",
       "      <td>2</td>\n",
       "      <td>0.095833</td>\n",
       "      <td>0.126042</td>\n",
       "    </tr>\n",
       "  </tbody>\n",
       "</table>\n",
       "</div>"
      ],
      "text/plain": [
       "       Candidate  RefCounts  Polarity  Subjectivity\n",
       "0          Biden         13 -0.040237      0.017308\n",
       "1         Booker         12  0.138828      0.038889\n",
       "2      Buttigieg         73  0.105100      0.000000\n",
       "3         Castro          9  0.063194      0.077778\n",
       "4        Delaney          0  0.000000      0.000000\n",
       "5        Gabbard          0  0.000000      0.000000\n",
       "6     Gillibrand         13  0.065571      0.028846\n",
       "7         Harris         28  0.123319      0.018240\n",
       "8   Hickenlooper          0  0.000000      0.000000\n",
       "9         Inslee         13  0.094188      0.005128\n",
       "10     Klobuchar         11  0.094215      0.036364\n",
       "11      O’Rourke          0  0.000000      0.000000\n",
       "12       Sanders         68  0.088511      0.004596\n",
       "13       Schultz          1  0.150000      0.213333\n",
       "14        Warren         17  0.137188      0.000000\n",
       "15    Williamson          0  0.000000      0.000000\n",
       "16          Yang          2  0.095833      0.126042"
      ]
     },
     "execution_count": 15,
     "metadata": {
      "tags": []
     },
     "output_type": "execute_result"
    }
   ],
   "source": [
    "for lName, sents in dictCandidatesAndSents.items():\n",
    "  index = dfrm.index[dfrm['Candidate'] == lName]\n",
    "  polarity = 0.0; subjectivity = 0.0; count = 0\n",
    "  for sent in sents:\n",
    "      polarity += pol(sent)\n",
    "      subjectivity= sub(sent)\n",
    "      count += 1\n",
    "  if (count > 0):\n",
    "    dfrm.loc[index, 'Polarity'] = polarity / count\n",
    "    dfrm.loc[index, 'Subjectivity'] = subjectivity / count\n",
    "\n",
    "dfrm"
   ]
  },
  {
   "cell_type": "markdown",
   "metadata": {
    "colab_type": "text",
    "id": "lz_nVUzBkzHH"
   },
   "source": [
    "## Pending / Possible Enhancements:\n",
    "#### Priority Items\n",
    "- P0: Change the analysis to be time-series based to see ebb and flow across time. \n",
    "\n",
    "- P0: Beto O'Rourke's name is coming up as \"Beto O ’ Rourke\" because of the way data is assembled back again after cleanup. Bring that in line with how the articles publish his name.\n",
    "\n",
    "- P0: How can we confirm that the sentinment is for the candidate herself versus for a topic she is addressing or has been referred in the context of?\n",
    "\n",
    "- P0: There is a reporter John F. Harris who shares last name with Kamala Harris which results in a list of false positives. Need to exclude such instances except for there is a genuine reference for any other candidate in that sentence.\n",
    "\n",
    "\n",
    "\n",
    "#### Low Priority Items\n",
    "- P1: Rather than calculating sentiment of the entire corpus in one go, let us check the sentiment by sentence. \n",
    "- P1: Topic Modeling to assess which topics are generating highest sentiment scores for a candidate. This can help depict the topics a candidate is more at home for messaging. \n",
    "- P1: As part of data cleanup, all sentences that did not have direct references to candidates' last names were removed. This included sentences where candidates were referred to by their respctive gender based pronouns. Need to find ways to capture that level of contextual information. Check whether BERT can account for something like this.\n",
    "- P1: Extend this to Twitter and other major political messaging platforms. \n",
    "- P1: Compare Politico's sentiment scores for a candidate to those from left and right leaning news sources to check whether Politico's reporting is in the middle\n",
    "- P1: Retrieve data from secondary sources like Fox News, CNN: \n",
    "\n",
    "      \"\"\"\n",
    "      urlFoxN = \"https://www.foxnews.com/politics\"\n",
    "\n",
    "      For News will require \"m\" class divs and then appending the base HTTP address since links lack that. \n",
    "      if (baseUrl == 'https://www.foxnews.com/politics'): \n",
    "          divs = soup.findAll(\"div\", {\"class\": \"m\"})\n",
    "\n",
    "      CNN will require first HTML and then JSON parsing for list of urls\n",
    "\n",
    "      \"\"\"\n",
    "\n",
    "\n",
    "#### Other Data Sources\n",
    "- https://www.kaggle.com/benhamner/2016-us-election\n",
    "- https://www.kaggle.com/c/can-we-predict-voting-outcomes/data\n"
   ]
  }
 ],
 "metadata": {
  "colab": {
   "collapsed_sections": [],
   "name": "Sentiment_2020_DemField.ipynb",
   "provenance": [],
   "version": "0.3.2"
  },
  "kernelspec": {
   "display_name": "Python 3",
   "language": "python",
   "name": "python3"
  },
  "language_info": {
   "codemirror_mode": {
    "name": "ipython",
    "version": 3
   },
   "file_extension": ".py",
   "mimetype": "text/x-python",
   "name": "python",
   "nbconvert_exporter": "python",
   "pygments_lexer": "ipython3",
   "version": "3.6.4"
  }
 },
 "nbformat": 4,
 "nbformat_minor": 1
}
